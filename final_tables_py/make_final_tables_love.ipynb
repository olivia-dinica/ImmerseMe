{
 "metadata": {
  "name": ""
 },
 "nbformat": 3,
 "nbformat_minor": 0,
 "worksheets": [
  {
   "cells": [
    {
     "cell_type": "code",
     "collapsed": false,
     "input": [
      "import sklearn\n",
      "from sklearn.metrics.pairwise import cosine_similarity\n",
      "import random\n",
      "import pandas as pd\n",
      "import numpy as np\n",
      "#load cleaned up and complete features matrix\n",
      "df_norm = pd.DataFrame.from_csv(\n",
      "    'id_key_mode_tempo_mood_normalized',\n",
      "    index_col=False\n",
      ")\n",
      "\n",
      "df_norm.head()\n",
      "#df_norm.shape (25845, 16)"
     ],
     "language": "python",
     "metadata": {},
     "outputs": [
      {
       "html": [
        "<div style=\"max-height:1000px;max-width:1500px;overflow:auto;\">\n",
        "<table border=\"1\" class=\"dataframe\">\n",
        "  <thead>\n",
        "    <tr style=\"text-align: right;\">\n",
        "      <th></th>\n",
        "      <th>track_id</th>\n",
        "      <th>c</th>\n",
        "      <th>df</th>\n",
        "      <th>d</th>\n",
        "      <th>ef</th>\n",
        "      <th>e</th>\n",
        "      <th>f</th>\n",
        "      <th>gf</th>\n",
        "      <th>g</th>\n",
        "      <th>af</th>\n",
        "      <th>a</th>\n",
        "      <th>bf</th>\n",
        "      <th>b</th>\n",
        "      <th>mode</th>\n",
        "      <th>tempo</th>\n",
        "      <th>pos-neg</th>\n",
        "    </tr>\n",
        "  </thead>\n",
        "  <tbody>\n",
        "    <tr>\n",
        "      <th>0</th>\n",
        "      <td>TRMMMKI128F931D80D</td>\n",
        "      <td>0</td>\n",
        "      <td>0</td>\n",
        "      <td>0</td>\n",
        "      <td>0</td>\n",
        "      <td>0</td>\n",
        "      <td>0</td>\n",
        "      <td>0</td>\n",
        "      <td>0</td>\n",
        "      <td>0</td>\n",
        "      <td>0</td>\n",
        "      <td>0</td>\n",
        "      <td>1</td>\n",
        "      <td>1</td>\n",
        "      <td>1.22332</td>\n",
        "      <td>0.115789</td>\n",
        "    </tr>\n",
        "    <tr>\n",
        "      <th>1</th>\n",
        "      <td>TRMMMQY128F92F0EA3</td>\n",
        "      <td>0</td>\n",
        "      <td>0</td>\n",
        "      <td>0</td>\n",
        "      <td>0</td>\n",
        "      <td>0</td>\n",
        "      <td>0</td>\n",
        "      <td>0</td>\n",
        "      <td>0</td>\n",
        "      <td>1</td>\n",
        "      <td>0</td>\n",
        "      <td>0</td>\n",
        "      <td>0</td>\n",
        "      <td>1</td>\n",
        "      <td>1.89346</td>\n",
        "      <td>-0.107143</td>\n",
        "    </tr>\n",
        "    <tr>\n",
        "      <th>2</th>\n",
        "      <td>TRMMMFJ128F92E15AC</td>\n",
        "      <td>0</td>\n",
        "      <td>0</td>\n",
        "      <td>0</td>\n",
        "      <td>0</td>\n",
        "      <td>0</td>\n",
        "      <td>1</td>\n",
        "      <td>0</td>\n",
        "      <td>0</td>\n",
        "      <td>0</td>\n",
        "      <td>0</td>\n",
        "      <td>0</td>\n",
        "      <td>0</td>\n",
        "      <td>0</td>\n",
        "      <td>1.12945</td>\n",
        "      <td>0.133333</td>\n",
        "    </tr>\n",
        "    <tr>\n",
        "      <th>3</th>\n",
        "      <td>TRMMWJY128F1469B8A</td>\n",
        "      <td>0</td>\n",
        "      <td>0</td>\n",
        "      <td>0</td>\n",
        "      <td>0</td>\n",
        "      <td>0</td>\n",
        "      <td>0</td>\n",
        "      <td>1</td>\n",
        "      <td>0</td>\n",
        "      <td>0</td>\n",
        "      <td>0</td>\n",
        "      <td>0</td>\n",
        "      <td>0</td>\n",
        "      <td>0</td>\n",
        "      <td>1.95338</td>\n",
        "      <td>0.020000</td>\n",
        "    </tr>\n",
        "    <tr>\n",
        "      <th>4</th>\n",
        "      <td>TRMMHTC12903C9AF55</td>\n",
        "      <td>0</td>\n",
        "      <td>0</td>\n",
        "      <td>1</td>\n",
        "      <td>0</td>\n",
        "      <td>0</td>\n",
        "      <td>0</td>\n",
        "      <td>0</td>\n",
        "      <td>0</td>\n",
        "      <td>0</td>\n",
        "      <td>0</td>\n",
        "      <td>0</td>\n",
        "      <td>0</td>\n",
        "      <td>1</td>\n",
        "      <td>0.97318</td>\n",
        "      <td>0.086022</td>\n",
        "    </tr>\n",
        "  </tbody>\n",
        "</table>\n",
        "</div>"
       ],
       "metadata": {},
       "output_type": "pyout",
       "prompt_number": 45,
       "text": [
        "             track_id  c  df  d  ef  e  f  gf  g  af  a  bf  b  mode    tempo  \\\n",
        "0  TRMMMKI128F931D80D  0   0  0   0  0  0   0  0   0  0   0  1     1  1.22332   \n",
        "1  TRMMMQY128F92F0EA3  0   0  0   0  0  0   0  0   1  0   0  0     1  1.89346   \n",
        "2  TRMMMFJ128F92E15AC  0   0  0   0  0  1   0  0   0  0   0  0     0  1.12945   \n",
        "3  TRMMWJY128F1469B8A  0   0  0   0  0  0   1  0   0  0   0  0     0  1.95338   \n",
        "4  TRMMHTC12903C9AF55  0   0  1   0  0  0   0  0   0  0   0  0     1  0.97318   \n",
        "\n",
        "    pos-neg  \n",
        "0  0.115789  \n",
        "1 -0.107143  \n",
        "2  0.133333  \n",
        "3  0.020000  \n",
        "4  0.086022  "
       ]
      }
     ],
     "prompt_number": 45
    },
    {
     "cell_type": "code",
     "collapsed": false,
     "input": [
      "#load love frequencies (normalized, and 0's taken out, but not cleaned up of blah's or 0 tempos)\n",
      "df_love = pd.DataFrame.from_csv(\n",
      "    'id_love_capnorm',\n",
      "    index_col=False\n",
      ")\n",
      "\n",
      "df_love.head()\n",
      "#df_love.shape (8188, 2)"
     ],
     "language": "python",
     "metadata": {},
     "outputs": [
      {
       "html": [
        "<div style=\"max-height:1000px;max-width:1500px;overflow:auto;\">\n",
        "<table border=\"1\" class=\"dataframe\">\n",
        "  <thead>\n",
        "    <tr style=\"text-align: right;\">\n",
        "      <th></th>\n",
        "      <th>track_id</th>\n",
        "      <th>love</th>\n",
        "    </tr>\n",
        "  </thead>\n",
        "  <tbody>\n",
        "    <tr>\n",
        "      <th>0</th>\n",
        "      <td>TRAAEJQ128F92C484E</td>\n",
        "      <td>1.0</td>\n",
        "    </tr>\n",
        "    <tr>\n",
        "      <th>1</th>\n",
        "      <td>TRAAEOT128F14681B9</td>\n",
        "      <td>0.1</td>\n",
        "    </tr>\n",
        "    <tr>\n",
        "      <th>2</th>\n",
        "      <td>TRAAGMC128F4292D0F</td>\n",
        "      <td>1.0</td>\n",
        "    </tr>\n",
        "    <tr>\n",
        "      <th>3</th>\n",
        "      <td>TRAAIMO128F92EB778</td>\n",
        "      <td>0.5</td>\n",
        "    </tr>\n",
        "    <tr>\n",
        "      <th>4</th>\n",
        "      <td>TRAAIQG128F425204F</td>\n",
        "      <td>0.1</td>\n",
        "    </tr>\n",
        "  </tbody>\n",
        "</table>\n",
        "</div>"
       ],
       "metadata": {},
       "output_type": "pyout",
       "prompt_number": 46,
       "text": [
        "             track_id  love\n",
        "0  TRAAEJQ128F92C484E   1.0\n",
        "1  TRAAEOT128F14681B9   0.1\n",
        "2  TRAAGMC128F4292D0F   1.0\n",
        "3  TRAAIMO128F92EB778   0.5\n",
        "4  TRAAIQG128F425204F   0.1"
       ]
      }
     ],
     "prompt_number": 46
    },
    {
     "cell_type": "code",
     "collapsed": false,
     "input": [
      "df_url = pd.DataFrame.from_csv(\n",
      "    'id_url',\n",
      "    index_col=False\n",
      ")\n",
      "\n",
      "df_url.head()\n",
      "#df_url.shape (25845, 2)"
     ],
     "language": "python",
     "metadata": {},
     "outputs": [
      {
       "html": [
        "<div style=\"max-height:1000px;max-width:1500px;overflow:auto;\">\n",
        "<table border=\"1\" class=\"dataframe\">\n",
        "  <thead>\n",
        "    <tr style=\"text-align: right;\">\n",
        "      <th></th>\n",
        "      <th>track_id</th>\n",
        "      <th>urls</th>\n",
        "    </tr>\n",
        "  </thead>\n",
        "  <tbody>\n",
        "    <tr>\n",
        "      <th>0</th>\n",
        "      <td>TRMMMKI128F931D80D</td>\n",
        "      <td>https://www.youtube.com/embed/qSwcakaDmgE?play...</td>\n",
        "    </tr>\n",
        "    <tr>\n",
        "      <th>1</th>\n",
        "      <td>TRMMMQY128F92F0EA3</td>\n",
        "      <td>https://www.youtube.com/embed/8WXNsat5LEg?play...</td>\n",
        "    </tr>\n",
        "    <tr>\n",
        "      <th>2</th>\n",
        "      <td>TRMMMFJ128F92E15AC</td>\n",
        "      <td>https://www.youtube.com/embed/m9SqSbwJSYA?play...</td>\n",
        "    </tr>\n",
        "    <tr>\n",
        "      <th>3</th>\n",
        "      <td>TRMMWJY128F1469B8A</td>\n",
        "      <td>https://www.youtube.com/embed/GBfyc9MoN2Y?play...</td>\n",
        "    </tr>\n",
        "    <tr>\n",
        "      <th>4</th>\n",
        "      <td>TRMMHTC12903C9AF55</td>\n",
        "      <td>https://www.youtube.com/embed/hsq3H_6XuFA?play...</td>\n",
        "    </tr>\n",
        "  </tbody>\n",
        "</table>\n",
        "</div>"
       ],
       "metadata": {},
       "output_type": "pyout",
       "prompt_number": 47,
       "text": [
        "             track_id                                               urls\n",
        "0  TRMMMKI128F931D80D  https://www.youtube.com/embed/qSwcakaDmgE?play...\n",
        "1  TRMMMQY128F92F0EA3  https://www.youtube.com/embed/8WXNsat5LEg?play...\n",
        "2  TRMMMFJ128F92E15AC  https://www.youtube.com/embed/m9SqSbwJSYA?play...\n",
        "3  TRMMWJY128F1469B8A  https://www.youtube.com/embed/GBfyc9MoN2Y?play...\n",
        "4  TRMMHTC12903C9AF55  https://www.youtube.com/embed/hsq3H_6XuFA?play..."
       ]
      }
     ],
     "prompt_number": 47
    },
    {
     "cell_type": "code",
     "collapsed": false,
     "input": [
      "#merge all features with $theme ones\n",
      "features_love = pd.merge(df_norm, df_love, how='inner', on=['track_id'])\n",
      "url_love = pd.merge(df_url, df_love, how='inner', on=['track_id'])\n",
      "#features_love.shape (7874, 17)\n",
      "#url_love.shape (7874, 3)\n",
      "features_love.to_csv('features_id_love',sep=',',index=False)\n",
      "url_love.to_csv('url_love',sep=',',index=False)\n",
      "features_love.head()\n",
      "#then this was performed to get url_$theme\n",
      "#awk 'BEGIN{FS=\",\"}{print $2}' url_$theme > urls_for$theme ; rm url_$theme\n",
      "del features_love['track_id']"
     ],
     "language": "python",
     "metadata": {},
     "outputs": [],
     "prompt_number": 48
    },
    {
     "cell_type": "code",
     "collapsed": false,
     "input": [
      "vec=[0,0,0,0,0,0,0,0,0,0,0,1,1,1.0,1,0.75]\n",
      "sim_matrix = cosine_similarity(vec,features_love)\n",
      "print sim_matrix"
     ],
     "language": "python",
     "metadata": {},
     "outputs": [
      {
       "output_type": "stream",
       "stream": "stdout",
       "text": [
        "[[ 0.85194129  0.57816377  0.55224897 ...,  0.5868474   0.34407722\n",
        "   0.38852889]]\n"
       ]
      }
     ],
     "prompt_number": 76
    },
    {
     "cell_type": "code",
     "collapsed": false,
     "input": [
      "sim_matrix_sorted=np.argsort(-sim_matrix)\n",
      "sim_matrix_sorted[0,range(10)]"
     ],
     "language": "python",
     "metadata": {},
     "outputs": [
      {
       "metadata": {},
       "output_type": "pyout",
       "prompt_number": 77,
       "text": [
        "array([3227,  324, 3112, 7490, 2225, 3205, 6288, 5776, 3399, 7466])"
       ]
      }
     ],
     "prompt_number": 77
    },
    {
     "cell_type": "code",
     "collapsed": false,
     "input": [
      "features_love.ix[3327]"
     ],
     "language": "python",
     "metadata": {},
     "outputs": [
      {
       "metadata": {},
       "output_type": "pyout",
       "prompt_number": 75,
       "text": [
        "c          0.000000\n",
        "df         0.000000\n",
        "d          1.000000\n",
        "ef         0.000000\n",
        "e          0.000000\n",
        "f          0.000000\n",
        "gf         0.000000\n",
        "g          0.000000\n",
        "af         0.000000\n",
        "a          0.000000\n",
        "bf         0.000000\n",
        "b          0.000000\n",
        "mode       0.000000\n",
        "tempo      1.597600\n",
        "pos-neg   -0.072464\n",
        "love       0.100000\n",
        "Name: 3327, dtype: float64"
       ]
      }
     ],
     "prompt_number": 75
    },
    {
     "cell_type": "code",
     "collapsed": false,
     "input": [
      "df_url_love = pd.DataFrame.from_csv(\n",
      "    'url_love',\n",
      "    index_col=False\n",
      ")\n",
      "\n",
      "df_url_love.ix[3112]"
     ],
     "language": "python",
     "metadata": {},
     "outputs": [
      {
       "metadata": {},
       "output_type": "pyout",
       "prompt_number": 79,
       "text": [
        "track_id                                   TRINKVP128F14926E8\n",
        "urls        https://www.youtube.com/embed/CnS8gBPN1rc?play...\n",
        "love                                                        1\n",
        "Name: 3112, dtype: object"
       ]
      }
     ],
     "prompt_number": 79
    },
    {
     "cell_type": "code",
     "collapsed": false,
     "input": [],
     "language": "python",
     "metadata": {},
     "outputs": []
    }
   ],
   "metadata": {}
  }
 ]
}