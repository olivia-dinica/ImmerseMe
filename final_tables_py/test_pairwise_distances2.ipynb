{
 "metadata": {
  "name": ""
 },
 "nbformat": 3,
 "nbformat_minor": 0,
 "worksheets": [
  {
   "cells": [
    {
     "cell_type": "code",
     "collapsed": false,
     "input": [
      "import sklearn\n",
      "from sklearn.metrics.pairwise import euclidean_distances\n",
      "from sklearn.metrics.pairwise import manhattan_distances\n",
      "import random\n",
      "import pandas as pd\n",
      "import numpy as np\n",
      "#load cleaned up and complete features matrix\n",
      "df_love = pd.DataFrame.from_csv(\n",
      "    'features_simple_all_norm',\n",
      "    #index_col=False\n",
      ")\n",
      "df_url = pd.DataFrame.from_csv(\n",
      "    'urls_forall',\n",
      "    index_col=False\n",
      ")\n",
      "\n",
      "df_love.head()"
     ],
     "language": "python",
     "metadata": {},
     "outputs": [
      {
       "html": [
        "<div style=\"max-height:1000px;max-width:1500px;overflow:auto;\">\n",
        "<table border=\"1\" class=\"dataframe\">\n",
        "  <thead>\n",
        "    <tr style=\"text-align: right;\">\n",
        "      <th></th>\n",
        "      <th>tempo</th>\n",
        "      <th>pos-neg</th>\n",
        "      <th>all</th>\n",
        "    </tr>\n",
        "  </thead>\n",
        "  <tbody>\n",
        "    <tr>\n",
        "      <th>TRMMMKI128F931D80D</th>\n",
        "      <td>0.611660</td>\n",
        "      <td>0.557895</td>\n",
        "      <td>1</td>\n",
        "    </tr>\n",
        "    <tr>\n",
        "      <th>TRMMMQY128F92F0EA3</th>\n",
        "      <td>0.946730</td>\n",
        "      <td>0.446429</td>\n",
        "      <td>1</td>\n",
        "    </tr>\n",
        "    <tr>\n",
        "      <th>TRMMMFJ128F92E15AC</th>\n",
        "      <td>0.564725</td>\n",
        "      <td>0.566667</td>\n",
        "      <td>1</td>\n",
        "    </tr>\n",
        "    <tr>\n",
        "      <th>TRMMWJY128F1469B8A</th>\n",
        "      <td>0.976690</td>\n",
        "      <td>0.510000</td>\n",
        "      <td>1</td>\n",
        "    </tr>\n",
        "    <tr>\n",
        "      <th>TRMMHTC12903C9AF55</th>\n",
        "      <td>0.486590</td>\n",
        "      <td>0.543011</td>\n",
        "      <td>1</td>\n",
        "    </tr>\n",
        "  </tbody>\n",
        "</table>\n",
        "</div>"
       ],
       "metadata": {},
       "output_type": "pyout",
       "prompt_number": 346,
       "text": [
        "                       tempo   pos-neg  all\n",
        "TRMMMKI128F931D80D  0.611660  0.557895    1\n",
        "TRMMMQY128F92F0EA3  0.946730  0.446429    1\n",
        "TRMMMFJ128F92E15AC  0.564725  0.566667    1\n",
        "TRMMWJY128F1469B8A  0.976690  0.510000    1\n",
        "TRMMHTC12903C9AF55  0.486590  0.543011    1"
       ]
      }
     ],
     "prompt_number": 346
    },
    {
     "cell_type": "code",
     "collapsed": false,
     "input": [
      "print min(df_love[\"tempo\"]), max(df_love[\"tempo\"])\n",
      "print min(df_love[\"pos-neg\"]), max(df_love[\"pos-neg\"])\n",
      "#print min(df_love[\"love\"]), max(df_love[\"love\"])\n",
      "#min max for all\n",
      "#0.1012 1.32945\n",
      "#0.0 1.0"
     ],
     "language": "python",
     "metadata": {},
     "outputs": [
      {
       "output_type": "stream",
       "stream": "stdout",
       "text": [
        "0.1012 1.32945\n",
        "0.0 1.0\n"
       ]
      }
     ],
     "prompt_number": 341
    },
    {
     "cell_type": "code",
     "collapsed": false,
     "input": [
      "vec=[0,1,1]\n",
      "euc_matrix = euclidean_distances(vec,df_love)\n",
      "print euc_matrix"
     ],
     "language": "python",
     "metadata": {},
     "outputs": [
      {
       "output_type": "stream",
       "stream": "stdout",
       "text": [
        "[[ 0.75470841  1.09669437  0.71182288 ...,  0.88101224  0.58242649\n",
        "   0.81079658]]\n"
       ]
      }
     ],
     "prompt_number": 347
    },
    {
     "cell_type": "code",
     "collapsed": false,
     "input": [
      "euc_matrix_sorted=np.argsort(euc_matrix)\n",
      "print euc_matrix_sorted[0,range(10)]"
     ],
     "language": "python",
     "metadata": {},
     "outputs": [
      {
       "output_type": "stream",
       "stream": "stdout",
       "text": [
        "[ 8086 11015  9489 20934 21955 21251  8588   803 14168 14904]\n"
       ]
      }
     ],
     "prompt_number": 348
    },
    {
     "cell_type": "code",
     "collapsed": false,
     "input": [
      "c=0\n",
      "for i in euc_matrix_sorted[0,range(10)]:\n",
      "    c+=1\n",
      "    if c<6:\n",
      "        print df_love.ix[i]"
     ],
     "language": "python",
     "metadata": {},
     "outputs": [
      {
       "output_type": "stream",
       "stream": "stdout",
       "text": [
        "tempo      0.165875\n",
        "pos-neg    0.712963\n",
        "all        1.000000\n",
        "Name: TRQBFDM128F93247FF, dtype: float64\n",
        "tempo      0.34405\n",
        "pos-neg    1.00000\n",
        "all        1.00000\n",
        "Name: TRABCJL128F426C3C1, dtype: float64\n",
        "tempo      0.252050\n",
        "pos-neg    0.754545\n",
        "all        1.000000\n",
        "Name: TRZECHI12903CC4818, dtype: float64\n",
        "tempo      0.201905\n",
        "pos-neg    0.700000\n",
        "all        1.000000\n",
        "Name: TRDGBJZ128F42A2E28, dtype: float64\n",
        "tempo      0.181375\n",
        "pos-neg    0.639594\n",
        "all        1.000000\n",
        "Name: TROGOUX128F9302C9C, dtype: float64\n"
       ]
      }
     ],
     "prompt_number": 349
    },
    {
     "cell_type": "code",
     "collapsed": false,
     "input": [
      "c=0\n",
      "for i in euc_matrix_sorted[0,range(10)]:\n",
      "    c+=1\n",
      "    if c<6:\n",
      "        print df_url.ix[i]"
     ],
     "language": "python",
     "metadata": {},
     "outputs": [
      {
       "output_type": "stream",
       "stream": "stdout",
       "text": [
        "urls    https://www.youtube.com/embed/IkZjBNWmnKY?play...\n",
        "Name: 8086, dtype: object\n",
        "urls    https://www.youtube.com/embed/K1KrYetn6cQ?play...\n",
        "Name: 11015, dtype: object\n",
        "urls    https://www.youtube.com/embed/-HtgUUqbhPQ?play...\n",
        "Name: 9489, dtype: object\n",
        "urls    https://www.youtube.com/embed/sjtZ9vRdug0?play...\n",
        "Name: 20934, dtype: object\n",
        "urls    https://www.youtube.com/embed/Lhdq4SdYZNk?play...\n",
        "Name: 21955, dtype: object\n"
       ]
      }
     ],
     "prompt_number": 350
    },
    {
     "cell_type": "code",
     "collapsed": false,
     "input": [],
     "language": "python",
     "metadata": {},
     "outputs": []
    }
   ],
   "metadata": {}
  }
 ]
}