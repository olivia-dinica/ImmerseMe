{
 "metadata": {
  "name": ""
 },
 "nbformat": 3,
 "nbformat_minor": 0,
 "worksheets": [
  {
   "cells": [
    {
     "cell_type": "code",
     "collapsed": false,
     "input": [
      "import sklearn\n",
      "from sklearn.metrics.pairwise import cosine_similarity\n",
      "import random\n",
      "import pandas as pd\n",
      "import numpy as np\n",
      "#load cleaned up and complete features matrix\n",
      "df_norm = pd.DataFrame.from_csv(\n",
      "    'id_key_mode_tempo_mood_normalized',\n",
      "    index_col=False\n",
      ")\n",
      "#load $theme frequencies (normalized, and 0's taken out, but not cleaned up of blah's or 0 tempos)\n",
      "df_destiny = pd.DataFrame.from_csv(\n",
      "    'id_destiny_capnorm',\n",
      "    index_col=False\n",
      ")\n",
      "\n",
      "df_url = pd.DataFrame.from_csv(\n",
      "    'id_url',\n",
      "    index_col=False\n",
      ")\n",
      "\n",
      "#merge all features with $theme ones\n",
      "features_destiny = pd.merge(df_norm, df_destiny, how='inner', on=['track_id'])\n",
      "url_destiny = pd.merge(df_url, df_destiny, how='inner', on=['track_id'])\n",
      "#features_love.shape (7874, 17)\n",
      "#url_love.shape (7874, 3)\n",
      "features_destiny.to_csv('features_id_destiny',sep=',',index=False)\n",
      "url_destiny.to_csv('url_destiny',sep=',',index=False)\n",
      "features_destiny.head()\n",
      "#then this was performed to get url_$theme\n",
      "#awk 'BEGIN{FS=\",\"}{print $2}' url_$theme > urls_for$theme ; rm url_$theme\n",
      "\n",
      "del features_destiny['track_id']\n",
      "vec=[0,0,0,0,0,0,0,0,0,0,0,1,1,1.22332,0.4,1]\n",
      "sim_matrix = cosine_similarity(vec,features_destiny)\n",
      "print sim_matrix"
     ],
     "language": "python",
     "metadata": {},
     "outputs": [
      {
       "output_type": "stream",
       "stream": "stdout",
       "text": [
        "[[ 0.6587826   0.61343906  0.66530681  0.8973385   0.69977808  0.67736011\n",
        "   0.67586044  0.57287282  0.89222752  0.44337101  0.67260878  0.65011374\n",
        "   0.72794659  0.72374807  0.61993384  0.68610024  0.70334706  0.49729791\n",
        "   0.68975066  0.65766684  0.70332437  0.66137141  0.4250874   0.48894513\n",
        "   0.51566184  0.84281242  0.31507751  0.49247407  0.4946844   0.50285244\n",
        "   0.45609482  0.87192495  0.66015472  0.77206956  0.93865023  0.4106369\n",
        "   0.49072778  0.51724465  0.51806946  0.6635392   0.76806619  0.6687391\n",
        "   0.6808797   0.67958756  0.65703834  0.49467308  0.69321017  0.62701566\n",
        "   0.6256068   0.65857624  0.67104152  0.8743021   0.70789232  0.52553886\n",
        "   0.44791854  0.68136783  0.49759394  0.64641807  0.66385905  0.64419353\n",
        "   0.63655978  0.66127711  0.66035106  0.50666181  0.45028871  0.51880616\n",
        "   0.63697155  0.64282895  0.43701833  0.67813503  0.4906811   0.58469858\n",
        "   0.67608654  0.63444525  0.60908902  0.54264524  0.49181635  0.66714344\n",
        "   0.49808994  0.67045662  0.66863396  0.55795878  0.42265837  0.49627024\n",
        "   0.52497485  0.64049784  0.66426176  0.55104366  0.50491186  0.61689495\n",
        "   0.6690881   0.64121194  0.67198237  0.66164692  0.67396147  0.67460711\n",
        "   0.66081643  0.67564833  0.62264371  0.64582977  0.70612813  0.67338704\n",
        "   0.69927783  0.65814388  0.45134772  0.62868761  0.51007872  0.47849647\n",
        "   0.49921321  0.67292451  0.68372087  0.68143486  0.70949147  0.6127972\n",
        "   0.73728028  0.49810409  0.47513352  0.70881928  0.67627527  0.77189964\n",
        "   0.61510232  0.774637    0.42294234  0.76419967  0.87813341  0.69333954\n",
        "   0.44936549  0.40411155  0.68962743  0.55909169  0.4709869   0.63397577\n",
        "   0.67423469  0.76506646  0.69403649  0.55799605  0.52598971  0.44754664\n",
        "   0.7009573   0.75900166  0.60209981  0.67330549  0.45318828  0.66774193\n",
        "   0.62697021  0.53560503  0.68603265  0.67809596  0.60844748  0.77705508\n",
        "   0.64535344  0.62770194  0.46976724  0.75098192  0.65411355  0.67239789\n",
        "   0.41164029  0.72867493  0.51627873  0.52618912  0.5040156   0.67164181\n",
        "   0.67933743  0.62082657  0.86150607  0.43847227  0.54663057  0.97878783\n",
        "   0.50560054  0.65979584  0.65899032  0.61922723  0.72419929  0.76704877\n",
        "   0.46741532  0.68037584  0.52910845  0.62781072  0.6831969   0.67037895\n",
        "   0.64908644  0.67834095  0.65540418  0.71029507  0.58601535  0.65912455\n",
        "   0.60748832  0.66556678  0.66915246  0.6984377   0.66446443  0.63172984\n",
        "   0.67396636  0.62036265  0.89948569  0.6110993   0.65631344  0.60622464\n",
        "   0.67617473  0.44078398  0.64496105  0.66483418  0.90059914  0.60579115\n",
        "   0.50094344  0.65192754  0.72101156  0.90869685  0.6200295   0.87998712\n",
        "   0.66851028  0.51589312  0.64497428  0.54116221  0.62255633  0.65184485\n",
        "   0.64833375  0.69812926  0.63182377  0.49441168  0.59249486  0.66234165\n",
        "   0.71799649  0.65104672  0.65649356  0.50484864  0.67287543  0.68776903\n",
        "   0.66462552  0.63162907  0.70135104]]\n"
       ]
      }
     ],
     "prompt_number": 1
    },
    {
     "cell_type": "code",
     "collapsed": false,
     "input": [
      "sim_matrix_sorted=np.argsort(-sim_matrix)\n",
      "sim_matrix_sorted[0,range(10)]"
     ],
     "language": "python",
     "metadata": {},
     "outputs": [
      {
       "metadata": {},
       "output_type": "pyout",
       "prompt_number": 2,
       "text": [
        "array([167,  34, 207, 202, 194,   3,   8, 209, 124,  51])"
       ]
      }
     ],
     "prompt_number": 2
    },
    {
     "cell_type": "code",
     "collapsed": false,
     "input": [
      "features_destiny.ix[167]"
     ],
     "language": "python",
     "metadata": {},
     "outputs": [
      {
       "metadata": {},
       "output_type": "pyout",
       "prompt_number": 5,
       "text": [
        "c          0.000000\n",
        "df         0.000000\n",
        "d          0.000000\n",
        "ef         0.000000\n",
        "e          0.000000\n",
        "f          0.000000\n",
        "gf         0.000000\n",
        "g          0.000000\n",
        "af         0.000000\n",
        "a          0.000000\n",
        "bf         0.000000\n",
        "b          1.000000\n",
        "mode       1.000000\n",
        "tempo      1.378330\n",
        "pos-neg   -0.026316\n",
        "destiny    1.000000\n",
        "Name: 167, dtype: float64"
       ]
      }
     ],
     "prompt_number": 5
    },
    {
     "cell_type": "code",
     "collapsed": false,
     "input": [
      "#works! but song sucks\n",
      "df_url_destiny = pd.DataFrame.from_csv(\n",
      "    'url_destiny',\n",
      "    index_col=False\n",
      ")\n",
      "\n",
      "df_url_destiny.ix[167]"
     ],
     "language": "python",
     "metadata": {},
     "outputs": [
      {
       "metadata": {},
       "output_type": "pyout",
       "prompt_number": 6,
       "text": [
        "track_id                                   TRSUSWY128F932906C\n",
        "urls        https://www.youtube.com/embed/sjrABcj_YiI?play...\n",
        "destiny                                                     1\n",
        "Name: 167, dtype: object"
       ]
      }
     ],
     "prompt_number": 6
    },
    {
     "cell_type": "code",
     "collapsed": false,
     "input": [],
     "language": "python",
     "metadata": {},
     "outputs": []
    }
   ],
   "metadata": {}
  }
 ]
}