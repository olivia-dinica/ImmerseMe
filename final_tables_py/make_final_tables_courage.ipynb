{
 "metadata": {
  "name": ""
 },
 "nbformat": 3,
 "nbformat_minor": 0,
 "worksheets": [
  {
   "cells": [
    {
     "cell_type": "code",
     "collapsed": false,
     "input": [
      "import sklearn\n",
      "from sklearn.metrics.pairwise import cosine_similarity\n",
      "import random\n",
      "import pandas as pd\n",
      "import numpy as np\n",
      "#load cleaned up and complete features matrix\n",
      "df_norm = pd.DataFrame.from_csv(\n",
      "    'id_key_mode_tempo_mood_normalized',\n",
      "    index_col=False\n",
      ")\n",
      "#load $theme frequencies (normalized, and 0's taken out, but not cleaned up of blah's or 0 tempos)\n",
      "df_courage = pd.DataFrame.from_csv(\n",
      "    'id_courage_capnorm',\n",
      "    index_col=False\n",
      ")\n",
      "\n",
      "df_url = pd.DataFrame.from_csv(\n",
      "    'id_url',\n",
      "    index_col=False\n",
      ")\n",
      "\n",
      "#merge all features with $theme ones\n",
      "features_courage = pd.merge(df_norm, df_courage, how='inner', on=['track_id'])\n",
      "url_courage = pd.merge(df_url, df_courage, how='inner', on=['track_id'])\n",
      "#features_love.shape (7874, 17)\n",
      "#url_love.shape (7874, 3)\n",
      "features_courage.to_csv('features_id_courage',sep=',',index=False)\n",
      "url_courage.to_csv('url_courage',sep=',',index=False)\n",
      "features_courage.head()\n",
      "#then this was performed to get url_$theme\n",
      "#awk 'BEGIN{FS=\",\"}{print $2}' url_$theme > urls_for$theme ; rm url_$theme\n",
      "\n",
      "del features_courage['track_id']\n",
      "vec=[0,0,0,0,0,0,0,0,0,0,0,1,1,1.22332,0.4,1]\n",
      "sim_matrix = cosine_similarity(vec,features_courage)\n",
      "print sim_matrix"
     ],
     "language": "python",
     "metadata": {},
     "outputs": [
      {
       "output_type": "stream",
       "stream": "stdout",
       "text": [
        "[[ 0.68705415  0.41655183  0.41656728  0.64734096  0.53064305  0.63713765\n",
        "   0.5075646   0.7193928   0.64261686  0.64229317  0.66144881  0.65598506\n",
        "   0.64242605  0.62416479  0.40753575  0.74787685  0.65429703  0.96023355\n",
        "   0.68478152  0.62149942  0.47168311  0.3500906   0.65333898  0.6487678\n",
        "   0.69506054  0.4282139   0.60445561  0.64801965  0.58256481  0.49193607\n",
        "   0.59261018  0.42344717  0.66599945  0.6202674   0.63337936  0.65552298\n",
        "   0.66101259  0.61699887  0.70078798  0.64388471  0.65555488  0.6181622\n",
        "   0.69649469  0.37775636  0.66164128  0.87172255  0.66773341  0.63929424\n",
        "   0.63736401  0.58389803  0.66455819  0.63560922  0.73465422  0.67087647\n",
        "   0.67674374  0.501823    0.63288659  0.7860495   0.6477327   0.38801901\n",
        "   0.64980172  0.72912778  0.42951824  0.4725208   0.50113568  0.62756854\n",
        "   0.60429339  0.41451636  0.50363276  0.66619915  0.68271725  0.64667532\n",
        "   0.66093059  0.45320303  0.6609195   0.65213473  0.74160329  0.50061112\n",
        "   0.45984736  0.67049429  0.64248858  0.91707644  0.641713    0.66233587\n",
        "   0.7613179   0.47802999  0.7476714   0.52094046  0.61583736  0.50499076\n",
        "   0.62530293  0.63863383  0.45113554  0.66318326  0.6552792   0.66908695\n",
        "   0.65164365  0.4863939   0.50418638  0.52339861  0.42058707  0.6604035\n",
        "   0.64234688  0.52593274  0.51155714  0.62465658  0.52394976  0.8967427\n",
        "   0.68331249  0.47077248]]\n"
       ]
      }
     ],
     "prompt_number": 1
    },
    {
     "cell_type": "code",
     "collapsed": false,
     "input": [
      "sim_matrix_sorted=np.argsort(-sim_matrix)\n",
      "sim_matrix_sorted[0,range(10)]"
     ],
     "language": "python",
     "metadata": {},
     "outputs": [
      {
       "metadata": {},
       "output_type": "pyout",
       "prompt_number": 2,
       "text": [
        "array([ 17,  81, 107,  45,  57,  84,  15,  86,  76,  52])"
       ]
      }
     ],
     "prompt_number": 2
    },
    {
     "cell_type": "code",
     "collapsed": false,
     "input": [
      "features_courage.ix[17]"
     ],
     "language": "python",
     "metadata": {},
     "outputs": [
      {
       "metadata": {},
       "output_type": "pyout",
       "prompt_number": 3,
       "text": [
        "c          0.000000\n",
        "df         0.000000\n",
        "d          0.000000\n",
        "ef         0.000000\n",
        "e          0.000000\n",
        "f          0.000000\n",
        "gf         0.000000\n",
        "g          0.000000\n",
        "af         0.000000\n",
        "a          0.000000\n",
        "bf         0.000000\n",
        "b          1.000000\n",
        "mode       1.000000\n",
        "tempo      1.324730\n",
        "pos-neg    0.072072\n",
        "courage    0.500000\n",
        "Name: 17, dtype: float64"
       ]
      }
     ],
     "prompt_number": 3
    },
    {
     "cell_type": "code",
     "collapsed": false,
     "input": [
      "#works!\n",
      "df_url_courage= pd.DataFrame.from_csv(\n",
      "    'url_courage',\n",
      "    index_col=False\n",
      ")\n",
      "\n",
      "df_url_courage.ix[17]"
     ],
     "language": "python",
     "metadata": {},
     "outputs": [
      {
       "metadata": {},
       "output_type": "pyout",
       "prompt_number": 4,
       "text": [
        "track_id                                   TRHIDSI128F930177B\n",
        "urls        https://www.youtube.com/embed/hsG75XpXwC4?play...\n",
        "courage                                                   0.5\n",
        "Name: 17, dtype: object"
       ]
      }
     ],
     "prompt_number": 4
    },
    {
     "cell_type": "code",
     "collapsed": false,
     "input": [],
     "language": "python",
     "metadata": {},
     "outputs": []
    }
   ],
   "metadata": {}
  }
 ]
}