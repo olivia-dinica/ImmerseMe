{
 "metadata": {
  "name": ""
 },
 "nbformat": 3,
 "nbformat_minor": 0,
 "worksheets": [
  {
   "cells": [
    {
     "cell_type": "code",
     "collapsed": false,
     "input": [
      "import sklearn\n",
      "from sklearn.metrics.pairwise import cosine_similarity\n",
      "import random\n",
      "import pandas as pd\n",
      "import numpy as np\n",
      "df_sdenial = pd.DataFrame.from_csv(\n",
      "    'features_simple_denial',\n",
      "    #index_col=False\n",
      ")\n",
      "\n",
      "df_sdenial.head()\n",
      "#df_url.shape (25845, 2)"
     ],
     "language": "python",
     "metadata": {},
     "outputs": [
      {
       "html": [
        "<div style=\"max-height:1000px;max-width:1500px;overflow:auto;\">\n",
        "<table border=\"1\" class=\"dataframe\">\n",
        "  <thead>\n",
        "    <tr style=\"text-align: right;\">\n",
        "      <th></th>\n",
        "      <th>tempo</th>\n",
        "      <th>pos-neg</th>\n",
        "      <th>denial</th>\n",
        "    </tr>\n",
        "  </thead>\n",
        "  <tbody>\n",
        "    <tr>\n",
        "      <th>TRMGOXJ128F4241313</th>\n",
        "      <td>1.35053</td>\n",
        "      <td>-0.163265</td>\n",
        "      <td>0.2</td>\n",
        "    </tr>\n",
        "    <tr>\n",
        "      <th>TRMPKJW128F42423D7</th>\n",
        "      <td>1.14298</td>\n",
        "      <td>-0.062500</td>\n",
        "      <td>0.2</td>\n",
        "    </tr>\n",
        "    <tr>\n",
        "      <th>TRWTVNW12903CF10C4</th>\n",
        "      <td>1.77912</td>\n",
        "      <td>-0.194030</td>\n",
        "      <td>0.4</td>\n",
        "    </tr>\n",
        "    <tr>\n",
        "      <th>TRGEYVE12903CEDF9C</th>\n",
        "      <td>1.53716</td>\n",
        "      <td>-0.071429</td>\n",
        "      <td>0.2</td>\n",
        "    </tr>\n",
        "    <tr>\n",
        "      <th>TRGOMUU128F933BC9E</th>\n",
        "      <td>1.52969</td>\n",
        "      <td>0.000000</td>\n",
        "      <td>0.2</td>\n",
        "    </tr>\n",
        "  </tbody>\n",
        "</table>\n",
        "</div>"
       ],
       "metadata": {},
       "output_type": "pyout",
       "prompt_number": 2,
       "text": [
        "                      tempo   pos-neg  denial\n",
        "TRMGOXJ128F4241313  1.35053 -0.163265     0.2\n",
        "TRMPKJW128F42423D7  1.14298 -0.062500     0.2\n",
        "TRWTVNW12903CF10C4  1.77912 -0.194030     0.4\n",
        "TRGEYVE12903CEDF9C  1.53716 -0.071429     0.2\n",
        "TRGOMUU128F933BC9E  1.52969  0.000000     0.2"
       ]
      }
     ],
     "prompt_number": 2
    },
    {
     "cell_type": "code",
     "collapsed": false,
     "input": [
      "#it works! no weird .998s\n",
      "vec=[1.0,1,0.75]\n",
      "sim_matrix = cosine_similarity(vec,df_sdenial)\n",
      "print sim_matrix"
     ],
     "language": "python",
     "metadata": {},
     "outputs": [
      {
       "output_type": "stream",
       "stream": "stdout",
       "text": [
        "[[ 0.60755714  0.66149407  0.64215846  0.65044764  0.68016322  0.56312751\n",
        "   0.66767053  0.64783815  0.77939103  0.75312552  0.59698748  0.69269565\n",
        "   0.58909447  0.59208734  0.69427259  0.65157811  0.61187447  0.7746626\n",
        "   0.60579448  0.65375146  0.65780073  0.72029811  0.71121187  0.63335492\n",
        "   0.65219607  0.77267587  0.60579855  0.70666112  0.65906637  0.65700878\n",
        "   0.74143838  0.64086773  0.60279113  0.63969042  0.66488765  0.65607996\n",
        "   0.72937941  0.73269201  0.63877476  0.62128158  0.63711084  0.6295882\n",
        "   0.6169706   0.73330457  0.642996    0.65779213  0.63440893  0.53230343\n",
        "   0.66349008  0.60432899  0.64447637  0.60609206  0.77371608  0.63277342\n",
        "   0.72138604  0.79709322  0.73547074  0.60337705  0.69081582]]\n"
       ]
      }
     ],
     "prompt_number": 3
    },
    {
     "cell_type": "code",
     "collapsed": false,
     "input": [
      "dfyoutube = pd.DataFrame.from_csv(\n",
      "\t'urls_fordenial',\n",
      "    index_col=False)"
     ],
     "language": "python",
     "metadata": {},
     "outputs": [],
     "prompt_number": 6
    },
    {
     "cell_type": "code",
     "collapsed": false,
     "input": [
      "sim_matrix_sorted=np.argsort(-sim_matrix)\n",
      "print sim_matrix_sorted[0,range(1)][0]"
     ],
     "language": "python",
     "metadata": {},
     "outputs": [
      {
       "output_type": "stream",
       "stream": "stdout",
       "text": [
        "55\n"
       ]
      }
     ],
     "prompt_number": 23
    },
    {
     "cell_type": "code",
     "collapsed": false,
     "input": [
      "print dfyoutube.ix[sim_matrix_sorted[0,range(1)][0],0]"
     ],
     "language": "python",
     "metadata": {},
     "outputs": [
      {
       "output_type": "stream",
       "stream": "stdout",
       "text": [
        "https://www.youtube.com/embed/NKeSCtdNq8Q?playlist=NKeSCtdNq8Q&autoplay=1&loop=1\n"
       ]
      }
     ],
     "prompt_number": 25
    },
    {
     "cell_type": "code",
     "collapsed": false,
     "input": [
      "print dfyoutube.ix[55,0]"
     ],
     "language": "python",
     "metadata": {},
     "outputs": [
      {
       "output_type": "stream",
       "stream": "stdout",
       "text": [
        "https://www.youtube.com/embed/NKeSCtdNq8Q?playlist=NKeSCtdNq8Q&autoplay=1&loop=1\n"
       ]
      }
     ],
     "prompt_number": 22
    },
    {
     "cell_type": "code",
     "collapsed": false,
     "input": [],
     "language": "python",
     "metadata": {},
     "outputs": []
    }
   ],
   "metadata": {}
  }
 ]
}