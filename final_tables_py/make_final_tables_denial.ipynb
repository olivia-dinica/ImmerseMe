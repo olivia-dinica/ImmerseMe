{
 "metadata": {
  "name": ""
 },
 "nbformat": 3,
 "nbformat_minor": 0,
 "worksheets": [
  {
   "cells": [
    {
     "cell_type": "code",
     "collapsed": false,
     "input": [
      "import sklearn\n",
      "from sklearn.metrics.pairwise import cosine_similarity\n",
      "import random\n",
      "import pandas as pd\n",
      "import numpy as np\n",
      "#load cleaned up and complete features matrix\n",
      "df_norm = pd.DataFrame.from_csv(\n",
      "    'id_key_mode_tempo_mood_normalized',\n",
      "    index_col=False\n",
      ")\n",
      "#load $theme frequencies (normalized, and 0's taken out, but not cleaned up of blah's or 0 tempos)\n",
      "df_denial = pd.DataFrame.from_csv(\n",
      "    'id_denial_capnorm',\n",
      "    index_col=False\n",
      ")\n",
      "\n",
      "df_url = pd.DataFrame.from_csv(\n",
      "    'id_url',\n",
      "    index_col=False\n",
      ")\n",
      "\n",
      "#merge all features with $theme ones\n",
      "features_denial = pd.merge(df_norm, df_denial, how='inner', on=['track_id'])\n",
      "url_denial = pd.merge(df_url, df_denial, how='inner', on=['track_id'])\n",
      "#features_love.shape (7874, 17)\n",
      "#url_love.shape (7874, 3)\n",
      "features_denial.to_csv('features_id_denial',sep=',',index=False)\n",
      "url_denial.to_csv('url_denial',sep=',',index=False)\n",
      "features_denial.head()\n",
      "#then this was performed to get url_$theme\n",
      "#awk 'BEGIN{FS=\",\"}{print $2}' url_$theme > urls_for$theme ; rm url_$theme\n",
      "\n",
      "del features_denial['track_id']\n",
      "vec=[0,0,0,0,0,0,0,0,0,0,0,1,1,1.22332,0.4,1]\n",
      "sim_matrix = cosine_similarity(vec,features_denial)\n",
      "print sim_matrix"
     ],
     "language": "python",
     "metadata": {},
     "outputs": [
      {
       "output_type": "stream",
       "stream": "stdout",
       "text": [
        "[[ 0.65474421  0.65148712  0.55439131  0.67362206  0.68007575  0.63588394\n",
        "   0.70650015  0.67172451  0.75068807  0.63889544  0.66230968  0.5422221\n",
        "   0.63057443  0.65587938  0.43973655  0.54703791  0.66245451  0.75916563\n",
        "   0.65270321  0.52861553  0.52837827  0.47615289  0.53854545  0.64490871\n",
        "   0.67587046  0.75308727  0.65138576  0.68516372  0.50041716  0.49372639\n",
        "   0.66732618  0.48360806  0.66666106  0.50414427  0.68706903  0.67649294\n",
        "   0.69358877  0.73921097  0.63446984  0.64161758  0.67501255  0.67184368\n",
        "   0.67264859  0.65440095  0.43742016  0.52840812  0.45064954  0.59956019\n",
        "   0.50051238  0.64733133  0.6601973   0.47952763  0.63624361  0.43512593\n",
        "   0.63141609  0.67489532  0.58225744  0.66963705  0.67179761]]\n"
       ]
      }
     ],
     "prompt_number": 1
    },
    {
     "cell_type": "code",
     "collapsed": false,
     "input": [
      "sim_matrix_sorted=np.argsort(-sim_matrix)\n",
      "sim_matrix_sorted[0,range(10)]"
     ],
     "language": "python",
     "metadata": {},
     "outputs": [
      {
       "metadata": {},
       "output_type": "pyout",
       "prompt_number": 2,
       "text": [
        "array([17, 25,  8, 37,  6, 36, 34, 27,  4, 35])"
       ]
      }
     ],
     "prompt_number": 2
    },
    {
     "cell_type": "code",
     "collapsed": false,
     "input": [
      "features_denial.ix[17]"
     ],
     "language": "python",
     "metadata": {},
     "outputs": [
      {
       "metadata": {},
       "output_type": "pyout",
       "prompt_number": 3,
       "text": [
        "c          0.00000\n",
        "df         0.00000\n",
        "d          0.00000\n",
        "ef         0.00000\n",
        "e          0.00000\n",
        "f          0.00000\n",
        "gf         0.00000\n",
        "g          0.00000\n",
        "af         0.00000\n",
        "a          1.00000\n",
        "bf         0.00000\n",
        "b          0.00000\n",
        "mode       1.00000\n",
        "tempo      1.40589\n",
        "pos-neg    0.00000\n",
        "denial     0.80000\n",
        "Name: 17, dtype: float64"
       ]
      }
     ],
     "prompt_number": 3
    },
    {
     "cell_type": "code",
     "collapsed": false,
     "input": [
      "#works!\n",
      "df_url_denial = pd.DataFrame.from_csv(\n",
      "    'url_denial',\n",
      "    index_col=False\n",
      ")\n",
      "\n",
      "df_url_denial.ix[17]"
     ],
     "language": "python",
     "metadata": {},
     "outputs": [
      {
       "metadata": {},
       "output_type": "pyout",
       "prompt_number": 5,
       "text": [
        "track_id                                   TRFSYVS12903D0BA7D\n",
        "urls        https://www.youtube.com/embed/3NjW2FccAHs?play...\n",
        "denial                                                    0.8\n",
        "Name: 17, dtype: object"
       ]
      }
     ],
     "prompt_number": 5
    },
    {
     "cell_type": "code",
     "collapsed": false,
     "input": [],
     "language": "python",
     "metadata": {},
     "outputs": []
    }
   ],
   "metadata": {}
  }
 ]
}