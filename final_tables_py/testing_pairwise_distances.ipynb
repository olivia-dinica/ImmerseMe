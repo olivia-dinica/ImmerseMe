{
 "metadata": {
  "name": ""
 },
 "nbformat": 3,
 "nbformat_minor": 0,
 "worksheets": [
  {
   "cells": [
    {
     "cell_type": "code",
     "collapsed": false,
     "input": [
      "import sklearn\n",
      "from sklearn.metrics.pairwise import cosine_similarity\n",
      "from sklearn.metrics.pairwise import euclidean_distances\n",
      "import sklearn.neighbors.DistanceMetric\n",
      "import random\n",
      "import pandas as pd\n",
      "import numpy as np\n",
      "#load cleaned up and complete features matrix\n",
      "df_love = pd.DataFrame.from_csv(\n",
      "    'features_simple_love',\n",
      "    #index_col=False\n",
      ")\n",
      "\n",
      "df_url = pd.DataFrame.from_csv(\n",
      "    'urls_forlove',\n",
      "    index_col=False\n",
      ")\n",
      "df_love.head()"
     ],
     "language": "python",
     "metadata": {},
     "outputs": [
      {
       "ename": "ImportError",
       "evalue": "No module named DistanceMetric",
       "output_type": "pyerr",
       "traceback": [
        "\u001b[0;31m---------------------------------------------------------------------------\u001b[0m\n\u001b[0;31mImportError\u001b[0m                               Traceback (most recent call last)",
        "\u001b[0;32m<ipython-input-84-735222a823da>\u001b[0m in \u001b[0;36m<module>\u001b[0;34m()\u001b[0m\n\u001b[1;32m      2\u001b[0m \u001b[0;32mfrom\u001b[0m \u001b[0msklearn\u001b[0m\u001b[0;34m.\u001b[0m\u001b[0mmetrics\u001b[0m\u001b[0;34m.\u001b[0m\u001b[0mpairwise\u001b[0m \u001b[0;32mimport\u001b[0m \u001b[0mcosine_similarity\u001b[0m\u001b[0;34m\u001b[0m\u001b[0m\n\u001b[1;32m      3\u001b[0m \u001b[0;32mfrom\u001b[0m \u001b[0msklearn\u001b[0m\u001b[0;34m.\u001b[0m\u001b[0mmetrics\u001b[0m\u001b[0;34m.\u001b[0m\u001b[0mpairwise\u001b[0m \u001b[0;32mimport\u001b[0m \u001b[0meuclidean_distances\u001b[0m\u001b[0;34m\u001b[0m\u001b[0m\n\u001b[0;32m----> 4\u001b[0;31m \u001b[0;32mimport\u001b[0m \u001b[0msklearn\u001b[0m\u001b[0;34m.\u001b[0m\u001b[0mneighbors\u001b[0m\u001b[0;34m.\u001b[0m\u001b[0mDistanceMetric\u001b[0m\u001b[0;34m\u001b[0m\u001b[0m\n\u001b[0m\u001b[1;32m      5\u001b[0m \u001b[0;32mimport\u001b[0m \u001b[0mrandom\u001b[0m\u001b[0;34m\u001b[0m\u001b[0m\n\u001b[1;32m      6\u001b[0m \u001b[0;32mimport\u001b[0m \u001b[0mpandas\u001b[0m \u001b[0;32mas\u001b[0m \u001b[0mpd\u001b[0m\u001b[0;34m\u001b[0m\u001b[0m\n",
        "\u001b[0;31mImportError\u001b[0m: No module named DistanceMetric"
       ]
      }
     ],
     "prompt_number": 84
    },
    {
     "cell_type": "code",
     "collapsed": false,
     "input": [
      "print min(df_love[\"pos-neg\"].values), min(df_love[\"tempo\"].values)\n",
      "print max(df_love[\"pos-neg\"].values), max(df_love[\"tempo\"].values)"
     ],
     "language": "python",
     "metadata": {},
     "outputs": [
      {
       "output_type": "stream",
       "stream": "stdout",
       "text": [
        "-0.6 0.26203\n",
        "0.894736842105 2.49783\n"
       ]
      }
     ],
     "prompt_number": 16
    },
    {
     "cell_type": "code",
     "collapsed": false,
     "input": [
      "vec=[0,1,1]\n",
      "sim_matrix = cosine_similarity(vec,df_love)\n",
      "print sim_matrix\n",
      "euc_matrix = manhattan_distances(vec,df_love)\n",
      "print euc_matrix"
     ],
     "language": "python",
     "metadata": {},
     "outputs": [
      {
       "output_type": "stream",
       "stream": "stdout",
       "text": [
        "[[ 0.12376705  0.04237433  0.48896538 ...,  0.04167984  0.0660542\n",
        "   0.14670619]]\n",
        "[[ 3.00753053  3.32374462  2.20877293 ...,  3.59357     2.86411667\n",
        "   2.81912948]]\n"
       ]
      }
     ],
     "prompt_number": 75
    },
    {
     "cell_type": "code",
     "collapsed": false,
     "input": [
      "sim_matrix_sorted=np.argsort(-sim_matrix)\n",
      "print sim_matrix_sorted[0,range(10)]\n",
      "euc_matrix_sorted=np.argsort(euc_matrix)\n",
      "print euc_matrix_sorted[0,range(10)]"
     ],
     "language": "python",
     "metadata": {},
     "outputs": [
      {
       "output_type": "stream",
       "stream": "stdout",
       "text": [
        "[4502 6637 4281 3083  240  573 5220 2605 4441 4813]\n",
        "[6637 4502  240 5220 3083 4281  573 6168 5227 4441]\n"
       ]
      }
     ],
     "prompt_number": 76
    },
    {
     "cell_type": "code",
     "collapsed": false,
     "input": [
      "c=0\n",
      "for i in sim_matrix_sorted[0,range(10)]:\n",
      "    c+=1\n",
      "    if c<4:\n",
      "        print df_love.ix[i]\n",
      "\n",
      "print \"---------------------------------------------\"\n",
      "        \n",
      "c=0\n",
      "for i in euc_matrix_sorted[0,range(10)]:\n",
      "    c+=1\n",
      "    if c<4:\n",
      "        print df_love.ix[i]"
     ],
     "language": "python",
     "metadata": {},
     "outputs": [
      {
       "output_type": "stream",
       "stream": "stdout",
       "text": [
        "tempo      0.76371\n",
        "pos-neg    0.65000\n",
        "love       1.00000\n",
        "Name: TRUHWEG128F4287BCF, dtype: float64\n",
        "tempo      0.362750\n",
        "pos-neg    0.279188\n",
        "love       1.000000\n",
        "Name: TROGOUX128F9302C9C, dtype: float64\n",
        "tempo      0.389950\n",
        "pos-neg    0.260274\n",
        "love       0.900000\n",
        "Name: TRTIGVQ12903D03BA4, dtype: float64\n",
        "---------------------------------------------\n",
        "tempo      0.362750\n",
        "pos-neg    0.279188\n",
        "love       1.000000\n",
        "Name: TROGOUX128F9302C9C, dtype: float64\n",
        "tempo      0.76371\n",
        "pos-neg    0.65000\n",
        "love       1.00000\n",
        "Name: TRUHWEG128F4287BCF, dtype: float64\n",
        "tempo      0.400360\n",
        "pos-neg    0.197452\n",
        "love       1.000000\n",
        "Name: TRMVGIY128F146448E, dtype: float64\n"
       ]
      }
     ],
     "prompt_number": 77
    },
    {
     "cell_type": "code",
     "collapsed": false,
     "input": [],
     "language": "python",
     "metadata": {},
     "outputs": []
    }
   ],
   "metadata": {}
  }
 ]
}