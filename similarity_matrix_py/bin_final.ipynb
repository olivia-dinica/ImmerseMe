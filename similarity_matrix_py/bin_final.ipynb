{
 "metadata": {
  "name": ""
 },
 "nbformat": 3,
 "nbformat_minor": 0,
 "worksheets": [
  {
   "cells": [
    {
     "cell_type": "code",
     "collapsed": false,
     "input": [
      "import pandas as pd\n",
      "import numpy as np\n",
      "\n",
      "df_final = pd.DataFrame.from_csv(\n",
      "    'final.csv',\n",
      "    index_col=False\n",
      ")\n",
      "del df_final[\"track_id\"]\n",
      "del df_final[\"artist_name\"]\n",
      "del df_final[\"song_title\"]\n",
      "del df_final[\"urls\"]\n",
      "\n",
      "print df_final\n",
      "\n",
      "np_final = df_final.values"
     ],
     "language": "python",
     "metadata": {},
     "outputs": [
      {
       "output_type": "stream",
       "stream": "stdout",
       "text": [
        "       key  mode    tempo   pos-neg\n",
        "0       11     1  122.332  0.115789\n",
        "1        8     1  189.346 -0.107143\n",
        "2        5     0  112.945  0.133333\n",
        "3        6     0  195.338  0.020000\n",
        "4        2     1   97.318  0.086022\n",
        "5        9     1  105.079  0.142857\n",
        "6        1     1   90.612 -0.230769\n",
        "7        9     1  140.836 -0.015385\n",
        "8        4     0  141.609  0.207317\n",
        "9        4     0  170.922 -0.081081\n",
        "10       1     0   89.256 -0.033493\n",
        "11       9     1  128.059  0.000000\n",
        "12       2     1  147.981 -0.045752\n",
        "13       9     1  113.737 -0.035398\n",
        "14       0     1  130.639  0.000000\n",
        "15       2     1  202.660 -0.087719\n",
        "16       2     1  101.959  0.130435\n",
        "17      10     0  104.029 -0.068293\n",
        "18       1     0  150.684 -0.011236\n",
        "19       1     0   89.953 -0.033898\n",
        "20       1     0  183.641  0.023529\n",
        "21       4     0  106.013 -0.108696\n",
        "22       7     0  121.742  0.032520\n",
        "23      10     0  204.959 -0.232143\n",
        "24       9     1  117.783  0.063492\n",
        "25       2     1  156.076 -0.092593\n",
        "26       2     0  154.645 -0.036036\n",
        "27       8     1  162.154  0.056277\n",
        "28       0     1  127.141  0.071429\n",
        "29       0     1  128.711 -0.153846\n",
        "...    ...   ...      ...       ...\n",
        "25815    6     0  150.627  0.000000\n",
        "25816    2     0  130.060 -0.067708\n",
        "25817    7     0  152.652 -0.021739\n",
        "25818    1     1   49.588 -0.088235\n",
        "25819    9     1  125.067 -0.047059\n",
        "25820    6     0   90.061 -0.021739\n",
        "25821    5     0   96.377  0.000000\n",
        "25822    3     0  128.007  0.000000\n",
        "25823    4     1  148.005  0.042373\n",
        "25824    2     0  152.500  0.125000\n",
        "25825    7     1   79.255  0.017857\n",
        "25826    0     1  140.730  0.023256\n",
        "25827    7     1   88.512  0.038462\n",
        "25828    2     1  117.455 -0.076087\n",
        "25829    2     1   79.632 -0.038095\n",
        "25830   11     0   83.041 -0.056604\n",
        "25831    7     1  202.715  0.000000\n",
        "25832    7     1   90.001 -0.098558\n",
        "25833    8     1  169.357  0.000000\n",
        "25834    3     0   95.370 -0.010417\n",
        "25835    3     1  128.190 -0.153846\n",
        "25836    1     0  103.861  0.019481\n",
        "25837    7     1   94.640 -0.147059\n",
        "25838    3     0   99.012  0.020408\n",
        "25839    5     1  139.757 -0.011111\n",
        "25840    4     1  139.914 -0.127907\n",
        "25841    6     1   76.036 -0.147541\n",
        "25842    0     1  139.462 -0.076923\n",
        "25843    4     0   57.328 -0.014019\n",
        "25844    1     1  120.061 -0.090000\n",
        "\n",
        "[25845 rows x 4 columns]\n"
       ]
      }
     ],
     "prompt_number": 56
    },
    {
     "cell_type": "code",
     "collapsed": false,
     "input": [
      "binned_key = np.zeros((25845,12))\n",
      "\n",
      "for i in xrange(np_final.shape[0]):\n",
      "    binned_key[i,np_final[i,0]]=1 #gives value\n",
      "    \n",
      "print binned_key\n",
      "np.savetxt('binned_key.csv', binned_key, delimiter=',', fmt='%i')"
     ],
     "language": "python",
     "metadata": {},
     "outputs": [
      {
       "output_type": "stream",
       "stream": "stdout",
       "text": [
        "[[ 0.  0.  0. ...,  0.  0.  1.]\n",
        " [ 0.  0.  0. ...,  0.  0.  0.]\n",
        " [ 0.  0.  0. ...,  0.  0.  0.]\n",
        " ..., \n",
        " [ 1.  0.  0. ...,  0.  0.  0.]\n",
        " [ 0.  0.  0. ...,  0.  0.  0.]\n",
        " [ 0.  1.  0. ...,  0.  0.  0.]]\n"
       ]
      }
     ],
     "prompt_number": 69
    },
    {
     "cell_type": "code",
     "collapsed": false,
     "input": [
      "binned_mode = np.zeros((25845,1))\n",
      "\n",
      "for i in xrange(np_final.shape[0]):\n",
      "     binned_mode[i,0]=np_final[i,1] #gives value\n",
      "    \n",
      "print binned_mode\n",
      "np.savetxt('binned_mode.csv', binned_mode, delimiter=',', fmt='%i')"
     ],
     "language": "python",
     "metadata": {},
     "outputs": [
      {
       "output_type": "stream",
       "stream": "stdout",
       "text": [
        "[[ 1.]\n",
        " [ 1.]\n",
        " [ 0.]\n",
        " ..., \n",
        " [ 1.]\n",
        " [ 0.]\n",
        " [ 1.]]\n"
       ]
      }
     ],
     "prompt_number": 70
    },
    {
     "cell_type": "code",
     "collapsed": false,
     "input": [
      "binned_tempo = np.zeros((25845,5))\n",
      "\n",
      "for i in xrange(np_final.shape[0]):\n",
      "    if (np_final[i,2]<50):\n",
      "        binned_tempo[i,0]=1 #gives value\n",
      "        \n",
      "    if (np_final[i,2]<100 and np_final[i,2]>=50):\n",
      "        binned_tempo[i,1]=1 #gives value\n",
      "        \n",
      "    if (np_final[i,2]<150 and np_final[i,2]>=100):\n",
      "        binned_tempo[i,2]=1 #gives value\n",
      "        \n",
      "    if (np_final[i,2]<200 and np_final[i,2]>=150):\n",
      "        binned_tempo[i,3]=1 #gives value\n",
      "        \n",
      "    if (np_final[i,2]>=200):\n",
      "        binned_tempo[i,4]=1 #gives value\n",
      "        \n",
      "print binned_tempo\n",
      "np.savetxt('binned_tempo.csv', binned_tempo, delimiter=',', fmt='%i')"
     ],
     "language": "python",
     "metadata": {},
     "outputs": [
      {
       "output_type": "stream",
       "stream": "stdout",
       "text": [
        "[[ 0.  0.  1.  0.  0.]\n",
        " [ 0.  0.  0.  1.  0.]\n",
        " [ 0.  0.  1.  0.  0.]\n",
        " ..., \n",
        " [ 0.  0.  1.  0.  0.]\n",
        " [ 0.  1.  0.  0.  0.]\n",
        " [ 0.  0.  1.  0.  0.]]\n"
       ]
      }
     ],
     "prompt_number": 73
    },
    {
     "cell_type": "code",
     "collapsed": false,
     "input": [
      "binned_sent= np.zeros((25845,1))\n",
      "\n",
      "for i in xrange(np_final.shape[0]):\n",
      "    if (np_final[i,3]>=0):\n",
      "        binned_sent[i,0]=1 #gives value\n",
      "        \n",
      "print binned_sent\n",
      "np.savetxt('binned_sent.csv', binned_sent, delimiter=',', fmt='%i')"
     ],
     "language": "python",
     "metadata": {},
     "outputs": [
      {
       "output_type": "stream",
       "stream": "stdout",
       "text": [
        "[[ 1.]\n",
        " [ 0.]\n",
        " [ 1.]\n",
        " ..., \n",
        " [ 0.]\n",
        " [ 0.]\n",
        " [ 0.]]\n"
       ]
      }
     ],
     "prompt_number": 72
    },
    {
     "cell_type": "code",
     "collapsed": false,
     "input": [],
     "language": "python",
     "metadata": {},
     "outputs": []
    }
   ],
   "metadata": {}
  }
 ]
}