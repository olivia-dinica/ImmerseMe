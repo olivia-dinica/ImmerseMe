{
 "metadata": {
  "name": ""
 },
 "nbformat": 3,
 "nbformat_minor": 0,
 "worksheets": [
  {
   "cells": [
    {
     "cell_type": "code",
     "collapsed": false,
     "input": [
      "import pandas as pd\n",
      "dfsent = pd.DataFrame.from_csv(\n",
      "    '../sentiment/id_sentiment',\n",
      "    index_col=False\n",
      ")\n",
      "\n",
      "del dfsent[\"pos\"]\n",
      "del dfsent[\"neg\"]\n",
      "dfsent.head()"
     ],
     "language": "python",
     "metadata": {},
     "outputs": [
      {
       "html": [
        "<div style=\"max-height:1000px;max-width:1500px;overflow:auto;\">\n",
        "<table border=\"1\" class=\"dataframe\">\n",
        "  <thead>\n",
        "    <tr style=\"text-align: right;\">\n",
        "      <th></th>\n",
        "      <th>track_id</th>\n",
        "      <th>pos-neg</th>\n",
        "    </tr>\n",
        "  </thead>\n",
        "  <tbody>\n",
        "    <tr>\n",
        "      <th>0</th>\n",
        "      <td>TRAABRX12903CC4816</td>\n",
        "      <td>0.112069</td>\n",
        "    </tr>\n",
        "    <tr>\n",
        "      <th>1</th>\n",
        "      <td>TRAADFO128F92E1E91</td>\n",
        "      <td>0.000000</td>\n",
        "    </tr>\n",
        "    <tr>\n",
        "      <th>2</th>\n",
        "      <td>TRAADQW128F427CE68</td>\n",
        "      <td>0.000000</td>\n",
        "    </tr>\n",
        "    <tr>\n",
        "      <th>3</th>\n",
        "      <td>TRAADRX12903D0EFE8</td>\n",
        "      <td>0.333333</td>\n",
        "    </tr>\n",
        "    <tr>\n",
        "      <th>4</th>\n",
        "      <td>TRAAEJQ128F92C484E</td>\n",
        "      <td>0.114286</td>\n",
        "    </tr>\n",
        "  </tbody>\n",
        "</table>\n",
        "</div>"
       ],
       "metadata": {},
       "output_type": "pyout",
       "prompt_number": 1,
       "text": [
        "             track_id   pos-neg\n",
        "0  TRAABRX12903CC4816  0.112069\n",
        "1  TRAADFO128F92E1E91  0.000000\n",
        "2  TRAADQW128F427CE68  0.000000\n",
        "3  TRAADRX12903D0EFE8  0.333333\n",
        "4  TRAAEJQ128F92C484E  0.114286"
       ]
      }
     ],
     "prompt_number": 1
    },
    {
     "cell_type": "code",
     "collapsed": false,
     "input": [
      "dfalmost = pd.DataFrame.from_csv(\n",
      "    '../bag_of_words/almost_final.csv',\n",
      "    index_col=False\n",
      ")\n",
      "\n",
      "dfalmost.head()"
     ],
     "language": "python",
     "metadata": {},
     "outputs": [
      {
       "html": [
        "<div style=\"max-height:1000px;max-width:1500px;overflow:auto;\">\n",
        "<table border=\"1\" class=\"dataframe\">\n",
        "  <thead>\n",
        "    <tr style=\"text-align: right;\">\n",
        "      <th></th>\n",
        "      <th>track_id</th>\n",
        "      <th>artist_name</th>\n",
        "      <th>song_title</th>\n",
        "      <th>key</th>\n",
        "      <th>mode</th>\n",
        "      <th>tempo</th>\n",
        "    </tr>\n",
        "  </thead>\n",
        "  <tbody>\n",
        "    <tr>\n",
        "      <th>0</th>\n",
        "      <td>TRMMMKI128F931D80D</td>\n",
        "      <td>Lena Philipsson</td>\n",
        "      <td>006</td>\n",
        "      <td>11</td>\n",
        "      <td>1</td>\n",
        "      <td>122.332</td>\n",
        "    </tr>\n",
        "    <tr>\n",
        "      <th>1</th>\n",
        "      <td>TRMMMQY128F92F0EA3</td>\n",
        "      <td>Dying Fetus</td>\n",
        "      <td>Ethos of Coercion</td>\n",
        "      <td>8</td>\n",
        "      <td>1</td>\n",
        "      <td>189.346</td>\n",
        "    </tr>\n",
        "    <tr>\n",
        "      <th>2</th>\n",
        "      <td>TRMMMFJ128F92E15AC</td>\n",
        "      <td>Neffa</td>\n",
        "      <td>Passione</td>\n",
        "      <td>5</td>\n",
        "      <td>0</td>\n",
        "      <td>112.945</td>\n",
        "    </tr>\n",
        "    <tr>\n",
        "      <th>3</th>\n",
        "      <td>TRMMWJY128F1469B8A</td>\n",
        "      <td>Luis Eduardo Aute</td>\n",
        "      <td>What Matters Is Just You</td>\n",
        "      <td>6</td>\n",
        "      <td>0</td>\n",
        "      <td>195.338</td>\n",
        "    </tr>\n",
        "    <tr>\n",
        "      <th>4</th>\n",
        "      <td>TRMMGGU128F14A93DD</td>\n",
        "      <td>Zen Cafe</td>\n",
        "      <td>En oo koskaan tavannut</td>\n",
        "      <td>2</td>\n",
        "      <td>1</td>\n",
        "      <td>140.087</td>\n",
        "    </tr>\n",
        "  </tbody>\n",
        "</table>\n",
        "</div>"
       ],
       "metadata": {},
       "output_type": "pyout",
       "prompt_number": 2,
       "text": [
        "             track_id        artist_name                song_title  key  mode  \\\n",
        "0  TRMMMKI128F931D80D    Lena Philipsson                       006   11     1   \n",
        "1  TRMMMQY128F92F0EA3        Dying Fetus         Ethos of Coercion    8     1   \n",
        "2  TRMMMFJ128F92E15AC              Neffa                  Passione    5     0   \n",
        "3  TRMMWJY128F1469B8A  Luis Eduardo Aute  What Matters Is Just You    6     0   \n",
        "4  TRMMGGU128F14A93DD           Zen Cafe    En oo koskaan tavannut    2     1   \n",
        "\n",
        "     tempo  \n",
        "0  122.332  \n",
        "1  189.346  \n",
        "2  112.945  \n",
        "3  195.338  \n",
        "4  140.087  "
       ]
      }
     ],
     "prompt_number": 2
    },
    {
     "cell_type": "code",
     "collapsed": false,
     "input": [
      "temp1 = pd.merge(dfalmost, dfsent, how='inner', on=['track_id'])"
     ],
     "language": "python",
     "metadata": {},
     "outputs": [],
     "prompt_number": 8
    },
    {
     "cell_type": "code",
     "collapsed": false,
     "input": [
      "dfurl = pd.DataFrame.from_csv(\n",
      "    '../youtube/almost_complete.csv',\n",
      "    index_col=False\n",
      ")\n",
      "\n",
      "del dfurl[\"artist_name\"]\n",
      "del dfurl[\"song_title\"]\n",
      "del dfurl[\"key\"]\n",
      "del dfurl[\"mode\"]\n",
      "del dfurl[\"tempo\"]\n",
      "dfurl.head()"
     ],
     "language": "python",
     "metadata": {},
     "outputs": [
      {
       "html": [
        "<div style=\"max-height:1000px;max-width:1500px;overflow:auto;\">\n",
        "<table border=\"1\" class=\"dataframe\">\n",
        "  <thead>\n",
        "    <tr style=\"text-align: right;\">\n",
        "      <th></th>\n",
        "      <th>track_id</th>\n",
        "      <th>urls</th>\n",
        "    </tr>\n",
        "  </thead>\n",
        "  <tbody>\n",
        "    <tr>\n",
        "      <th>0</th>\n",
        "      <td>TRMMMKI128F931D80D</td>\n",
        "      <td>https://www.youtube.com/embed/qSwcakaDmgE?play...</td>\n",
        "    </tr>\n",
        "    <tr>\n",
        "      <th>1</th>\n",
        "      <td>TRMMMQY128F92F0EA3</td>\n",
        "      <td>https://www.youtube.com/embed/8WXNsat5LEg?play...</td>\n",
        "    </tr>\n",
        "    <tr>\n",
        "      <th>2</th>\n",
        "      <td>TRMMMFJ128F92E15AC</td>\n",
        "      <td>https://www.youtube.com/embed/m9SqSbwJSYA?play...</td>\n",
        "    </tr>\n",
        "    <tr>\n",
        "      <th>3</th>\n",
        "      <td>TRMMWJY128F1469B8A</td>\n",
        "      <td>https://www.youtube.com/embed/GBfyc9MoN2Y?play...</td>\n",
        "    </tr>\n",
        "    <tr>\n",
        "      <th>4</th>\n",
        "      <td>TRMMGGU128F14A93DD</td>\n",
        "      <td>https://www.youtube.com/embed/blah?playlist=bl...</td>\n",
        "    </tr>\n",
        "  </tbody>\n",
        "</table>\n",
        "</div>"
       ],
       "metadata": {},
       "output_type": "pyout",
       "prompt_number": 10,
       "text": [
        "             track_id                                               urls\n",
        "0  TRMMMKI128F931D80D  https://www.youtube.com/embed/qSwcakaDmgE?play...\n",
        "1  TRMMMQY128F92F0EA3  https://www.youtube.com/embed/8WXNsat5LEg?play...\n",
        "2  TRMMMFJ128F92E15AC  https://www.youtube.com/embed/m9SqSbwJSYA?play...\n",
        "3  TRMMWJY128F1469B8A  https://www.youtube.com/embed/GBfyc9MoN2Y?play...\n",
        "4  TRMMGGU128F14A93DD  https://www.youtube.com/embed/blah?playlist=bl..."
       ]
      }
     ],
     "prompt_number": 10
    },
    {
     "cell_type": "code",
     "collapsed": false,
     "input": [
      "final = pd.merge(temp1, dfurl, how='inner', on=['track_id'])\n",
      "final.head()"
     ],
     "language": "python",
     "metadata": {},
     "outputs": [
      {
       "html": [
        "<div style=\"max-height:1000px;max-width:1500px;overflow:auto;\">\n",
        "<table border=\"1\" class=\"dataframe\">\n",
        "  <thead>\n",
        "    <tr style=\"text-align: right;\">\n",
        "      <th></th>\n",
        "      <th>track_id</th>\n",
        "      <th>artist_name</th>\n",
        "      <th>song_title</th>\n",
        "      <th>key</th>\n",
        "      <th>mode</th>\n",
        "      <th>tempo</th>\n",
        "      <th>pos-neg</th>\n",
        "      <th>urls</th>\n",
        "    </tr>\n",
        "  </thead>\n",
        "  <tbody>\n",
        "    <tr>\n",
        "      <th>0</th>\n",
        "      <td>TRMMMKI128F931D80D</td>\n",
        "      <td>Lena Philipsson</td>\n",
        "      <td>006</td>\n",
        "      <td>11</td>\n",
        "      <td>1</td>\n",
        "      <td>122.332</td>\n",
        "      <td>0.115789</td>\n",
        "      <td>https://www.youtube.com/embed/qSwcakaDmgE?play...</td>\n",
        "    </tr>\n",
        "    <tr>\n",
        "      <th>1</th>\n",
        "      <td>TRMMMQY128F92F0EA3</td>\n",
        "      <td>Dying Fetus</td>\n",
        "      <td>Ethos of Coercion</td>\n",
        "      <td>8</td>\n",
        "      <td>1</td>\n",
        "      <td>189.346</td>\n",
        "      <td>-0.107143</td>\n",
        "      <td>https://www.youtube.com/embed/8WXNsat5LEg?play...</td>\n",
        "    </tr>\n",
        "    <tr>\n",
        "      <th>2</th>\n",
        "      <td>TRMMMFJ128F92E15AC</td>\n",
        "      <td>Neffa</td>\n",
        "      <td>Passione</td>\n",
        "      <td>5</td>\n",
        "      <td>0</td>\n",
        "      <td>112.945</td>\n",
        "      <td>0.133333</td>\n",
        "      <td>https://www.youtube.com/embed/m9SqSbwJSYA?play...</td>\n",
        "    </tr>\n",
        "    <tr>\n",
        "      <th>3</th>\n",
        "      <td>TRMMWJY128F1469B8A</td>\n",
        "      <td>Luis Eduardo Aute</td>\n",
        "      <td>What Matters Is Just You</td>\n",
        "      <td>6</td>\n",
        "      <td>0</td>\n",
        "      <td>195.338</td>\n",
        "      <td>0.020000</td>\n",
        "      <td>https://www.youtube.com/embed/GBfyc9MoN2Y?play...</td>\n",
        "    </tr>\n",
        "    <tr>\n",
        "      <th>4</th>\n",
        "      <td>TRMMGGU128F14A93DD</td>\n",
        "      <td>Zen Cafe</td>\n",
        "      <td>En oo koskaan tavannut</td>\n",
        "      <td>2</td>\n",
        "      <td>1</td>\n",
        "      <td>140.087</td>\n",
        "      <td>-0.250000</td>\n",
        "      <td>https://www.youtube.com/embed/blah?playlist=bl...</td>\n",
        "    </tr>\n",
        "  </tbody>\n",
        "</table>\n",
        "</div>"
       ],
       "metadata": {},
       "output_type": "pyout",
       "prompt_number": 16,
       "text": [
        "             track_id        artist_name                song_title  key  mode  \\\n",
        "0  TRMMMKI128F931D80D    Lena Philipsson                       006   11     1   \n",
        "1  TRMMMQY128F92F0EA3        Dying Fetus         Ethos of Coercion    8     1   \n",
        "2  TRMMMFJ128F92E15AC              Neffa                  Passione    5     0   \n",
        "3  TRMMWJY128F1469B8A  Luis Eduardo Aute  What Matters Is Just You    6     0   \n",
        "4  TRMMGGU128F14A93DD           Zen Cafe    En oo koskaan tavannut    2     1   \n",
        "\n",
        "     tempo   pos-neg                                               urls  \n",
        "0  122.332  0.115789  https://www.youtube.com/embed/qSwcakaDmgE?play...  \n",
        "1  189.346 -0.107143  https://www.youtube.com/embed/8WXNsat5LEg?play...  \n",
        "2  112.945  0.133333  https://www.youtube.com/embed/m9SqSbwJSYA?play...  \n",
        "3  195.338  0.020000  https://www.youtube.com/embed/GBfyc9MoN2Y?play...  \n",
        "4  140.087 -0.250000  https://www.youtube.com/embed/blah?playlist=bl...  "
       ]
      }
     ],
     "prompt_number": 16
    },
    {
     "cell_type": "code",
     "collapsed": false,
     "input": [
      "final = final[final.tempo != 0]\n",
      "final.shape"
     ],
     "language": "python",
     "metadata": {},
     "outputs": [
      {
       "metadata": {},
       "output_type": "pyout",
       "prompt_number": 17,
       "text": [
        "(26951, 8)"
       ]
      }
     ],
     "prompt_number": 17
    },
    {
     "cell_type": "code",
     "collapsed": false,
     "input": [
      "final = final[final.urls != \"https://www.youtube.com/embed/blah?playlist=blah&autoplay=1&loop=1\"]\n",
      "final.shape"
     ],
     "language": "python",
     "metadata": {},
     "outputs": [
      {
       "metadata": {},
       "output_type": "pyout",
       "prompt_number": 18,
       "text": [
        "(25845, 8)"
       ]
      }
     ],
     "prompt_number": 18
    },
    {
     "cell_type": "code",
     "collapsed": false,
     "input": [
      "final.to_csv('final.csv', index=False)"
     ],
     "language": "python",
     "metadata": {},
     "outputs": [],
     "prompt_number": 20
    },
    {
     "cell_type": "code",
     "collapsed": false,
     "input": [],
     "language": "python",
     "metadata": {},
     "outputs": []
    }
   ],
   "metadata": {}
  }
 ]
}