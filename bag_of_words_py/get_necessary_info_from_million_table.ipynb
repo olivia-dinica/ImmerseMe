{
 "metadata": {
  "name": ""
 },
 "nbformat": 3,
 "nbformat_minor": 0,
 "worksheets": [
  {
   "cells": [
    {
     "cell_type": "code",
     "collapsed": false,
     "input": [
      "import os\n",
      "import sys\n",
      "import time\n",
      "import glob\n",
      "import datetime\n",
      "import sqlite3\n",
      "import numpy as np\n",
      "import hdf5_getters as GETTERS #py file in working directory\n",
      "import csv\n",
      "\n",
      "msd_subset_path='/home/olivia/Desktop/Insight/bag_of_words/MillionSongSubset'\n",
      "msd_subset_data_path=os.path.join(msd_subset_path,'data')\n",
      "msd_subset_addf_path=os.path.join(msd_subset_path,'AdditionalFiles')\n",
      "assert os.path.isdir(msd_subset_path),'wrong path' # sanity check\n",
      "\n",
      "# we define this very useful function to iterate the files\n",
      "def apply_to_all_files(basedir,func=lambda x: x,ext='.h5'):\n",
      "    \"\"\"\n",
      "    From a base directory, go through all subdirectories, find all files with the given extension, apply the\n",
      "    given function 'func' to all of them. If no 'func' is passed, we do nothing except counting.\n",
      "    INPUT\n",
      "       basedir  - base directory of the dataset\n",
      "       func     - function to apply to all filenames\n",
      "       ext      - extension, .h5 by default\n",
      "    RETURN\n",
      "       number of files\n",
      "    \"\"\"\n",
      "    cnt = 0\n",
      "    # iterate over all files in all subdirectories\n",
      "    dir_list =  list(os.walk(basedir)) # generator object\n",
      "    short_list = [f for f in dir_list if f[0][-1] == 'A']\n",
      "    for root, dirs, files in short_list:\n",
      "        #print \n",
      "        files = glob.glob(os.path.join(root,'*'+ext))\n",
      "        # count files\n",
      "        cnt += len(files)\n",
      "        # apply function to all files\n",
      "        for f in files :\n",
      "            func(f)       \n",
      "    return cnt\n",
      "\n",
      "# we can now easily count the number of files in the dataset\n",
      "t1 = time.time()\n",
      "print 'number of song files:',apply_to_all_files(msd_subset_data_path)\n",
      "t2 = time.time()\n",
      "print '# of tracks counted in:',strtimedelta(t1,t2)"
     ],
     "language": "python",
     "metadata": {},
     "outputs": [
      {
       "output_type": "stream",
       "stream": "stdout",
       "text": [
        "number of song files: "
       ]
      },
      {
       "output_type": "stream",
       "stream": "stdout",
       "text": [
        "410\n",
        "# of tracks counted in: 0:00:00.074401\n"
       ]
      }
     ],
     "prompt_number": 20
    },
    {
     "cell_type": "code",
     "collapsed": false,
     "input": [
      "# the following function simply gives us a nice string for a time lag in seconds\n",
      "def strtimedelta(starttime,stoptime):\n",
      "    return str(datetime.timedelta(seconds=stoptime-starttime))\n",
      "\n",
      "# let's now get all features in a list.\n",
      "all_track_id = []\n",
      "all_key = []\n",
      "all_mode = []\n",
      "all_tempo=[]\n",
      "\n",
      "# we define the function to apply to all files\n",
      "def func_to_get_features(filename):\n",
      "    h5 = GETTERS.open_h5_file_read(filename)\n",
      "    \n",
      "    track_id = GETTERS.get_track_id(h5)\n",
      "    all_track_id.append( track_id )\n",
      "    \n",
      "    key = GETTERS.get_key(h5)\n",
      "    all_key.append( key )\n",
      "    \n",
      "    mode = GETTERS.get_mode(h5)\n",
      "    all_mode.append( mode )\n",
      "    \n",
      "    tempo = GETTERS.get_tempo(h5)\n",
      "    all_tempo.append( tempo )\n",
      "    \n",
      "    h5.close()\n",
      "    \n",
      "\n",
      "# let's apply the previous function to all files\n",
      "# we'll also measure how long it takes\n",
      "t1 = time.time()\n",
      "apply_to_all_files(msd_subset_data_path,func=func_to_get_features)\n",
      "\"\"\"apply_to_all_files(msd_subset_data_path,func=func_to_get_key)\n",
      "apply_to_all_files(msd_subset_data_path,func=func_to_get_mode)\n",
      "pply_to_all_files(msd_subset_data_path,func=func_to_get_tempo)\"\"\"\n",
      "t2 = time.time()\n",
      "print 'all track info extracted in:',strtimedelta(t1,t2)"
     ],
     "language": "python",
     "metadata": {},
     "outputs": [
      {
       "output_type": "stream",
       "stream": "stdout",
       "text": [
        "all track info extracted in: 0:01:24.230518\n"
       ]
      }
     ],
     "prompt_number": 6
    },
    {
     "cell_type": "code",
     "collapsed": false,
     "input": [
      "# display content\n",
      "print 'found',len(all_track_id),'track_ids'\n",
      "print 'found',len(all_key),'key'\n",
      "print 'found',len(all_key_confidence),'keyc'\n",
      "print 'found',len(all_mode),'mode'\n",
      "print 'found',len(all_mode_confidence),'modec'\n",
      "print 'found',len(all_energy),'energy'\n",
      "print 'found',len(all_danceability),'dance'\n",
      "print 'found',len(all_tempo),'tempo'\n",
      "print 'found',len(all_year),'year'\n",
      "\n",
      "with open('mill_features.csv', 'wb') as outcsv:   \n",
      "    #configure writer to write standard csv file\n",
      "    writer = csv.writer(outcsv, delimiter=',', quotechar='|', quoting=csv.QUOTE_MINIMAL, lineterminator='\\n')\n",
      "    writer.writerow(['track_id', 'key', 'key_confidence', 'mode', 'mode_confidence', 'energy', 'danceability', 'tempo', 'year'])\n",
      "    for k in range(10000):\n",
      "         writer.writerow([all_track_id[k], all_key[k], all_key_confidence[k], all_mode[k], all_mode_confidence[k], all_energy[k], all_danceability[k], all_tempo[k], all_year[k]])\n",
      "        \n",
      "#print 'track_id', 'key', 'key_confidence', 'mode', 'mode_confidence', 'energy', 'danceability', 'tempo', 'year'\n",
      "#for k in range(5):\n",
      "#    print all_track_id[k], all_key[k], all_key_confidence[k], all_mode[k], all_mode_confidence[k], all_energy[k], all_danceability[k], all_tempo[k], all_year[k]"
     ],
     "language": "python",
     "metadata": {},
     "outputs": [
      {
       "output_type": "stream",
       "stream": "stdout",
       "text": [
        "found 10000 track_ids\n",
        "found 10000 key\n",
        "found 10000 keyc\n",
        "found 10000 mode\n",
        "found 10000 modec\n",
        "found 10000 energy\n",
        "found 10000 dance\n",
        "found 10000 tempo\n",
        "found 10000 year\n",
        "track_id"
       ]
      },
      {
       "output_type": "stream",
       "stream": "stdout",
       "text": [
        " key key_confidence mode mode_confidence energy danceability tempo year\n",
        "TRBIIOT128F423C594 2 0.239 1 0.139 0.0 0.0 150.04 1978\n",
        "TRBIIJX128F933AB7D 0 0.526 1 0.571 0.0 0.0 131.552 2000\n",
        "TRBIICD128F14553D8 0 0.741 1 0.612 0.0 0.0 91.005 0\n",
        "TRBIIXI128F9344121 11 0.679 0 0.751 0.0 0.0 84.96 0\n",
        "TRBIIEU128F9307C88 4 0.662 1 0.658 0.0 0.0 192.07 2009\n"
       ]
      }
     ],
     "prompt_number": 21
    },
    {
     "cell_type": "code",
     "collapsed": false,
     "input": [],
     "language": "python",
     "metadata": {},
     "outputs": []
    }
   ],
   "metadata": {}
  }
 ]
}