{
 "metadata": {
  "name": ""
 },
 "nbformat": 3,
 "nbformat_minor": 0,
 "worksheets": [
  {
   "cells": [
    {
     "cell_type": "code",
     "collapsed": false,
     "input": [
      "import nltk\n",
      "from nltk import pos_tag,word_tokenize\n",
      "from nltk.corpus import wordnet,stopwords\n",
      "with open (\"final_header_w_spaces\", \"r\") as f:\n",
      "    header=f.read()\n",
      "    \n",
      "englishwords = []\n",
      "#tokenized_set=word_tokenize(header)\n",
      "tokenized_set=header.split()\n",
      "\n",
      "for w in tokenized_set:\n",
      "    #print word\n",
      "    if wordnet.synsets(w):\n",
      "        englishwords.append(w)\n",
      "\n",
      "print len(englishwords)\n",
      "f_words1 = [w1 for w1 in englishwords if not w1 in stopwords.words(\"english\")]\n",
      "#print len(f_words1)\n",
      "f_words2 = [w2 for w2 in f_words1 if not w2 in stopwords.words(\"spanish\")]\n",
      "#print len(f_words2)\n",
      "f_words3 = [w3 for w3 in f_words2 if not w3 in stopwords.words(\"french\")]\n",
      "#print len(f_words3)\n",
      "f_words4 = [w4 for w4 in f_words3 if not w4 in stopwords.words(\"german\")]\n",
      "#print len(f_words4)\n",
      "f_words5 = [w5 for w5 in f_words4 if not w5 in stopwords.words(\"danish\")]\n",
      "#print len(f_words5)\n",
      "f_words6 = [w6 for w6 in f_words5 if not w6 in stopwords.words(\"italian\")]\n",
      "print len(f_words6)\n",
      "\n",
      "final_words = f_words6\n",
      "final_words.append(\"track_id\")\n",
      "final_words.append(\"mxm_track_id\")\n",
      "print final_words"
     ],
     "language": "python",
     "metadata": {},
     "outputs": [
      {
       "output_type": "stream",
       "stream": "stdout",
       "text": [
        "3501\n",
        "3271"
       ]
      },
      {
       "output_type": "stream",
       "stream": "stdout",
       "text": [
        "\n",
        "['love', 'know', 'like', 'time', 'go', 'oh', 'one', 'get', 'see', 'got', 'never', 'feel', 'want', 'let', 'make', 'way', 'say', 'take', 'ca', 'day', 'baby', 'away', 'life', 'yeah', 'back', 'heart', 'night', 'need', 'look', 'eye', 'thing', 'world', 'cause', 'right', 'tell', 'think', 'live', 'give', 'try', 'keep', 'dream', 'well', 'mind', 'still', 'us', 'long', 'girl', 'want', 'find', 'fall', 'around', 'good', 'little', 'turn', 'hand', 'light', 'said', 'call', 'every', 'always', 'wait', 'leave', 'home', 'hold', 'run', 'walk', 'ever', 'lie', 'face', 'hear', 'gone', 'head', 'believe', 'cry', 'alone', 'inside', 'word', 'stay', 'place', 'much', 'change', 'god', 'stand', 'better', 'last', 'friend', 'soul', 'another', 'left', 'new', 'stop', 'tonight', 'burn', 'sun', 'play', 'thought', 'sing', 'show', 'lost', 'people', 'made', 'break', 'start', 'really', 'chorus', 'hard', 'sky', 'old', 'even', 'boy', 'pleasure', 'song', 'care', 'hope', 'watch', 'pain', 'love', 'move', 'wrong', 'put', 'free', 'name', 'blue', 'dance', 'talk', 'seem', 'dark', 'na', 'far', 'tear', 'true', 'fire', 'use', 'dead', 'bring', 'fuck', 'someone', 'forever', 'close', 'sleep', 'rain', 'must', 'sweet', 'mean', 'fight', 'remember', 'star', 'kiss', 'kill', 'high', 'breath', 'doe', 'yes', 'wish', 'real', 'smile', 'two', 'cold', 'lord', 'year', 'open', 'fear', 'done', 'side', 'fly', 'black', 'line', 'rock', 'blood', 'lose', 'found', 'door', 'bad', 'ooh', 'wonder', 'enough', 'sound', 'together', 'maybe', 'help', 'shine', 'manipulate', 'heaven', 'work', 'touch', 'behind', 'today', 'big', 'might', 'death', 'hate', 'miss', 'ride', 'street', 'came', 'ask', 'hide', 'save', 'may', 'beautiful', 'roll', 'sure', 'deep', 'arm', 'wind', 'body', 'forget', 'happy', 'understand', 'best', 'mother', 'town', 'listen', 'seen', 'sometime', 'loner', 'hell', 'mourn', 'set', 'hurt', 'told', 'first', 'knew', 'goes', 'round', 'em', 'alright', 'music', 'truth', 'beat', 'pass', 'late', 'ani', 'ground', 'fool', 'broken', 'goodby', 'kind', 'wall', 'angel', 'road', 'reason', 'money', 'chance', 'part', 'matter', 'learn', 'rise', 'saw', 'grow', 'land', 'fade', 'air', 'took', 'nobody', 'fill', 'easy', 'game', 'follow', 'wake', 'alive', 'solo', 'water', 'heard', 'though', 'white', 'voice', 'woman', 'blind', 'city', 'young', 'lay', 'moon', 'reach', 'ready', 'fine', 'soon', 'shit', 'along', 'crazy', 'past', 'red', 'room', 'step', 'scream', 'tomorrow', 'control', 'memory', 'strong', 'hit', 'earth', 'final', 'shake', 'moment', 'rest', 'guess', 'house', 'born', 'somebody', 'feet', 'mas', 'sad', 'laugh', 'happen', 'went', 'cest', 'blow', 'meet', 'whole', 'lover', 'drive', 'car', 'lead', 'promise', 'bed', 'apart', 'empty', 'shadow', 'full', 'begin', 'pull', 'child', 'pretty', 'drink', 'pray', 'king', 'cut', 'power', 'gave', 'peace', 'hang', 'next', 'mother', 'pay', 'carry', 'tire', 'speak', 'lot', 'tree', 'skin', 'tout', 'slow', 'anymore', 'kid', 'clear', 'jesus', 'differ', 'fast', 'become', 'nigger', 'va', 'gun', 'mas', 'river', 'faith', 'floor', 'cross', 'lady', 'near', 'fun', 'ring', 'answer', 'afraid', 'jag', 'repeat', 'great', 'story', 'yet', 'hot', 'hour', 'summer', 'stone', 'bleed', 'sign', 'lyric', 'children', 'trust', 'wild', 'felt', 'trouble', 'honey', 'sick', 'perfect', 'human', 'bright', 'good', 'mama', 'party', 'train', 'plan', 'sorry', 'plus', 'hair', 'secret', 'silence', 'brother', 'throw', 'within', 'push', 'somewhere', 'three', 'cloud', 'low', 'window', 'knee', 'lip', 'future', 'dear', 'search', '2', 'drop', 'cool', 'flame', 'outside', 'worry', 'going', 'met', 'stare', 'sight', 'across', 'wear', 'wave', 'pick', 'send', 'bone', 'flow', 'piece', 'thank', 'straight', 'blame', 'catch', 'tight', 'mile', 'holy', 'mouth', 'christmas', 'mad', 'share', 'caught', 'father', 'read', 'warm', 'wing', 'belong', 'damn', 'eat', 'win', 'sense', 'u', 'fell', 'evil', 'slut', 'picture', 'second', 'nowhere', 'rule', 'bad', 'mountain', 'joy', 'top', 'tan', 'bit', 'cover', 'point', 'thousand', 'hoy', 'gold', 'bell', 'devil', 'bird', 'quit', 'brain', 'return', 'build', 'kick', 'rose', 'bitch', 'babe', 'guy', 'shame', 'space', 'whisper', 'cos', 'write', 'count', 'slip', 'ver', 'desire', 'nice', 'weak', 'raise', 'ocean', 'number', 'drown', 'spirit', 'scare', 'strange', 'half', 'known', 'pretend', 'worth', 'someday', 'act', 'beyond', 'fair', 'million', 'finger', 'question', 'doubt', 'meant', 'smoke', 'coming', 'flesh', 'dawn', 'father', 'storm', 'hole', 'color', 'jump', 'remain', 'eternal', 'nothing', 'buy', 'dress', '1', 'minute', 'snow', 'force', 'spend', 'shot', 'everyday', 'chain', 'dry', 'grace', 'green', 'glory', 'everywhere', 'freedom', 'realize', 'lock', 'pride', 'whatever', 'feed', 'mistake', 'verse', 'fate', 'escape', 'wash', 'mess', 'voice', 'sand', 'front', 'forgive', 'winter', 'magic', 'flower', 'pa', 'closer', 'safe', 'sol', 'bless', 'suffer', 'longer', 'hello', 'grave', 'already', 'yesterday', 'wide', 'radio', 'sorrow', 'ten', 'phone', 'crawl', 'survive', 'tie', 'exist', 'anyway', 'spin', 'insane', 'slowly', 'ear', 'crowd', 'clean', 'nature', 'knock', 'four', 'poor', 'loud', 'shoe', 'bar', 'ass', 'higher', 'race', 'silent', 'lift', 'destroy', 'soft', 'paint', 'mar', 'dirty', 'check', 'held', 'life', 'shout', 'sail', 'twist', 'guitar', 'simple', 'deny', 'fail', 'van', 'family', 'vision', 'looking', 'track', 'broke', 'day', 'state', 'welcome', 'ghost', 'almost', 'shut', 'entry', 'somehow', 'glass', 'yes', 'choose', 'fur', 'glad', 'shoot', 'ell', 'small', 'hill', 'wine', 'treat', 'dos', 'stranger', 'regret', 'refrain', 'heart', 'machine', 'problem', 'feeling', 'sister', 'steal', 'endless', 'awake', 'key', 'grand', 'age', 'bridge', 'dust', 'wit', 'thank', 'wheel', 'crack', 'taken', 'praise', 'heal', 'queen', 'mirror', 'corner', 'ba', 'ago', 'bury', 'book', 'climb', 'okay', 'cloth', 'band', 'school', 'stick', 'ar', 'circle', 'tv', 'strength', 'five', 'country', 'beneath', 'sunshine', 'ice', 'aa', 'bound', 'less', 'sell', 'tongue', 'path', 'travel', 'rather', 'heat', 'innocuous', 'confuse', 'golden', 'marry', 'single', 'ahead', 'bye', 'silver', 'trying', 'chase', 'scene', 'smell', 'funny', 'enemy', 'swear', 'pa', 'ball', 'beg', 'prayer', 'wound', 'disappear', 'toda', 'ignore', 'mister', 'style', 'brought', 'given', 'quiet', 'rage', 'reality', 'sink', '3', 'spread', 'crime', 'vain', 'fallen', 'self', 'decide', 'imagine', 'yesterday', 'stuck', 'view', 'vas', 'kept', 'demon', 'busy', 'ok', 'record', 'law', 'choice', 'fit', 'remind', 'emotion', 'field', 'crash', 'suppose', 'sen', 'danger', 'letter', 'midnight', 'nation', 'edge', 'surprise', 'nothing', 'murder', 'deal', 'complete', 'lose', 'price', 'instrument', 'luck', 'rip', 'drift', 'poison', 'battle', 'living', 'give', 'getting', 'haunt', 'sex', 'proud', 're', 'heavy', 'guide', 'drag', 'middle', 'bare', 'dare', 'bang', 'eyes', 'pure', 'embrace', 'suck', 'stupid', 'fake', 'week', 'news', 'master', 'float', 'satisfy', 'sent', 'christ', 'scar', 'bear', 'dime', 'quick', 'het', 'poi', 'swing', 'prove', 'figure', 'diamond', 'none', 'instead', 'pleasure', 'curse', 'rich', 'cat', 'spent', 'seek', 'paper', 'mystery', 'passion', 'brand', 'feel', 'bomb', 'light', 'bitter', 'tender', 'fact', 'job', 'bet', 'always', 'cast', 'trip', 'pack', 'explain', 'talking', 'lucky', 'special', 'mark', 'form', 'shoulder', 'warn', 'create', 'seven', 'ship', 'misery', 'sunday', 'six', 'tune', 'wrap', 'pop', 'surround', 'hero', 'gate', 'comfort', 'rush', 'drug', 'fucking', 'living', 'least', 'short', 'cruel', 'rhyme', 'written', 'swallow', 'wander', 'reflect', 'dice', 'tide', 'join', 'bottling', 'steel', 'paradise', 'dia', 'cant', 'wife', 'shore', 'leg', 'draw', 'slave', 'march', 'day', 'swim', 'build', 'tempo', 'women', 'heart', 'fix', 'trap', 'torn', 'vein', 'release', 'spell', 'glow', 'grab', 'drum', 'bite', 'brown', 'won', 'sugar', 'forgotten', 'stronger', 'rhythm', 'victim', 'message', 'later', 'person', 'darling', 'dat', 'uma', 'sudden', 'stood', 'hundred', 'running', 'solo', 'season', 'surrender', 'bore', 'crush', 'history', 'luna', 'truth', 'weight', '4', 'lust', 'pain', 'park', 'expect', 'speed', 'shade', 'calm', 'bow', 'bend', 'strike', 'thrill', 'animate', 'love', 'thunder', 'soldier', 'west', 'destiny', 'spit', 'ran', 'twice', 'drunk', 'page', 'desert', 'block', 'tall', 'anywhere', 'distance', 'spring', 'gather', 'g', 'temp', 'dollar', 'echo', 'knife', 'melt', 'woman', 'grey', 'asleep', 'gentle', 'direct', 'load', 'divine', 'early', 'weather', 'ash', 'seed', 'highway', 'harder', 'boom', 'attack', 'action', 'art', 'pie', 'club', 'rap', 'case', 'thinking', 'metal', 'underneath', 'breeze', 'teeth', 'respect', 'john', 'neck', 'precious', 'nine', 'idea', 'rainbow', 'laid', 'offer', 'gut', 'saber', 'begun', 'resist', 'garden', 'sigh', 'bag', 'disguise', 'noon', 'string', 'color', 'gift', 'shape', 'york', 'teach', 'test', 'arrive', 'love', 'disease', 'sold', 'clock', 'flash', 'youth', 'box', 'rot', 'mighty', 'certain', 'protect', 'ruin', 'romance', 'sweat', 'fantasy', 'kinda', 'deserve', 'universe', 'desperate', 'hall', 'anger', 'beast', 'stuff', 'jack', 'punk', 'moving', 'nigger', 'happy', 'nightmare', 'doctor', 'freak', 'marry', 'crown', 'serve', 'satan', 'hallelujah', 'amigo', 'trace', 'main', 'makin', 'prison', 'moonlight', 'thin', 'deeper', 'appear', 'bought', 'weep', 'walking', 'ant', 'meme', 'hungry', 'wire', 'pocket', 'never', 'note', 'south', 'woke', 'illusion', 'nail', 'together', 'paid', 'liar', 'bottom', 'plain', 'ill', 'notice', 'melody', 'destruct', 'daughter', 'eas', 'fat', 'adore', 'church', 'bill', 'card', 'sacrifice', 'system', 'order', 'stage', 'celebrate', 'hip', 'total', 'welt', 'fist', 'dit', 'suicide', 'bullet', 'gain', 'grown', 'wherever', 'slide', 'fa', 'folk', 'hurry', 'equal', 'kingdom', 'trick', 'wrote', 'choke', 'dame', 'boat', 'tough', 'sang', 'beer', 'cup', 'brave', 'reveal', 'distant', 'worst', 'grass', 'frozen', 'dass', 'faster', 'plane', 'saturday', 'taught', 'generate', 'crying', 'moving', 'store', 'shatter', 'stream', 'wood', 'pressure', 'wa', 'charm', 'bloody', 'yellow', 'mo', 'planet', 'joke', 'pound', 'struggle', 'dumb', 'suit', 'present', 'revolution', 'dirt', 'hollow', 'wick', 'reign', 'miracle', 'rolling', 'stain', 'shelter', 'lifetime', 'claim', 'accept', 'judge', 'av', 'tale', 'enter', 'fault', 'sale', 'betray', 'violence', 'chill', 'terror', 'settle', 'wet', 'foot', 'unknown', 'lonesome', 'excuse', 'rocking', 'santa', 'fever', 'double', 'dire', 'america', 'hidden', 'b', 'electric', 'mass', 'wise', 'laughter', 'fame', 'groove', 'mother', 'waiting', 'prepare', 'due', 'cure', 'began', 'x', 'lesson', 'hook', 'fish', 'east', 'slut', 'cop', 'sou', 'seat', 'forgot', 'bother', 'chest', 'situation', 'candle', 'cash', 'valley', 'unit', 'aim', 'journey', 'cell', 'gray', 'tag', 'throat', 'heartache', 'torture', 'mot', 'birth', 'woo', 'refuse', 'sword', 'fortune', 'older', 'spoken', 'chosen', 'motion', 'false', 'enjoy', 'strong', 'creep', 'saying', 'trade', 'monkey', 'food', 'worship', 'ancient', 'confess', 'stole', 'forward', 'love', 'falling', 'favorite', 'toe', 'toy', 'nose', 'favor', 'american', 'class', 'cigarette', 'maria', 'intent', 'pill', 'spill', 'cost', 'shed', 'po', 'probably', 'clown', 'consume', 'saint', 'connect', 'mix', 'dun', 'love', 'numb', 'nest', 'island', 'wipe', 'await', 'spot', 'f', 'merry', 'chair', 'press', 'divide', 'bust', 'company', 'lick', 'boot', 'lonely', 'constant', 'dad', 'cage', 'manana', 'flight', 'army', 'mood', 'killer', 'darkest', 'drain', 'underground', 'police', 'fresh', 'boogie', 'lean', 'pale', 'sexy', 'rape', 'dick', 'exact', 'savior', 'pity', 'except', 'candy', 'frame', 'honest', 'religion', 'hunger', 'station', 'bus', 'trail', 'mil', 'spark', 'ga', 'decay', 'bass', 'demand', 'command', 'beach', 'destiny', 'greed', 'lack', 'ela', 'whore', '5', 'important', 'sat', 'monster', 'stumble', 'roam', 'threw', 'screen', 'thou', 'harm', 'date', 'cheap', 'north', 'r', 'root', 'led', 'rough', 'loco', 'energy', 'despair', 'gaze', 'guilty', 'hatred', 'addict', 'seal', 'super', 'iron', 'wisdom', 'scratch', 'papa', 'smash', 'throne', 'deceive', 'forth', 'ir', 'ves', 'wearing', 'positive', 'ugly', 'shop', 'hood', 'shell', 'horizon', 'w', 'became', 'piss', 'blade', 'playing', 'grew', 'often', 'gal', 'victory', 'receive', 'taking', 'light', 'allow', 'morning', 'hammer', 'admit', 'rat', 'flag', 'truly', 'doom', 'diss', 'loss', 'sacred', 'limit', 'bigger', 'afternoon', 'fed', 'engine', 'blah', 'foolish', 'jean', 'shock', 'breed', 'greatest', 'mental', 'soledad', 'angry', 'finish', 'row', 'converse', 'plastic', 'grip', 'creation', 'snake', 'regard', 'tick', 'fan', 'lit', 'holiday', 'steady', 'coat', 'funky', 'cheat', 'sort', 'drip', 'abuse', 'possess', 'undone', 'cry', 'vocal', 'dj', 'hunt', 'month', 'possible', 'design', 'depend', 'sole', 'daylight', 'maar', 'sous', 'california', 'mare', 'strip', 'hum', 'tremble', 'weiss', 'invite', 'rope', 'flood', 'ticket', 'crew', 'spoke', 'sheet', 'fuego', 'wreck', 'cowboy', 'needle', 'common', 'lung', 'monday', 'friday', 'girlfriend', 'piano', 'mission', 'rescue', 'lazy', 'couple', 'hi', 'p', 'eight', 'split', 'mortal', 'guard', 'society', 'hotel', 'easily', 'fashion', 'heel', 'creature', 'sitting', 'defeat', 'ben', 'excite', 'paris', 'hung', 'lake', 'tower', 'dive', 'curtain', 'gas', 'restless', 'canto', 'grant', 'cheek', 'type', 'crumble', 'hail', 'chosen', 'sunny', 'handle', 'lion', 'burning', 'disco', 'bank', 'match', 'twenty', 'replace', 'score', 'continue', 'stretch', 'inspire', 'forest', 'calling', 'coast', 'belief', 'sunlight', 'plant', 'sever', 'whip', 'ray', 'descend', 'simply', 'singing', 'mankind', 'violent', 'lane', 'void', 'hop', 'sunset', 'silly', 'corps', 'lass', 'behold', 'normal', 'abandon', 'weapon', 'wed', 'revenge', 'tiny', 'justice', 'weekend', 'bloom', 'sam', 'affair', 'leader', 'aah', '10', 'hush', 'caress', 'either', 'discover', 'leaving', 'helpless', 'ghetto', 'bread', 'dancing', 'momma', 'tao', 'pace', 'relax', 'jam', 'brick', 'complain', 'burden', 'sunrise', 'linger', 'jungle', 'hopeless', 'agua', 'bop', 'pillow', 'damage', 'mister', 'mask', 'drove', 'pump', 'boss', 'list', 'whiskey', 'moral', 'affect', 'conquer', 'rosa', 'tumble', 'album', 'mend', 'warrior', 'sinner', 'tip', 'express', 'loser', 'chant', 'crave', 'crystal', 'thrown', 'quell', 'bay', 'bee', 'fruit', 'hanging', 'hollywood', 'parade', 'weed', 'switch', 'stab', 'vent', 'collect', 'truck', 'instant', 'skull', 'ora', 'fare', 'rebel', 'meat', 'autumn', 'london', 'doll', 'downtown', 'pink', 'v', 'owe', 'howl', 'heartbeat', 'core', 'butterfly', 'chick', 'bastard', 'impossible', 'blood', 'easier', 'clue', 'shiver', 'pool', 'presence', 'dread', 'surface', 'eyes', 'conscience', 'zero', 'blaze', 'blast', 'dope', 'tea', 'honor', '6', 'lamb', 'q', 'recognize', 'whistle', 'roof', 'giving', 'gang', 'beware', 'tomb', 'wow', 'clap', 'working', 'rider', 'modern', 'telling', 'magazine', 'inner', 'impress', 'drawn', 'smart', 'harmony', 'govern', 'quest', 'gran', 'volar', 'bliss', 'dim', 'tour', 'pant', 'cheer', 'familiar', 'fought', 'roar', 'pen', 'obsess', 'century', 'failure', 'jail', 'confide', 'meg', 'kneel', 'spare', 'pin', 'important', 'mourn', 'yearn', 'guilt', 'solution', 'focus', 'cling', 'concrete', 'horror', 'sore', 'unfold', 'bounce', 'goal', 'selfish', 'knowledge', 'awaken', 'bath', 'delight', 'hesitate', 'fond', 'courage', 'serious', 'sweetest', 'useless', 'invisible', 'film', 'male', 'alcohol', 'sake', 'sway', 'relate', 'stair', 'parent', 'grind', 'negro', 'riot', 'blown', '7', 'burst', 'size', 'sheep', 'fold', 'capture', 'lee', 'dwell', 'frighten', 'fragile', 'blew', 'chicken', 'thorn', 'teenager', 'everlasting', 'zone', 'tape', 'feather', 'compare', 'agora', 'loin', 'pig', 'carve', 'plague', 'tiger', 'flat', 'punch', 'slaughter', 'funk', 'nervous', 'tragedy', 'thick', 'fence', 'backwards', 'brighter', 'envy', 'complicated', 'captain', 'purpose', 'ordinary', 'grin', 'mer', 'infect', 'spine', 'defend', 'photograph', 'prey', 'patient', 'flip', 'mc', 'mist', 'toss', 'castle', 'horn', 'secure', 'k', 'sympathy', 'trash', 'shirt', 'twilight', 'pair', 'dreamer', 'compromise', 'board', 'veil', 'error', 'standing', 'realise', 'devoted', 'solid', 'babylon', 'fancy', 'ding', 'holding', 'justify', 'pearl', 'origin', 'reject', 'awhile', 'sag', 'milk', 'tener', 'sweetheart', 'content', 'samba', 'extra', 'ka', 'rotten', 'sucker', 'salt', 'bat', 'worn', 'toll', 'pi', 'yard', 'leather', 'astray', 'shift', 'third', 'grief', 'upside', 'buck', 'jingle', 'witch', 'dune', 'borrow', 'kitchen', 'bedroom', 'cream', 'birthday', 'limb', 'court', 'tom', 'neon', 'teacher', 'overcome', 'depress', 'scatter', 'pussy', 'pile', 'jealous', 'bum', 'rocket', 'habit', 'sensation', 'corrupt', 'righteous', 'neighbor', 'rob', 'moan', 'virgin', 'port', 'depth', 'revel', 'screw', 'stress', 'wolf', 'rum', 'sir', 'beau', 'beam', 'add', 'farewell', 'shower', 'concern', 'measure', 'raining', 'remove', 'cease', 'tail', 'apology', 'fear', 'border', 'breaking', 'viva', 'charge', 'frustrate', 'perfume', 'bent', 'bubble', 'dag', 'terrible', 'eve', 'disgrace', 'soil', 'pro', 'wrath', 'dreaming', 'feast', 'nas', 'reaction', 'duel', '9', 'scheme', 'aware', 'smooth', 'shallow', 'trigger', 'patience', 'fatal', 'warmth', 'agony', 'sweep', 'starve', 'prince', 'collapse', 'fuel', 'david', 'skip', 'greet', 'haze', 'wore', 'crow', 'coup', 'vale', 'fe', 'private', 'bullshit', 'teardrop', 'commit', 'blink', 'disaster', 'ang', 'siren', 'glorious', 'frown', 'glance', 'absolute', 'convince', 'palm', 'guarantee', 'mention', 'riding', 'rent', 'mike', 'sentiment', 'heartbreak', 'ano', 'corp', 'vow', 'sadness', 'stray', 'punish', 'morgen', 'television', 'suffocate', 'mann', 'click', 'torment', 'repent', 'fri', 'teas', 'prize', 'michael', 'yell', 'ego', 'cook', 'cave', 'darken', 'attitude', 'collide', 'mitt', 'sleeve', 'sting', 'plenty', 'gay', 'devour', 'equal', 'empire', 'balance', 'ala', 'gar', 'culture', 'soak', 'quarter', 'tone', 'summertime', 'unseen', 'sharp', 'proof', 'smile', 'earn', 'preacher', 'base', 'mach', 'lullaby', 'louder', 'panic', 'social', 'rang', 'cock', 'shown', 'sung', 'understood', 'progress', 'strand', 'role', 'bride', 'crook', 'fiesta', 'thug', 'bind', 'shove', 'gangsta', 'cherry', 'mill', 'oil', 'dude', 'deed', 'drank', 'strain', 'dragon', 'wrist', 'team', 'thirst', 'pronto', 'avoid', 'inch', 'ecstasy', 'inform', 'mud', 'purple', 'nog', 'razor', 'rust', 'famous', 'definite', 'bold', 'bible', 'pit', 'burnt', 'choir', 'trial', 'entertain', 'penny', 'comment', 'rio', 'bras', 'serpent', 'emerge', 'rue', 'stolen', 'alarm', 'hug', 'arrow', 'temple', 'rejoice', 'code', 'love', 'tame', 'dancer', 'odd', 'map', 'preside', 'afford', 'southern', 'driving', 'rag', 'organ', 'experience', 'spite', 'boil', 'movement', 'highest', 'pens', 'plate', 'cake', 'az', 'slam', 'jet', 'halt', 'soar', 'bob', 'swell', 'pot', 'christian', 'gen', 'risk', 'science', 'plead', 'drinking', 'maker', 'amen', 'giant', 'level', 'raw', 'ess', 'flew', '8', 'ate', 'language', 'deepest', 'motor', 'visit', 'z', 'sweeter', 'pose', 'cradle', 'obey', 'goddamn', 'threat', 'driver', 'attract', 'buddy', 'public', 'avenue', 'co', 'tempt', 'chemical', 'shaking', 'ny', 'stack', 'nasty', 'satisfaction', 'center', 'tame', 'pierce', 'obvious', 'worthy', 'consider', 'gar', 'sparkle', 'fulfillment', 'prophet', 'vanish', 'pan', 'slap', 'hypnotic', 'spoon', 'thread', 'china', 'chew', 'bump', 'humble', 'claw', 'preach', 'mate', 'bond', 'grain', 'sanity', 'blank', 'gia', 'degree', 'wither', 'snap', 'fog', 'despise', 'endure', 'luce', 'sip', 'dedicate', 'pine', 'alley', 'rearrange', 'savior', 'traffic', 'sincere', 'liberty', 'volta', 'gypsy', 'pare', 'ko', 'struck', 'chip', 'ut', 'puls', 'scent', 'lame', 'stir', 'chop', 'condemn', 'cleans', 'neither', 'buzz', 'tai', 'indian', 'rub', 'prima', 'blowing', 'cancer', 'solitude', 'driven', 'klein', 'sooner', 'success', 'media', 'blacken', 'foreign', 'greater', 'source', 'boyfriend', 'medicine', 'rare', 'lace', 'december', 'colder', 'camera', 'bail', 'tool', 'interest', 'paul', 'vet', 'runaway', 'slept', 'footstep', 'sixteen', 'priest', 'egg', 'intro', 'turning', 'alien', 'vengeance', 'stake', 'dias', 'sooth', 'rein', 'watching', 'peel', 'stormy', 'player', 'dinner', 'hardest', 'worm', 'ar', 'perhaps', 'blond', 'critical', 'stomach', 'toast', 'bug', 'crucify', 'sailor', 'steam', 'clever', 'clause', 'uncle', 'gravity', 'reap', 'farm', 'opinion', 'grasp', 'mamma', 'tore', 'dale', 'hurricane', 'thief', 'vibe', 'shiny', 'death', 'sidewalk', 'conscious', 'glove', 'perform', 'rain', 'winner', 'consequence', 'disappoint', 'oss', 'ki', 'satellite', 'tattoo', 'tas', 'usual', 'cocaine', 'tot', 'tuesday', 'tension', 'rout', 'bitt', 'zombie', 'fury', 'alter', 'lend', 'coal', 'mommy', 'velvet', 'blanket', 'drama', 'bowl', 'orange', 'reborn', 'angst', 'lying', 'especially', 'rid', 'ideal', 'sos', 'sentence', 'tar', 'button', 'strap', 'display', 'tap', 'signal', 'shook', 'dot', 'jewel', 'vine', 'redeem', 'cow', 'terminate', 'pattern', 'ur', 'throughout', 'younger', 'coin', 'verso', 'deaf', 'expos', 'compass', 'person', 'donna', 'describe', 'lower', 'brush', 'happiness', 'mm', 'tangle', 'instinct', 'effect', 'approach', 'breast', 'volt', 'dart', 'frank', 'reply', 'provide', 'declare', 'nuclear', 'swore', 'llama', 'vino', 'solve', 'distort', 'lair', 'rubber', 'factory', 'post', 'artist', 'peter', 'biggest', 'brutal', 'extreme', 'english', 'jerk', 'debt', 'perch', 'shield', 'doi', 'redemption', 'model', 'weigh', 'resurrect', 'alto', 'curl', 'cent', 'june', 'slice', 'insecure', 'coward', 'ra', 'usa', 'finn', 'georgia', 'cute', 'mexico', 'invade', 'jealousy', 'halo', 'beaten', 'shelf', 'motive', 'twelve', 'rumor', 'swept', 'anna', 'contain', 'wort', 'ate', 'sleigh', 'champagne', 'defense', 'deceit', 'weird', 'relief', 'product', 'dip', '12', 'singer', 'target', 'souvenir', 'stereo', 'rude', 'ab', 'harvest', 'liquid', 'fucker', 'exit', '20', 'woe', 'web', 'princess', 'muscle', 'booty', 'blur', 'ii', 'duck', 'mina', 'idiot', 'breakdown', 'sow', 'flying', 'symphony', 'automate', 'robot', 'realm', 'practice', 'distract', 'judgment', 'sane', 'april', 'gear', 'vicious', 'womb', 'h', 'major', 'willow', 'neighborhood', 'static', 'wealth', 'reel', 'joint', 'venus', 'every', 'wolf', 'dinero', 'africa', 'sock', 'arena', 'support', 'credit', 'miro', 'sleepy', 'worthless', 'video', 'grief', 'branch', 'achieve', 'maze', 'knocking', 'correct', 'dial', 'file', 'filthy', 'juice', 'convict', 'cycle', 'disturb', 'chocolate', 'rapper', 'forgiven', 'tend', 'tunnel', 'legend', 'dimension', 'idol', 'dying', 'forsaken', 'fella', 'physical', 'tragic', 'gris', 'communicate', 'dough', 'england', 'denial', 'liv', 'local', 'taxi', 'ambit', 'voyage', 'mere', 'dull', 'unleash', 'tread', 'smoking', 'gleam', 'civil', 'defy', 'heed', 'bull', 'host', 'village', 'unkind', 'altar', 'bunch', 'pardon', 'despite', 'cotton', 'phase', 'porta', 'link', 'intern', 'seventeen', 'coffin', 'hound', 'deception', 'health', 'alibi', 'bled', 'ruby', 'leaf', 'attempt', 'crying', 'thumb', 'rode', 'sober', 'cum', 'ia', 'crimson', 'height', 'frost', 'acid', 'net', 'pimp', 'font', 'shepherd', 'hunter', 'jive', 'prevail', 'jaw', 'circus', 'background', 'fairy', 'suffer', 'symbol', 'peak', 'plot', 'manage', 'safety', 'sleepless', 'liquor', 'narrow', 'explosion', 'object', 'meal', 'unholy', 'untrue', 'fountain', 'spider', 'poet', 'flicker', 'vote', 'tank', 'scale', 'halfway', 'keeping', 'foe', 'honesty', 'missing', 'torch', 'infinity', 'nina', 'holler', 'attend', 'skill', 'ref', 'atom', 'bas', 'scorn', 'cap', 'hem', 'vibrate', 'faint', 'office', 'pave', 'stroll', 'voodoo', 'knot', 'thirty', 'thigh', 'process', 'valentine', 'fright', 'spiritual', 'stock', 'fiction', 'senti', 'olla', 'overwhelm', 'friendship', 'vampire', 'paralyze', 'lifeless', 'coke', 'hardcore', 'pistol', 'bush', 'cherish', 'spiral', 'infinity', 'weave', 'sack', 'bam', 'chin', 'parasite', 'contact', 'dado', 'losing', 'wage', 'dissolve', 'cu', 'superstar', 'searching', 'ali', 'hart', 'diss', 'almighty', 'unwind', 'plea', 'sexual', 'dew', 'spoil', 'junky', 'puppet', 'gin', 'blossom', 'fuss', 'vast', 'stroke', 'seam', 'prefer', 'northern', 'author', 'disgust', 'wretch', 'atmosphere', 'daydream', 'pipe', 'remorse', 'martyr', 'yonder', 'sneak', 'abyss', 'version', 'gutter', 'rate', 'pavement', 'od', 'roller', 'label', 'deck', 'vulture', 'tun', 'careless', 'glide', 'pawn', 'fifteen', 'nut', 'spanish', 'fifty', 'stink', 'leap', 'penetrate', 'dam', 'ritual', 'fellow', 'clip', 'supply', 'flee', 'mail', 'ribbon', 'hospital', 'ladder', 'wail', 'bathroom', 'revolve', 'barrio', 'knife', 'vice', 'firm', 'chicago', 'breakfast', 'darker', 'upset', 'oblivion', 'hustle', 'favorite', 'reward', 'servant', 'enslave', 'pueblo', 'fuse', 'tin', 'opposite', 'prophecy', 'smile', 'carpet', 'service', 'compute', 'butt', 'invent', 'strive', 'chord', 'sleeping', 'foul', 'scrape', 'erst', 'captive', 'bid', 'jar', 'drew', 'definite', 'wondering', 'slight', 'pole', 'fascinating', 'bark', 'killing', 'produce', 'mystic', 'peep', 'grate', 'nome', 'oppress', 'batter', 'bike', 'harry', 'medic', 'gluck', 'accident', 'waltz', 'asshole', 'sonar', 'stall', 'finest', 'rome', 'politician', 'general', 'independent', 'ain', 'dine', 'french', 'phrase', 'circumstance', 'rattle', 'romantic', 'union', 'stench', 'couch', 'determine', 'prime', 'hater', 'bonheur', 'meadow', 'beep', 'shotgun', 'lamp', 'trumpet', 'porch', 'graveyard', 'gentlemen', 'glitter', 'group', 'profit', 'decline', 'sour', 'involve', 'boo', 'project', 'material', 'noel', 'placer', 'reverse', 'lucid', 'gamble', 'summon', 'senor', 'fo', 'microphone', 'claro', 'virus', 'explore', 'speech', 'venom', 'vacate', 'partner', 'doorway', 'silhouette', 'notion', 'market', 'slay', 'rail', 'mold', 'raven', 'knight', 'dignity', 'adventure', 'depart', 'lawn', 'far', 'essence', 'fr', 'tut', 'obscure', 'smack', 'slut', 'childhood', 'ga', 'lipstick', 'shining', 'photo', 'enchant', 'ira', 'farther', 'sport', 'gasoline', 'latest', 'fiend', 'concentrate', 'mina', 'palace', 'aboard', 'strife', 'tear', 'cry', 'anchor', 'dreamt', 'corn', 'clay', 'cafe', 'dah', 'dizzy', 'spray', 'messiah', 'brake', 'cry', 'cafe', 'sum', 'pet', 'jade', 'combine', 'tod', 'apathy', 'cripple', 'axe', 'rabbit', 'sanctuary', 'valor', 'transform', 'uniform', 'confront', 'swift', 'barrel', 'filth', 'masquerade', 'mississippi', 'chime', '50', 'railroad', 'actual', 'gloom', '15', 'inn', 'phantom', 'appeal', 'plug', 'vanity', 'pony', 'maintenance', 'cristal', 'fearless', 'stitch', 'fragment', 'clutch', '30', 'squad', 'makeup', 'stalk', 'surf', 'outer', 'basement', 'obscene', 'passe', 'fiddle', 'boulevard', 'chart', 'arrange', 'increase', 'september', 'weer', 'evolution', 'wooden', 'kicking', 'logic', '40', 'feat', 'gotten', 'mire', 'hid', 'wasteland', 'fighter', 'husband', 'jumping', 'pathetic', 'passion', 'maim', 'program', 'majesty', 'retreat', 'appreciate', 'daze', 'challenge', 'subject', 'standard', 'jazz', 'opportunity', 'miser', 'legion', 'submit', 'cough', 'teen', 'wilder', 'pone', 'study', 'jacket', 'overflow', 'supreme', 'butcher', 'balloon', 'pushing', 'tradition', 'pane', 'cur', 'stomp', 'judgment', 'industry', 'introduce', 'taint', 'county', 'fleet', 'reves', 'allah', 'groovy', 'chrome', 'blah', 'genocide', 'unreal', 'slumber', 'thief', 'frank', 'id', 'lurk', 'unhappy', 'chico', 'dusk', 'lap', 'dynamite', 'twin', 'death', 'dub', 'yi', 'thirsty', 'skirt', 'hoping', 'predict', 'heroin', 'wonderland', 'scary', 'steer', 'ana', 'screaming', 'routing', 'tooth', 'eden', 'remedy', 'cloudy', 'adam', 'amuse', 'closet', 'ano', 'western', 'ness', 'beef', 'feature', 'robin', 'decade', 'bald', 'whine', 'cheese', 'dish', 'leva', 'misunderstood', 'misty', 'different', 'psycho', 'spotlight', 'revive', 'suitcase', 'geld', 'cunt', 'mellow', 'poetry', 'bean', 'print', 'confine', 'bluebird', 'unity', 'sita', 'reckless', 'robe', 'leer', 'incredulous', 'anticipate', 'raindrop', 'puzzle', 'wax', 'foss', 'junk', 'contemplate', 'skeleton', 'grade', 'effort', 'hippy', 'curve', 'eventual', 'disconnect', 'carol', 'strung', 'dass', 'cousin', 'radiate', 'pal', 'stiff', 'trend', 'lento', 'terrify', 'fore', 'beloved', 'channel', 'stern', 'cope', 'garbage', 'admire', 'blister', 'mao', 'pitch', 'slipping', 'dong', 'shark', 'afar', 'jest', 'superman', 'pu', 'sublime', 'ge', 'billion', 'romeo', 'banana', 'jung', 'begging', 'trunk', 'ink', 'mash', 'succeed', 'bi', 'spinning', 'powder', 'butter', 'fur', 'disagree', 'assure', 'horizontal', 'drunken', 'tuck', 'keeper', 'broad', 'maid', 'flock', 'gib', 'tango', 'berlin', 'handsome', 'blunt', 'inject', 'timeless', 'gi', 'clone', 'mall', 'wink', 'meaningless', 'crap', 'legal', 'hypocrite', 'passion', 'aid', 'brooklyn', 'jak', 'term', 'laying', 'conceive', 'seel', 'devastate', 'slick', 'vega', 'tax', 'virtue', 'unable', 'distress', 'ember', 'wee', 'beckon', 'galaxy', 'ley', 'absurd', 'zoo', 'rocky', 'jackson', 'neat', 'itch', 'insect', 'starlight', 'shred', 'bonito', 'foundation', '13', 'mag', 'scarlet', 'lunch', 'sad', 'leak', 'console', 'flirt', 'absence', 'comprehend', 'scum', 'stride', 'fingertip', 'translate', 'reputation', 'starry', 'conclusion', 'belt', 'tribe', 'illuminate', 'knowing', 'minor', 'behave', 'passer', 'vela', 'anyhow', 'mock', 'intense', 'saddle', 'glue', 'rendezvous', 'cd', 'rave', 'vara', 'molly', 'forbidden', 'combat', 'tripping', 'deeply', 'putting', 'silk', 'paranoia', 'whirl', 'duty', 'ditch', 'shave', 'sicken', 'premier', 'relieve', 'unaware', 'dash', 'gore', 'kissing', 'indifferent', 'temperature', 'messing', 'rio', 'rumble', 'argue', 'freeway', 'manipulate', 'annihilate', 'mek', 'unspoken', 'passage', 'fora', 'cosmic', 'request', 'bucket', 'proper', 'ace', 'gown', 'chapter', 'digit', 'actor', 'cambia', 'creator', 'skate', 'asking', 'difficult', 'flown', 'nurse', 'waist', 'collar', 'current', 'flaw', '16', 'comb', 'headlight', 'ascend', 'cree', 'pledge', 'mistaken', 'method', 'vague', 'dura', 'maiden', 'element', 'oft', 'rug', 'guest', 'chamber', 'sere', 'jukebox', 'skinny', 'holla', 'church', 'hurting', 'eager', 'glisten', 'assassin', 'senseless', 'cant', 'auto', 'structure', 'assume', 'spawn', 'proclaim', 'threaten', 'swirl', 'curious', 'complex', 'uptown', '100', 'advance', 'dug', 'jamaica', 'flavor', '24', 'anguish', 'chat', 'observe', 'yang', 'nickel', 'sew', 'stay', 'naughty', 'star', 'champion', 'forsake', 'seventh', 'capital', 'writer', 'bake', 'insist', 'pe', 'gee', 'college', 'track_id', 'mxm_track_id']\n"
       ]
      }
     ],
     "prompt_number": 4
    },
    {
     "cell_type": "code",
     "collapsed": false,
     "input": [
      "#final_test.csv is the original header+test.csv just with all the words unstemmed and turned into english\n",
      "import pandas as pd\n",
      "\n",
      "df = pd.DataFrame.from_csv(\n",
      "    'final_test.csv',\n",
      "    index_col=False\n",
      ")\n",
      "\n",
      "df.head()\n"
     ],
     "language": "python",
     "metadata": {},
     "outputs": [
      {
       "html": [
        "<div style=\"max-height:1000px;max-width:1500px;overflow:auto;\">\n",
        "<table border=\"1\" class=\"dataframe\">\n",
        "  <thead>\n",
        "    <tr style=\"text-align: right;\">\n",
        "      <th></th>\n",
        "      <th>track_id</th>\n",
        "      <th>mxm_track_id</th>\n",
        "      <th>i</th>\n",
        "      <th>the</th>\n",
        "      <th>you</th>\n",
        "      <th>to</th>\n",
        "      <th>and</th>\n",
        "      <th>a</th>\n",
        "      <th>me</th>\n",
        "      <th>it</th>\n",
        "      <th>...</th>\n",
        "      <th>writer</th>\n",
        "      <th>motivo</th>\n",
        "      <th>bake</th>\n",
        "      <th>insist</th>\n",
        "      <th>wel</th>\n",
        "      <th>santo</th>\n",
        "      <th>pe</th>\n",
        "      <th>gee</th>\n",
        "      <th>college</th>\n",
        "      <th>kad</th>\n",
        "    </tr>\n",
        "  </thead>\n",
        "  <tbody>\n",
        "    <tr>\n",
        "      <th>0</th>\n",
        "      <td>TRAABRX12903CC4816</td>\n",
        "      <td>1548880</td>\n",
        "      <td>0</td>\n",
        "      <td>19</td>\n",
        "      <td>0</td>\n",
        "      <td>7</td>\n",
        "      <td>6</td>\n",
        "      <td>0</td>\n",
        "      <td>0</td>\n",
        "      <td>0</td>\n",
        "      <td>...</td>\n",
        "      <td>0</td>\n",
        "      <td>0</td>\n",
        "      <td>0</td>\n",
        "      <td>0</td>\n",
        "      <td>0</td>\n",
        "      <td>0</td>\n",
        "      <td>0</td>\n",
        "      <td>0</td>\n",
        "      <td>0</td>\n",
        "      <td>0</td>\n",
        "    </tr>\n",
        "    <tr>\n",
        "      <th>1</th>\n",
        "      <td>TRAADFO128F92E1E91</td>\n",
        "      <td>5325944</td>\n",
        "      <td>79</td>\n",
        "      <td>66</td>\n",
        "      <td>15</td>\n",
        "      <td>7</td>\n",
        "      <td>8</td>\n",
        "      <td>9</td>\n",
        "      <td>5</td>\n",
        "      <td>5</td>\n",
        "      <td>...</td>\n",
        "      <td>0</td>\n",
        "      <td>0</td>\n",
        "      <td>0</td>\n",
        "      <td>0</td>\n",
        "      <td>0</td>\n",
        "      <td>0</td>\n",
        "      <td>0</td>\n",
        "      <td>0</td>\n",
        "      <td>0</td>\n",
        "      <td>0</td>\n",
        "    </tr>\n",
        "    <tr>\n",
        "      <th>2</th>\n",
        "      <td>TRAADQW128F427CE68</td>\n",
        "      <td>3811449</td>\n",
        "      <td>3</td>\n",
        "      <td>3</td>\n",
        "      <td>2</td>\n",
        "      <td>0</td>\n",
        "      <td>0</td>\n",
        "      <td>0</td>\n",
        "      <td>4</td>\n",
        "      <td>1</td>\n",
        "      <td>...</td>\n",
        "      <td>0</td>\n",
        "      <td>0</td>\n",
        "      <td>0</td>\n",
        "      <td>0</td>\n",
        "      <td>0</td>\n",
        "      <td>0</td>\n",
        "      <td>0</td>\n",
        "      <td>0</td>\n",
        "      <td>0</td>\n",
        "      <td>0</td>\n",
        "    </tr>\n",
        "    <tr>\n",
        "      <th>3</th>\n",
        "      <td>TRAADRX12903D0EFE8</td>\n",
        "      <td>5583484</td>\n",
        "      <td>1</td>\n",
        "      <td>0</td>\n",
        "      <td>0</td>\n",
        "      <td>0</td>\n",
        "      <td>0</td>\n",
        "      <td>5</td>\n",
        "      <td>1</td>\n",
        "      <td>0</td>\n",
        "      <td>...</td>\n",
        "      <td>0</td>\n",
        "      <td>0</td>\n",
        "      <td>0</td>\n",
        "      <td>0</td>\n",
        "      <td>0</td>\n",
        "      <td>0</td>\n",
        "      <td>0</td>\n",
        "      <td>0</td>\n",
        "      <td>0</td>\n",
        "      <td>0</td>\n",
        "    </tr>\n",
        "    <tr>\n",
        "      <th>4</th>\n",
        "      <td>TRAAEJQ128F92C484E</td>\n",
        "      <td>9124657</td>\n",
        "      <td>28</td>\n",
        "      <td>7</td>\n",
        "      <td>12</td>\n",
        "      <td>3</td>\n",
        "      <td>4</td>\n",
        "      <td>3</td>\n",
        "      <td>1</td>\n",
        "      <td>11</td>\n",
        "      <td>...</td>\n",
        "      <td>0</td>\n",
        "      <td>0</td>\n",
        "      <td>0</td>\n",
        "      <td>0</td>\n",
        "      <td>0</td>\n",
        "      <td>0</td>\n",
        "      <td>0</td>\n",
        "      <td>0</td>\n",
        "      <td>0</td>\n",
        "      <td>0</td>\n",
        "    </tr>\n",
        "  </tbody>\n",
        "</table>\n",
        "<p>5 rows \u00d7 5002 columns</p>\n",
        "</div>"
       ],
       "metadata": {},
       "output_type": "pyout",
       "prompt_number": 1,
       "text": [
        "             track_id  mxm_track_id   i  the  you  to  and  a  me  it ...   \\\n",
        "0  TRAABRX12903CC4816       1548880   0   19    0   7    6  0   0   0 ...    \n",
        "1  TRAADFO128F92E1E91       5325944  79   66   15   7    8  9   5   5 ...    \n",
        "2  TRAADQW128F427CE68       3811449   3    3    2   0    0  0   4   1 ...    \n",
        "3  TRAADRX12903D0EFE8       5583484   1    0    0   0    0  5   1   0 ...    \n",
        "4  TRAAEJQ128F92C484E       9124657  28    7   12   3    4  3   1  11 ...    \n",
        "\n",
        "   writer  motivo  bake  insist  wel  santo  pe  gee  college  kad  \n",
        "0       0       0     0       0    0      0   0    0        0    0  \n",
        "1       0       0     0       0    0      0   0    0        0    0  \n",
        "2       0       0     0       0    0      0   0    0        0    0  \n",
        "3       0       0     0       0    0      0   0    0        0    0  \n",
        "4       0       0     0       0    0      0   0    0        0    0  \n",
        "\n",
        "[5 rows x 5002 columns]"
       ]
      }
     ],
     "prompt_number": 1
    },
    {
     "cell_type": "code",
     "collapsed": false,
     "input": [
      "## loops through final_test and prints out index and word\n",
      "c=-2\n",
      "for a in df:\n",
      "    c+=1\n",
      "    print c,a"
     ],
     "language": "python",
     "metadata": {},
     "outputs": [
      {
       "output_type": "stream",
       "stream": "stdout",
       "text": [
        "-1 track_id\n",
        "0 mxm_track_id\n",
        "1 i\n",
        "2 the\n",
        "3 you\n",
        "4 to\n",
        "5 and\n",
        "6 a\n",
        "7 me\n",
        "8 it\n",
        "9 not\n",
        "10 in\n",
        "11 my\n",
        "12 is\n",
        "13 of\n",
        "14 your\n",
        "15 that\n",
        "16 do\n",
        "17 on\n",
        "18 are\n",
        "19 we\n",
        "20 am\n",
        "21 will\n",
        "22 all\n",
        "23 for\n",
        "24 no\n",
        "25 be\n",
        "26 have\n",
        "27 love\n",
        "28 so\n",
        "29 know\n",
        "30 this\n",
        "31 but\n",
        "32 with\n",
        "33 what\n",
        "34 just\n",
        "35 when\n",
        "36 like\n",
        "37 now\n",
        "38 que\n",
        "39 time\n",
        "40 can\n",
        "41 come\n",
        "42 de\n",
        "43 there\n",
        "44 go\n",
        "45 up\n",
        "46 oh\n",
        "47 la\n",
        "48 one\n",
        "49 they\n",
        "50 out\n",
        "51 down\n",
        "52 get\n",
        "53 she\n",
        "54 was\n",
        "55 see\n",
        "56 if\n",
        "57 got\n",
        "58 never\n",
        "59 from\n",
        "60 he\n",
        "61 feel\n",
        "62 want\n",
        "63 let\n",
        "64 make\n",
        "65 way\n",
        "66 say\n",
        "67 take\n",
        "68 would\n",
        "69 as\n",
        "70 ca\n",
        "71 day\n",
        "72 at\n",
        "73 baby\n",
        "74 away\n",
        "75 life\n",
        "76 yeah\n",
        "77 y\n",
        "78 back\n",
        "79 by\n",
        "80 her\n",
        "81 heart\n",
        "82 here\n",
        "83 how\n",
        "84 could\n",
        "85 night\n",
        "86 need\n",
        "87 our\n",
        "88 look\n",
        "89 where\n",
        "90 en\n",
        "91 eye\n",
        "92 thing\n",
        "93 world\n",
        "94 more\n",
        "95 cause\n",
        "96 gonna\n",
        "97 die\n",
        "98 right\n",
        "99 been\n",
        "100 tell\n",
        "101 think\n",
        "102 un\n",
        "103 who\n",
        "104 el\n",
        "105 through\n",
        "106 man\n",
        "107 live\n",
        "108 again\n",
        "109 give\n",
        "110 too\n",
        "111 only\n",
        "112 te\n",
        "113 try\n",
        "114 tu\n",
        "115 or\n",
        "116 why\n",
        "117 se\n",
        "118 keep\n",
        "119 dream\n",
        "120 well\n",
        "121 mind\n",
        "122 an\n",
        "123 wo\n",
        "124 still\n",
        "125 us\n",
        "126 his\n",
        "127 long\n",
        "128 mi\n",
        "129 girl\n",
        "130 want.1\n",
        "131 find\n",
        "132 fall\n",
        "133 around\n",
        "134 good\n",
        "135 about\n",
        "136 some\n",
        "137 over\n",
        "138 little\n",
        "139 turn\n",
        "140 hand\n",
        "141 then\n",
        "142 noth\n",
        "143 light\n",
        "144 said\n",
        "145 call\n",
        "146 every\n",
        "147 always\n",
        "148 were\n",
        "149 did\n",
        "150 into\n",
        "151 e\n",
        "152 wait\n",
        "153 leave\n",
        "154 home\n",
        "155 had\n",
        "156 hold\n",
        "157 run\n",
        "158 es\n",
        "159 walk\n",
        "160 ever\n",
        "161 them\n",
        "162 lie\n",
        "163 face\n",
        "164 end\n",
        "165 hear\n",
        "166 gone\n",
        "167 head\n",
        "168 believe\n",
        "169 everything\n",
        "170 ya\n",
        "171 has\n",
        "172 cry\n",
        "173 alone\n",
        "174 yo\n",
        "175 hey\n",
        "176 their\n",
        "177 le\n",
        "178 something\n",
        "179 si\n",
        "180 inside\n",
        "181 du\n",
        "182 before\n",
        "183 o\n",
        "184 word\n",
        "185 stay\n",
        "186 place\n",
        "187 much\n",
        "188 change\n",
        "189 ich\n",
        "190 god\n",
        "191 stand\n",
        "192 these\n",
        "193 better\n",
        "194 last\n",
        "195 friend\n",
        "196 soul\n",
        "197 another\n",
        "198 je\n",
        "199 left\n",
        "200 new\n",
        "201 him\n",
        "202 than\n",
        "203 stop\n",
        "204 tonight\n",
        "205 burn\n",
        "206 sun\n",
        "207 off\n",
        "208 por\n",
        "209 lo\n",
        "210 play\n",
        "211 thought\n",
        "212 sing\n",
        "213 show\n",
        "214 lost\n",
        "215 people\n",
        "216 made\n",
        "217 break\n",
        "218 und\n",
        "219 start\n",
        "220 should\n",
        "221 really\n",
        "222 chorus\n",
        "223 hard\n",
        "224 sky\n",
        "225 old\n",
        "226 da\n",
        "227 even\n",
        "228 boy\n",
        "229 pleasure\n",
        "230 song\n",
        "231 care\n",
        "232 without\n",
        "233 hope\n",
        "234 watch\n",
        "235 pain\n",
        "236 love.1\n",
        "237 move\n",
        "238 wrong\n",
        "239 put\n",
        "240 free\n",
        "241 gotta\n",
        "242 name\n",
        "243 et\n",
        "244 same\n",
        "245 blue\n",
        "246 con\n",
        "247 dance\n",
        "248 talk\n",
        "249 seem\n",
        "250 own\n",
        "251 mine\n",
        "252 dark\n",
        "253 na\n",
        "254 far\n",
        "255 tear\n",
        "256 true\n",
        "257 fire\n",
        "258 use\n",
        "259 dead\n",
        "260 bring\n",
        "261 fuck\n",
        "262 other\n",
        "263 sin\n",
        "264 someone\n",
        "265 myself\n",
        "266 forever\n",
        "267 close\n",
        "268 sleep\n",
        "269 rain\n",
        "270 those\n",
        "271 must\n",
        "272 una\n",
        "273 les\n",
        "274 sweet\n",
        "275 mean\n",
        "276 fight\n",
        "277 remember\n",
        "278 star\n",
        "279 while\n",
        "280 kiss\n",
        "281 kill\n",
        "282 high\n",
        "283 breath\n",
        "284 doe\n",
        "285 yes\n",
        "286 al\n",
        "287 wish\n",
        "288 che\n",
        "289 real\n",
        "290 smile\n",
        "291 two\n",
        "292 cold\n",
        "293 lord\n",
        "294 year\n",
        "295 open\n",
        "296 il\n",
        "297 fear\n",
        "298 di\n",
        "299 done\n",
        "300 side\n",
        "301 fly\n",
        "302 black\n",
        "303 line\n",
        "304 rock\n",
        "305 blood\n",
        "306 lose\n",
        "307 found\n",
        "308 once\n",
        "309 non\n",
        "310 door\n",
        "311 bad\n",
        "312 ooh\n",
        "313 wonder\n",
        "314 ti\n",
        "315 como\n",
        "316 enough\n",
        "317 para\n",
        "318 sound\n",
        "319 together\n",
        "320 maybe\n",
        "321 los\n",
        "322 help\n",
        "323 shine\n",
        "324 manipulate\n",
        "325 heaven\n",
        "326 because\n",
        "327 work\n",
        "328 touch\n",
        "329 behind\n",
        "330 yourself\n",
        "331 today\n",
        "332 big\n",
        "333 might\n",
        "334 death\n",
        "335 hate\n",
        "336 miss\n",
        "337 ride\n",
        "338 street\n",
        "339 came\n",
        "340 ask\n",
        "341 hide\n",
        "342 everybody\n",
        "343 save\n",
        "344 until\n",
        "345 may\n",
        "346 beautiful\n",
        "347 roll\n",
        "348 sure\n",
        "349 deep\n",
        "350 arm\n",
        "351 son\n",
        "352 wind\n",
        "353 body\n",
        "354 forget\n",
        "355 happy\n",
        "356 understand\n",
        "357 ai\n",
        "358 best\n",
        "359 mother\n",
        "360 town\n",
        "361 war\n",
        "362 ah\n",
        "363 listen\n",
        "364 seen\n",
        "365 der\n",
        "366 sometime\n",
        "367 loner\n",
        "368 hell\n",
        "369 mourn\n",
        "370 until.1\n",
        "371 set\n",
        "372 hurt\n",
        "373 told\n",
        "374 first\n",
        "375 knew\n",
        "376 goes\n",
        "377 round\n",
        "378 em\n",
        "379 alright\n",
        "380 music\n",
        "381 sea\n",
        "382 truth\n",
        "383 qui\n",
        "384 beat\n",
        "385 nicht\n",
        "386 eu\n",
        "387 las\n",
        "388 todo\n",
        "389 pass\n",
        "390 under\n",
        "391 del\n",
        "392 late\n",
        "393 after\n",
        "394 ani\n",
        "395 ground\n",
        "396 fool\n",
        "397 pas\n",
        "398 broken\n",
        "399 goodby\n",
        "400 das\n",
        "401 des\n",
        "402 kind\n",
        "403 wall\n",
        "404 angel\n",
        "405 est\n",
        "406 road\n",
        "407 reason\n",
        "408 dan\n",
        "409 money\n",
        "410 chance\n",
        "411 quiero\n",
        "412 mai\n",
        "413 part\n",
        "414 matter\n",
        "415 learn\n",
        "416 else\n",
        "417 rise\n",
        "418 pour\n",
        "419 saw\n",
        "420 grow\n",
        "421 ha\n",
        "422 sit\n",
        "423 land\n",
        "424 fade\n",
        "425 air\n",
        "426 took\n",
        "427 nobody\n",
        "428 ne\n",
        "429 fill\n",
        "430 easy\n",
        "431 game\n",
        "432 follow\n",
        "433 wake\n",
        "434 anything\n",
        "435 alive\n",
        "436 solo\n",
        "437 water\n",
        "438 heard\n",
        "439 though\n",
        "440 white\n",
        "441 vida\n",
        "442 ist\n",
        "443 voice\n",
        "444 woman\n",
        "445 blind\n",
        "446 each\n",
        "447 city\n",
        "448 young\n",
        "449 lay\n",
        "450 moon\n",
        "451 reach\n",
        "452 ready\n",
        "453 fine\n",
        "454 soon\n",
        "455 shit\n",
        "456 along\n",
        "457 a.1\n",
        "458 crazy\n",
        "459 past\n",
        "460 red\n",
        "461 room\n",
        "462 such\n",
        "463 ein\n",
        "464 step\n",
        "465 scream\n",
        "466 tomorrow\n",
        "467 control\n",
        "468 memory\n",
        "469 strong\n",
        "470 hit\n",
        "471 everyone\n",
        "472 wast\n",
        "473 nao\n",
        "474 men\n",
        "475 earth\n",
        "476 s\n",
        "477 upon\n",
        "478 final\n",
        "479 shake\n",
        "480 am.1\n",
        "481 above\n",
        "482 ja\n",
        "483 moment\n",
        "484 rest\n",
        "485 guess\n",
        "486 house\n",
        "487 born\n",
        "488 somebody\n",
        "489 feet\n",
        "490 mas\n",
        "491 sad\n",
        "492 laugh\n",
        "493 esta\n",
        "494 happen\n",
        "495 went\n",
        "496 cest\n",
        "497 blow\n",
        "498 noch\n",
        "499 meet\n",
        "500 whole\n",
        "501 lover\n",
        "502 drive\n",
        "503 car\n",
        "504 lead\n",
        "505 su\n",
        "506 very\n",
        "507 ni\n",
        "508 promise\n",
        "509 bed\n",
        "510 apart\n",
        "511 um\n",
        "512 empty\n",
        "513 shadow\n",
        "514 full\n",
        "515 begin\n",
        "516 pull\n",
        "517 child\n",
        "518 pretty\n",
        "519 drink\n",
        "520 pray\n",
        "521 king\n",
        "522 cut\n",
        "523 t\n",
        "524 power\n",
        "525 gave\n",
        "526 hay\n",
        "527 peace\n",
        "528 hang\n",
        "529 next\n",
        "530 ser\n",
        "531 mother.1\n",
        "532 e.1\n",
        "533 cuando\n",
        "534 between\n",
        "535 pay\n",
        "536 carry\n",
        "537 tire\n",
        "538 speak\n",
        "539 lot\n",
        "540 tree\n",
        "541 den\n",
        "542 skin\n",
        "543 tout\n",
        "544 til\n",
        "545 slow\n",
        "546 sinc\n",
        "547 anymore\n",
        "548 kid\n",
        "549 clear\n",
        "550 mich\n",
        "551 jesus\n",
        "552 differ\n",
        "553 fast\n",
        "554 become\n",
        "555 nigger\n",
        "556 va\n",
        "557 gun\n",
        "558 nos\n",
        "559 zu\n",
        "560 mas.1\n",
        "561 river\n",
        "562 faith\n",
        "563 floor\n",
        "564 cross\n",
        "565 lady\n",
        "566 near\n",
        "567 fun\n",
        "568 ring\n",
        "569 answer\n",
        "570 pero\n",
        "571 afraid\n",
        "572 jag\n",
        "573 repeat\n",
        "574 great\n",
        "575 story\n",
        "576 yet\n",
        "577 cannot\n",
        "578 hot\n",
        "579 wir\n",
        "580 nada\n",
        "581 hour\n",
        "582 summer\n",
        "583 stone\n",
        "584 bleed\n",
        "585 sign\n",
        "586 mir\n",
        "587 lyric\n",
        "588 children\n",
        "589 trust\n",
        "590 wild\n",
        "591 felt\n",
        "592 trouble\n",
        "593 honey\n",
        "594 sick\n",
        "595 perfect\n",
        "596 human\n",
        "597 bright\n",
        "598 good.1\n",
        "599 mama\n",
        "600 dich\n",
        "601 party\n",
        "602 train\n",
        "603 plan\n",
        "604 porqu\n",
        "605 sorry\n",
        "606 plus\n",
        "607 hair\n",
        "608 secret\n",
        "609 silence\n",
        "610 tast\n",
        "611 brother\n",
        "612 throw\n",
        "613 within\n",
        "614 per\n",
        "615 push\n",
        "616 m\n",
        "617 somewhere\n",
        "618 three\n",
        "619 cloud\n",
        "620 shall\n",
        "621 vez\n",
        "622 low\n",
        "623 window\n",
        "624 knee\n",
        "625 lip\n",
        "626 future\n",
        "627 dear\n",
        "628 search\n",
        "629 2\n",
        "630 sie\n",
        "631 drop\n",
        "632 det\n",
        "633 cool\n",
        "634 flame\n",
        "635 outside\n",
        "636 worry\n",
        "637 about.1\n",
        "638 going\n",
        "639 met\n",
        "640 stare\n",
        "641 sight\n",
        "642 most\n",
        "643 mon\n",
        "644 voy\n",
        "645 across\n",
        "646 wear\n",
        "647 wave\n",
        "648 tus\n",
        "649 pick\n",
        "650 er\n",
        "651 send\n",
        "652 siempr\n",
        "653 wie\n",
        "654 bone\n",
        "655 flow\n",
        "656 piece\n",
        "657 soy\n",
        "658 uh\n",
        "659 thank\n",
        "660 mis\n",
        "661 straight\n",
        "662 blame\n",
        "663 catch\n",
        "664 au\n",
        "665 ce\n",
        "666 tight\n",
        "667 &\n",
        "668 mile\n",
        "669 holy\n",
        "670 darl\n",
        "671 auf\n",
        "672 mouth\n",
        "673 christmas\n",
        "674 which\n",
        "675 moi\n",
        "676 against\n",
        "677 mad\n",
        "678 both\n",
        "679 share\n",
        "680 caught\n",
        "681 father\n",
        "682 read\n",
        "683 warm\n",
        "684 wing\n",
        "685 nunca\n",
        "686 belong\n",
        "687 damn\n",
        "688 eat\n",
        "689 win\n",
        "690 sense\n",
        "691 comm\n",
        "692 u\n",
        "693 fell\n",
        "694 evil\n",
        "695 dem\n",
        "696 slut\n",
        "697 picture\n",
        "698 second\n",
        "699 nowhere\n",
        "700 dog\n",
        "701 rule\n",
        "702 une\n",
        "703 bad.1\n",
        "704 mountain\n",
        "705 joy\n",
        "706 mit\n",
        "707 top\n",
        "708 och\n",
        "709 tan\n",
        "710 some.1\n",
        "711 bit\n",
        "712 cover\n",
        "713 point\n",
        "714 thousand\n",
        "715 hoy\n",
        "716 n\n",
        "717 gold\n",
        "718 bell\n",
        "719 e.2\n",
        "720 devil\n",
        "721 bird\n",
        "722 sur\n",
        "723 quit\n",
        "724 brain\n",
        "725 return\n",
        "726 build\n",
        "727 kick\n",
        "728 rose\n",
        "729 bitch\n",
        "730 babe\n",
        "731 guy\n",
        "732 whoa\n",
        "733 shame\n",
        "734 mein\n",
        "735 space\n",
        "736 whisper\n",
        "737 tiempo\n",
        "738 cos\n",
        "739 write\n",
        "740 dir\n",
        "741 tengo\n",
        "742 count\n",
        "743 slip\n",
        "744 ver\n",
        "745 desire\n",
        "746 sei\n",
        "747 nice\n",
        "748 weak\n",
        "749 raise\n",
        "750 jai\n",
        "751 ocean\n",
        "752 number\n",
        "753 drown\n",
        "754 spirit\n",
        "755 scare\n",
        "756 strange\n",
        "757 ik\n",
        "758 half\n",
        "759 known\n",
        "760 pretend\n",
        "761 worth\n",
        "762 someday\n",
        "763 act\n",
        "764 beyond\n",
        "765 fair\n",
        "766 million\n",
        "767 finger\n",
        "768 question\n",
        "769 doubt\n",
        "770 meant\n",
        "771 smoke\n",
        "772 coming\n",
        "773 flesh\n",
        "774 dawn\n",
        "775 father.1\n",
        "776 storm\n",
        "777 hole\n",
        "778 color\n",
        "779 jump\n",
        "780 remain\n",
        "781 mundo\n",
        "782 eternal\n",
        "783 nothing\n",
        "784 buy\n",
        "785 nur\n",
        "786 anyone\n",
        "787 dress\n",
        "788 1\n",
        "789 minute\n",
        "790 dont\n",
        "791 pra\n",
        "792 snow\n",
        "793 d\n",
        "794 dig\n",
        "795 estoy\n",
        "796 force\n",
        "797 spend\n",
        "798 shot\n",
        "799 everyday\n",
        "800 puedo\n",
        "801 tu.1\n",
        "802 chain\n",
        "803 dry\n",
        "804 grace\n",
        "805 green\n",
        "806 glory\n",
        "807 doch\n",
        "808 everywhere\n",
        "809 freedom\n",
        "810 realize\n",
        "811 lock\n",
        "812 pride\n",
        "813 whatever\n",
        "814 feed\n",
        "815 mistake\n",
        "816 verse\n",
        "817 fate\n",
        "818 meu\n",
        "819 escape\n",
        "820 wash\n",
        "821 mess\n",
        "822 voice.1\n",
        "823 sand\n",
        "824 front\n",
        "825 forgive\n",
        "826 vi\n",
        "827 winter\n",
        "828 tanto\n",
        "829 magic\n",
        "830 flower\n",
        "831 pa\n",
        "832 closer\n",
        "833 safe\n",
        "834 wenn\n",
        "835 sol\n",
        "836 bless\n",
        "837 suffer\n",
        "838 longer\n",
        "839 dein\n",
        "840 hello\n",
        "841 san\n",
        "842 grave\n",
        "843 already\n",
        "844 yesterday\n",
        "845 wide\n",
        "846 radio\n",
        "847 sorrow\n",
        "848 ten\n",
        "849 tien\n",
        "850 phone\n",
        "851 crawl\n",
        "852 survive\n",
        "853 ay\n",
        "854 tie\n",
        "855 exist\n",
        "856 anyway\n",
        "857 io\n",
        "858 spin\n",
        "859 insane\n",
        "860 nous\n",
        "861 slowly\n",
        "862 dond\n",
        "863 ear\n",
        "864 crowd\n",
        "865 clean\n",
        "866 nature\n",
        "867 knock\n",
        "868 four\n",
        "869 poor\n",
        "870 loud\n",
        "871 shoe\n",
        "872 bar\n",
        "873 esta.1\n",
        "874 ass\n",
        "875 lovin\n",
        "876 higher\n",
        "877 race\n",
        "878 silent\n",
        "879 lift\n",
        "880 destroy\n",
        "881 cuz\n",
        "882 soft\n",
        "883 paint\n",
        "884 mar\n",
        "885 dirty\n",
        "886 check\n",
        "887 ta\n",
        "888 held\n",
        "889 life.1\n",
        "890 shout\n",
        "891 sail\n",
        "892 twist\n",
        "893 guitar\n",
        "894 simple\n",
        "895 quand\n",
        "896 sa\n",
        "897 ei\n",
        "898 deny\n",
        "899 fail\n",
        "900 van\n",
        "901 family\n",
        "902 vision\n",
        "903 toi\n",
        "904 looking\n",
        "905 track\n",
        "906 broke\n",
        "907 day.1\n",
        "908 state\n",
        "909 welcome\n",
        "910 ghost\n",
        "911 almost\n",
        "912 shut\n",
        "913 entry\n",
        "914 somehow\n",
        "915 glass\n",
        "916 yes.1\n",
        "917 gentelman\n",
        "918 choose\n",
        "919 fur\n",
        "920 bin\n",
        "921 glad\n",
        "922 shoot\n",
        "923 ell\n",
        "924 small\n",
        "925 hill\n",
        "926 wine\n",
        "927 treat\n",
        "928 dos\n",
        "929 stranger\n",
        "930 regret\n",
        "931 refrain\n",
        "932 heart.1\n",
        "933 machine\n",
        "934 problem\n",
        "935 feeling\n",
        "936 sister\n",
        "937 era\n",
        "938 steal\n",
        "939 endless\n",
        "940 vai\n",
        "941 awake\n",
        "942 key\n",
        "943 grand\n",
        "944 cada\n",
        "945 age\n",
        "946 bridge\n",
        "947 dust\n",
        "948 wit\n",
        "949 thank.1\n",
        "950 wheel\n",
        "951 ere\n",
        "952 crack\n",
        "953 taken\n",
        "954 praise\n",
        "955 heal\n",
        "956 queen\n",
        "957 mirror\n",
        "958 von\n",
        "959 corner\n",
        "960 ba\n",
        "961 ago\n",
        "962 bury\n",
        "963 book\n",
        "964 now.1\n",
        "965 climb\n",
        "966 quando\n",
        "967 okay\n",
        "968 cloth\n",
        "969 band\n",
        "970 school\n",
        "971 stick\n",
        "972 ar\n",
        "973 circle\n",
        "974 ou\n",
        "975 tv\n",
        "976 don\n",
        "977 strength\n",
        "978 og\n",
        "979 five\n",
        "980 country\n",
        "981 beneath\n",
        "982 sunshine\n",
        "983 sabe\n",
        "984 alma\n",
        "985 ice\n",
        "986 aa\n",
        "987 bound\n",
        "988 less\n",
        "989 sell\n",
        "990 tongue\n",
        "991 path\n",
        "992 cielo\n",
        "993 travel\n",
        "994 hasta\n",
        "995 hat\n",
        "996 rather\n",
        "997 heat\n",
        "998 innocuous\n",
        "999 confuse\n",
        "1000 cosa\n",
        "1001 golden\n",
        "1002 ohh\n",
        "1003 marry\n",
        "1004 single\n",
        "1005 ahead\n",
        "1006 bye\n",
        "1007 silver\n",
        "1008 trying\n",
        "1009 doo\n",
        "1010 mes\n",
        "1011 sai\n",
        "1012 chase\n",
        "1013 pued\n",
        "1014 piu\n",
        "1015 few\n",
        "1016 sein\n",
        "1017 scene\n",
        "1018 smell\n",
        "1019 funny\n",
        "1020 enemy\n",
        "1021 swear\n",
        "1022 pa.1\n",
        "1023 ball\n",
        "1024 beg\n",
        "1025 sind\n",
        "1026 x2\n",
        "1027 prayer\n",
        "1028 wound\n",
        "1029 otra\n",
        "1030 ton\n",
        "1031 disappear\n",
        "1032 beside\n",
        "1033 hace\n",
        "1034 toda\n",
        "1035 ignore\n",
        "1036 mister\n",
        "1037 yall\n",
        "1038 style\n",
        "1039 ihr\n",
        "1040 brought\n",
        "1041 given\n",
        "1042 quiet\n",
        "1043 rage\n",
        "1044 mano\n",
        "1045 reality\n",
        "1046 sink\n",
        "1047 3\n",
        "1048 quier\n",
        "1049 spread\n",
        "1050 crime\n",
        "1051 vain\n",
        "1052 nadi\n",
        "1053 fallen\n",
        "1054 self\n",
        "1055 decide\n",
        "1056 ella\n",
        "1057 c\n",
        "1058 fue\n",
        "1059 imagine\n",
        "1060 yesterday.1\n",
        "1061 stuck\n",
        "1062 view\n",
        "1063 vas\n",
        "1064 kept\n",
        "1065 demon\n",
        "1066 sui\n",
        "1067 busy\n",
        "1068 ok\n",
        "1069 record\n",
        "1070 law\n",
        "1071 choice\n",
        "1072 har\n",
        "1073 fit\n",
        "1074 remind\n",
        "1075 emotion\n",
        "1076 field\n",
        "1077 crash\n",
        "1078 suppose\n",
        "1079 sen\n",
        "1080 cmon\n",
        "1081 dentro\n",
        "1082 mehr\n",
        "1083 danger\n",
        "1084 sich\n",
        "1085 letter\n",
        "1086 midnight\n",
        "1087 com\n",
        "1088 kein\n",
        "1089 nation\n",
        "1090 edge\n",
        "1091 surprise\n",
        "1092 nothing.1\n",
        "1093 murder\n",
        "1094 deal\n",
        "1095 complete\n",
        "1096 lose.1\n",
        "1097 price\n",
        "1098 instrument\n",
        "1099 luck\n",
        "1100 rip\n",
        "1101 drift\n",
        "1102 poison\n",
        "1103 battle\n",
        "1104 living\n",
        "1105 give.1\n",
        "1106 getting\n",
        "1107 haunt\n",
        "1108 sex\n",
        "1109 proud\n",
        "1110 re\n",
        "1111 heavy\n",
        "1112 guide\n",
        "1113 nie\n",
        "1114 drag\n",
        "1115 middle\n",
        "1116 bare\n",
        "1117 dare\n",
        "1118 bang\n",
        "1119 eyes\n",
        "1120 pure\n",
        "1121 embrace\n",
        "1122 aus\n",
        "1123 suck\n",
        "1124 stupid\n",
        "1125 fake\n",
        "1126 week\n",
        "1127 news\n",
        "1128 tes\n",
        "1129 master\n",
        "1130 float\n",
        "1131 satisfy\n",
        "1132 sent\n",
        "1133 christ\n",
        "1134 fait\n",
        "1135 scar\n",
        "1136 bear\n",
        "1137 dime\n",
        "1138 quick\n",
        "1139 het\n",
        "1140 poi\n",
        "1141 swing\n",
        "1142 below\n",
        "1143 prove\n",
        "1144 figure\n",
        "1145 diamond\n",
        "1146 none\n",
        "1147 instead\n",
        "1148 pleasure.1\n",
        "1149 curse\n",
        "1150 rich\n",
        "1151 cat\n",
        "1152 spent\n",
        "1153 seek\n",
        "1154 paper\n",
        "1155 mystery\n",
        "1156 passion\n",
        "1157 brand\n",
        "1158 feel.1\n",
        "1159 bomb\n",
        "1160 light.1\n",
        "1161 bitter\n",
        "1162 tender\n",
        "1163 fact\n",
        "1164 job\n",
        "1165 que.1\n",
        "1166 bet\n",
        "1167 oooh\n",
        "1168 always.1\n",
        "1169 cast\n",
        "1170 sono\n",
        "1171 trip\n",
        "1172 pack\n",
        "1173 explain\n",
        "1174 talking\n",
        "1175 lucky\n",
        "1176 ci\n",
        "1177 l\n",
        "1178 eso\n",
        "1179 special\n",
        "1180 mark\n",
        "1181 form\n",
        "1182 shoulder\n",
        "1183 warn\n",
        "1184 create\n",
        "1185 seven\n",
        "1186 ship\n",
        "1187 bist\n",
        "1188 misery\n",
        "1189 sunday\n",
        "1190 six\n",
        "1191 quien\n",
        "1192 tune\n",
        "1193 wrap\n",
        "1194 muy\n",
        "1195 pop\n",
        "1196 surround\n",
        "1197 doing\n",
        "1198 hero\n",
        "1199 gate\n",
        "1200 comfort\n",
        "1201 han\n",
        "1202 2x\n",
        "1203 rush\n",
        "1204 drug\n",
        "1205 fucking\n",
        "1206 mejor\n",
        "1207 living.1\n",
        "1208 least\n",
        "1209 short\n",
        "1210 se.1\n",
        "1211 dann\n",
        "1212 cruel\n",
        "1213 par\n",
        "1214 rhyme\n",
        "1215 written\n",
        "1216 swallow\n",
        "1217 wander\n",
        "1218 reflect\n",
        "1219 dice\n",
        "1220 aunqu\n",
        "1221 tide\n",
        "1222 join\n",
        "1223 bottling\n",
        "1224 steel\n",
        "1225 paradise\n",
        "1226 mia\n",
        "1227 dia\n",
        "1228 cant\n",
        "1229 auch\n",
        "1230 wife\n",
        "1231 shore\n",
        "1232 leg\n",
        "1233 something.1\n",
        "1234 draw\n",
        "1235 slave\n",
        "1236 march\n",
        "1237 day.2\n",
        "1238 algo\n",
        "1239 beso\n",
        "1240 immer\n",
        "1241 swim\n",
        "1242 build.1\n",
        "1243 tempo\n",
        "1244 women\n",
        "1245 heart.2\n",
        "1246 om\n",
        "1247 fix\n",
        "1248 trap\n",
        "1249 torn\n",
        "1250 vein\n",
        "1251 estar\n",
        "1252 release\n",
        "1253 hors\n",
        "1254 casa\n",
        "1255 spell\n",
        "1256 glow\n",
        "1257 grab\n",
        "1258 denn\n",
        "1259 drum\n",
        "1260 bite\n",
        "1261 brown\n",
        "1262 won\n",
        "1263 i'm\n",
        "1264 sugar\n",
        "1265 forgotten\n",
        "1266 stronger\n",
        "1267 rhythm\n",
        "1268 victim\n",
        "1269 message\n",
        "1270 later\n",
        "1271 person\n",
        "1272 darling\n",
        "1273 asi\n",
        "1274 poco\n",
        "1275 avec\n",
        "1276 huh\n",
        "1277 dat\n",
        "1278 dio\n",
        "1279 uma\n",
        "1280 sudden\n",
        "1281 stood\n",
        "1282 att\n",
        "1283 hundred\n",
        "1284 kann\n",
        "1285 running\n",
        "1286 solo.1\n",
        "1287 season\n",
        "1288 sueno\n",
        "1289 surrender\n",
        "1290 bore\n",
        "1291 vou\n",
        "1292 crush\n",
        "1293 history\n",
        "1294 won't\n",
        "1295 luna\n",
        "1296 ourselves\n",
        "1297 truth.1\n",
        "1298 weight\n",
        "1299 mi.1\n",
        "1300 4\n",
        "1301 lust\n",
        "1302 pain.1\n",
        "1303 park\n",
        "1304 expect\n",
        "1305 so.1\n",
        "1306 speed\n",
        "1307 shade\n",
        "1308 calm\n",
        "1309 bow\n",
        "1310 bend\n",
        "1311 mig\n",
        "1312 strike\n",
        "1313 thrill\n",
        "1314 animate\n",
        "1315 aqui\n",
        "1316 love.2\n",
        "1317 thunder\n",
        "1318 soldier\n",
        "1319 vous\n",
        "1320 hacer\n",
        "1321 west\n",
        "1322 destiny\n",
        "1323 spit\n",
        "1324 ran\n",
        "1325 twice\n",
        "1326 drunk\n",
        "1327 page\n",
        "1328 med\n",
        "1329 desert\n",
        "1330 block\n",
        "1331 tall\n",
        "1332 anywhere\n",
        "1333 distance\n",
        "1334 mio\n",
        "1335 spring\n",
        "1336 gather\n",
        "1337 g\n",
        "1338 temp\n",
        "1339 foi\n",
        "1340 cuerpo\n",
        "1341 dollar\n",
        "1342 echo\n",
        "1343 knife\n",
        "1344 melt\n",
        "1345 woman.1\n",
        "1346 anybody\n",
        "1347 otro\n",
        "1348 aqui.1\n",
        "1349 sa.1\n",
        "1350 grey\n",
        "1351 asleep\n",
        "1352 gentle\n",
        "1353 sem\n",
        "1354 direct\n",
        "1355 load\n",
        "1356 divine\n",
        "1357 early\n",
        "1358 toward\n",
        "1359 kun\n",
        "1360 weather\n",
        "1361 ash\n",
        "1362 ve\n",
        "1363 os\n",
        "1364 seed\n",
        "1365 highway\n",
        "1366 harder\n",
        "1367 sus\n",
        "1368 boom\n",
        "1369 esa\n",
        "1370 attack\n",
        "1371 action\n",
        "1372 thee\n",
        "1373 end.1\n",
        "1374 quon\n",
        "1375 art\n",
        "1376 pie\n",
        "1377 club\n",
        "1378 wird\n",
        "1379 contigo\n",
        "1380 kan\n",
        "1381 rap\n",
        "1382 case\n",
        "1383 hab\n",
        "1384 tous\n",
        "1385 thinking\n",
        "1386 metal\n",
        "1387 underneath\n",
        "1388 breeze\n",
        "1389 teeth\n",
        "1390 respect\n",
        "1391 outta\n",
        "1392 john\n",
        "1393 neck\n",
        "1394 precious\n",
        "1395 nine\n",
        "1396 idea\n",
        "1397 rainbow\n",
        "1398 thi\n",
        "1399 lieb\n",
        "1400 laid\n",
        "1401 offer\n",
        "1402 gut\n",
        "1403 saber\n",
        "1404 een\n",
        "1405 nois\n",
        "1406 begun\n",
        "1407 resist\n",
        "1408 garden\n",
        "1409 sigh\n",
        "1410 bag\n",
        "1411 disguise\n",
        "1412 noon\n",
        "1413 quem\n",
        "1414 string\n",
        "1415 color.1\n",
        "1416 nu\n",
        "1417 ooo\n",
        "1418 gift\n",
        "1419 ain't\n",
        "1420 shape\n",
        "1421 york\n",
        "1422 jetzt\n",
        "1423 schon\n",
        "1424 teach\n",
        "1425 don't\n",
        "1426 test\n",
        "1427 lado\n",
        "1428 arrive\n",
        "1429 love.3\n",
        "1430 disease\n",
        "1431 sold\n",
        "1432 clock\n",
        "1433 flash\n",
        "1434 youth\n",
        "1435 box\n",
        "1436 rot\n",
        "1437 lugar\n",
        "1438 mighty\n",
        "1439 certain\n",
        "1440 protect\n",
        "1441 mond\n",
        "1442 ruin\n",
        "1443 romance\n",
        "1444 vamo\n",
        "1445 sweat\n",
        "1446 fantasy\n",
        "1447 vien\n",
        "1448 kinda\n",
        "1449 nacht\n",
        "1450 deserve\n",
        "1451 piel\n",
        "1452 jeg\n",
        "1453 hora\n",
        "1454 universe\n",
        "1455 desperate\n",
        "1456 ach\n",
        "1457 hall\n",
        "1458 anger\n",
        "1459 beast\n",
        "1460 stuff\n",
        "1461 jack\n",
        "1462 tabl\n",
        "1463 punk\n",
        "1464 moving\n",
        "1465 tudo\n",
        "1466 nigger.1\n",
        "1467 happy.1\n",
        "1468 mucho\n",
        "1469 nightmare\n",
        "1470 doctor\n",
        "1471 freak\n",
        "1472 marry.1\n",
        "1473 crown\n",
        "1474 serve\n",
        "1475 satan\n",
        "1476 hallelujah\n",
        "1477 amigo\n",
        "1478 trace\n",
        "1479 main\n",
        "1480 nem\n",
        "1481 makin\n",
        "1482 prison\n",
        "1483 moonlight\n",
        "1484 voz\n",
        "1485 thin\n",
        "1486 deeper\n",
        "1487 appear\n",
        "1488 amaz\n",
        "1489 bought\n",
        "1490 weep\n",
        "1491 walking\n",
        "1492 ant\n",
        "1493 meme\n",
        "1494 chi\n",
        "1495 voi\n",
        "1496 hungry\n",
        "1497 wire\n",
        "1498 pocket\n",
        "1499 never.1\n",
        "1500 note\n",
        "1501 south\n",
        "1502 eh\n",
        "1503 woke\n",
        "1504 momento\n",
        "1505 illusion\n",
        "1506 nail\n",
        "1507 together.1\n",
        "1508 paid\n",
        "1509 bis\n",
        "1510 liar\n",
        "1511 bottom\n",
        "1512 plain\n",
        "1513 ill\n",
        "1514 notice\n",
        "1515 melody\n",
        "1516 alla\n",
        "1517 camino\n",
        "1518 destruct\n",
        "1519 daughter\n",
        "1520 eas\n",
        "1521 fat\n",
        "1522 whenever\n",
        "1523 adore\n",
        "1524 church\n",
        "1525 bill\n",
        "1526 card\n",
        "1527 cours\n",
        "1528 nake\n",
        "1529 sacrifice\n",
        "1530 zeit\n",
        "1531 system\n",
        "1532 pensar\n",
        "1533 order\n",
        "1534 stage\n",
        "1535 celebrate\n",
        "1536 hip\n",
        "1537 total\n",
        "1538 welt\n",
        "1539 sera\n",
        "1540 fist\n",
        "1541 dit\n",
        "1542 wors\n",
        "1543 suicide\n",
        "1544 dove\n",
        "1545 bullet\n",
        "1546 senza\n",
        "1547 johnni\n",
        "1548 gain\n",
        "1549 quero\n",
        "1550 grown\n",
        "1551 wherever\n",
        "1552 slide\n",
        "1553 minha\n",
        "1554 fa\n",
        "1555 folk\n",
        "1556 nach\n",
        "1557 hurry\n",
        "1558 lang\n",
        "1559 seu\n",
        "1560 equal\n",
        "1561 vill\n",
        "1562 uno\n",
        "1563 kingdom\n",
        "1564 trick\n",
        "1565 wrote\n",
        "1566 encor\n",
        "1567 tem\n",
        "1568 choke\n",
        "1569 ll\n",
        "1570 dame\n",
        "1571 boat\n",
        "1572 tough\n",
        "1573 sang\n",
        "1574 ese\n",
        "1575 beer\n",
        "1576 eras\n",
        "1577 cup\n",
        "1578 brave\n",
        "1579 reveal\n",
        "1580 distant\n",
        "1581 trist\n",
        "1582 worst\n",
        "1583 wieder\n",
        "1584 grass\n",
        "1585 frozen\n",
        "1586 ahh\n",
        "1587 dass\n",
        "1588 faster\n",
        "1589 tard\n",
        "1590 sua\n",
        "1591 plane\n",
        "1592 saturday\n",
        "1593 woah\n",
        "1594 taught\n",
        "1595 generate\n",
        "1596 viel\n",
        "1597 crying\n",
        "1598 it.1\n",
        "1599 moving.1\n",
        "1600 store\n",
        "1601 shatter\n",
        "1602 stream\n",
        "1603 wood\n",
        "1604 ganz\n",
        "1605 sentir\n",
        "1606 pressure\n",
        "1607 wa\n",
        "1608 sont\n",
        "1609 charm\n",
        "1610 bloody\n",
        "1611 yellow\n",
        "1612 mo\n",
        "1613 planet\n",
        "1614 joke\n",
        "1615 pound\n",
        "1616 vivo\n",
        "1617 struggle\n",
        "1618 petit\n",
        "1619 dumb\n",
        "1620 suit\n",
        "1621 present\n",
        "1622 revolution\n",
        "1623 nuestro\n",
        "1624 dirt\n",
        "1625 gon\n",
        "1626 hollow\n",
        "1627 sera.1\n",
        "1628 vece\n",
        "1629 vos\n",
        "1630 wick\n",
        "1631 reign\n",
        "1632 miracle\n",
        "1633 rolling\n",
        "1634 stain\n",
        "1635 shelter\n",
        "1636 lifetime\n",
        "1637 claim\n",
        "1638 accept\n",
        "1639 ven\n",
        "1640 judge\n",
        "1641 av\n",
        "1642 tale\n",
        "1643 desd\n",
        "1644 enter\n",
        "1645 fault\n",
        "1646 sale\n",
        "1647 mim\n",
        "1648 betray\n",
        "1649 hast\n",
        "1650 violence\n",
        "1651 chill\n",
        "1652 lui\n",
        "1653 recuerdo\n",
        "1654 terror\n",
        "1655 settle\n",
        "1656 wet\n",
        "1657 pena\n",
        "1658 foot\n",
        "1659 toujour\n",
        "1660 unknown\n",
        "1661 miedo\n",
        "1662 lonesome\n",
        "1663 nah\n",
        "1664 excuse\n",
        "1665 rocking\n",
        "1666 santa\n",
        "1667 amo\n",
        "1668 fever\n",
        "1669 ou.1\n",
        "1670 double\n",
        "1671 dire\n",
        "1672 america\n",
        "1673 var\n",
        "1674 asi.1\n",
        "1675 hidden\n",
        "1676 b\n",
        "1677 electric\n",
        "1678 mass\n",
        "1679 trop\n",
        "1680 j\n",
        "1681 ja.1\n",
        "1682 attent\n",
        "1683 wise\n",
        "1684 volver\n",
        "1685 laughter\n",
        "1686 fame\n",
        "1687 groove\n",
        "1688 mother.2\n",
        "1689 niet\n",
        "1690 mmm\n",
        "1691 for.1\n",
        "1692 waiting\n",
        "1693 prepare\n",
        "1694 esto\n",
        "1695 due\n",
        "1696 noi\n",
        "1697 cure\n",
        "1698 began\n",
        "1699 x\n",
        "1700 lesson\n",
        "1701 la.1\n",
        "1702 hook\n",
        "1703 fish\n",
        "1704 east\n",
        "1705 slut.1\n",
        "1706 cop\n",
        "1707 sou\n",
        "1708 seat\n",
        "1709 whose\n",
        "1710 forgot\n",
        "1711 bother\n",
        "1712 chest\n",
        "1713 situation\n",
        "1714 candle\n",
        "1715 cash\n",
        "1716 valley\n",
        "1717 quil\n",
        "1718 further\n",
        "1719 unit\n",
        "1720 mira\n",
        "1721 aim\n",
        "1722 journey\n",
        "1723 cell\n",
        "1724 ao\n",
        "1725 gray\n",
        "1726 vita\n",
        "1727 everytime\n",
        "1728 tag\n",
        "1729 throat\n",
        "1730 heartache\n",
        "1731 conmigo\n",
        "1732 torture\n",
        "1733 mot\n",
        "1734 cara\n",
        "1735 imag\n",
        "1736 min\n",
        "1737 nuit\n",
        "1738 birth\n",
        "1739 woo\n",
        "1740 refuse\n",
        "1741 sword\n",
        "1742 fortune\n",
        "1743 ces\n",
        "1744 ima\n",
        "1745 older\n",
        "1746 spoken\n",
        "1747 chosen\n",
        "1748 motion\n",
        "1749 motherfuck\n",
        "1750 false\n",
        "1751 enjoy\n",
        "1752 oo\n",
        "1753 strong.1\n",
        "1754 tutto\n",
        "1755 creep\n",
        "1756 saying\n",
        "1757 trade\n",
        "1758 hoo\n",
        "1759 monkey\n",
        "1760 food\n",
        "1761 worship\n",
        "1762 nel\n",
        "1763 ancient\n",
        "1764 confess\n",
        "1765 coro\n",
        "1766 sobr\n",
        "1767 deja\n",
        "1768 stole\n",
        "1769 forward\n",
        "1770 tua\n",
        "1771 love.4\n",
        "1772 falling\n",
        "1773 favorite\n",
        "1774 faut\n",
        "1775 toe\n",
        "1776 toy\n",
        "1777 nose\n",
        "1778 favor\n",
        "1779 american\n",
        "1780 class\n",
        "1781 cigarette\n",
        "1782 maria\n",
        "1783 intent\n",
        "1784 pill\n",
        "1785 poder\n",
        "1786 spill\n",
        "1787 cost\n",
        "1788 shed\n",
        "1789 po\n",
        "1790 probably\n",
        "1791 among\n",
        "1792 tanta\n",
        "1793 dar\n",
        "1794 clown\n",
        "1795 consume\n",
        "1796 saint\n",
        "1797 fai\n",
        "1798 ma\n",
        "1799 connect\n",
        "1800 chao\n",
        "1801 mix\n",
        "1802 dun\n",
        "1803 goodnight\n",
        "1804 love.5\n",
        "1805 sola\n",
        "1806 numb\n",
        "1807 viento\n",
        "1808 nest\n",
        "1809 salvat\n",
        "1810 island\n",
        "1811 wipe\n",
        "1812 await\n",
        "1813 spot\n",
        "1814 f\n",
        "1815 merry\n",
        "1816 hombr\n",
        "1817 chair\n",
        "1818 press\n",
        "1819 divide\n",
        "1820 bust\n",
        "1821 bem\n",
        "1822 company\n",
        "1823 lick\n",
        "1824 boot\n",
        "1825 lonely\n",
        "1826 constant\n",
        "1827 dad\n",
        "1828 bei\n",
        "1829 cage\n",
        "1830 manana\n",
        "1831 flight\n",
        "1832 ce.1\n",
        "1833 army\n",
        "1834 mood\n",
        "1835 killer\n",
        "1836 darkest\n",
        "1837 drain\n",
        "1838 underground\n",
        "1839 police\n",
        "1840 querer\n",
        "1841 fresh\n",
        "1842 boogie\n",
        "1843 lean\n",
        "1844 pale\n",
        "1845 niin\n",
        "1846 vor\n",
        "1847 ad\n",
        "1848 explod\n",
        "1849 sexy\n",
        "1850 rape\n",
        "1851 dick\n",
        "1852 geht\n",
        "1853 recal\n",
        "1854 exact\n",
        "1855 freez\n",
        "1856 savior\n",
        "1857 pity\n",
        "1858 separ\n",
        "1859 except\n",
        "1860 candy\n",
        "1861 frame\n",
        "1862 honest\n",
        "1863 religion\n",
        "1864 ses\n",
        "1865 vem\n",
        "1866 yeux\n",
        "1867 hunger\n",
        "1868 station\n",
        "1869 although\n",
        "1870 bus\n",
        "1871 onto\n",
        "1872 pum\n",
        "1873 aux\n",
        "1874 trail\n",
        "1875 mil\n",
        "1876 boca\n",
        "1877 leur\n",
        "1878 spark\n",
        "1879 ga\n",
        "1880 peu\n",
        "1881 decay\n",
        "1882 bass\n",
        "1883 demand\n",
        "1884 command\n",
        "1885 beach\n",
        "1886 destiny.1\n",
        "1887 shi\n",
        "1888 greed\n",
        "1889 lack\n",
        "1890 ela\n",
        "1891 via\n",
        "1892 weg\n",
        "1893 vert\n",
        "1894 fui\n",
        "1895 whore\n",
        "1896 5\n",
        "1897 paso\n",
        "1898 important\n",
        "1899 sat\n",
        "1900 palabra\n",
        "1901 monster\n",
        "1902 stumble\n",
        "1903 komm\n",
        "1904 quiera\n",
        "1905 roam\n",
        "1906 threw\n",
        "1907 screen\n",
        "1908 ancora\n",
        "1909 thou\n",
        "1910 harm\n",
        "1911 gli\n",
        "1912 date\n",
        "1913 cheap\n",
        "1914 north\n",
        "1915 aw\n",
        "1916 r\n",
        "1917 root\n",
        "1918 led\n",
        "1919 rough\n",
        "1920 loco\n",
        "1921 energy\n",
        "1922 ment\n",
        "1923 despair\n",
        "1924 gaze\n",
        "1925 guilty\n",
        "1926 hatred\n",
        "1927 queda\n",
        "1928 joe\n",
        "1929 asid\n",
        "1930 addict\n",
        "1931 seal\n",
        "1932 super\n",
        "1933 iron\n",
        "1934 wisdom\n",
        "1935 scratch\n",
        "1936 papa\n",
        "1937 smash\n",
        "1938 throne\n",
        "1939 deceive\n",
        "1940 forth\n",
        "1941 coffe\n",
        "1942 ir\n",
        "1943 ves\n",
        "1944 wearing\n",
        "1945 positive\n",
        "1946 jah\n",
        "1947 ugly\n",
        "1948 shop\n",
        "1949 hood\n",
        "1950 shell\n",
        "1951 horizon\n",
        "1952 w\n",
        "1953 falta\n",
        "1954 became\n",
        "1955 piss\n",
        "1956 blade\n",
        "1957 playing\n",
        "1958 grew\n",
        "1959 often\n",
        "1960 ye\n",
        "1961 gal\n",
        "1962 victory\n",
        "1963 receive\n",
        "1964 taking\n",
        "1965 light.2\n",
        "1966 allow\n",
        "1967 morning\n",
        "1968 hammer\n",
        "1969 lejo\n",
        "1970 telephon\n",
        "1971 cett\n",
        "1972 admit\n",
        "1973 rat\n",
        "1974 nuevo\n",
        "1975 flag\n",
        "1976 truly\n",
        "1977 doom\n",
        "1978 diss\n",
        "1979 loss\n",
        "1980 sacred\n",
        "1981 limit\n",
        "1982 pasa\n",
        "1983 bigger\n",
        "1984 afternoon\n",
        "1985 fed\n",
        "1986 engine\n",
        "1987 veux\n",
        "1988 blah\n",
        "1989 foolish\n",
        "1990 jean\n",
        "1991 shock\n",
        "1992 breed\n",
        "1993 greatest\n",
        "1994 mental\n",
        "1995 soledad\n",
        "1996 mismo\n",
        "1997 tal\n",
        "1998 angry\n",
        "1999 ayer\n",
        "2000 finish\n",
        "2001 row\n",
        "2002 vuelv\n",
        "2003 converse\n",
        "2004 plastic\n",
        "2005 grip\n",
        "2006 creation\n",
        "2007 snake\n",
        "2008 regard\n",
        "2009 tick\n",
        "2010 fan\n",
        "2011 lit\n",
        "2012 holiday\n",
        "2013 somo\n",
        "2014 int\n",
        "2015 sue\n",
        "2016 steady\n",
        "2017 tierra\n",
        "2018 coat\n",
        "2019 funky\n",
        "2020 cheat\n",
        "2021 sort\n",
        "2022 drip\n",
        "2023 teu\n",
        "2024 zum\n",
        "2025 abuse\n",
        "2026 possess\n",
        "2027 undone\n",
        "2028 cry.1\n",
        "2029 vocal\n",
        "2030 dj\n",
        "2031 hunt\n",
        "2032 month\n",
        "2033 possible\n",
        "2034 design\n",
        "2035 depend\n",
        "2036 sole\n",
        "2037 daylight\n",
        "2038 decis\n",
        "2039 maar\n",
        "2040 sous\n",
        "2041 morir\n",
        "2042 assim\n",
        "2043 treasur\n",
        "2044 california\n",
        "2045 mare\n",
        "2046 olvidar\n",
        "2047 strip\n",
        "2048 hum\n",
        "2049 calor\n",
        "2050 tremble\n",
        "2051 weiss\n",
        "2052 durch\n",
        "2053 invite\n",
        "2054 rope\n",
        "2055 flood\n",
        "2056 ticket\n",
        "2057 ohn\n",
        "2058 crew\n",
        "2059 spoke\n",
        "2060 sheet\n",
        "2061 fuego\n",
        "2062 cantar\n",
        "2063 wreck\n",
        "2064 cowboy\n",
        "2065 allein\n",
        "2066 needle\n",
        "2067 decir\n",
        "2068 common\n",
        "2069 lung\n",
        "2070 monday\n",
        "2071 friday\n",
        "2072 girlfriend\n",
        "2073 piano\n",
        "2074 mission\n",
        "2075 veo\n",
        "2076 destino\n",
        "2077 perder\n",
        "2078 rescue\n",
        "2079 lazy\n",
        "2080 couple\n",
        "2081 hi\n",
        "2082 coeur\n",
        "2083 p\n",
        "2084 eight\n",
        "2085 hai\n",
        "2086 andar\n",
        "2087 split\n",
        "2088 quisiera\n",
        "2089 mortal\n",
        "2090 guard\n",
        "2091 seul\n",
        "2092 society\n",
        "2093 hotel\n",
        "2094 easily\n",
        "2095 anch\n",
        "2096 fashion\n",
        "2097 heel\n",
        "2098 creature\n",
        "2099 sitting\n",
        "2100 defeat\n",
        "2101 ben\n",
        "2102 excite\n",
        "2103 paris\n",
        "2104 hung\n",
        "2105 ett\n",
        "2106 lake\n",
        "2107 tower\n",
        "2108 dive\n",
        "2109 estrella\n",
        "2110 silencio\n",
        "2111 curtain\n",
        "2112 gas\n",
        "2113 restless\n",
        "2114 canto\n",
        "2115 ond\n",
        "2116 dum\n",
        "2117 grant\n",
        "2118 unless\n",
        "2119 cheek\n",
        "2120 type\n",
        "2121 crumble\n",
        "2122 hail\n",
        "2123 chosen.1\n",
        "2124 sunny\n",
        "2125 handle\n",
        "2126 la.2\n",
        "2127 lion\n",
        "2128 burning\n",
        "2129 disco\n",
        "2130 bank\n",
        "2131 match\n",
        "2132 deux\n",
        "2133 twenty\n",
        "2134 aris\n",
        "2135 replace\n",
        "2136 heut\n",
        "2137 you're\n",
        "2138 score\n",
        "2139 mentira\n",
        "2140 bon\n",
        "2141 continue\n",
        "2142 stretch\n",
        "2143 inspire\n",
        "2144 ol\n",
        "2145 din\n",
        "2146 forest\n",
        "2147 calling\n",
        "2148 questa\n",
        "2149 coast\n",
        "2150 mort\n",
        "2151 questo\n",
        "2152 belief\n",
        "2153 tuo\n",
        "2154 sunlight\n",
        "2155 plant\n",
        "2156 sever\n",
        "2157 whip\n",
        "2158 ray\n",
        "2159 oder\n",
        "2160 descend\n",
        "2161 cosi\n",
        "2162 simply\n",
        "2163 singing\n",
        "2164 mirada\n",
        "2165 mankind\n",
        "2166 violent\n",
        "2167 lane\n",
        "2168 void\n",
        "2169 hop\n",
        "2170 weil\n",
        "2171 mondo\n",
        "2172 sunset\n",
        "2173 thru\n",
        "2174 silly\n",
        "2175 corps\n",
        "2176 lass\n",
        "2177 behold\n",
        "2178 normal\n",
        "2179 agre\n",
        "2180 abandon\n",
        "2181 weapon\n",
        "2182 wed\n",
        "2183 bella\n",
        "2184 revenge\n",
        "2185 tiny\n",
        "2186 justice\n",
        "2187 weekend\n",
        "2188 meno\n",
        "2189 mic\n",
        "2190 nor\n",
        "2191 bloom\n",
        "2192 sam\n",
        "2193 affair\n",
        "2194 leader\n",
        "2195 aber\n",
        "2196 aah\n",
        "2197 nerv\n",
        "2198 10\n",
        "2199 ohhh\n",
        "2200 hush\n",
        "2201 historia\n",
        "2202 op\n",
        "2203 caress\n",
        "2204 either\n",
        "2205 discover\n",
        "2206 leaving\n",
        "2207 helpless\n",
        "2208 ghetto\n",
        "2209 bread\n",
        "2210 dancing\n",
        "2211 x4\n",
        "2212 tant\n",
        "2213 hmm\n",
        "2214 momma\n",
        "2215 x3\n",
        "2216 gibt\n",
        "2217 tao\n",
        "2218 vive\n",
        "2219 pace\n",
        "2220 gusta\n",
        "2221 relax\n",
        "2222 jam\n",
        "2223 paz\n",
        "2224 brick\n",
        "2225 digo\n",
        "2226 dei\n",
        "2227 complain\n",
        "2228 burden\n",
        "2229 sunrise\n",
        "2230 also\n",
        "2231 linger\n",
        "2232 jungle\n",
        "2233 hopeless\n",
        "2234 abl\n",
        "2235 agua\n",
        "2236 bop\n",
        "2237 fi\n",
        "2238 pillow\n",
        "2239 damage\n",
        "2240 mister.1\n",
        "2241 mask\n",
        "2242 itself\n",
        "2243 drove\n",
        "2244 pump\n",
        "2245 ska\n",
        "2246 boss\n",
        "2247 himself\n",
        "2248 list\n",
        "2249 whiskey\n",
        "2250 moral\n",
        "2251 affect\n",
        "2252 conquer\n",
        "2253 rosa\n",
        "2254 tumble\n",
        "2255 album\n",
        "2256 mend\n",
        "2257 warrior\n",
        "2258 sinner\n",
        "2259 herz\n",
        "2260 mientra\n",
        "2261 tip\n",
        "2262 express\n",
        "2263 loser\n",
        "2264 chant\n",
        "2265 ogni\n",
        "2266 crave\n",
        "2267 crystal\n",
        "2268 diga\n",
        "2269 perche\n",
        "2270 thrown\n",
        "2271 quell\n",
        "2272 encontrar\n",
        "2273 bay\n",
        "2274 bee\n",
        "2275 fruit\n",
        "2276 hanging\n",
        "2277 billi\n",
        "2278 hollywood\n",
        "2279 parade\n",
        "2280 allt\n",
        "2281 bailar\n",
        "2282 weed\n",
        "2283 ciudad\n",
        "2284 switch\n",
        "2285 wat\n",
        "2286 soir\n",
        "2287 stab\n",
        "2288 asham\n",
        "2289 vent\n",
        "2290 collect\n",
        "2291 macht\n",
        "2292 truck\n",
        "2293 instant\n",
        "2294 terra\n",
        "2295 temptat\n",
        "2296 kuin\n",
        "2297 skull\n",
        "2298 ora\n",
        "2299 ed\n",
        "2300 fare\n",
        "2301 rebel\n",
        "2302 meat\n",
        "2303 autumn\n",
        "2304 bom\n",
        "2305 viver\n",
        "2306 london\n",
        "2307 jos\n",
        "2308 deliv\n",
        "2309 perdido\n",
        "2310 cuor\n",
        "2311 doll\n",
        "2312 downtown\n",
        "2313 pink\n",
        "2314 v\n",
        "2315 owe\n",
        "2316 quun\n",
        "2317 sigu\n",
        "2318 howl\n",
        "2319 gana\n",
        "2320 heartbeat\n",
        "2321 core\n",
        "2322 butterfly\n",
        "2323"
       ]
      },
      {
       "output_type": "stream",
       "stream": "stdout",
       "text": [
        " aquel\n",
        "2324 chick\n",
        "2325 della\n",
        "2326 bastard\n",
        "2327 wer\n",
        "2328 noit\n",
        "2329 impossible\n",
        "2330 blood.1\n",
        "2331 easier\n",
        "2332 clue\n",
        "2333 li\n",
        "2334 fuera\n",
        "2335 shiver\n",
        "2336 pool\n",
        "2337 presence\n",
        "2338 dread\n",
        "2339 surface\n",
        "2340 nient\n",
        "2341 eyes.1\n",
        "2342 pienso\n",
        "2343 conscience\n",
        "2344 zero\n",
        "2345 pelo\n",
        "2346 alguien\n",
        "2347 blaze\n",
        "2348 squeez\n",
        "2349 blast\n",
        "2350 haben\n",
        "2351 dope\n",
        "2352 bruis\n",
        "2353 pue\n",
        "2354 tea\n",
        "2355 honor\n",
        "2356 ze\n",
        "2357 6\n",
        "2358 lamb\n",
        "2359 q\n",
        "2360 recognize\n",
        "2361 flor\n",
        "2362 whistle\n",
        "2363 roof\n",
        "2364 giving\n",
        "2365 gang\n",
        "2366 beware\n",
        "2367 tomb\n",
        "2368 lei\n",
        "2369 euch\n",
        "2370 seguir\n",
        "2371 wow\n",
        "2372 clap\n",
        "2373 squar\n",
        "2374 forma\n",
        "2375 working\n",
        "2376 rider\n",
        "2377 appl\n",
        "2378 modern\n",
        "2379 telling\n",
        "2380 magazine\n",
        "2381 cha\n",
        "2382 coz\n",
        "2383 inner\n",
        "2384 impress\n",
        "2385 drawn\n",
        "2386 smart\n",
        "2387 harmony\n",
        "2388 govern\n",
        "2389 im\n",
        "2390 quest\n",
        "2391 gran\n",
        "2392 volar\n",
        "2393 bliss\n",
        "2394 yuh\n",
        "2395 polit\n",
        "2396 dim\n",
        "2397 tour\n",
        "2398 pant\n",
        "2399 cheer\n",
        "2400 quer\n",
        "2401 familiar\n",
        "2402 fought\n",
        "2403 roar\n",
        "2404 dicen\n",
        "2405 nar\n",
        "2406 pen\n",
        "2407 obsess\n",
        "2408 century\n",
        "2409 i'm.1\n",
        "2410 failure\n",
        "2411 jail\n",
        "2412 parec\n",
        "2413 confide\n",
        "2414 meg\n",
        "2415 kneel\n",
        "2416 spare\n",
        "2417 pin\n",
        "2418 vaya\n",
        "2419 important.1\n",
        "2420 mourn.1\n",
        "2421 hablar\n",
        "2422 giorno\n",
        "2423 yearn\n",
        "2424 cuenta\n",
        "2425 guilt\n",
        "2426 solution\n",
        "2427 terr\n",
        "2428 focus\n",
        "2429 cling\n",
        "2430 concrete\n",
        "2431 horror\n",
        "2432 sore\n",
        "2433 dom\n",
        "2434 unfold\n",
        "2435 bounce\n",
        "2436 nun\n",
        "2437 goal\n",
        "2438 selfish\n",
        "2439 knowledge\n",
        "2440 cancion\n",
        "2441 awaken\n",
        "2442 bath\n",
        "2443 kommt\n",
        "2444 delight\n",
        "2445 hesitate\n",
        "2446 fond\n",
        "2447 parol\n",
        "2448 courage\n",
        "2449 serious\n",
        "2450 whether\n",
        "2451 ter\n",
        "2452 sweetest\n",
        "2453 useless\n",
        "2454 invisible\n",
        "2455 film\n",
        "2456 ole\n",
        "2457 themselves\n",
        "2458 male\n",
        "2459 alcohol\n",
        "2460 sake\n",
        "2461 sway\n",
        "2462 relate\n",
        "2463 nott\n",
        "2464 tra\n",
        "2465 stair\n",
        "2466 parent\n",
        "2467 advic\n",
        "2468 grind\n",
        "2469 negro\n",
        "2470 vento\n",
        "2471 riot\n",
        "2472 sombra\n",
        "2473 blown\n",
        "2474 bajo\n",
        "2475 7\n",
        "2476 saa\n",
        "2477 burst\n",
        "2478 quel\n",
        "2479 size\n",
        "2480 sheep\n",
        "2481 fold\n",
        "2482 capture\n",
        "2483 dies\n",
        "2484 texa\n",
        "2485 lee\n",
        "2486 dwell\n",
        "2487 frighten\n",
        "2488 fragile\n",
        "2489 einen\n",
        "2490 ave\n",
        "2491 can't\n",
        "2492 hacia\n",
        "2493 blew\n",
        "2494 chicken\n",
        "2495 thorn\n",
        "2496 teenager\n",
        "2497 everlasting\n",
        "2498 zone\n",
        "2499 tape\n",
        "2500 feather\n",
        "2501 necesito\n",
        "2502 compare\n",
        "2503 agora\n",
        "2504 loin\n",
        "2505 pig\n",
        "2506 carve\n",
        "2507 plague\n",
        "2508 tiger\n",
        "2509 flat\n",
        "2510 dee\n",
        "2511 punch\n",
        "2512 bueno\n",
        "2513 slaughter\n",
        "2514 funk\n",
        "2515 deseo\n",
        "2516 ami\n",
        "2517 nervous\n",
        "2518 tragedy\n",
        "2519 thick\n",
        "2520 mijn\n",
        "2521 fence\n",
        "2522 anytime\n",
        "2523 backwards\n",
        "2524 brighter\n",
        "2525 voir\n",
        "2526 envy\n",
        "2527 complicated\n",
        "2528 captain\n",
        "2529 purpose\n",
        "2530 ordinary\n",
        "2531 nuestra\n",
        "2532 grin\n",
        "2533 mer\n",
        "2534 infect\n",
        "2535 spine\n",
        "2536 ought\n",
        "2537 defend\n",
        "2538 photograph\n",
        "2539 tha\n",
        "2540 prey\n",
        "2541 patient\n",
        "2542 nombr\n",
        "2543 flip\n",
        "2544 mc\n",
        "2545 mist\n",
        "2546 toss\n",
        "2547 castle\n",
        "2548 ici\n",
        "2549 horn\n",
        "2550 secure\n",
        "2551 jane\n",
        "2552 k\n",
        "2553 sa.2\n",
        "2554 sympathy\n",
        "2555 creo\n",
        "2556 baila\n",
        "2557 trash\n",
        "2558 shirt\n",
        "2559 twilight\n",
        "2560 pair\n",
        "2561 dreamer\n",
        "2562 compromise\n",
        "2563 board\n",
        "2564 veil\n",
        "2565 error\n",
        "2566 standing\n",
        "2567 ke\n",
        "2568 realise\n",
        "2569 devoted\n",
        "2570 solid\n",
        "2571 babylon\n",
        "2572 fancy\n",
        "2573 ding\n",
        "2574 kom\n",
        "2575 faz\n",
        "2576 cerca\n",
        "2577 eg\n",
        "2578 holding\n",
        "2579 justify\n",
        "2580 alor\n",
        "2581 pearl\n",
        "2582 domin\n",
        "2583 soleil\n",
        "2584 estaba\n",
        "2585 origin\n",
        "2586 llegar\n",
        "2587 reject\n",
        "2588 awhile\n",
        "2589 sag\n",
        "2590 milk\n",
        "2591 tener\n",
        "2592 sweetheart\n",
        "2593 lil\n",
        "2594 content\n",
        "2595 samba\n",
        "2596 extra\n",
        "2597 ka\n",
        "2598 rotten\n",
        "2599 sucker\n",
        "2600 salt\n",
        "2601 bat\n",
        "2602 worn\n",
        "2603 toll\n",
        "2604 pi\n",
        "2605 buscando\n",
        "2606 yard\n",
        "2607 leather\n",
        "2608 astray\n",
        "2609 shift\n",
        "2610 third\n",
        "2611 grief\n",
        "2612 azul\n",
        "2613 upside\n",
        "2614 buck\n",
        "2615 jingle\n",
        "2616 witch\n",
        "2617 dune\n",
        "2618 borrow\n",
        "2619 zijn\n",
        "2620 ont\n",
        "2621 kitchen\n",
        "2622 bedroom\n",
        "2623 sient\n",
        "2624 sigo\n",
        "2625 cream\n",
        "2626 birthday\n",
        "2627 limb\n",
        "2628 court\n",
        "2629 tom\n",
        "2630 neon\n",
        "2631 teacher\n",
        "2632 meer\n",
        "2633 overcome\n",
        "2634 depress\n",
        "2635 ingen\n",
        "2636 juli\n",
        "2637 scatter\n",
        "2638 pussy\n",
        "2639 pile\n",
        "2640 jealous\n",
        "2641 bum\n",
        "2642 rocket\n",
        "2643 jimmi\n",
        "2644 habit\n",
        "2645 dor\n",
        "2646 sensation\n",
        "2647 corrupt\n",
        "2648 righteous\n",
        "2649 neighbor\n",
        "2650 rob\n",
        "2651 moan\n",
        "2652 quello\n",
        "2653 dormir\n",
        "2654 virgin\n",
        "2655 labio\n",
        "2656 port\n",
        "2657 libertad\n",
        "2658 depth\n",
        "2659 revel\n",
        "2660 pasar\n",
        "2661 screw\n",
        "2662 stress\n",
        "2663 wolf\n",
        "2664 sto\n",
        "2665 augen\n",
        "2666 el.1\n",
        "2667 rum\n",
        "2668 sir\n",
        "2669 voor\n",
        "2670 beau\n",
        "2671 espera\n",
        "2672 beam\n",
        "2673 add\n",
        "2674 farewell\n",
        "2675 shower\n",
        "2676 concern\n",
        "2677 pasado\n",
        "2678 measure\n",
        "2679 oui\n",
        "2680 licht\n",
        "2681 voglio\n",
        "2682 4x\n",
        "2683 raining\n",
        "2684 remove\n",
        "2685 cease\n",
        "2686 tail\n",
        "2687 ive\n",
        "2688 apology\n",
        "2689 fear.1\n",
        "2690 border\n",
        "2691 breaking\n",
        "2692 viva\n",
        "2693 charge\n",
        "2694 mij\n",
        "2695 frustrate\n",
        "2696 perfume\n",
        "2697 bent\n",
        "2698 bubble\n",
        "2699 unto\n",
        "2700 dag\n",
        "2701 terrible\n",
        "2702 ciel\n",
        "2703 eve\n",
        "2704 disgrace\n",
        "2705 soil\n",
        "2706 pro\n",
        "2707 puerta\n",
        "2708 wrath\n",
        "2709 mun\n",
        "2710 dreaming\n",
        "2711 feast\n",
        "2712 nas\n",
        "2713 reaction\n",
        "2714 duel\n",
        "2715 9\n",
        "2716 scheme\n",
        "2717 aware\n",
        "2718 smooth\n",
        "2719 shallow\n",
        "2720 razon\n",
        "2721 pode\n",
        "2722 trigger\n",
        "2723 patience\n",
        "2724 fatal\n",
        "2725 brazo\n",
        "2726 warmth\n",
        "2727 nai\n",
        "2728 ceil\n",
        "2729 agony\n",
        "2730 sweep\n",
        "2731 starve\n",
        "2732 deje\n",
        "2733 prince\n",
        "2734 olho\n",
        "2735 collapse\n",
        "2736 fuel\n",
        "2737 david\n",
        "2738 skip\n",
        "2739 entend\n",
        "2740 greet\n",
        "2741 haze\n",
        "2742 wore\n",
        "2743 crow\n",
        "2744 pueda\n",
        "2745 coup\n",
        "2746 war.1\n",
        "2747 a.2\n",
        "2748 vale\n",
        "2749 fe\n",
        "2750 private\n",
        "2751 nyt\n",
        "2752 jame\n",
        "2753 herself\n",
        "2754 bullshit\n",
        "2755 teardrop\n",
        "2756 commit\n",
        "2757 blink\n",
        "2758 pensando\n",
        "2759 disaster\n",
        "2760 lon\n",
        "2761 ang\n",
        "2762 olvido\n",
        "2763 siren\n",
        "2764 glorious\n",
        "2765 frown\n",
        "2766 glance\n",
        "2767 absolute\n",
        "2768 vuelvo\n",
        "2769 convince\n",
        "2770 palm\n",
        "2771 guarantee\n",
        "2772 mention\n",
        "2773 riding\n",
        "2774 rent\n",
        "2775 mike\n",
        "2776 vaan\n",
        "2777 sentiment\n",
        "2778 tutti\n",
        "2779 heartbreak\n",
        "2780 pobr\n",
        "2781 haut\n",
        "2782 ano\n",
        "2783 unser\n",
        "2784 corp\n",
        "2785 vow\n",
        "2786 ele\n",
        "2787 sadness\n",
        "2788 stray\n",
        "2789 vuoi\n",
        "2790 oi\n",
        "2791 punish\n",
        "2792 libr\n",
        "2793 fondo\n",
        "2794 i'll\n",
        "2795 morgen\n",
        "2796 television\n",
        "2797 cama\n",
        "2798 suffocate\n",
        "2799 mann\n",
        "2800 click\n",
        "2801 torment\n",
        "2802 repent\n",
        "2803 fri\n",
        "2804 contra\n",
        "2805 condit\n",
        "2806 alt\n",
        "2807 teas\n",
        "2808 linda\n",
        "2809 prize\n",
        "2810 michael\n",
        "2811 yell\n",
        "2812 jou\n",
        "2813 jo\n",
        "2814 ego\n",
        "2815 dont.1\n",
        "2816 ander\n",
        "2817 cook\n",
        "2818 cave\n",
        "2819 darken\n",
        "2820 mut\n",
        "2821 attitude\n",
        "2822 collide\n",
        "2823 adesso\n",
        "2824 mirar\n",
        "2825 mitt\n",
        "2826 sleeve\n",
        "2827 parar\n",
        "2828 despue\n",
        "2829 sting\n",
        "2830 plenty\n",
        "2831 werd\n",
        "2832 coracao\n",
        "2833 gay\n",
        "2834 devour\n",
        "2835 peut\n",
        "2836 eagl\n",
        "2837 fors\n",
        "2838 equal.1\n",
        "2839 empire\n",
        "2840 prend\n",
        "2841 balance\n",
        "2842 ala\n",
        "2843 gar\n",
        "2844 culture\n",
        "2845 soak\n",
        "2846 jeder\n",
        "2847 quarter\n",
        "2848 tone\n",
        "2849 herida\n",
        "2850 amanec\n",
        "2851 summertime\n",
        "2852 unseen\n",
        "2853 thang\n",
        "2854 sharp\n",
        "2855 proof\n",
        "2856 smile.1\n",
        "2857 earn\n",
        "2858 preacher\n",
        "2859 uber\n",
        "2860 base\n",
        "2861 belli\n",
        "2862 mach\n",
        "2863 lullaby\n",
        "2864 louder\n",
        "2865 dulc\n",
        "2866 panic\n",
        "2867 flore\n",
        "2868 social\n",
        "2869 werden\n",
        "2870 rang\n",
        "2871 cock\n",
        "2872 shown\n",
        "2873 sung\n",
        "2874 understood\n",
        "2875 progress\n",
        "2876 cambiar\n",
        "2877 strand\n",
        "2878 seh\n",
        "2879 role\n",
        "2880 despertar\n",
        "2881 bride\n",
        "2882 crook\n",
        "2883 fiesta\n",
        "2884 3x\n",
        "2885 thug\n",
        "2886 bind\n",
        "2887 quoi\n",
        "2888 notr\n",
        "2889 shove\n",
        "2890 suert\n",
        "2891 gangsta\n",
        "2892 frent\n",
        "2893 cherry\n",
        "2894 mill\n",
        "2895 ha.1\n",
        "2896 oil\n",
        "2897 coisa\n",
        "2898 dude\n",
        "2899 deed\n",
        "2900 oclock\n",
        "2901 cabeza\n",
        "2902 st\n",
        "2903 tres\n",
        "2904 ama\n",
        "2905 drank\n",
        "2906 strain\n",
        "2907 espero\n",
        "2908 muert\n",
        "2909 dragon\n",
        "2910 homm\n",
        "2911 wrist\n",
        "2912 team\n",
        "2913 jen\n",
        "2914 thirst\n",
        "2915 einfach\n",
        "2916 basta\n",
        "2917 playa\n",
        "2918 pronto\n",
        "2919 avoid\n",
        "2920 inch\n",
        "2921 ecstasy\n",
        "2922 muero\n",
        "2923 inform\n",
        "2924 mud\n",
        "2925 deus\n",
        "2926 gehen\n",
        "2927 madr\n",
        "2928 purple\n",
        "2929 nog\n",
        "2930 razor\n",
        "2931 rust\n",
        "2932 femm\n",
        "2933 famous\n",
        "2934 pui\n",
        "2935 definite\n",
        "2936 atra\n",
        "2937 don't.1\n",
        "2938 bold\n",
        "2939 bible\n",
        "2940 pit\n",
        "2941 kaikki\n",
        "2942 burnt\n",
        "2943 choir\n",
        "2944 trial\n",
        "2945 essa\n",
        "2946 entertain\n",
        "2947 penny\n",
        "2948 comment\n",
        "2949 rio\n",
        "2950 har.1\n",
        "2951 bras\n",
        "2952 tenho\n",
        "2953 demis\n",
        "2954 serpent\n",
        "2955 lleva\n",
        "2956 alguna\n",
        "2957 emerge\n",
        "2958 rue\n",
        "2959 stolen\n",
        "2960 ooooh\n",
        "2961 alarm\n",
        "2962 autr\n",
        "2963 hug\n",
        "2964 arrow\n",
        "2965 buena\n",
        "2966 temple\n",
        "2967 tambien\n",
        "2968 rejoice\n",
        "2969 bene\n",
        "2970 code\n",
        "2971 vuelva\n",
        "2972 love.6\n",
        "2973 it.2\n",
        "2974 tame\n",
        "2975 dancer\n",
        "2976 odd\n",
        "2977 gloria\n",
        "2978 map\n",
        "2979 adio\n",
        "2980 preside\n",
        "2981 aha\n",
        "2982 afford\n",
        "2983 southern\n",
        "2984 mala\n",
        "2985 driving\n",
        "2986 rag\n",
        "2987 organ\n",
        "2988 experience\n",
        "2989 spite\n",
        "2990 boil\n",
        "2991 movement\n",
        "2992 highest\n",
        "2993 avant\n",
        "2994 immort\n",
        "2995 pens\n",
        "2996 plate\n",
        "2997 cake\n",
        "2998 esperando\n",
        "2999 esperar\n",
        "3000 az\n",
        "3001 qu\n",
        "3002 bobbi\n",
        "3003 slam\n",
        "3004 jet\n",
        "3005 vom\n",
        "3006 chanson\n",
        "3007 halt\n",
        "3008 soar\n",
        "3009 cancion.1\n",
        "3010 bob\n",
        "3011 swell\n",
        "3012 bo\n",
        "3013 warum\n",
        "3014 pot\n",
        "3015 funer\n",
        "3016 christian\n",
        "3017 gen\n",
        "3018 yeh\n",
        "3019 nino\n",
        "3020 risk\n",
        "3021 ritmo\n",
        "3022 felicidad\n",
        "3023 science\n",
        "3024 plead\n",
        "3025 llevo\n",
        "3026 vu\n",
        "3027 drinking\n",
        "3028 maker\n",
        "3029 amen\n",
        "3030 giant\n",
        "3031 level\n",
        "3032 raw\n",
        "3033 nella\n",
        "3034 ess\n",
        "3035 flew\n",
        "3036 8\n",
        "3037 ate\n",
        "3038 language\n",
        "3039 deepest\n",
        "3040 pido\n",
        "3041 zuruck\n",
        "3042 encuentro\n",
        "3043 motor\n",
        "3044 visit\n",
        "3045 z\n",
        "3046 sweeter\n",
        "3047 pose\n",
        "3048 aldrig\n",
        "3049 cradle\n",
        "3050 obey\n",
        "3051 goddamn\n",
        "3052 threat\n",
        "3053 partir\n",
        "3054 hoje\n",
        "3055 driver\n",
        "3056 attract\n",
        "3057 buddy\n",
        "3058 public\n",
        "3059 avenue\n",
        "3060 taa\n",
        "3061 co\n",
        "3062 busco\n",
        "3063 tempt\n",
        "3064 chemical\n",
        "3065 jone\n",
        "3066 shaking\n",
        "3067 ny\n",
        "3068 mie\n",
        "3069 siamo\n",
        "3070 nena\n",
        "3071 vorrei\n",
        "3072 bein\n",
        "3073 daili\n",
        "3074 sta\n",
        "3075 stack\n",
        "3076 nasty\n",
        "3077 satisfaction\n",
        "3078 center\n",
        "3079 tame.1\n",
        "3080 pierce\n",
        "3081 obvious\n",
        "3082 worthy\n",
        "3083 pourquoi\n",
        "3084 consider\n",
        "3085 gar.1\n",
        "3086 anda\n",
        "3087 sparkle\n",
        "3088 willst\n",
        "3089 fulfillment\n",
        "3090 i'v\n",
        "3091 prophet\n",
        "3092 vanish\n",
        "3093 pan\n",
        "3094 slap\n",
        "3095 quien.1\n",
        "3096 hypnotic\n",
        "3097 spoon\n",
        "3098 posso\n",
        "3099 thread\n",
        "3100 china\n",
        "3101 chew\n",
        "3102 quanto\n",
        "3103 canta\n",
        "3104 whatcha\n",
        "3105 bump\n",
        "3106 es.1\n",
        "3107 humble\n",
        "3108 claw\n",
        "3109 preach\n",
        "3110 cadillac\n",
        "3111 mate\n",
        "3112 chaqu\n",
        "3113 si.1\n",
        "3114 bond\n",
        "3115 grain\n",
        "3116 ninguem\n",
        "3117 dieser\n",
        "3118 sao\n",
        "3119 mucha\n",
        "3120 voce\n",
        "3121 como.1\n",
        "3122 sanity\n",
        "3123 blank\n",
        "3124 gia\n",
        "3125 degree\n",
        "3126 wither\n",
        "3127 snap\n",
        "3128 fog\n",
        "3129 doy\n",
        "3130 despise\n",
        "3131 endure\n",
        "3132 luce\n",
        "3133 busca\n",
        "3134 salir\n",
        "3135 sip\n",
        "3136 dedicate\n",
        "3137 pine\n",
        "3138 alley\n",
        "3139 rearrange\n",
        "3140 savior.1\n",
        "3141 donn\n",
        "3142 traffic\n",
        "3143 sincere\n",
        "3144 vad\n",
        "3145 liberty\n",
        "3146 volta\n",
        "3147 gypsy\n",
        "3148 pare\n",
        "3149 ko\n",
        "3150 struck\n",
        "3151 deinen\n",
        "3152 chip\n",
        "3153 ut\n",
        "3154 puls\n",
        "3155 scent\n",
        "3156 meinen\n",
        "3157 lame\n",
        "3158 stir\n",
        "3159 chop\n",
        "3160 fuert\n",
        "3161 sehen\n",
        "3162 condemn\n",
        "3163 llena\n",
        "3164 cleans\n",
        "3165 neither\n",
        "3166 buzz\n",
        "3167 tai\n",
        "3168 indian\n",
        "3169 muss\n",
        "3170 enfant\n",
        "3171 negra\n",
        "3172 rub\n",
        "3173 prima\n",
        "3174 blowing\n",
        "3175 cancer\n",
        "3176 solitude\n",
        "3177 driven\n",
        "3178 kommer\n",
        "3179 klein\n",
        "3180 sooner\n",
        "3181 success\n",
        "3182 media\n",
        "3183 viejo\n",
        "3184 blacken\n",
        "3185 foreign\n",
        "3186 vuelta\n",
        "3187 greater\n",
        "3188 source\n",
        "3189 boyfriend\n",
        "3190 medicine\n",
        "3191 rare\n",
        "3192 hago\n",
        "3193 lace\n",
        "3194 december\n",
        "3195 colder\n",
        "3196 camera\n",
        "3197 quelqu\n",
        "3198 bail\n",
        "3199 sagt\n",
        "3200 vivr\n",
        "3201 tool\n",
        "3202 oper\n",
        "3203 criming\n",
        "3204 having\n",
        "3205 interest\n",
        "3206 paul\n",
        "3207 etre\n",
        "3208 llega\n",
        "3209 vet\n",
        "3210 runaway\n",
        "3211 slept\n",
        "3212 footstep\n",
        "3213 sixteen\n",
        "3214 fuerza\n",
        "3215 priest\n",
        "3216 nana\n",
        "3217 egg\n",
        "3218 intro\n",
        "3219 aussi\n",
        "3220 realidad\n",
        "3221 turning\n",
        "3222 alien\n",
        "3223 vengeance\n",
        "3224 kannst\n",
        "3225 dejar\n",
        "3226 stake\n",
        "3227 dias\n",
        "3228 sonn\n",
        "3229 noir\n",
        "3230 sooth\n",
        "3231 cuanto\n",
        "3232 rein\n",
        "3233 bara\n",
        "3234 watching\n",
        "3235 sentido\n",
        "3236 peel\n",
        "3237 stormy\n",
        "3238 player\n",
        "3239 dinner\n",
        "3240 hardest\n",
        "3241 respons\n",
        "3242 juego\n",
        "3243 worm\n",
        "3244 tak\n",
        "3245 aye\n",
        "3246 ar.1\n",
        "3247 perhaps\n",
        "3248 dizer\n",
        "3249 orlean\n",
        "3250 blond\n",
        "3251 critical\n",
        "3252 stomach\n",
        "3253 niemand\n",
        "3254 toast\n",
        "3255 oye\n",
        "3256 bug\n",
        "3257 crucify\n",
        "3258 sailor\n",
        "3259 steam\n",
        "3260 clever\n",
        "3261 clause\n",
        "3262 uncle\n",
        "3263 gravity\n",
        "3264 chica\n",
        "3265 reap\n",
        "3266 sento\n",
        "3267 farm\n",
        "3268 opinion\n",
        "3269 estamo\n",
        "3270 whom\n",
        "3271 blir\n",
        "3272 grasp\n",
        "3273 mamma\n",
        "3274 tore\n",
        "3275 dale\n",
        "3276 hurricane\n",
        "3277 mesmo\n",
        "3278 thief\n",
        "3279 za\n",
        "3280 tuoi\n",
        "3281 vibe\n",
        "3282 shiny\n",
        "3283 death.1\n",
        "3284 sidewalk\n",
        "3285 passa\n",
        "3286 conscious\n",
        "3287 glove\n",
        "3288 perform\n",
        "3289 rain.1\n",
        "3290 winner\n",
        "3291 consequence\n",
        "3292 cantando\n",
        "3293 bleibt\n",
        "3294 buscar\n",
        "3295 sentimiento\n",
        "3296 disappoint\n",
        "3297 ann\n",
        "3298 lamor\n",
        "3299 oss\n",
        "3300 amant\n",
        "3301 ki\n",
        "3302 zo\n",
        "3303 jede\n",
        "3304 satellite\n",
        "3305 tattoo\n",
        "3306 muito\n",
        "3307 weit\n",
        "3308 tas\n",
        "3309 deg\n",
        "3310 usual\n",
        "3311 hecho\n",
        "3312 cocaine\n",
        "3313 tot\n",
        "3314 tuesday\n",
        "3315 tension\n",
        "3316 rout\n",
        "3317 educ\n",
        "3318 bitt\n",
        "3319 zombie\n",
        "3320 ohoh\n",
        "3321 mieux\n",
        "3322 fury\n",
        "3323 alter\n",
        "3324 lend\n",
        "3325 valu\n",
        "3326 ainda\n",
        "3327 coal\n",
        "3328 ti.1\n",
        "3329 mommy\n",
        "3330 velvet\n",
        "3331 blanket\n",
        "3332 drama\n",
        "3333 bowl\n",
        "3334 orange\n",
        "3335 amart\n",
        "3336 uhh\n",
        "3337 reborn\n",
        "3338 angst\n",
        "3339 lotta\n",
        "3340 lying\n",
        "3341 especially\n",
        "3342 conceale\n",
        "3343 rid\n",
        "3344 ideal\n",
        "3345 dal\n",
        "3346 sos\n",
        "3347 willi\n",
        "3348 sentence\n",
        "3349 tete\n",
        "3350 dell\n",
        "3351 adio.1\n",
        "3352 tar\n",
        "3353 button\n",
        "3354 nao.1\n",
        "3355 strap\n",
        "3356 meinem\n",
        "3357 display\n",
        "3358 aan\n",
        "3359 fra\n",
        "3360 ihn\n",
        "3361 tap\n",
        "3362 sagen\n",
        "3363 miei\n",
        "3364 hon\n",
        "3365 signal\n",
        "3366 sul\n",
        "3367 shook\n",
        "3368 dot\n",
        "3369 jewel\n",
        "3370 himmel\n",
        "3371 vine\n",
        "3372 redeem\n",
        "3373 musica\n",
        "3374 cow\n",
        "3375 einer\n",
        "3376 terminate\n",
        "3377 meus\n",
        "3378 pattern\n",
        "3379 ur\n",
        "3380 throughout\n",
        "3381 younger\n",
        "3382 coin\n",
        "3383 verso\n",
        "3384 deaf\n",
        "3385 ahhh\n",
        "3386 expos\n",
        "3387 compass\n",
        "3388 person.1\n",
        "3389 donna\n",
        "3390 num\n",
        "3391 describe\n",
        "3392 lower\n",
        "3393 brush\n",
        "3394 happiness\n",
        "3395 mm\n",
        "3396 outro\n",
        "3397 fazer\n",
        "3398 tangle\n",
        "3399 instinct\n",
        "3400 effect\n",
        "3401 approach\n",
        "3402 breast\n",
        "3403 volt\n",
        "3404 naar\n",
        "3405 dart\n",
        "3406 wil\n",
        "3407 frank\n",
        "3408 ow\n",
        "3409 reply\n",
        "3410 provide\n",
        "3411 fim\n",
        "3412 declare\n",
        "3413 nuclear\n",
        "3414 swore\n",
        "3415 ez\n",
        "3416 llama\n",
        "3417 vino\n",
        "3418 estan\n",
        "3419 solve\n",
        "3420 piensa\n",
        "3421 steht\n",
        "3422 distort\n",
        "3423 lair\n",
        "3424 rubber\n",
        "3425 factory\n",
        "3426 post\n",
        "3427 artist\n",
        "3428 anni\n",
        "3429 peter\n",
        "3430 biggest\n",
        "3431 brutal\n",
        "3432 extreme\n",
        "3433 english\n",
        "3434 jij\n",
        "3435 jerk\n",
        "3436 aun\n",
        "3437 calma\n",
        "3438 laiss\n",
        "3439 debt\n",
        "3440 perch\n",
        "3441 shield\n",
        "3442 mia.1\n",
        "3443 esperanza\n",
        "3444 haar\n",
        "3445 doi\n",
        "3446 redemption\n",
        "3447 model\n",
        "3448 sido\n",
        "3449 weigh\n",
        "3450 resurrect\n",
        "3451 alto\n",
        "3452 curl\n",
        "3453 cent\n",
        "3454 june\n",
        "3455 slice\n",
        "3456 mita\n",
        "3457 sha\n",
        "3458 olen\n",
        "3459 insecure\n",
        "3460 coward\n",
        "3461 ra\n",
        "3462 usa\n",
        "3463 finn\n",
        "3464 georgia\n",
        "3465 estou\n",
        "3466 cute\n",
        "3467 cruis\n",
        "3468 mexico\n",
        "3469 invade\n",
        "3470 jealousy\n",
        "3471 futuro\n",
        "3472 fuist\n",
        "3473 dejo\n",
        "3474 halo\n",
        "3475 tras\n",
        "3476 beaten\n",
        "3477 luego\n",
        "3478 shelf\n",
        "3479 motive\n",
        "3480 twelve\n",
        "3481 it.3\n",
        "3482 rumor\n",
        "3483 tennesse\n",
        "3484 swept\n",
        "3485 anna\n",
        "3486 jaim\n",
        "3487 nosso\n",
        "3488 nuh\n",
        "3489 jama\n",
        "3490 contain\n",
        "3491 nein\n",
        "3492 wort\n",
        "3493 ate.1\n",
        "3494 sleigh\n",
        "3495 schon.1\n",
        "3496 champagne\n",
        "3497 aun.1\n",
        "3498 defense\n",
        "3499 deceit\n",
        "3500 weird\n",
        "3501 relief\n",
        "3502 ta.1\n",
        "3503 product\n",
        "3504 dip\n",
        "3505 zwei\n",
        "3506 12\n",
        "3507 gesicht\n",
        "3508 singer\n",
        "3509 vera\n",
        "3510 vielleicht\n",
        "3511 spi\n",
        "3512 target\n",
        "3513 souvenir\n",
        "3514 stereo\n",
        "3515 bij\n",
        "3516 rude\n",
        "3517 manera\n",
        "3518 ab\n",
        "3519 reli\n",
        "3520 woh\n",
        "3521 harvest\n",
        "3522 corpo\n",
        "3523 liquid\n",
        "3524 fucker\n",
        "3525 exit\n",
        "3526 sonho\n",
        "3527 20\n",
        "3528 woe\n",
        "3529 web\n",
        "3530 casi\n",
        "3531 facil\n",
        "3532 princess\n",
        "3533 einmal\n",
        "3534 muscle\n",
        "3535 booty\n",
        "3536 blur\n",
        "3537 ii\n",
        "3538 ahi\n",
        "3539 duck\n",
        "3540 respirar\n",
        "3541 mina\n",
        "3542 evid\n",
        "3543 idiot\n",
        "3544 breakdown\n",
        "3545 liber\n",
        "3546 sow\n",
        "3547 georg\n",
        "3548 dans\n",
        "3549 einem\n",
        "3550 flying\n",
        "3551 symphony\n",
        "3552 ficar\n",
        "3553 automate\n",
        "3554 robot\n",
        "3555 igen\n",
        "3556 realm\n",
        "3557 practice\n",
        "3558 distract\n",
        "3559 extrano\n",
        "3560 judgment\n",
        "3561 sane\n",
        "3562 april\n",
        "3563 caer\n",
        "3564 gear\n",
        "3565 vicious\n",
        "3566 womb\n",
        "3567 visto\n",
        "3568 h\n",
        "3569 major\n",
        "3570 willow\n",
        "3571 neighborhood\n",
        "3572 static\n",
        "3573 wealth\n",
        "3574 reel\n",
        "3575 yer\n",
        "3576 isol\n",
        "3577 joint\n",
        "3578 donde\n",
        "3579 venus\n",
        "3580 dijo\n",
        "3581 every.1\n",
        "3582 wolf.1\n",
        "3583 ventana\n",
        "3584 lala\n",
        "3585 carino\n",
        "3586 dinero\n",
        "3587 africa\n",
        "3588 coraz\n",
        "3589 homi\n",
        "3590 sock\n",
        "3591 arena\n",
        "3592 support\n",
        "3593 credit\n",
        "3594 regga\n",
        "3595 repres\n",
        "3596 miro\n",
        "3597 matin\n",
        "3598 sleepy\n",
        "3599 worthless\n",
        "3600 video\n",
        "3601 grief.1\n",
        "3602 meiner\n",
        "3603 branch\n",
        "3604 achieve\n",
        "3605 denk\n",
        "3606 viela\n",
        "3607 demain\n",
        "3608 maze\n",
        "3609 knocking\n",
        "3610 correct\n",
        "3611 dial\n",
        "3612 file\n",
        "3613 misma\n",
        "3614 soi\n",
        "3615 malo\n",
        "3616 filthy\n",
        "3617 jim\n",
        "3618 juice\n",
        "3619 convict\n",
        "3620 cycle\n",
        "3621 ceux\n",
        "3622 perdu\n",
        "3623 ello\n",
        "3624 disturb\n",
        "3625 pein\n",
        "3626 chocolate\n",
        "3627 rapper\n",
        "3628 olvid\n",
        "3629 forgiven\n",
        "3630 sinn\n",
        "3631 tend\n",
        "3632 corpor\n",
        "3633 tunnel\n",
        "3634 loca\n",
        "3635 dai\n",
        "3636 legend\n",
        "3637 dimension\n",
        "3638 tief\n",
        "3639 idol\n",
        "3640 dying\n",
        "3641 forsaken\n",
        "3642 alla.1\n",
        "3643 fella\n",
        "3644 physical\n",
        "3645 matar\n",
        "3646 tragic\n",
        "3647 gris\n",
        "3648 soll\n",
        "3649 forti\n",
        "3650 communicate\n",
        "3651 dough\n",
        "3652 england\n",
        "3653 denial\n",
        "3654 dar.1\n",
        "3655 liv\n",
        "3656 local\n",
        "3657 algun\n",
        "3658 urg\n",
        "3659 ceu\n",
        "3660 hijo\n",
        "3661 taxi\n",
        "3662 ambit\n",
        "3663 voyage\n",
        "3664 locura\n",
        "3665 mere\n",
        "3666 dull\n",
        "3667 unleash\n",
        "3668 tread\n",
        "3669 smoking\n",
        "3670 william\n",
        "3671 gleam\n",
        "3672 civil\n",
        "3673 defy\n",
        "3674 haga\n",
        "3675 amongst\n",
        "3676 ob\n",
        "3677 heed\n",
        "3678 bull\n",
        "3679 host\n",
        "3680 dieu\n",
        "3681 village\n",
        "3682 unkind\n",
        "3683 altar\n",
        "3684 arriba\n",
        "3685 sal\n",
        "3686 lisa\n",
        "3687 bunch\n",
        "3688 croi\n",
        "3689 weiter\n",
        "3690 pardon\n",
        "3691 aller\n",
        "3692 despite\n",
        "3693 ignit\n",
        "3694 cotton\n",
        "3695 nei\n",
        "3696 dr\n",
        "3697 verd\n",
        "3698 phase\n",
        "3699 porta\n",
        "3700 gracia\n",
        "3701 tue\n",
        "3702 depoi\n",
        "3703 link\n",
        "3704 intern\n",
        "3705 seventeen\n",
        "3706 decirt\n",
        "3707 shes\n",
        "3708 coffin\n",
        "3709 hound\n",
        "3710 deception\n",
        "3711 health\n",
        "3712 frei\n",
        "3713 alibi\n",
        "3714 vengo\n",
        "3715 bled\n",
        "3716 ruby\n",
        "3717 leaf\n",
        "3718 attempt\n",
        "3719 tienen\n",
        "3720 crying.1\n",
        "3721 suelo\n",
        "3722 thumb\n",
        "3723 razon.1\n",
        "3724 rode\n",
        "3725 sober\n",
        "3726 buen\n",
        "3727 pela\n",
        "3728 cum\n",
        "3729 joka\n",
        "3730 ia\n",
        "3731 crimson\n",
        "3732 height\n",
        "3733 frost\n",
        "3734 acid\n",
        "3735 glaub\n",
        "3736 net\n",
        "3737 pimp\n",
        "3738 empezar\n",
        "3739 font\n",
        "3740 selbst\n",
        "3741 shepherd\n",
        "3742 hunter\n",
        "3743 jive\n",
        "3744 prevail\n",
        "3745 jaw\n",
        "3746 circus\n",
        "3747 sia\n",
        "3748 background\n",
        "3749 fairy\n",
        "3750 suffer.1\n",
        "3751 quieren\n",
        "3752 symbol\n",
        "3753 sabor\n",
        "3754 geh\n",
        "3755 sulla\n",
        "3756 jeden\n",
        "3757 peak\n",
        "3758 plot\n",
        "3759 guarda\n",
        "3760 blanco\n",
        "3761 manage\n",
        "3762 safety\n",
        "3763 sleepless\n",
        "3764 chez\n",
        "3765 liquor\n",
        "3766 narrow\n",
        "3767 explosion\n",
        "3768 object\n",
        "3769 there.1\n",
        "3770 meal\n",
        "3771 unholy\n",
        "3772 nos.1\n",
        "3773 deiner\n",
        "3774 untrue\n",
        "3775 wah\n",
        "3776 fountain\n",
        "3777 o.1\n",
        "3778 penso\n",
        "3779 spider\n",
        "3780 mata\n",
        "3781 inde\n",
        "3782 poet\n",
        "3783 flicker\n",
        "3784 vote\n",
        "3785 tank\n",
        "3786 salli\n",
        "3787 scale\n",
        "3788 halfway\n",
        "3789 jsui\n",
        "3790 traum\n",
        "3791 keeping\n",
        "3792 foe\n",
        "3793 honesty\n",
        "3794 creer\n",
        "3795 missing\n",
        "3796 torch\n",
        "3797 infinity\n",
        "3798 nina\n",
        "3799 war.2\n",
        "3800 haus\n",
        "3801 holler\n",
        "3802 gott\n",
        "3803 attend\n",
        "3804 skill\n",
        "3805 ref\n",
        "3806 atom\n",
        "3807 bas\n",
        "3808 scorn\n",
        "3809 cap\n",
        "3810 hem\n",
        "3811 keiner\n",
        "3812 olhar\n",
        "3813 vibrate\n",
        "3814 faint\n",
        "3815 nen\n",
        "3816 office\n",
        "3817 pave\n",
        "3818 peux\n",
        "3819 stroll\n",
        "3820 piu.1\n",
        "3821 bello\n",
        "3822 ahi.1\n",
        "3823 voodoo\n",
        "3824 cetait\n",
        "3825 caricia\n",
        "3826 knot\n",
        "3827 thirty\n",
        "3828 thigh\n",
        "3829 tuyo\n",
        "3830 tenga\n",
        "3831 process\n",
        "3832 duro\n",
        "3833 estribillo\n",
        "3834 gern\n",
        "3835 valentine\n",
        "3836 fright\n",
        "3837 spiritual\n",
        "3838 stock\n",
        "3839 fiction\n",
        "3840 senti\n",
        "3841 memphi\n",
        "3842 padr\n",
        "3843 que.2\n",
        "3844 olla\n",
        "3845 overwhelm\n",
        "3846 mami\n",
        "3847 glimps\n",
        "3848 friendship\n",
        "3849 vampire\n",
        "3850 paralyze\n",
        "3851 lifeless\n",
        "3852 coke\n",
        "3853 hardcore\n",
        "3854 pistol\n",
        "3855 bush\n",
        "3856 cherish\n",
        "3857 spiral\n",
        "3858 infinity.1\n",
        "3859 weave\n",
        "3860 sack\n",
        "3861 bam\n",
        "3862 hacen\n",
        "3863 dalla\n",
        "3864 inna\n",
        "3865 chin\n",
        "3866 parasite\n",
        "3867 contact\n",
        "3868 dado\n",
        "3869 losing\n",
        "3870 etait\n",
        "3871 fleur\n",
        "3872 raus\n",
        "3873 weh\n",
        "3874 wage\n",
        "3875 tambien.1\n",
        "3876 dissolve\n",
        "3877 won't.1\n",
        "3878 cu\n",
        "3879 puoi\n",
        "3880 superstar\n",
        "3881 searching\n",
        "3882 ali\n",
        "3883 nueva\n",
        "3884 hart\n",
        "3885 diss.1\n",
        "3886 tenert\n",
        "3887 whoo\n",
        "3888 almighty\n",
        "3889 unwind\n",
        "3890 plea\n",
        "3891 sexual\n",
        "3892 dew\n",
        "3893 negat\n",
        "3894 bu\n",
        "3895 spoil\n",
        "3896 junky\n",
        "3897 puppet\n",
        "3898 gin\n",
        "3899 blossom\n",
        "3900 fuss\n",
        "3901 plein\n",
        "3902 vast\n",
        "3903 stell\n",
        "3904 histoir\n",
        "3905 stroke\n",
        "3906 a.3\n",
        "3907 seam\n",
        "3908 rey\n",
        "3909 medo\n",
        "3910 prefer\n",
        "3911 northern\n",
        "3912 author\n",
        "3913 disgust\n",
        "3914 dure\n",
        "3915 devant\n",
        "3916 wretch\n",
        "3917 sara\n",
        "3918 atmosphere\n",
        "3919 daydream\n",
        "3920 pipe\n",
        "3921 remorse\n",
        "3922 martyr\n",
        "3923 yonder\n",
        "3924 moin\n",
        "3925 hizo\n",
        "3926 sneak\n",
        "3927 debe\n",
        "3928 abyss\n",
        "3929 version\n",
        "3930 papel\n",
        "3931 comprend\n",
        "3932 uhhuh\n",
        "3933 isso\n",
        "3934 oooo\n",
        "3935 pon\n",
        "3936 gutter\n",
        "3937 rate\n",
        "3938 vaikka\n",
        "3939 pavement\n",
        "3940 od\n",
        "3941 dusti\n",
        "3942 roller\n",
        "3943 label\n",
        "3944 deck\n",
        "3945 vulture\n",
        "3946 tun\n",
        "3947 careless\n",
        "3948 glide\n",
        "3949 wirklich\n",
        "3950 pawn\n",
        "3951 vorbei\n",
        "3952 fifteen\n",
        "3953 bord\n",
        "3954 nut\n",
        "3955 mentr\n",
        "3956 quis\n",
        "3957 spanish\n",
        "3958 impos\n",
        "3959 fifty\n",
        "3960 stink\n",
        "3961 leap\n",
        "3962 jahr\n",
        "3963 penetrate\n",
        "3964 dam\n",
        "3965 ritual\n",
        "3966 fellow\n",
        "3967 clip\n",
        "3968 supply\n",
        "3969 flee\n",
        "3970 elev\n",
        "3971 mail\n",
        "3972 ribbon\n",
        "3973 corr\n",
        "3974 hospital\n",
        "3975 aina\n",
        "3976 ladder\n",
        "3977 wail\n",
        "3978 bathroom\n",
        "3979 da.1\n",
        "3980 sait\n",
        "3981 jenni\n",
        "3982 heur\n",
        "3983 revolve\n",
        "3984 barrio\n",
        "3985 knife.1\n",
        "3986 vice\n",
        "3987 firm\n",
        "3988 chicago\n",
        "3989 ikk\n",
        "3990 breakfast\n",
        "3991 etta\n",
        "3992 despu\n",
        "3993 darker\n",
        "3994 upset\n",
        "3995 oblivion\n",
        "3996 hustle\n",
        "3997 favorite.1\n",
        "3998 reward\n",
        "3999 servant\n",
        "4000 rewind\n",
        "4001 primavera\n",
        "4002 culpa\n",
        "4003 enslave\n",
        "4004 solament\n",
        "4005 ditt\n",
        "4006 charli\n",
        "4007 pueblo\n",
        "4008 fuse\n",
        "4009 aquella\n",
        "4010 toca\n",
        "4011 tin\n",
        "4012 opposite\n",
        "4013 prophecy\n",
        "4014 zur\n",
        "4015 oughta\n",
        "4016 smile.2\n",
        "4017 carpet\n",
        "4018 service\n",
        "4019 dort\n",
        "4020 oscuridad\n",
        "4021 compute\n",
        "4022 mont\n",
        "4023 olvidart\n",
        "4024 butt\n",
        "4025 invent\n",
        "4026 acaba\n",
        "4027 strive\n",
        "4028 muev\n",
        "4029 chord\n",
        "4030 sleeping\n",
        "4031 foul\n",
        "4032 scrape\n",
        "4033 erst\n",
        "4034 captive\n",
        "4035 ey\n",
        "4036 bid\n",
        "4037 ohhhh\n",
        "4038 jar\n",
        "4039 drew\n",
        "4040 definite.1\n",
        "4041 wondering\n",
        "4042 slight\n",
        "4043 pole\n",
        "4044 fascinating\n",
        "4045 shorty\n",
        "4046 bark\n",
        "4047 killing\n",
        "4048 produce\n",
        "4049 alguem\n",
        "4050 mystic\n",
        "4051 peep\n",
        "4052 grate\n",
        "4053 tranc\n",
        "4054 nube\n",
        "4055 resto\n",
        "4056 nome\n",
        "4057 oppress\n",
        "4058 batter\n",
        "4059 bike\n",
        "4060 liegt\n",
        "4061 harry\n",
        "4062 medic\n",
        "4063 gluck\n",
        "4064 accident\n",
        "4065 waltz\n",
        "4066 asshole\n",
        "4067 sonar\n",
        "4068 stall\n",
        "4069 problema\n",
        "4070 deixa\n",
        "4071 finest\n",
        "4072 facil.1\n",
        "4073 rome\n",
        "4074 quedo\n",
        "4075 savag\n",
        "4076 bonita\n",
        "4077 politician\n",
        "4078 seiz\n",
        "4079 general\n",
        "4080 hor\n",
        "4081 parl\n",
        "4082 independent\n",
        "4083 tres.1\n",
        "4084 wirst\n",
        "4085 ain\n",
        "4086 perche.1\n",
        "4087 seit\n",
        "4088 dine\n",
        "4089 pollut\n",
        "4090 french\n",
        "4091 phrase\n",
        "4092 niemal\n",
        "4093 circumstance\n",
        "4094 rattle\n",
        "4095 musiqu\n",
        "4096 romantic\n",
        "4097 ultim\n",
        "4098 deinem\n",
        "4099 union\n",
        "4100 habe\n",
        "4101 stench\n",
        "4102 sest\n",
        "4103 couch\n",
        "4104 sourir\n",
        "4105 accus\n",
        "4106 determine\n",
        "4107 risa\n",
        "4108 prime\n",
        "4109 nom\n",
        "4110 enamorado\n",
        "4111 hater\n",
        "4112 egal\n",
        "4113 bonheur\n",
        "4114 meadow\n",
        "4115 klar\n",
        "4116 saudad\n",
        "4117 beep\n",
        "4118 shotgun\n",
        "4119 gira\n",
        "4120 contar\n",
        "4121 lamp\n",
        "4122 elvi\n",
        "4123 trumpet\n",
        "4124 porch\n",
        "4125 graveyard\n",
        "4126 gentlemen\n",
        "4127 seren\n",
        "4128 grito\n",
        "4129 vil\n",
        "4130 glitter\n",
        "4131 larg\n",
        "4132 kopf\n",
        "4133 secreto\n",
        "4134 group\n",
        "4135 profit\n",
        "4136 decline\n",
        "4137 lou\n",
        "4138 sour\n",
        "4139 involve\n",
        "4140 quiza\n",
        "4141 boo\n",
        "4142 project\n",
        "4143 material\n",
        "4144 ilusion\n",
        "4145 noel\n",
        "4146 placer\n",
        "4147 execut\n",
        "4148 reverse\n",
        "4149 lucid\n",
        "4150 gamble\n",
        "4151 summon\n",
        "4152 tambem\n",
        "4153 mua\n",
        "4154 senor\n",
        "4155 fest\n",
        "4156 melhor\n",
        "4157 madrugada\n",
        "4158 fo\n",
        "4159 microphone\n",
        "4160 claro\n",
        "4161 virus\n",
        "4162 explore\n",
        "4163 speech\n",
        "4164 venom\n",
        "4165 fino\n",
        "4166 sehr\n",
        "4167 han.1\n",
        "4168 vacate\n",
        "4169 partner\n",
        "4170 cualquier\n",
        "4171 your.1\n",
        "4172 sotto\n",
        "4173 doorway\n",
        "4174 silhouette\n",
        "4175 notion\n",
        "4176 entrar\n",
        "4177 market\n",
        "4178 slay\n",
        "4179 rail\n",
        "4180 mold\n",
        "4181 reve\n",
        "4182 yah\n",
        "4183 raven\n",
        "4184 insiem\n",
        "4185 knight\n",
        "4186 cuento\n",
        "4187 heb\n",
        "4188 cose\n",
        "4189 bli\n",
        "4190 eterno\n",
        "4191 dignity\n",
        "4192 escapar\n",
        "4193 depui\n",
        "4194 adventure\n",
        "4195 depart\n",
        "4196 letra\n",
        "4197 mulher\n",
        "4198 lawn\n",
        "4199 far.1\n",
        "4200 essence\n",
        "4201 fr\n",
        "4202 paus\n",
        "4203 caminar\n",
        "4204 outra\n",
        "4205 tut\n",
        "4206 sil\n",
        "4207 preciso\n",
        "4208 obscure\n",
        "4209 sie.1\n",
        "4210 smack\n",
        "4211 slut.2\n",
        "4212 childhood\n",
        "4213 ga.1\n",
        "4214 memoria\n",
        "4215 lipstick\n",
        "4216 shining\n",
        "4217 photo\n",
        "4218 enchant\n",
        "4219 tocar\n",
        "4220 hei\n",
        "4221 ira\n",
        "4222 farther\n",
        "4223 sport\n",
        "4224 gasoline\n",
        "4225 enaa\n",
        "4226 latest\n",
        "4227 rosi\n",
        "4228 guardo\n",
        "4229 fiend\n",
        "4230 concentrate\n",
        "4231 mina.1\n",
        "4232 palace\n",
        "4233 aboard\n",
        "4234 strife\n",
        "4235 tear.1\n",
        "4236 cry.2\n",
        "4237 anchor\n",
        "4238 dreamt\n",
        "4239 corn\n",
        "4240 clay\n",
        "4241 deja.1\n",
        "4242 cafe\n",
        "4243 dah\n",
        "4244 dizzy\n",
        "4245 spray\n",
        "4246 messiah\n",
        "4247 voix\n",
        "4248 brake\n",
        "4249 cry.3\n",
        "4250 cafe.1\n",
        "4251 sum\n",
        "4252 pet\n",
        "4253 jade\n",
        "4254 combine\n",
        "4255 puo\n",
        "4256 tod\n",
        "4257 hur\n",
        "4258 hogi\n",
        "4259 apathy\n",
        "4260 desol\n",
        "4261 cripple\n",
        "4262 axe\n",
        "4263 rabbit\n",
        "4264 sanctuary\n",
        "4265 valor\n",
        "4266 transform\n",
        "4267 uniform\n",
        "4268 confront\n",
        "4269 swift\n",
        "4270 barrel\n",
        "4271 filth\n",
        "4272 vrai\n",
        "4273 entonc\n",
        "4274 lune\n",
        "4275 masquerade\n",
        "4276 mississippi\n",
        "4277 chime\n",
        "4278 50\n",
        "4279 railroad\n",
        "4280 qua\n",
        "4281 llego\n",
        "4282 actual\n",
        "4283 should.1\n",
        "4284 gloom\n",
        "4285 escond\n",
        "4286 perd\n",
        "4287 15\n",
        "4288 jama.1\n",
        "4289 conoc\n",
        "4290 aaah\n",
        "4291 abr\n",
        "4292 don't.2\n",
        "4293 blut\n",
        "4294 inn\n",
        "4295 phantom\n",
        "4296 appeal\n",
        "4297 plug\n",
        "4298 vanity\n",
        "4299 pony\n",
        "4300 maintenance\n",
        "4301 cristal\n",
        "4302 fearless\n",
        "4303 stitch\n",
        "4304 fragment\n",
        "4305 clutch\n",
        "4306 pecho\n",
        "4307 30\n",
        "4308 squad\n",
        "4309 cambio\n",
        "4310 makeup\n",
        "4311 stalk\n",
        "4312 surf\n",
        "4313 outer\n",
        "4314 basement\n",
        "4315 obscene\n",
        "4316 gehn\n",
        "4317 passe\n",
        "4318 fiddle\n",
        "4319 steve\n",
        "4320 boulevard\n",
        "4321 chart\n",
        "4322 arrange\n",
        "4323 increase\n",
        "4324 september\n",
        "4325 i'm.2\n",
        "4326 rua\n",
        "4327 endlich\n",
        "4328 weer\n",
        "4329 guitarra\n",
        "4330 leve\n",
        "4331 evolution\n",
        "4332 wooden\n",
        "4333 querert\n",
        "4334 vraiment\n",
        "4335 kicking\n",
        "4336 unter\n",
        "4337 logic\n",
        "4338 40\n",
        "4339 toma\n",
        "4340 feat\n",
        "4341 gotten\n",
        "4342 tryna\n",
        "4343 mire\n",
        "4344 esser\n",
        "4345 hid\n",
        "4346 wasteland\n",
        "4347 fighter\n",
        "4348 da.2\n",
        "4349 husband\n",
        "4350 jumping\n",
        "4351 suo\n",
        "4352 machen\n",
        "4353 pathetic\n",
        "4354 passion.1\n",
        "4355 maim\n",
        "4356 program\n",
        "4357 demasiado\n",
        "4358 majesty\n",
        "4359 retreat\n",
        "4360 appreciate\n",
        "4361 daze\n",
        "4362 challenge\n",
        "4363 queria\n",
        "4364 letzt\n",
        "4365 nosotro\n",
        "4366 sogno\n",
        "4367 ku\n",
        "4368 subject\n",
        "4369 standard\n",
        "4370 troppo\n",
        "4371 jazz\n",
        "4372 opportunity\n",
        "4373 sehn\n",
        "4374 miser\n",
        "4375 col\n",
        "4376 legion\n",
        "4377 submit\n",
        "4378 qualquer\n",
        "4379 cough\n",
        "4380 medio\n",
        "4381 teen\n",
        "4382 wilder\n",
        "4383 sed\n",
        "4384 peau\n",
        "4385 pone\n",
        "4386 study\n",
        "4387 dije\n",
        "4388 jacket\n",
        "4389 overflow\n",
        "4390 vient\n",
        "4391 supreme\n",
        "4392 butcher\n",
        "4393 balloon\n",
        "4394 pushing\n",
        "4395 mnie\n",
        "4396 tradition\n",
        "4397 pane\n",
        "4398 cur\n",
        "4399 stomp\n",
        "4400 alegr\n",
        "4401 judgment.1\n",
        "4402 industry\n",
        "4403 jugar\n",
        "4404 introduce\n",
        "4405 lai\n",
        "4406 esquina\n",
        "4407 venir\n",
        "4408 iba\n",
        "4409 taint\n",
        "4410 pude\n",
        "4411 county\n",
        "4412 fleet\n",
        "4413 sina\n",
        "4414 reves\n",
        "4415 allah\n",
        "4416 groovy\n",
        "4417 sogni\n",
        "4418 chrome\n",
        "4419 blah.1\n",
        "4420 genocide\n",
        "4421 kalt\n",
        "4422 unde\n",
        "4423 unreal\n",
        "4424 slumber\n",
        "4425 thief.1\n",
        "4426 frank.1\n",
        "4427 id\n",
        "4428 lurk\n",
        "4429 unhappy\n",
        "4430 ihm\n",
        "4431 morena\n",
        "4432 chico\n",
        "4433 dusk\n",
        "4434 cuatro\n",
        "4435 lap\n",
        "4436 sve\n",
        "4437 dynamite\n",
        "4438 blick\n",
        "4439 twin\n",
        "4440 death.2\n",
        "4441 dub\n",
        "4442 yi\n",
        "4443 thirsty\n",
        "4444 skirt\n",
        "4445 hoping\n",
        "4446 predict\n",
        "4447 heroin\n",
        "4448 escucha\n",
        "4449 ormai\n",
        "4450 wonderland\n",
        "4451 scary\n",
        "4452 steer\n",
        "4453 genau\n",
        "4454 besoin\n",
        "4455 ana\n",
        "4456 llanto\n",
        "4457 screaming\n",
        "4458 routing\n",
        "4459 contr\n",
        "4460 tooth\n",
        "4461 paura\n",
        "4462 sopra\n",
        "4463 perdida\n",
        "4464 vuela\n",
        "4465 fuori\n",
        "4466 eden\n",
        "4467 pierdo\n",
        "4468 remedy\n",
        "4469 cloudy\n",
        "4470 adam\n",
        "4471 raison\n",
        "4472 perro\n",
        "4473 amuse\n",
        "4474 closet\n",
        "4475 tuve\n",
        "4476 ner\n",
        "4477 ano.1\n",
        "4478 western\n",
        "4479 ness\n",
        "4480 piedra\n",
        "4481 amiga\n",
        "4482 beef\n",
        "4483 apres\n",
        "4484 feature\n",
        "4485 robin\n",
        "4486 decade\n",
        "4487 qued\n",
        "4488 bald\n",
        "4489 wollt\n",
        "4490 neue\n",
        "4491 whine\n",
        "4492 cheese\n",
        "4493 feu\n",
        "4494 aprend\n",
        "4495 dish\n",
        "4496 leva\n",
        "4497 brauch\n",
        "4498 misunderstood\n",
        "4499 misty\n",
        "4500 different\n",
        "4501 habla\n",
        "4502 nar.1\n",
        "4503 psycho\n",
        "4504 spotlight\n",
        "4505 revive\n",
        "4506 suitcase\n",
        "4507 freund\n",
        "4508 damnat\n",
        "4509 duda\n",
        "4510 etwa\n",
        "4511 geld\n",
        "4512 stadt\n",
        "4513 cunt\n",
        "4514 mellow\n",
        "4515 poetry\n",
        "4516 lumier\n",
        "4517 bean\n",
        "4518 print\n",
        "4519 confine\n",
        "4520 kommen\n",
        "4521 domani\n",
        "4522 correr\n",
        "4523 perman\n",
        "4524 strada\n",
        "4525 inhal\n",
        "4526 idl\n",
        "4527 juro\n",
        "4528 allen\n",
        "4529 upp\n",
        "4530 statu\n",
        "4531 bluebird\n",
        "4532 unity\n",
        "4533 sita\n",
        "4534 reckless\n",
        "4535 robe\n",
        "4536 leer\n",
        "4537 lhe\n",
        "4538 vite\n",
        "4539 modo\n",
        "4540 menschen\n",
        "4541 voltar\n",
        "4542 incredulous\n",
        "4543 aujourdhui\n",
        "4544 anticipate\n",
        "4545 etc\n",
        "4546 pensamiento\n",
        "4547 estc\n",
        "4548 keinen\n",
        "4549 kimi\n",
        "4550 raindrop\n",
        "4551 puzzle\n",
        "4552 chemin\n",
        "4553 lindo\n",
        "4554 wax\n",
        "4555 foss\n",
        "4556 junk\n",
        "4557 veut\n",
        "4558 kaiken\n",
        "4559 contemplate\n",
        "4560 skeleton\n",
        "4561 caso\n",
        "4562 wollen\n",
        "4563 ruido\n",
        "4564 grade\n",
        "4565 leau\n",
        "4566 caus\n",
        "4567 effort\n",
        "4568 detre\n",
        "4569 hippy\n",
        "4570 fil\n",
        "4571 curve\n",
        "4572 dabei\n",
        "4573 nossa\n",
        "4574 eventual\n",
        "4575 recordar\n",
        "4576 disconnect\n",
        "4577 carol\n",
        "4578 strung\n",
        "4579 infierno\n",
        "4580 dass.1\n",
        "4581 cousin\n",
        "4582 radiate\n",
        "4583 pal\n",
        "4584 stiff\n",
        "4585 trend\n",
        "4586 lento\n",
        "4587 aqu\n",
        "4588 terrify\n",
        "4589 fore\n",
        "4590 vide\n",
        "4591 beloved\n",
        "4592 channel\n",
        "4593 joli\n",
        "4594 parc\n",
        "4595 vuol\n",
        "4596 entao\n",
        "4597 stern\n",
        "4598 cope\n",
        "4599 garbage\n",
        "4600 admire\n",
        "4601 blister\n",
        "4602 sull\n",
        "4603 mao\n",
        "4604 odio\n",
        "4605 pitch\n",
        "4606 carn\n",
        "4607 slipping\n",
        "4608 dong\n",
        "4609 seus\n",
        "4610 we'r\n",
        "4611 debo\n",
        "4612 honki\n",
        "4613 shark\n",
        "4614 cari\n",
        "4615 afar\n",
        "4616 jest\n",
        "4617 superman\n",
        "4618 pu\n",
        "4619 ust\n",
        "4620 sublime\n",
        "4621 hiphop\n",
        "4622 ident\n",
        "4623 ge\n",
        "4624 billion\n",
        "4625 rocknrol\n",
        "4626 punto\n",
        "4627 oon\n",
        "4628 romeo\n",
        "4629 geen\n",
        "4630 banana\n",
        "4631 escuchar\n",
        "4632 richard\n",
        "4633 livet\n",
        "4634 jung\n",
        "4635 fiel\n",
        "4636 noos\n",
        "4637 begging\n",
        "4638 trunk\n",
        "4639 ink\n",
        "4640 mash\n",
        "4641 succeed\n",
        "4642 toni\n",
        "4643 bi\n",
        "4644 spinning\n",
        "4645 powder\n",
        "4646 despierto\n",
        "4647 fou\n",
        "4648 motherfucking\n",
        "4649 hun\n",
        "4650 butter\n",
        "4651 fatto\n",
        "4652 manchmal\n",
        "4653 llevar\n",
        "4654 fur.1\n",
        "4655 disagree\n",
        "4656 voll\n",
        "4657 assure\n",
        "4658 fran\n",
        "4659 savoir\n",
        "4660 horizontal\n",
        "4661 carnaval\n",
        "4662 you'r\n",
        "4663 drunken\n",
        "4664 tuck\n",
        "4665 keeper\n",
        "4666 broad\n",
        "4667 maid\n",
        "4668 flock\n",
        "4669 dejame\n",
        "4670 gib\n",
        "4671 tellement\n",
        "4672 vieux\n",
        "4673 tango\n",
        "4674 bailando\n",
        "4675 larm\n",
        "4676 berlin\n",
        "4677 handsome\n",
        "4678 gefuhl\n",
        "4679 blunt\n",
        "4680 qual\n",
        "4681 inject\n",
        "4682 timeless\n",
        "4683 schwer\n",
        "4684 gi\n",
        "4685 cor\n",
        "4686 bonni\n",
        "4687 clone\n",
        "4688 alli\n",
        "4689 mall\n",
        "4690 wink\n",
        "4691 blanca\n",
        "4692 sinto\n",
        "4693 mirando\n",
        "4694 meaningless\n",
        "4695 nessuno\n",
        "4696 laat\n",
        "4697 crap\n",
        "4698 legal\n",
        "4699 hypocrite\n",
        "4700 hermano\n",
        "4701 passion.2\n",
        "4702 aid\n",
        "4703 brooklyn\n",
        "4704 donc\n",
        "4705 jak\n",
        "4706 delus\n",
        "4707 term\n",
        "4708 primera\n",
        "4709 pourtant\n",
        "4710 laying\n",
        "4711 conceive\n",
        "4712 seel\n",
        "4713 devastate\n",
        "4714 slick\n",
        "4715 vega\n",
        "4716 pluie\n",
        "4717 tax\n",
        "4718 frio\n",
        "4719 ty\n",
        "4720 virtue\n",
        "4721 lontano\n",
        "4722 unable\n",
        "4723 distress\n",
        "4724 bla\n",
        "4725 ember\n",
        "4726 wee\n",
        "4727 mmmm\n",
        "4728 pedir\n",
        "4729 beckon\n",
        "4730 galaxy\n",
        "4731 diz\n",
        "4732 ley\n",
        "4733 passo\n",
        "4734 mous\n",
        "4735 issu\n",
        "4736 absurd\n",
        "4737 imma\n",
        "4738 zoo\n",
        "4739 rocky\n",
        "4740 pide\n",
        "4741 jackson\n",
        "4742 neat\n",
        "4743 itch\n",
        "4744 insect\n",
        "4745 starlight\n",
        "4746 shred\n",
        "4747 000\n",
        "4748 segundo\n",
        "4749 nooit\n",
        "4750 avait\n",
        "4751 bonito\n",
        "4752 foundation\n",
        "4753 13\n",
        "4754 mag\n",
        "4755 scarlet\n",
        "4756 lunch\n",
        "4757 sad.1\n",
        "4758 leak\n",
        "4759 pres\n",
        "4760 bah\n",
        "4761 giorni\n",
        "4762 siehst\n",
        "4763 console\n",
        "4764 flirt\n",
        "4765 absence\n",
        "4766 lalala\n",
        "4767 comprehend\n",
        "4768 hin\n",
        "4769 scum\n",
        "4770 stride\n",
        "4771 fingertip\n",
        "4772 lua\n",
        "4773 translate\n",
        "4774 reputation\n",
        "4775 starry\n",
        "4776 conclusion\n",
        "4777 pouco\n",
        "4778 belt\n",
        "4779 alltid\n",
        "4780 sig\n",
        "4781 tribe\n",
        "4782 illuminate\n",
        "4783 knowing\n",
        "4784 weet\n",
        "4785 forg\n",
        "4786 minor\n",
        "4787 behave\n",
        "4788 oli\n",
        "4789 croir\n",
        "4790 troi\n",
        "4791 passer\n",
        "4792 dautr\n",
        "4793 vela\n",
        "4794 anyhow\n",
        "4795 mock\n",
        "4796 habra\n",
        "4797 bir\n",
        "4798 espejo\n",
        "4799 intense\n",
        "4800 saddle\n",
        "4801 glue\n",
        "4802 rendezvous\n",
        "4803 cd\n",
        "4804 kai\n",
        "4805 mio.1\n",
        "4806 to.1\n",
        "4807 rave\n",
        "4808 dimmi\n",
        "4809 retir\n",
        "4810 vara\n",
        "4811 molly\n",
        "4812 forbidden\n",
        "4813 combat\n",
        "4814 tripping\n",
        "4815 ingent\n",
        "4816 deeply\n",
        "4817 putting\n",
        "4818 silk\n",
        "4819 paranoia\n",
        "4820 weisst\n",
        "4821 whirl\n",
        "4822 duty\n",
        "4823 quedan\n",
        "4824 adentro\n",
        "4825 ditch\n",
        "4826 shave\n",
        "4827 este\n",
        "4828 sicken\n",
        "4829 premier\n",
        "4830 bleib\n",
        "4831 relieve\n",
        "4832 restor\n",
        "4833 unaware\n",
        "4834 quella\n",
        "4835 dash\n",
        "4836 gore\n",
        "4837 acabar\n",
        "4838 kissing\n",
        "4839 indifferent\n",
        "4840 temperature\n",
        "4841 messing\n",
        "4842 rio.1\n",
        "4843 rumble\n",
        "4844 argue\n",
        "4845 freeway\n",
        "4846 mutta\n",
        "4847 vuelto\n",
        "4848 manipulate.1\n",
        "4849 annihilate\n",
        "4850 mek\n",
        "4851 unspoken\n",
        "4852 passage\n",
        "4853 minuto\n",
        "4854 fora\n",
        "4855 cosmic\n",
        "4856 despierta\n",
        "4857 betti\n",
        "4858 request\n",
        "4859 pudiera\n",
        "4860 bucket\n",
        "4861 proper\n",
        "4862 ace\n",
        "4863 gritar\n",
        "4864 puro\n",
        "4865 gown\n",
        "4866 chapter\n",
        "4867 digit\n",
        "4868 actor\n",
        "4869 cambia\n",
        "4870 prendr\n",
        "4871 creator\n",
        "4872 skate\n",
        "4873 asking\n",
        "4874 difficult\n",
        "4875 flown\n",
        "4876 nurse\n",
        "4877 sim\n",
        "4878 waist\n",
        "4879 gleich\n",
        "4880 saben\n",
        "4881 collar\n",
        "4882 joue\n",
        "4883 demai\n",
        "4884 current\n",
        "4885 naiv\n",
        "4886 flaw\n",
        "4887 16\n",
        "4888 doigt\n",
        "4889 olvida\n",
        "4890 comb\n",
        "4891 headlight\n",
        "4892 diablo\n",
        "4893 suav\n",
        "4894 ascend\n",
        "4895 cree\n",
        "4896 vete\n",
        "4897 pledge\n",
        "4898 mistaken\n",
        "4899 method\n",
        "4900 vague\n",
        "4901 dura\n",
        "4902 voit\n",
        "4903 maiden\n",
        "4904 sangue\n",
        "4905 ando\n",
        "4906 element\n",
        "4907 cae\n",
        "4908 entir\n",
        "4909 alleluia\n",
        "4910 oft\n",
        "4911 intox\n",
        "4912 besser\n",
        "4913 pueden\n",
        "4914 rug\n",
        "4915 aura\n",
        "4916 guest\n",
        "4917 chamber\n",
        "4918 sere\n",
        "4919 jukebox\n",
        "4920 skinny\n",
        "4921 wissen\n",
        "4922 holla\n",
        "4923 church.1\n",
        "4924 hurting\n",
        "4925 eager\n",
        "4926 hij\n",
        "4927 tenemo\n",
        "4928 dedo\n",
        "4929 droit\n",
        "4930 glisten\n",
        "4931 assassin\n",
        "4932 landscap\n",
        "4933 alleen\n",
        "4934 mutil\n",
        "4935 seein\n",
        "4936 senseless\n",
        "4937 golp\n",
        "4938 lili\n",
        "4939 cant.1\n",
        "4940 jaurai\n",
        "4941 auto\n",
        "4942 kvar\n",
        "4943 structure\n",
        "4944 assume\n",
        "4945 veneno\n",
        "4946 spawn\n",
        "4947 proclaim\n",
        "4948 threaten\n",
        "4949 distancia\n",
        "4950 magia\n",
        "4951 swirl\n",
        "4952 curious\n",
        "4953 complex\n",
        "4954 uptown\n",
        "4955 100\n",
        "4956 advance\n",
        "4957 alegria\n",
        "4958 empieza\n",
        "4959 hah\n",
        "4960 dug\n",
        "4961 aquello\n",
        "4962 lucif\n",
        "4963 cruz\n",
        "4964 jamaica\n",
        "4965 flavor\n",
        "4966 kuinka\n",
        "4967 uit\n",
        "4968 24\n",
        "4969 anguish\n",
        "4970 foto\n",
        "4971 chat\n",
        "4972 jetai\n",
        "4973 caminho\n",
        "4974 observe\n",
        "4975 altro\n",
        "4976 javai\n",
        "4977 yang\n",
        "4978 oer\n",
        "4979 nickel\n",
        "4980 booz\n",
        "4981 sew\n",
        "4982 musica.1\n",
        "4983 stay.1\n",
        "4984 naughty\n",
        "4985 entiendo\n",
        "4986 star.1\n",
        "4987 champion\n",
        "4988 forsake\n",
        "4989 seventh\n",
        "4990 capital\n",
        "4991 writer\n",
        "4992 motivo\n",
        "4993 bake\n",
        "4994 insist\n",
        "4995 wel\n",
        "4996 santo\n",
        "4997 pe\n",
        "4998 gee\n",
        "4999 college\n",
        "5000 kad\n"
       ]
      }
     ],
     "prompt_number": 2
    },
    {
     "cell_type": "code",
     "collapsed": false,
     "input": [
      "#takes out all the unimportant/foreign columns from final_test.csv\n",
      "dfshort=df    \n",
      "c=0\n",
      "for a in dfshort:\n",
      "    c+=1\n",
      "    print c, a\n",
      "    if a not in final_words:\n",
      "        del dfshort[a]\n",
      "\n",
      "dfshort.head()"
     ],
     "language": "python",
     "metadata": {},
     "outputs": [
      {
       "output_type": "stream",
       "stream": "stdout",
       "text": [
        "1 track_id\n",
        "2 mxm_track_id\n",
        "3 i\n",
        "4"
       ]
      },
      {
       "output_type": "stream",
       "stream": "stdout",
       "text": [
        " the\n",
        "5"
       ]
      },
      {
       "output_type": "stream",
       "stream": "stdout",
       "text": [
        " you\n",
        "6"
       ]
      },
      {
       "output_type": "stream",
       "stream": "stdout",
       "text": [
        " to\n",
        "7"
       ]
      },
      {
       "output_type": "stream",
       "stream": "stdout",
       "text": [
        " and\n",
        "8"
       ]
      },
      {
       "output_type": "stream",
       "stream": "stdout",
       "text": [
        " a\n",
        "9"
       ]
      },
      {
       "output_type": "stream",
       "stream": "stdout",
       "text": [
        " me\n",
        "10"
       ]
      },
      {
       "output_type": "stream",
       "stream": "stdout",
       "text": [
        " it\n",
        "11"
       ]
      },
      {
       "output_type": "stream",
       "stream": "stdout",
       "text": [
        " not\n",
        "12"
       ]
      },
      {
       "output_type": "stream",
       "stream": "stdout",
       "text": [
        " in\n",
        "13"
       ]
      },
      {
       "output_type": "stream",
       "stream": "stdout",
       "text": [
        " my\n",
        "14"
       ]
      },
      {
       "output_type": "stream",
       "stream": "stdout",
       "text": [
        " is\n",
        "15"
       ]
      },
      {
       "output_type": "stream",
       "stream": "stdout",
       "text": [
        " of\n",
        "16"
       ]
      },
      {
       "output_type": "stream",
       "stream": "stdout",
       "text": [
        " your\n",
        "17"
       ]
      },
      {
       "output_type": "stream",
       "stream": "stdout",
       "text": [
        " that\n",
        "18"
       ]
      },
      {
       "output_type": "stream",
       "stream": "stdout",
       "text": [
        " do\n",
        "19"
       ]
      },
      {
       "output_type": "stream",
       "stream": "stdout",
       "text": [
        " on\n",
        "20"
       ]
      },
      {
       "output_type": "stream",
       "stream": "stdout",
       "text": [
        " are\n",
        "21"
       ]
      },
      {
       "output_type": "stream",
       "stream": "stdout",
       "text": [
        " we\n",
        "22"
       ]
      },
      {
       "output_type": "stream",
       "stream": "stdout",
       "text": [
        " am\n",
        "23"
       ]
      },
      {
       "output_type": "stream",
       "stream": "stdout",
       "text": [
        " will\n",
        "24"
       ]
      },
      {
       "output_type": "stream",
       "stream": "stdout",
       "text": [
        " all\n",
        "25"
       ]
      },
      {
       "output_type": "stream",
       "stream": "stdout",
       "text": [
        " for\n",
        "26"
       ]
      },
      {
       "output_type": "stream",
       "stream": "stdout",
       "text": [
        " no\n",
        "27"
       ]
      },
      {
       "output_type": "stream",
       "stream": "stdout",
       "text": [
        " be\n",
        "28"
       ]
      },
      {
       "output_type": "stream",
       "stream": "stdout",
       "text": [
        " have\n",
        "29"
       ]
      },
      {
       "output_type": "stream",
       "stream": "stdout",
       "text": [
        " love\n",
        "30 so\n",
        "31"
       ]
      },
      {
       "output_type": "stream",
       "stream": "stdout",
       "text": [
        " know\n",
        "32 this\n",
        "33"
       ]
      },
      {
       "output_type": "stream",
       "stream": "stdout",
       "text": [
        " but\n",
        "34"
       ]
      },
      {
       "output_type": "stream",
       "stream": "stdout",
       "text": [
        " with\n",
        "35"
       ]
      },
      {
       "output_type": "stream",
       "stream": "stdout",
       "text": [
        " what\n",
        "36"
       ]
      },
      {
       "output_type": "stream",
       "stream": "stdout",
       "text": [
        " just\n",
        "37"
       ]
      },
      {
       "output_type": "stream",
       "stream": "stdout",
       "text": [
        " when\n",
        "38"
       ]
      },
      {
       "output_type": "stream",
       "stream": "stdout",
       "text": [
        " like\n",
        "39 now\n",
        "40"
       ]
      },
      {
       "output_type": "stream",
       "stream": "stdout",
       "text": [
        " que\n",
        "41"
       ]
      },
      {
       "output_type": "stream",
       "stream": "stdout",
       "text": [
        " time\n",
        "42 can\n",
        "43"
       ]
      },
      {
       "output_type": "stream",
       "stream": "stdout",
       "text": [
        " come\n",
        "44"
       ]
      },
      {
       "output_type": "stream",
       "stream": "stdout",
       "text": [
        " de\n",
        "45"
       ]
      },
      {
       "output_type": "stream",
       "stream": "stdout",
       "text": [
        " there\n",
        "46"
       ]
      },
      {
       "output_type": "stream",
       "stream": "stdout",
       "text": [
        " go\n",
        "47 up\n",
        "48"
       ]
      },
      {
       "output_type": "stream",
       "stream": "stdout",
       "text": [
        " oh\n",
        "49 la\n",
        "50"
       ]
      },
      {
       "output_type": "stream",
       "stream": "stdout",
       "text": [
        " one\n",
        "51 they\n",
        "52"
       ]
      },
      {
       "output_type": "stream",
       "stream": "stdout",
       "text": [
        " out\n",
        "53"
       ]
      },
      {
       "output_type": "stream",
       "stream": "stdout",
       "text": [
        " down\n",
        "54"
       ]
      },
      {
       "output_type": "stream",
       "stream": "stdout",
       "text": [
        " get\n",
        "55 she\n",
        "56"
       ]
      },
      {
       "output_type": "stream",
       "stream": "stdout",
       "text": [
        " was\n",
        "57"
       ]
      },
      {
       "output_type": "stream",
       "stream": "stdout",
       "text": [
        " see\n",
        "58 if\n",
        "59"
       ]
      },
      {
       "output_type": "stream",
       "stream": "stdout",
       "text": [
        " got\n",
        "60 never\n",
        "61 from\n",
        "62"
       ]
      },
      {
       "output_type": "stream",
       "stream": "stdout",
       "text": [
        " he\n",
        "63"
       ]
      },
      {
       "output_type": "stream",
       "stream": "stdout",
       "text": [
        " feel\n",
        "64 want\n",
        "65 let\n",
        "66 make\n",
        "67 way\n",
        "68 say\n",
        "69 take\n",
        "70 would\n",
        "71"
       ]
      },
      {
       "output_type": "stream",
       "stream": "stdout",
       "text": [
        " as\n",
        "72"
       ]
      },
      {
       "output_type": "stream",
       "stream": "stdout",
       "text": [
        " ca\n",
        "73 day\n",
        "74 at\n",
        "75"
       ]
      },
      {
       "output_type": "stream",
       "stream": "stdout",
       "text": [
        " baby\n",
        "76 away\n",
        "77 life\n",
        "78 yeah\n",
        "79 y\n",
        "80"
       ]
      },
      {
       "output_type": "stream",
       "stream": "stdout",
       "text": [
        " back\n",
        "81 by\n",
        "82"
       ]
      },
      {
       "output_type": "stream",
       "stream": "stdout",
       "text": [
        " her\n",
        "83"
       ]
      },
      {
       "output_type": "stream",
       "stream": "stdout",
       "text": [
        " heart\n",
        "84 here\n",
        "85"
       ]
      },
      {
       "output_type": "stream",
       "stream": "stdout",
       "text": [
        " how\n",
        "86"
       ]
      },
      {
       "output_type": "stream",
       "stream": "stdout",
       "text": [
        " could\n",
        "87"
       ]
      },
      {
       "output_type": "stream",
       "stream": "stdout",
       "text": [
        " night\n",
        "88 need\n",
        "89 our\n",
        "90"
       ]
      },
      {
       "output_type": "stream",
       "stream": "stdout",
       "text": [
        " look\n",
        "91 where\n",
        "92"
       ]
      },
      {
       "output_type": "stream",
       "stream": "stdout",
       "text": [
        " en\n",
        "93"
       ]
      },
      {
       "output_type": "stream",
       "stream": "stdout",
       "text": [
        " eye\n",
        "94 thing\n",
        "95 world\n",
        "96 more\n",
        "97"
       ]
      },
      {
       "output_type": "stream",
       "stream": "stdout",
       "text": [
        " cause\n",
        "98 gonna\n",
        "99"
       ]
      },
      {
       "output_type": "stream",
       "stream": "stdout",
       "text": [
        " die\n",
        "100"
       ]
      },
      {
       "output_type": "stream",
       "stream": "stdout",
       "text": [
        " right\n",
        "101 been\n",
        "102"
       ]
      },
      {
       "output_type": "stream",
       "stream": "stdout",
       "text": [
        " tell\n",
        "103 think\n",
        "104 un\n",
        "105"
       ]
      },
      {
       "output_type": "stream",
       "stream": "stdout",
       "text": [
        " who\n",
        "106"
       ]
      },
      {
       "output_type": "stream",
       "stream": "stdout",
       "text": [
        " el\n",
        "107"
       ]
      },
      {
       "output_type": "stream",
       "stream": "stdout",
       "text": [
        " through\n",
        "108"
       ]
      },
      {
       "output_type": "stream",
       "stream": "stdout",
       "text": [
        " man\n",
        "109"
       ]
      },
      {
       "output_type": "stream",
       "stream": "stdout",
       "text": [
        " live\n",
        "110 again\n",
        "111"
       ]
      },
      {
       "output_type": "stream",
       "stream": "stdout",
       "text": [
        " give\n",
        "112 too\n",
        "113"
       ]
      },
      {
       "output_type": "stream",
       "stream": "stdout",
       "text": [
        " only\n",
        "114"
       ]
      },
      {
       "output_type": "stream",
       "stream": "stdout",
       "text": [
        " te\n",
        "115"
       ]
      },
      {
       "output_type": "stream",
       "stream": "stdout",
       "text": [
        " try\n",
        "116 tu\n",
        "117"
       ]
      },
      {
       "output_type": "stream",
       "stream": "stdout",
       "text": [
        " or\n",
        "118"
       ]
      },
      {
       "output_type": "stream",
       "stream": "stdout",
       "text": [
        " why\n",
        "119"
       ]
      },
      {
       "output_type": "stream",
       "stream": "stdout",
       "text": [
        " se\n",
        "120"
       ]
      },
      {
       "output_type": "stream",
       "stream": "stdout",
       "text": [
        " keep\n",
        "121 dream\n",
        "122 well\n",
        "123 mind\n",
        "124 an\n",
        "125"
       ]
      },
      {
       "output_type": "stream",
       "stream": "stdout",
       "text": [
        " wo\n",
        "126"
       ]
      },
      {
       "output_type": "stream",
       "stream": "stdout",
       "text": [
        " still\n",
        "127 us\n",
        "128 his\n",
        "129"
       ]
      },
      {
       "output_type": "stream",
       "stream": "stdout",
       "text": [
        " long\n",
        "130 mi\n",
        "131"
       ]
      },
      {
       "output_type": "stream",
       "stream": "stdout",
       "text": [
        " girl\n",
        "132 want.1\n",
        "133"
       ]
      },
      {
       "output_type": "stream",
       "stream": "stdout",
       "text": [
        " find\n",
        "134 fall\n",
        "135 around\n",
        "136 good\n",
        "137 about\n",
        "138"
       ]
      },
      {
       "output_type": "stream",
       "stream": "stdout",
       "text": [
        " some\n",
        "139"
       ]
      },
      {
       "output_type": "stream",
       "stream": "stdout",
       "text": [
        " over\n",
        "140"
       ]
      },
      {
       "output_type": "stream",
       "stream": "stdout",
       "text": [
        " little\n",
        "141 turn\n",
        "142 hand\n",
        "143 then\n",
        "144"
       ]
      },
      {
       "output_type": "stream",
       "stream": "stdout",
       "text": [
        " noth\n",
        "145"
       ]
      },
      {
       "output_type": "stream",
       "stream": "stdout",
       "text": [
        " light\n",
        "146 said\n",
        "147 call\n",
        "148 every\n",
        "149 always\n",
        "150 were\n",
        "151"
       ]
      },
      {
       "output_type": "stream",
       "stream": "stdout",
       "text": [
        " did\n",
        "152"
       ]
      },
      {
       "output_type": "stream",
       "stream": "stdout",
       "text": [
        " into\n",
        "153"
       ]
      },
      {
       "output_type": "stream",
       "stream": "stdout",
       "text": [
        " e\n",
        "154"
       ]
      },
      {
       "output_type": "stream",
       "stream": "stdout",
       "text": [
        " wait\n",
        "155 leave\n",
        "156 home\n",
        "157 had\n",
        "158"
       ]
      },
      {
       "output_type": "stream",
       "stream": "stdout",
       "text": [
        " hold\n",
        "159 run\n",
        "160 es\n",
        "161"
       ]
      },
      {
       "output_type": "stream",
       "stream": "stdout",
       "text": [
        " walk\n",
        "162 ever\n",
        "163 them\n",
        "164"
       ]
      },
      {
       "output_type": "stream",
       "stream": "stdout",
       "text": [
        " lie\n",
        "165 face\n",
        "166 end\n",
        "167"
       ]
      },
      {
       "output_type": "stream",
       "stream": "stdout",
       "text": [
        " hear\n",
        "168 gone\n",
        "169 head\n",
        "170 believe\n",
        "171 everything\n",
        "172"
       ]
      },
      {
       "output_type": "stream",
       "stream": "stdout",
       "text": [
        " ya\n",
        "173"
       ]
      },
      {
       "output_type": "stream",
       "stream": "stdout",
       "text": [
        " has\n",
        "174"
       ]
      },
      {
       "output_type": "stream",
       "stream": "stdout",
       "text": [
        " cry\n",
        "175 alone\n",
        "176 yo\n",
        "177"
       ]
      },
      {
       "output_type": "stream",
       "stream": "stdout",
       "text": [
        " hey\n",
        "178"
       ]
      },
      {
       "output_type": "stream",
       "stream": "stdout",
       "text": [
        " their\n",
        "179"
       ]
      },
      {
       "output_type": "stream",
       "stream": "stdout",
       "text": [
        " le\n",
        "180"
       ]
      },
      {
       "output_type": "stream",
       "stream": "stdout",
       "text": [
        " something\n",
        "181"
       ]
      },
      {
       "output_type": "stream",
       "stream": "stdout",
       "text": [
        " si\n",
        "182"
       ]
      },
      {
       "output_type": "stream",
       "stream": "stdout",
       "text": [
        " inside\n",
        "183 du\n",
        "184"
       ]
      },
      {
       "output_type": "stream",
       "stream": "stdout",
       "text": [
        " before\n",
        "185"
       ]
      },
      {
       "output_type": "stream",
       "stream": "stdout",
       "text": [
        " o\n",
        "186"
       ]
      },
      {
       "output_type": "stream",
       "stream": "stdout",
       "text": [
        " word\n",
        "187 stay\n",
        "188 place\n",
        "189 much\n",
        "190 change\n",
        "191 ich\n",
        "192"
       ]
      },
      {
       "output_type": "stream",
       "stream": "stdout",
       "text": [
        " god\n",
        "193 stand\n",
        "194 these\n",
        "195"
       ]
      },
      {
       "output_type": "stream",
       "stream": "stdout",
       "text": [
        " better\n",
        "196 last\n",
        "197 friend\n",
        "198 soul\n",
        "199 another\n",
        "200 je\n",
        "201"
       ]
      },
      {
       "output_type": "stream",
       "stream": "stdout",
       "text": [
        " left\n",
        "202 new\n",
        "203 him\n",
        "204"
       ]
      },
      {
       "output_type": "stream",
       "stream": "stdout",
       "text": [
        " than\n",
        "205"
       ]
      },
      {
       "output_type": "stream",
       "stream": "stdout",
       "text": [
        " stop\n",
        "206 tonight\n",
        "207 burn\n",
        "208 sun\n",
        "209 off\n",
        "210"
       ]
      },
      {
       "output_type": "stream",
       "stream": "stdout",
       "text": [
        " por\n",
        "211"
       ]
      },
      {
       "output_type": "stream",
       "stream": "stdout",
       "text": [
        " lo\n",
        "212"
       ]
      },
      {
       "output_type": "stream",
       "stream": "stdout",
       "text": [
        " play\n",
        "213 thought\n",
        "214 sing\n",
        "215 show\n",
        "216 lost\n",
        "217 people\n",
        "218 made\n",
        "219 break\n",
        "220 und\n",
        "221"
       ]
      },
      {
       "output_type": "stream",
       "stream": "stdout",
       "text": [
        " start\n",
        "222 should\n",
        "223"
       ]
      },
      {
       "output_type": "stream",
       "stream": "stdout",
       "text": [
        " really\n",
        "224 chorus\n",
        "225 hard\n",
        "226 sky\n",
        "227 old\n",
        "228 da\n",
        "229"
       ]
      },
      {
       "output_type": "stream",
       "stream": "stdout",
       "text": [
        " even\n",
        "230 boy\n",
        "231 pleasure\n",
        "232 song\n",
        "233 care\n",
        "234 without\n",
        "235"
       ]
      },
      {
       "output_type": "stream",
       "stream": "stdout",
       "text": [
        " hope\n",
        "236 watch\n",
        "237 pain\n",
        "238 love.1\n",
        "239"
       ]
      },
      {
       "output_type": "stream",
       "stream": "stdout",
       "text": [
        " move\n",
        "240 wrong\n",
        "241 put\n",
        "242 free\n",
        "243 gotta\n",
        "244"
       ]
      },
      {
       "output_type": "stream",
       "stream": "stdout",
       "text": [
        " name\n",
        "245 et\n",
        "246"
       ]
      },
      {
       "output_type": "stream",
       "stream": "stdout",
       "text": [
        " same\n",
        "247"
       ]
      },
      {
       "output_type": "stream",
       "stream": "stdout",
       "text": [
        " blue\n",
        "248 con\n",
        "249"
       ]
      },
      {
       "output_type": "stream",
       "stream": "stdout",
       "text": [
        " dance\n",
        "250 talk\n",
        "251 seem\n",
        "252 own\n",
        "253"
       ]
      },
      {
       "output_type": "stream",
       "stream": "stdout",
       "text": [
        " mine\n",
        "254"
       ]
      },
      {
       "output_type": "stream",
       "stream": "stdout",
       "text": [
        " dark\n",
        "255 na\n",
        "256 far\n",
        "257 tear\n",
        "258 true\n",
        "259 fire\n",
        "260 use\n",
        "261 dead\n",
        "262 bring\n",
        "263 fuck\n",
        "264 other\n",
        "265"
       ]
      },
      {
       "output_type": "stream",
       "stream": "stdout",
       "text": [
        " sin\n",
        "266"
       ]
      },
      {
       "output_type": "stream",
       "stream": "stdout",
       "text": [
        " someone\n",
        "267 myself\n",
        "268"
       ]
      },
      {
       "output_type": "stream",
       "stream": "stdout",
       "text": [
        " forever\n",
        "269 close\n",
        "270 sleep\n",
        "271 rain\n",
        "272 those\n",
        "273"
       ]
      },
      {
       "output_type": "stream",
       "stream": "stdout",
       "text": [
        " must\n",
        "274 una\n",
        "275"
       ]
      },
      {
       "output_type": "stream",
       "stream": "stdout",
       "text": [
        " les\n",
        "276"
       ]
      },
      {
       "output_type": "stream",
       "stream": "stdout",
       "text": [
        " sweet\n",
        "277 mean\n",
        "278 fight\n",
        "279 remember\n",
        "280 star\n",
        "281 while\n",
        "282"
       ]
      },
      {
       "output_type": "stream",
       "stream": "stdout",
       "text": [
        " kiss\n",
        "283 kill\n",
        "284 high\n",
        "285 breath\n",
        "286 doe\n",
        "287 yes\n",
        "288 al\n",
        "289"
       ]
      },
      {
       "output_type": "stream",
       "stream": "stdout",
       "text": [
        " wish\n",
        "290 che\n",
        "291"
       ]
      },
      {
       "output_type": "stream",
       "stream": "stdout",
       "text": [
        " real\n",
        "292 smile\n",
        "293 two\n",
        "294 cold\n",
        "295 lord\n",
        "296 year\n",
        "297 open\n",
        "298 il\n",
        "299"
       ]
      },
      {
       "output_type": "stream",
       "stream": "stdout",
       "text": [
        " fear\n",
        "300 di\n",
        "301"
       ]
      },
      {
       "output_type": "stream",
       "stream": "stdout",
       "text": [
        " done\n",
        "302 side\n",
        "303 fly\n",
        "304 black\n",
        "305 line\n",
        "306 rock\n",
        "307 blood\n",
        "308 lose\n",
        "309 found\n",
        "310 once\n",
        "311"
       ]
      },
      {
       "output_type": "stream",
       "stream": "stdout",
       "text": [
        " non\n",
        "312"
       ]
      },
      {
       "output_type": "stream",
       "stream": "stdout",
       "text": [
        " door\n",
        "313 bad\n",
        "314 ooh\n",
        "315 wonder\n",
        "316 ti\n",
        "317"
       ]
      },
      {
       "output_type": "stream",
       "stream": "stdout",
       "text": [
        " como\n",
        "318"
       ]
      },
      {
       "output_type": "stream",
       "stream": "stdout",
       "text": [
        " enough\n",
        "319 para\n",
        "320"
       ]
      },
      {
       "output_type": "stream",
       "stream": "stdout",
       "text": [
        " sound\n",
        "321 together\n",
        "322 maybe\n",
        "323 los\n",
        "324"
       ]
      },
      {
       "output_type": "stream",
       "stream": "stdout",
       "text": [
        " help\n",
        "325 shine\n",
        "326 manipulate\n",
        "327 heaven\n",
        "328 because\n",
        "329"
       ]
      },
      {
       "output_type": "stream",
       "stream": "stdout",
       "text": [
        " work\n",
        "330 touch\n",
        "331 behind\n",
        "332 yourself\n",
        "333"
       ]
      },
      {
       "output_type": "stream",
       "stream": "stdout",
       "text": [
        " today\n",
        "334 big\n",
        "335 might\n",
        "336 death\n",
        "337 hate\n",
        "338 miss\n",
        "339 ride\n",
        "340 street\n",
        "341 came\n",
        "342 ask\n",
        "343 hide\n",
        "344 everybody\n",
        "345"
       ]
      },
      {
       "output_type": "stream",
       "stream": "stdout",
       "text": [
        " save\n",
        "346 until\n",
        "347"
       ]
      },
      {
       "output_type": "stream",
       "stream": "stdout",
       "text": [
        " may\n",
        "348 beautiful\n",
        "349 roll\n",
        "350 sure\n",
        "351 deep\n",
        "352 arm\n",
        "353 son\n",
        "354"
       ]
      },
      {
       "output_type": "stream",
       "stream": "stdout",
       "text": [
        " wind\n",
        "355 body\n",
        "356 forget\n",
        "357 happy\n",
        "358 understand\n",
        "359 ai\n",
        "360"
       ]
      },
      {
       "output_type": "stream",
       "stream": "stdout",
       "text": [
        " best\n",
        "361 mother\n",
        "362 town\n",
        "363 war\n",
        "364"
       ]
      },
      {
       "output_type": "stream",
       "stream": "stdout",
       "text": [
        " ah\n",
        "365"
       ]
      },
      {
       "output_type": "stream",
       "stream": "stdout",
       "text": [
        " listen\n",
        "366 seen\n",
        "367 der\n",
        "368"
       ]
      },
      {
       "output_type": "stream",
       "stream": "stdout",
       "text": [
        " sometime\n",
        "369 loner\n",
        "370 hell\n",
        "371 mourn\n",
        "372 until.1\n",
        "373"
       ]
      },
      {
       "output_type": "stream",
       "stream": "stdout",
       "text": [
        " set\n",
        "374 hurt\n",
        "375 told\n",
        "376 first\n",
        "377 knew\n",
        "378 goes\n",
        "379 round\n",
        "380 em\n",
        "381 alright\n",
        "382 music\n",
        "383 sea\n",
        "384"
       ]
      },
      {
       "output_type": "stream",
       "stream": "stdout",
       "text": [
        " truth\n",
        "385 qui\n",
        "386"
       ]
      },
      {
       "output_type": "stream",
       "stream": "stdout",
       "text": [
        " beat\n",
        "387 nicht\n",
        "388"
       ]
      },
      {
       "output_type": "stream",
       "stream": "stdout",
       "text": [
        " eu\n",
        "389"
       ]
      },
      {
       "output_type": "stream",
       "stream": "stdout",
       "text": [
        " las\n",
        "390"
       ]
      },
      {
       "output_type": "stream",
       "stream": "stdout",
       "text": [
        " todo\n",
        "391"
       ]
      },
      {
       "output_type": "stream",
       "stream": "stdout",
       "text": [
        " pass\n",
        "392 under\n",
        "393"
       ]
      },
      {
       "output_type": "stream",
       "stream": "stdout",
       "text": [
        " del\n",
        "394"
       ]
      },
      {
       "output_type": "stream",
       "stream": "stdout",
       "text": [
        " late\n",
        "395 after\n",
        "396"
       ]
      },
      {
       "output_type": "stream",
       "stream": "stdout",
       "text": [
        " ani\n",
        "397 ground\n",
        "398 fool\n",
        "399 pas\n",
        "400"
       ]
      },
      {
       "output_type": "stream",
       "stream": "stdout",
       "text": [
        " broken\n",
        "401 goodby\n",
        "402 das\n",
        "403"
       ]
      },
      {
       "output_type": "stream",
       "stream": "stdout",
       "text": [
        " des\n",
        "404"
       ]
      },
      {
       "output_type": "stream",
       "stream": "stdout",
       "text": [
        " kind\n",
        "405 wall\n",
        "406 angel\n",
        "407 est\n",
        "408"
       ]
      },
      {
       "output_type": "stream",
       "stream": "stdout",
       "text": [
        " road\n",
        "409 reason\n",
        "410 dan\n",
        "411"
       ]
      },
      {
       "output_type": "stream",
       "stream": "stdout",
       "text": [
        " money\n",
        "412 chance\n",
        "413 quiero\n",
        "414"
       ]
      },
      {
       "output_type": "stream",
       "stream": "stdout",
       "text": [
        " mai\n",
        "415"
       ]
      },
      {
       "output_type": "stream",
       "stream": "stdout",
       "text": [
        " part\n",
        "416 matter\n",
        "417 learn\n",
        "418 else\n",
        "419"
       ]
      },
      {
       "output_type": "stream",
       "stream": "stdout",
       "text": [
        " rise\n",
        "420 pour\n",
        "421"
       ]
      },
      {
       "output_type": "stream",
       "stream": "stdout",
       "text": [
        " saw\n",
        "422 grow\n",
        "423 ha\n",
        "424"
       ]
      },
      {
       "output_type": "stream",
       "stream": "stdout",
       "text": [
        " sit\n",
        "425"
       ]
      },
      {
       "output_type": "stream",
       "stream": "stdout",
       "text": [
        " land\n",
        "426 fade\n",
        "427 air\n",
        "428 took\n",
        "429 nobody\n",
        "430 ne\n",
        "431"
       ]
      },
      {
       "output_type": "stream",
       "stream": "stdout",
       "text": [
        " fill\n",
        "432 easy\n",
        "433 game\n",
        "434 follow\n",
        "435 wake\n",
        "436 anything\n",
        "437"
       ]
      },
      {
       "output_type": "stream",
       "stream": "stdout",
       "text": [
        " alive\n",
        "438 solo\n",
        "439 water\n",
        "440 heard\n",
        "441 though\n",
        "442 white\n",
        "443 vida\n",
        "444"
       ]
      },
      {
       "output_type": "stream",
       "stream": "stdout",
       "text": [
        " ist\n",
        "445"
       ]
      },
      {
       "output_type": "stream",
       "stream": "stdout",
       "text": [
        " voice\n",
        "446 woman\n",
        "447 blind\n",
        "448 each\n",
        "449"
       ]
      },
      {
       "output_type": "stream",
       "stream": "stdout",
       "text": [
        " city\n",
        "450 young\n",
        "451 lay\n",
        "452 moon\n",
        "453 reach\n",
        "454 ready\n",
        "455 fine\n",
        "456 soon\n",
        "457 shit\n",
        "458 along\n",
        "459 a.1\n",
        "460"
       ]
      },
      {
       "output_type": "stream",
       "stream": "stdout",
       "text": [
        " crazy\n",
        "461 past\n",
        "462 red\n",
        "463 room\n",
        "464 such\n",
        "465"
       ]
      },
      {
       "output_type": "stream",
       "stream": "stdout",
       "text": [
        " ein\n",
        "466"
       ]
      },
      {
       "output_type": "stream",
       "stream": "stdout",
       "text": [
        " step\n",
        "467 scream\n",
        "468 tomorrow\n",
        "469 control\n",
        "470 memory\n",
        "471 strong\n",
        "472 hit\n",
        "473 everyone\n",
        "474"
       ]
      },
      {
       "output_type": "stream",
       "stream": "stdout",
       "text": [
        " wast\n",
        "475"
       ]
      },
      {
       "output_type": "stream",
       "stream": "stdout",
       "text": [
        " nao\n",
        "476"
       ]
      },
      {
       "output_type": "stream",
       "stream": "stdout",
       "text": [
        " men\n",
        "477"
       ]
      },
      {
       "output_type": "stream",
       "stream": "stdout",
       "text": [
        " earth\n",
        "478 s\n",
        "479"
       ]
      },
      {
       "output_type": "stream",
       "stream": "stdout",
       "text": [
        " upon\n",
        "480"
       ]
      },
      {
       "output_type": "stream",
       "stream": "stdout",
       "text": [
        " final\n",
        "481 shake\n",
        "482 am.1\n",
        "483"
       ]
      },
      {
       "output_type": "stream",
       "stream": "stdout",
       "text": [
        " above\n",
        "484"
       ]
      },
      {
       "output_type": "stream",
       "stream": "stdout",
       "text": [
        " ja\n",
        "485"
       ]
      },
      {
       "output_type": "stream",
       "stream": "stdout",
       "text": [
        " moment\n",
        "486 rest\n",
        "487 guess\n",
        "488 house\n",
        "489 born\n",
        "490 somebody\n",
        "491 feet\n",
        "492 mas\n",
        "493 sad\n",
        "494 laugh\n",
        "495 esta\n",
        "496"
       ]
      },
      {
       "output_type": "stream",
       "stream": "stdout",
       "text": [
        " happen\n",
        "497 went\n",
        "498 cest\n",
        "499 blow\n",
        "500 noch\n",
        "501"
       ]
      },
      {
       "output_type": "stream",
       "stream": "stdout",
       "text": [
        " meet\n",
        "502 whole\n",
        "503 lover\n",
        "504 drive\n",
        "505 car\n",
        "506 lead\n",
        "507 su\n",
        "508"
       ]
      },
      {
       "output_type": "stream",
       "stream": "stdout",
       "text": [
        " very\n",
        "509"
       ]
      },
      {
       "output_type": "stream",
       "stream": "stdout",
       "text": [
        " ni\n",
        "510"
       ]
      },
      {
       "output_type": "stream",
       "stream": "stdout",
       "text": [
        " promise\n",
        "511 bed\n",
        "512 apart\n",
        "513 um\n",
        "514"
       ]
      },
      {
       "output_type": "stream",
       "stream": "stdout",
       "text": [
        " empty\n",
        "515 shadow\n",
        "516 full\n",
        "517 begin\n",
        "518 pull\n",
        "519 child\n",
        "520 pretty\n",
        "521 drink\n",
        "522 pray\n",
        "523 king\n",
        "524 cut\n",
        "525 t\n",
        "526"
       ]
      },
      {
       "output_type": "stream",
       "stream": "stdout",
       "text": [
        " power\n",
        "527 gave\n",
        "528 hay\n",
        "529"
       ]
      },
      {
       "output_type": "stream",
       "stream": "stdout",
       "text": [
        " peace\n",
        "530 hang\n",
        "531 next\n",
        "532 ser\n",
        "533"
       ]
      },
      {
       "output_type": "stream",
       "stream": "stdout",
       "text": [
        " mother.1\n",
        "534"
       ]
      },
      {
       "output_type": "stream",
       "stream": "stdout",
       "text": [
        " e.1\n",
        "535"
       ]
      },
      {
       "output_type": "stream",
       "stream": "stdout",
       "text": [
        " cuando\n",
        "536"
       ]
      },
      {
       "output_type": "stream",
       "stream": "stdout",
       "text": [
        " between\n",
        "537"
       ]
      },
      {
       "output_type": "stream",
       "stream": "stdout",
       "text": [
        " pay\n",
        "538 carry\n",
        "539 tire\n",
        "540 speak\n",
        "541 lot\n",
        "542 tree\n",
        "543 den\n",
        "544"
       ]
      },
      {
       "output_type": "stream",
       "stream": "stdout",
       "text": [
        " skin\n",
        "545 tout\n",
        "546 til\n",
        "547"
       ]
      },
      {
       "output_type": "stream",
       "stream": "stdout",
       "text": [
        " slow\n",
        "548 sinc\n",
        "549"
       ]
      },
      {
       "output_type": "stream",
       "stream": "stdout",
       "text": [
        " anymore\n",
        "550 kid\n",
        "551 clear\n",
        "552 mich\n",
        "553"
       ]
      },
      {
       "output_type": "stream",
       "stream": "stdout",
       "text": [
        " jesus\n",
        "554 differ\n",
        "555 fast\n",
        "556 become\n",
        "557 nigger\n",
        "558 va\n",
        "559 gun\n",
        "560 nos\n",
        "561"
       ]
      },
      {
       "output_type": "stream",
       "stream": "stdout",
       "text": [
        " zu\n",
        "562"
       ]
      },
      {
       "output_type": "stream",
       "stream": "stdout",
       "text": [
        " mas.1\n",
        "563"
       ]
      },
      {
       "output_type": "stream",
       "stream": "stdout",
       "text": [
        " river\n",
        "564 faith\n",
        "565 floor\n",
        "566 cross\n",
        "567 lady\n",
        "568 near\n",
        "569 fun\n",
        "570 ring\n",
        "571 answer\n",
        "572 pero\n",
        "573"
       ]
      },
      {
       "output_type": "stream",
       "stream": "stdout",
       "text": [
        " afraid\n",
        "574 jag\n",
        "575 repeat\n",
        "576 great\n",
        "577 story\n",
        "578 yet\n",
        "579 cannot\n",
        "580"
       ]
      },
      {
       "output_type": "stream",
       "stream": "stdout",
       "text": [
        " hot\n",
        "581 wir\n",
        "582"
       ]
      },
      {
       "output_type": "stream",
       "stream": "stdout",
       "text": [
        " nada\n",
        "583"
       ]
      },
      {
       "output_type": "stream",
       "stream": "stdout",
       "text": [
        " hour\n",
        "584 summer\n",
        "585 stone\n",
        "586 bleed\n",
        "587 sign\n",
        "588 mir\n",
        "589"
       ]
      },
      {
       "output_type": "stream",
       "stream": "stdout",
       "text": [
        " lyric\n",
        "590 children\n",
        "591 trust\n",
        "592 wild\n",
        "593 felt\n",
        "594 trouble\n",
        "595 honey\n",
        "596 sick\n",
        "597 perfect\n",
        "598 human\n",
        "599 bright\n",
        "600 good.1\n",
        "601"
       ]
      },
      {
       "output_type": "stream",
       "stream": "stdout",
       "text": [
        " mama\n",
        "602 dich\n",
        "603"
       ]
      },
      {
       "output_type": "stream",
       "stream": "stdout",
       "text": [
        " party\n",
        "604 train\n",
        "605 plan\n",
        "606 porqu\n",
        "607"
       ]
      },
      {
       "output_type": "stream",
       "stream": "stdout",
       "text": [
        " sorry\n",
        "608 plus\n",
        "609 hair\n",
        "610 secret\n",
        "611 silence\n",
        "612 tast\n",
        "613"
       ]
      },
      {
       "output_type": "stream",
       "stream": "stdout",
       "text": [
        " brother\n",
        "614 throw\n",
        "615 within\n",
        "616 per\n",
        "617"
       ]
      },
      {
       "output_type": "stream",
       "stream": "stdout",
       "text": [
        " push\n",
        "618 m\n",
        "619"
       ]
      },
      {
       "output_type": "stream",
       "stream": "stdout",
       "text": [
        " somewhere\n",
        "620 three\n",
        "621 cloud\n",
        "622 shall\n",
        "623"
       ]
      },
      {
       "output_type": "stream",
       "stream": "stdout",
       "text": [
        " vez\n",
        "624"
       ]
      },
      {
       "output_type": "stream",
       "stream": "stdout",
       "text": [
        " low\n",
        "625 window\n",
        "626 knee\n",
        "627 lip\n",
        "628 future\n",
        "629 dear\n",
        "630 search\n",
        "631 2\n",
        "632 sie\n",
        "633"
       ]
      },
      {
       "output_type": "stream",
       "stream": "stdout",
       "text": [
        " drop\n",
        "634 det\n",
        "635"
       ]
      },
      {
       "output_type": "stream",
       "stream": "stdout",
       "text": [
        " cool\n",
        "636 flame\n",
        "637 outside\n",
        "638 worry\n",
        "639 about.1\n",
        "640"
       ]
      },
      {
       "output_type": "stream",
       "stream": "stdout",
       "text": [
        " going\n",
        "641 met\n",
        "642 stare\n",
        "643 sight\n",
        "644 most\n",
        "645"
       ]
      },
      {
       "output_type": "stream",
       "stream": "stdout",
       "text": [
        " mon\n",
        "646"
       ]
      },
      {
       "output_type": "stream",
       "stream": "stdout",
       "text": [
        " voy\n",
        "647"
       ]
      },
      {
       "output_type": "stream",
       "stream": "stdout",
       "text": [
        " across\n",
        "648 wear\n",
        "649 wave\n",
        "650 tus\n",
        "651"
       ]
      },
      {
       "output_type": "stream",
       "stream": "stdout",
       "text": [
        " pick\n",
        "652 er\n",
        "653"
       ]
      },
      {
       "output_type": "stream",
       "stream": "stdout",
       "text": [
        " send\n",
        "654 siempr\n",
        "655"
       ]
      },
      {
       "output_type": "stream",
       "stream": "stdout",
       "text": [
        " wie\n",
        "656"
       ]
      },
      {
       "output_type": "stream",
       "stream": "stdout",
       "text": [
        " bone\n",
        "657 flow\n",
        "658 piece\n",
        "659 soy\n",
        "660"
       ]
      },
      {
       "output_type": "stream",
       "stream": "stdout",
       "text": [
        " uh\n",
        "661"
       ]
      },
      {
       "output_type": "stream",
       "stream": "stdout",
       "text": [
        " thank\n",
        "662 mis\n",
        "663"
       ]
      },
      {
       "output_type": "stream",
       "stream": "stdout",
       "text": [
        " straight\n",
        "664 blame\n",
        "665 catch\n",
        "666 au\n",
        "667"
       ]
      },
      {
       "output_type": "stream",
       "stream": "stdout",
       "text": [
        " ce\n",
        "668"
       ]
      },
      {
       "output_type": "stream",
       "stream": "stdout",
       "text": [
        " tight\n",
        "669 &\n",
        "670"
       ]
      },
      {
       "output_type": "stream",
       "stream": "stdout",
       "text": [
        " mile\n",
        "671 holy\n",
        "672 darl\n",
        "673"
       ]
      },
      {
       "output_type": "stream",
       "stream": "stdout",
       "text": [
        " auf\n",
        "674"
       ]
      },
      {
       "output_type": "stream",
       "stream": "stdout",
       "text": [
        " mouth\n",
        "675 christmas\n",
        "676 which\n",
        "677"
       ]
      },
      {
       "output_type": "stream",
       "stream": "stdout",
       "text": [
        " moi\n",
        "678"
       ]
      },
      {
       "output_type": "stream",
       "stream": "stdout",
       "text": [
        " against\n",
        "679"
       ]
      },
      {
       "output_type": "stream",
       "stream": "stdout",
       "text": [
        " mad\n",
        "680 both\n",
        "681"
       ]
      },
      {
       "output_type": "stream",
       "stream": "stdout",
       "text": [
        " share\n",
        "682 caught\n",
        "683 father\n",
        "684 read\n",
        "685 warm\n",
        "686 wing\n",
        "687 nunca\n",
        "688"
       ]
      },
      {
       "output_type": "stream",
       "stream": "stdout",
       "text": [
        " belong\n",
        "689 damn\n",
        "690 eat\n",
        "691 win\n",
        "692 sense\n",
        "693 comm\n",
        "694"
       ]
      },
      {
       "output_type": "stream",
       "stream": "stdout",
       "text": [
        " u\n",
        "695 fell\n",
        "696 evil\n",
        "697 dem\n",
        "698"
       ]
      },
      {
       "output_type": "stream",
       "stream": "stdout",
       "text": [
        " slut\n",
        "699 picture\n",
        "700 second\n",
        "701 nowhere\n",
        "702 dog\n",
        "703"
       ]
      },
      {
       "output_type": "stream",
       "stream": "stdout",
       "text": [
        " rule\n",
        "704 une\n",
        "705"
       ]
      },
      {
       "output_type": "stream",
       "stream": "stdout",
       "text": [
        " bad.1\n",
        "706"
       ]
      },
      {
       "output_type": "stream",
       "stream": "stdout",
       "text": [
        " mountain\n",
        "707 joy\n",
        "708 mit\n",
        "709"
       ]
      },
      {
       "output_type": "stream",
       "stream": "stdout",
       "text": [
        " top\n",
        "710 och\n",
        "711"
       ]
      },
      {
       "output_type": "stream",
       "stream": "stdout",
       "text": [
        " tan\n",
        "712 some.1\n",
        "713"
       ]
      },
      {
       "output_type": "stream",
       "stream": "stdout",
       "text": [
        " bit\n",
        "714 cover\n",
        "715 point\n",
        "716 thousand\n",
        "717 hoy\n",
        "718 n\n",
        "719"
       ]
      },
      {
       "output_type": "stream",
       "stream": "stdout",
       "text": [
        " gold\n",
        "720 bell\n",
        "721 e.2\n",
        "722"
       ]
      },
      {
       "output_type": "stream",
       "stream": "stdout",
       "text": [
        " devil\n",
        "723 bird\n",
        "724 sur\n",
        "725"
       ]
      },
      {
       "output_type": "stream",
       "stream": "stdout",
       "text": [
        " quit\n",
        "726 brain\n",
        "727 return\n",
        "728 build\n",
        "729 kick\n",
        "730 rose\n",
        "731 bitch\n",
        "732 babe\n",
        "733 guy\n",
        "734 whoa\n",
        "735"
       ]
      },
      {
       "output_type": "stream",
       "stream": "stdout",
       "text": [
        " shame\n",
        "736 mein\n",
        "737"
       ]
      },
      {
       "output_type": "stream",
       "stream": "stdout",
       "text": [
        " space\n",
        "738 whisper\n",
        "739 tiempo\n",
        "740"
       ]
      },
      {
       "output_type": "stream",
       "stream": "stdout",
       "text": [
        " cos\n",
        "741 write\n",
        "742 dir\n",
        "743"
       ]
      },
      {
       "output_type": "stream",
       "stream": "stdout",
       "text": [
        " tengo\n",
        "744"
       ]
      },
      {
       "output_type": "stream",
       "stream": "stdout",
       "text": [
        " count\n",
        "745 slip\n",
        "746 ver\n",
        "747 desire\n",
        "748 sei\n",
        "749"
       ]
      },
      {
       "output_type": "stream",
       "stream": "stdout",
       "text": [
        " nice\n",
        "750 weak\n",
        "751 raise\n",
        "752 jai\n",
        "753"
       ]
      },
      {
       "output_type": "stream",
       "stream": "stdout",
       "text": [
        " ocean\n",
        "754 number\n",
        "755 drown\n",
        "756 spirit\n",
        "757 scare\n",
        "758 strange\n",
        "759 ik\n",
        "760"
       ]
      },
      {
       "output_type": "stream",
       "stream": "stdout",
       "text": [
        " half\n",
        "761 known\n",
        "762 pretend\n",
        "763 worth\n",
        "764 someday\n",
        "765 act\n",
        "766 beyond\n",
        "767 fair\n",
        "768 million\n",
        "769 finger\n",
        "770 question\n",
        "771 doubt\n",
        "772 meant\n",
        "773 smoke\n",
        "774 coming\n",
        "775 flesh\n",
        "776 dawn\n",
        "777 father.1\n",
        "778"
       ]
      },
      {
       "output_type": "stream",
       "stream": "stdout",
       "text": [
        " storm\n",
        "779 hole\n",
        "780 color\n",
        "781 jump\n",
        "782 remain\n",
        "783 mundo\n",
        "784"
       ]
      },
      {
       "output_type": "stream",
       "stream": "stdout",
       "text": [
        " eternal\n",
        "785 nothing\n",
        "786 buy\n",
        "787 nur\n",
        "788"
       ]
      },
      {
       "output_type": "stream",
       "stream": "stdout",
       "text": [
        " anyone\n",
        "789"
       ]
      },
      {
       "output_type": "stream",
       "stream": "stdout",
       "text": [
        " dress\n",
        "790 1\n",
        "791 minute\n",
        "792 dont\n",
        "793"
       ]
      },
      {
       "output_type": "stream",
       "stream": "stdout",
       "text": [
        " pra\n",
        "794"
       ]
      },
      {
       "output_type": "stream",
       "stream": "stdout",
       "text": [
        " snow\n",
        "795 d\n",
        "796"
       ]
      },
      {
       "output_type": "stream",
       "stream": "stdout",
       "text": [
        " dig\n",
        "797"
       ]
      },
      {
       "output_type": "stream",
       "stream": "stdout",
       "text": [
        " estoy\n",
        "798"
       ]
      },
      {
       "output_type": "stream",
       "stream": "stdout",
       "text": [
        " force\n",
        "799 spend\n",
        "800 shot\n",
        "801 everyday\n",
        "802 puedo\n",
        "803"
       ]
      },
      {
       "output_type": "stream",
       "stream": "stdout",
       "text": [
        " tu.1\n",
        "804"
       ]
      },
      {
       "output_type": "stream",
       "stream": "stdout",
       "text": [
        " chain\n",
        "805 dry\n",
        "806 grace\n",
        "807 green\n",
        "808 glory\n",
        "809 doch\n",
        "810"
       ]
      },
      {
       "output_type": "stream",
       "stream": "stdout",
       "text": [
        " everywhere\n",
        "811 freedom\n",
        "812 realize\n",
        "813 lock\n",
        "814 pride\n",
        "815 whatever\n",
        "816 feed\n",
        "817 mistake\n",
        "818 verse\n",
        "819 fate\n",
        "820 meu\n",
        "821"
       ]
      },
      {
       "output_type": "stream",
       "stream": "stdout",
       "text": [
        " escape\n",
        "822 wash\n",
        "823 mess\n",
        "824 voice.1\n",
        "825"
       ]
      },
      {
       "output_type": "stream",
       "stream": "stdout",
       "text": [
        " sand\n",
        "826 front\n",
        "827 forgive\n",
        "828 vi\n",
        "829"
       ]
      },
      {
       "output_type": "stream",
       "stream": "stdout",
       "text": [
        " winter\n",
        "830 tanto\n",
        "831"
       ]
      },
      {
       "output_type": "stream",
       "stream": "stdout",
       "text": [
        " magic\n",
        "832 flower\n",
        "833 pa\n",
        "834 closer\n",
        "835 safe\n",
        "836 wenn\n",
        "837"
       ]
      },
      {
       "output_type": "stream",
       "stream": "stdout",
       "text": [
        " sol\n",
        "838 bless\n",
        "839 suffer\n",
        "840 longer\n",
        "841 dein\n",
        "842"
       ]
      },
      {
       "output_type": "stream",
       "stream": "stdout",
       "text": [
        " hello\n",
        "843 san\n",
        "844"
       ]
      },
      {
       "output_type": "stream",
       "stream": "stdout",
       "text": [
        " grave\n",
        "845 already\n",
        "846 yesterday\n",
        "847 wide\n",
        "848 radio\n",
        "849 sorrow\n",
        "850 ten\n",
        "851 tien\n",
        "852"
       ]
      },
      {
       "output_type": "stream",
       "stream": "stdout",
       "text": [
        " phone\n",
        "853 crawl\n",
        "854 survive\n",
        "855 ay\n",
        "856"
       ]
      },
      {
       "output_type": "stream",
       "stream": "stdout",
       "text": [
        " tie\n",
        "857 exist\n",
        "858 anyway\n",
        "859 io\n",
        "860"
       ]
      },
      {
       "output_type": "stream",
       "stream": "stdout",
       "text": [
        " spin\n",
        "861 insane\n",
        "862 nous\n",
        "863"
       ]
      },
      {
       "output_type": "stream",
       "stream": "stdout",
       "text": [
        " slowly\n",
        "864 dond\n",
        "865"
       ]
      },
      {
       "output_type": "stream",
       "stream": "stdout",
       "text": [
        " ear\n",
        "866 crowd\n",
        "867 clean\n",
        "868 nature\n",
        "869 knock\n",
        "870 four\n",
        "871 poor\n",
        "872 loud\n",
        "873 shoe\n",
        "874 bar\n",
        "875 esta.1\n",
        "876"
       ]
      },
      {
       "output_type": "stream",
       "stream": "stdout",
       "text": [
        " ass\n",
        "877 lovin\n",
        "878"
       ]
      },
      {
       "output_type": "stream",
       "stream": "stdout",
       "text": [
        " higher\n",
        "879 race\n",
        "880 silent\n",
        "881 lift\n",
        "882 destroy\n",
        "883 cuz\n",
        "884"
       ]
      },
      {
       "output_type": "stream",
       "stream": "stdout",
       "text": [
        " soft\n",
        "885 paint\n",
        "886 mar\n",
        "887 dirty\n",
        "888 check\n",
        "889 ta\n",
        "890"
       ]
      },
      {
       "output_type": "stream",
       "stream": "stdout",
       "text": [
        " held\n",
        "891 life.1\n",
        "892"
       ]
      },
      {
       "output_type": "stream",
       "stream": "stdout",
       "text": [
        " shout\n",
        "893 sail\n",
        "894 twist\n",
        "895 guitar\n",
        "896 simple\n",
        "897 quand\n",
        "898"
       ]
      },
      {
       "output_type": "stream",
       "stream": "stdout",
       "text": [
        " sa\n",
        "899"
       ]
      },
      {
       "output_type": "stream",
       "stream": "stdout",
       "text": [
        " ei\n",
        "900"
       ]
      },
      {
       "output_type": "stream",
       "stream": "stdout",
       "text": [
        " deny\n",
        "901 fail\n",
        "902 van\n",
        "903 family\n",
        "904 vision\n",
        "905 toi\n",
        "906"
       ]
      },
      {
       "output_type": "stream",
       "stream": "stdout",
       "text": [
        " looking\n",
        "907 track\n",
        "908 broke\n",
        "909 day.1\n",
        "910"
       ]
      },
      {
       "output_type": "stream",
       "stream": "stdout",
       "text": [
        " state\n",
        "911 welcome\n",
        "912 ghost\n",
        "913 almost\n",
        "914 shut\n",
        "915 entry\n",
        "916 somehow\n",
        "917 glass\n",
        "918 yes.1\n",
        "919"
       ]
      },
      {
       "output_type": "stream",
       "stream": "stdout",
       "text": [
        " gentelman\n",
        "920"
       ]
      },
      {
       "output_type": "stream",
       "stream": "stdout",
       "text": [
        " choose\n",
        "921 fur\n",
        "922 bin\n",
        "923"
       ]
      },
      {
       "output_type": "stream",
       "stream": "stdout",
       "text": [
        " glad\n",
        "924 shoot\n",
        "925 ell\n",
        "926 small\n",
        "927 hill\n",
        "928 wine\n",
        "929 treat\n",
        "930 dos\n",
        "931 stranger\n",
        "932 regret\n",
        "933 refrain\n",
        "934 heart.1\n",
        "935"
       ]
      },
      {
       "output_type": "stream",
       "stream": "stdout",
       "text": [
        " machine\n",
        "936 problem\n",
        "937 feeling\n",
        "938 sister\n",
        "939 era\n",
        "940"
       ]
      },
      {
       "output_type": "stream",
       "stream": "stdout",
       "text": [
        " steal\n",
        "941 endless\n",
        "942 vai\n",
        "943"
       ]
      },
      {
       "output_type": "stream",
       "stream": "stdout",
       "text": [
        " awake\n",
        "944 key\n",
        "945 grand\n",
        "946 cada\n",
        "947"
       ]
      },
      {
       "output_type": "stream",
       "stream": "stdout",
       "text": [
        " age\n",
        "948 bridge\n",
        "949 dust\n",
        "950 wit\n",
        "951 thank.1\n",
        "952"
       ]
      },
      {
       "output_type": "stream",
       "stream": "stdout",
       "text": [
        " wheel\n",
        "953 ere\n",
        "954"
       ]
      },
      {
       "output_type": "stream",
       "stream": "stdout",
       "text": [
        " crack\n",
        "955 taken\n",
        "956 praise\n",
        "957 heal\n",
        "958 queen\n",
        "959 mirror\n",
        "960 von\n",
        "961"
       ]
      },
      {
       "output_type": "stream",
       "stream": "stdout",
       "text": [
        " corner\n",
        "962 ba\n",
        "963 ago\n",
        "964 bury\n",
        "965 book\n",
        "966 now.1\n",
        "967"
       ]
      },
      {
       "output_type": "stream",
       "stream": "stdout",
       "text": [
        " climb\n",
        "968 quando\n",
        "969"
       ]
      },
      {
       "output_type": "stream",
       "stream": "stdout",
       "text": [
        " okay\n",
        "970 cloth\n",
        "971 band\n",
        "972 school\n",
        "973 stick\n",
        "974 ar\n",
        "975 circle\n",
        "976 ou\n",
        "977"
       ]
      },
      {
       "output_type": "stream",
       "stream": "stdout",
       "text": [
        " tv\n",
        "978 don\n",
        "979"
       ]
      },
      {
       "output_type": "stream",
       "stream": "stdout",
       "text": [
        " strength\n",
        "980 og\n",
        "981"
       ]
      },
      {
       "output_type": "stream",
       "stream": "stdout",
       "text": [
        " five\n",
        "982 country\n",
        "983 beneath\n",
        "984 sunshine\n",
        "985 sabe\n",
        "986"
       ]
      },
      {
       "output_type": "stream",
       "stream": "stdout",
       "text": [
        " alma\n",
        "987"
       ]
      },
      {
       "output_type": "stream",
       "stream": "stdout",
       "text": [
        " ice\n",
        "988 aa\n",
        "989 bound\n",
        "990 less\n",
        "991 sell\n",
        "992 tongue\n",
        "993 path\n",
        "994 cielo\n",
        "995"
       ]
      },
      {
       "output_type": "stream",
       "stream": "stdout",
       "text": [
        " travel\n",
        "996 hasta\n",
        "997"
       ]
      },
      {
       "output_type": "stream",
       "stream": "stdout",
       "text": [
        " hat\n",
        "998"
       ]
      },
      {
       "output_type": "stream",
       "stream": "stdout",
       "text": [
        " rather\n",
        "999 heat\n",
        "1000 innocuous\n",
        "1001 confuse\n",
        "1002 cosa\n",
        "1003"
       ]
      },
      {
       "output_type": "stream",
       "stream": "stdout",
       "text": [
        " golden\n",
        "1004 ohh\n",
        "1005"
       ]
      },
      {
       "output_type": "stream",
       "stream": "stdout",
       "text": [
        " marry\n",
        "1006 single\n",
        "1007 ahead\n",
        "1008 bye\n",
        "1009 silver\n",
        "1010 trying\n",
        "1011 doo\n",
        "1012"
       ]
      },
      {
       "output_type": "stream",
       "stream": "stdout",
       "text": [
        " mes\n",
        "1013"
       ]
      },
      {
       "output_type": "stream",
       "stream": "stdout",
       "text": [
        " sai\n",
        "1014"
       ]
      },
      {
       "output_type": "stream",
       "stream": "stdout",
       "text": [
        " chase\n",
        "1015 pued\n",
        "1016"
       ]
      },
      {
       "output_type": "stream",
       "stream": "stdout",
       "text": [
        " piu\n",
        "1017"
       ]
      },
      {
       "output_type": "stream",
       "stream": "stdout",
       "text": [
        " few\n",
        "1018"
       ]
      },
      {
       "output_type": "stream",
       "stream": "stdout",
       "text": [
        " sein\n",
        "1019"
       ]
      },
      {
       "output_type": "stream",
       "stream": "stdout",
       "text": [
        " scene\n",
        "1020 smell\n",
        "1021 funny\n",
        "1022 enemy\n",
        "1023 swear\n",
        "1024 pa.1\n",
        "1025"
       ]
      },
      {
       "output_type": "stream",
       "stream": "stdout",
       "text": [
        " ball\n",
        "1026 beg\n",
        "1027 sind\n",
        "1028"
       ]
      },
      {
       "output_type": "stream",
       "stream": "stdout",
       "text": [
        " x2\n",
        "1029"
       ]
      },
      {
       "output_type": "stream",
       "stream": "stdout",
       "text": [
        " prayer\n",
        "1030 wound\n",
        "1031 otra\n",
        "1032"
       ]
      },
      {
       "output_type": "stream",
       "stream": "stdout",
       "text": [
        " ton\n",
        "1033"
       ]
      },
      {
       "output_type": "stream",
       "stream": "stdout",
       "text": [
        " disappear\n",
        "1034 beside\n",
        "1035"
       ]
      },
      {
       "output_type": "stream",
       "stream": "stdout",
       "text": [
        " hace\n",
        "1036"
       ]
      },
      {
       "output_type": "stream",
       "stream": "stdout",
       "text": [
        " toda\n",
        "1037 ignore\n",
        "1038 mister\n",
        "1039 yall\n",
        "1040"
       ]
      },
      {
       "output_type": "stream",
       "stream": "stdout",
       "text": [
        " style\n",
        "1041 ihr\n",
        "1042"
       ]
      },
      {
       "output_type": "stream",
       "stream": "stdout",
       "text": [
        " brought\n",
        "1043 given\n",
        "1044 quiet\n",
        "1045 rage\n",
        "1046 mano\n",
        "1047"
       ]
      },
      {
       "output_type": "stream",
       "stream": "stdout",
       "text": [
        " reality\n",
        "1048 sink\n",
        "1049 3\n",
        "1050 quier\n",
        "1051"
       ]
      },
      {
       "output_type": "stream",
       "stream": "stdout",
       "text": [
        " spread\n",
        "1052 crime\n",
        "1053 vain\n",
        "1054 nadi\n",
        "1055"
       ]
      },
      {
       "output_type": "stream",
       "stream": "stdout",
       "text": [
        " fallen\n",
        "1056 self\n",
        "1057 decide\n",
        "1058 ella\n",
        "1059"
       ]
      },
      {
       "output_type": "stream",
       "stream": "stdout",
       "text": [
        " c\n",
        "1060"
       ]
      },
      {
       "output_type": "stream",
       "stream": "stdout",
       "text": [
        " fue\n",
        "1061"
       ]
      },
      {
       "output_type": "stream",
       "stream": "stdout",
       "text": [
        " imagine\n",
        "1062 yesterday.1\n",
        "1063"
       ]
      },
      {
       "output_type": "stream",
       "stream": "stdout",
       "text": [
        " stuck\n",
        "1064 view\n",
        "1065 vas\n",
        "1066 kept\n",
        "1067 demon\n",
        "1068 sui\n",
        "1069"
       ]
      },
      {
       "output_type": "stream",
       "stream": "stdout",
       "text": [
        " busy\n",
        "1070 ok\n",
        "1071 record\n",
        "1072 law\n",
        "1073 choice\n",
        "1074 har\n",
        "1075"
       ]
      },
      {
       "output_type": "stream",
       "stream": "stdout",
       "text": [
        " fit\n",
        "1076 remind\n",
        "1077 emotion\n",
        "1078 field\n",
        "1079 crash\n",
        "1080 suppose\n",
        "1081 sen\n",
        "1082 cmon\n",
        "1083"
       ]
      },
      {
       "output_type": "stream",
       "stream": "stdout",
       "text": [
        " dentro\n",
        "1084"
       ]
      },
      {
       "output_type": "stream",
       "stream": "stdout",
       "text": [
        " mehr\n",
        "1085"
       ]
      },
      {
       "output_type": "stream",
       "stream": "stdout",
       "text": [
        " danger\n",
        "1086 sich\n",
        "1087"
       ]
      },
      {
       "output_type": "stream",
       "stream": "stdout",
       "text": [
        " letter\n",
        "1088 midnight\n",
        "1089 com\n",
        "1090"
       ]
      },
      {
       "output_type": "stream",
       "stream": "stdout",
       "text": [
        " kein\n",
        "1091"
       ]
      },
      {
       "output_type": "stream",
       "stream": "stdout",
       "text": [
        " nation\n",
        "1092 edge\n",
        "1093 surprise\n",
        "1094 nothing.1\n",
        "1095"
       ]
      },
      {
       "output_type": "stream",
       "stream": "stdout",
       "text": [
        " murder\n",
        "1096 deal\n",
        "1097 complete\n",
        "1098 lose.1\n",
        "1099"
       ]
      },
      {
       "output_type": "stream",
       "stream": "stdout",
       "text": [
        " price\n",
        "1100 instrument\n",
        "1101 luck\n",
        "1102 rip\n",
        "1103 drift\n",
        "1104 poison\n",
        "1105 battle\n",
        "1106 living\n",
        "1107 give.1\n",
        "1108"
       ]
      },
      {
       "output_type": "stream",
       "stream": "stdout",
       "text": [
        " getting\n",
        "1109 haunt\n",
        "1110 sex\n",
        "1111 proud\n",
        "1112 re\n",
        "1113 heavy\n",
        "1114 guide\n",
        "1115 nie\n",
        "1116"
       ]
      },
      {
       "output_type": "stream",
       "stream": "stdout",
       "text": [
        " drag\n",
        "1117 middle\n",
        "1118 bare\n",
        "1119 dare\n",
        "1120 bang\n",
        "1121 eyes\n",
        "1122 pure\n",
        "1123 embrace\n",
        "1124 aus\n",
        "1125"
       ]
      },
      {
       "output_type": "stream",
       "stream": "stdout",
       "text": [
        " suck\n",
        "1126 stupid\n",
        "1127 fake\n",
        "1128 week\n",
        "1129 news\n",
        "1130 tes\n",
        "1131"
       ]
      },
      {
       "output_type": "stream",
       "stream": "stdout",
       "text": [
        " master\n",
        "1132 float\n",
        "1133 satisfy\n",
        "1134 sent\n",
        "1135 christ\n",
        "1136 fait\n",
        "1137"
       ]
      },
      {
       "output_type": "stream",
       "stream": "stdout",
       "text": [
        " scar\n",
        "1138 bear\n",
        "1139 dime\n",
        "1140 quick\n",
        "1141 het\n",
        "1142 poi\n",
        "1143 swing\n",
        "1144 below\n",
        "1145"
       ]
      },
      {
       "output_type": "stream",
       "stream": "stdout",
       "text": [
        " prove\n",
        "1146 figure\n",
        "1147 diamond\n",
        "1148 none\n",
        "1149 instead\n",
        "1150 pleasure.1\n",
        "1151"
       ]
      },
      {
       "output_type": "stream",
       "stream": "stdout",
       "text": [
        " curse\n",
        "1152 rich\n",
        "1153 cat\n",
        "1154 spent\n",
        "1155 seek\n",
        "1156 paper\n",
        "1157 mystery\n",
        "1158 passion\n",
        "1159 brand\n",
        "1160 feel.1\n",
        "1161"
       ]
      },
      {
       "output_type": "stream",
       "stream": "stdout",
       "text": [
        " bomb\n",
        "1162 light.1\n",
        "1163"
       ]
      },
      {
       "output_type": "stream",
       "stream": "stdout",
       "text": [
        " bitter\n",
        "1164 tender\n",
        "1165 fact\n",
        "1166 job\n",
        "1167 que.1\n",
        "1168"
       ]
      },
      {
       "output_type": "stream",
       "stream": "stdout",
       "text": [
        " bet\n",
        "1169 oooh\n",
        "1170"
       ]
      },
      {
       "output_type": "stream",
       "stream": "stdout",
       "text": [
        " always.1\n",
        "1171"
       ]
      },
      {
       "output_type": "stream",
       "stream": "stdout",
       "text": [
        " cast\n",
        "1172 sono\n",
        "1173"
       ]
      },
      {
       "output_type": "stream",
       "stream": "stdout",
       "text": [
        " trip\n",
        "1174 pack\n",
        "1175 explain\n",
        "1176 talking\n",
        "1177 lucky\n",
        "1178 ci\n",
        "1179"
       ]
      },
      {
       "output_type": "stream",
       "stream": "stdout",
       "text": [
        " l\n",
        "1180"
       ]
      },
      {
       "output_type": "stream",
       "stream": "stdout",
       "text": [
        " eso\n",
        "1181"
       ]
      },
      {
       "output_type": "stream",
       "stream": "stdout",
       "text": [
        " special\n",
        "1182 mark\n",
        "1183 form\n",
        "1184 shoulder\n",
        "1185 warn\n",
        "1186 create\n",
        "1187 seven\n",
        "1188 ship\n",
        "1189 bist\n",
        "1190"
       ]
      },
      {
       "output_type": "stream",
       "stream": "stdout",
       "text": [
        " misery\n",
        "1191 sunday\n",
        "1192 six\n",
        "1193 quien\n",
        "1194"
       ]
      },
      {
       "output_type": "stream",
       "stream": "stdout",
       "text": [
        " tune\n",
        "1195 wrap\n",
        "1196 muy\n",
        "1197"
       ]
      },
      {
       "output_type": "stream",
       "stream": "stdout",
       "text": [
        " pop\n",
        "1198 surround\n",
        "1199 doing\n",
        "1200"
       ]
      },
      {
       "output_type": "stream",
       "stream": "stdout",
       "text": [
        " hero\n",
        "1201 gate\n",
        "1202 comfort\n",
        "1203 han\n",
        "1204"
       ]
      },
      {
       "output_type": "stream",
       "stream": "stdout",
       "text": [
        " 2x\n",
        "1205"
       ]
      },
      {
       "output_type": "stream",
       "stream": "stdout",
       "text": [
        " rush\n",
        "1206 drug\n",
        "1207 fucking\n",
        "1208 mejor\n",
        "1209"
       ]
      },
      {
       "output_type": "stream",
       "stream": "stdout",
       "text": [
        " living.1\n",
        "1210"
       ]
      },
      {
       "output_type": "stream",
       "stream": "stdout",
       "text": [
        " least\n",
        "1211 short\n",
        "1212 se.1\n",
        "1213"
       ]
      },
      {
       "output_type": "stream",
       "stream": "stdout",
       "text": [
        " dann\n",
        "1214"
       ]
      },
      {
       "output_type": "stream",
       "stream": "stdout",
       "text": [
        " cruel\n",
        "1215 par\n",
        "1216"
       ]
      },
      {
       "output_type": "stream",
       "stream": "stdout",
       "text": [
        " rhyme\n",
        "1217 written\n",
        "1218 swallow\n",
        "1219 wander\n",
        "1220 reflect\n",
        "1221 dice\n",
        "1222 aunqu\n",
        "1223"
       ]
      },
      {
       "output_type": "stream",
       "stream": "stdout",
       "text": [
        " tide\n",
        "1224 join\n",
        "1225 bottling\n",
        "1226 steel\n",
        "1227 paradise\n",
        "1228 mia\n",
        "1229"
       ]
      },
      {
       "output_type": "stream",
       "stream": "stdout",
       "text": [
        " dia\n",
        "1230 cant\n",
        "1231 auch\n",
        "1232"
       ]
      },
      {
       "output_type": "stream",
       "stream": "stdout",
       "text": [
        " wife\n",
        "1233 shore\n",
        "1234 leg\n",
        "1235 something.1\n",
        "1236"
       ]
      },
      {
       "output_type": "stream",
       "stream": "stdout",
       "text": [
        " draw\n",
        "1237 slave\n",
        "1238 march\n",
        "1239 day.2\n",
        "1240"
       ]
      },
      {
       "output_type": "stream",
       "stream": "stdout",
       "text": [
        " algo\n",
        "1241"
       ]
      },
      {
       "output_type": "stream",
       "stream": "stdout",
       "text": [
        " beso\n",
        "1242"
       ]
      },
      {
       "output_type": "stream",
       "stream": "stdout",
       "text": [
        " immer\n",
        "1243"
       ]
      },
      {
       "output_type": "stream",
       "stream": "stdout",
       "text": [
        " swim\n",
        "1244 build.1\n",
        "1245"
       ]
      },
      {
       "output_type": "stream",
       "stream": "stdout",
       "text": [
        " tempo\n",
        "1246 women\n",
        "1247 heart.2\n",
        "1248"
       ]
      },
      {
       "output_type": "stream",
       "stream": "stdout",
       "text": [
        " om\n",
        "1249"
       ]
      },
      {
       "output_type": "stream",
       "stream": "stdout",
       "text": [
        " fix\n",
        "1250 trap\n",
        "1251 torn\n",
        "1252 vein\n",
        "1253 estar\n",
        "1254"
       ]
      },
      {
       "output_type": "stream",
       "stream": "stdout",
       "text": [
        " release\n",
        "1255 hors\n",
        "1256"
       ]
      },
      {
       "output_type": "stream",
       "stream": "stdout",
       "text": [
        " casa\n",
        "1257"
       ]
      },
      {
       "output_type": "stream",
       "stream": "stdout",
       "text": [
        " spell\n",
        "1258 glow\n",
        "1259 grab\n",
        "1260 denn\n",
        "1261"
       ]
      },
      {
       "output_type": "stream",
       "stream": "stdout",
       "text": [
        " drum\n",
        "1262 bite\n",
        "1263 brown\n",
        "1264 won\n",
        "1265 i'm\n",
        "1266"
       ]
      },
      {
       "output_type": "stream",
       "stream": "stdout",
       "text": [
        " sugar\n",
        "1267 forgotten\n",
        "1268 stronger\n",
        "1269 rhythm\n",
        "1270 victim\n",
        "1271 message\n",
        "1272 later\n",
        "1273 person\n",
        "1274 darling\n",
        "1275 asi\n",
        "1276"
       ]
      },
      {
       "output_type": "stream",
       "stream": "stdout",
       "text": [
        " poco\n",
        "1277"
       ]
      },
      {
       "output_type": "stream",
       "stream": "stdout",
       "text": [
        " avec\n",
        "1278"
       ]
      },
      {
       "output_type": "stream",
       "stream": "stdout",
       "text": [
        " huh\n",
        "1279"
       ]
      },
      {
       "output_type": "stream",
       "stream": "stdout",
       "text": [
        " dat\n",
        "1280 dio\n",
        "1281"
       ]
      },
      {
       "output_type": "stream",
       "stream": "stdout",
       "text": [
        " uma\n",
        "1282 sudden\n",
        "1283 stood\n",
        "1284 att\n",
        "1285"
       ]
      },
      {
       "output_type": "stream",
       "stream": "stdout",
       "text": [
        " hundred\n",
        "1286 kann\n",
        "1287"
       ]
      },
      {
       "output_type": "stream",
       "stream": "stdout",
       "text": [
        " running\n",
        "1288 solo.1\n",
        "1289"
       ]
      },
      {
       "output_type": "stream",
       "stream": "stdout",
       "text": [
        " season\n",
        "1290 sueno\n",
        "1291"
       ]
      },
      {
       "output_type": "stream",
       "stream": "stdout",
       "text": [
        " surrender\n",
        "1292 bore\n",
        "1293 vou\n",
        "1294"
       ]
      },
      {
       "output_type": "stream",
       "stream": "stdout",
       "text": [
        " crush\n",
        "1295 history\n",
        "1296 won't\n",
        "1297"
       ]
      },
      {
       "output_type": "stream",
       "stream": "stdout",
       "text": [
        " luna\n",
        "1298 ourselves\n",
        "1299"
       ]
      },
      {
       "output_type": "stream",
       "stream": "stdout",
       "text": [
        " truth.1\n",
        "1300"
       ]
      },
      {
       "output_type": "stream",
       "stream": "stdout",
       "text": [
        " weight\n",
        "1301 mi.1\n",
        "1302"
       ]
      },
      {
       "output_type": "stream",
       "stream": "stdout",
       "text": [
        " 4\n",
        "1303 lust\n",
        "1304 pain.1\n",
        "1305"
       ]
      },
      {
       "output_type": "stream",
       "stream": "stdout",
       "text": [
        " park\n",
        "1306 expect\n",
        "1307 so.1\n",
        "1308"
       ]
      },
      {
       "output_type": "stream",
       "stream": "stdout",
       "text": [
        " speed\n",
        "1309 shade\n",
        "1310 calm\n",
        "1311 bow\n",
        "1312 bend\n",
        "1313 mig\n",
        "1314"
       ]
      },
      {
       "output_type": "stream",
       "stream": "stdout",
       "text": [
        " strike\n",
        "1315 thrill\n",
        "1316 animate\n",
        "1317 aqui\n",
        "1318"
       ]
      },
      {
       "output_type": "stream",
       "stream": "stdout",
       "text": [
        " love.2\n",
        "1319"
       ]
      },
      {
       "output_type": "stream",
       "stream": "stdout",
       "text": [
        " thunder\n",
        "1320 soldier\n",
        "1321 vous\n",
        "1322"
       ]
      },
      {
       "output_type": "stream",
       "stream": "stdout",
       "text": [
        " hacer\n",
        "1323"
       ]
      },
      {
       "output_type": "stream",
       "stream": "stdout",
       "text": [
        " west\n",
        "1324 destiny\n",
        "1325 spit\n",
        "1326 ran\n",
        "1327 twice\n",
        "1328 drunk\n",
        "1329 page\n",
        "1330 med\n",
        "1331"
       ]
      },
      {
       "output_type": "stream",
       "stream": "stdout",
       "text": [
        " desert\n",
        "1332 block\n",
        "1333 tall\n",
        "1334 anywhere\n",
        "1335 distance\n",
        "1336 mio\n",
        "1337"
       ]
      },
      {
       "output_type": "stream",
       "stream": "stdout",
       "text": [
        " spring\n",
        "1338 gather\n",
        "1339 g\n",
        "1340 temp\n",
        "1341 foi\n",
        "1342"
       ]
      },
      {
       "output_type": "stream",
       "stream": "stdout",
       "text": [
        " cuerpo\n",
        "1343"
       ]
      },
      {
       "output_type": "stream",
       "stream": "stdout",
       "text": [
        " dollar\n",
        "1344 echo\n",
        "1345 knife\n",
        "1346 melt\n",
        "1347 woman.1\n",
        "1348"
       ]
      },
      {
       "output_type": "stream",
       "stream": "stdout",
       "text": [
        " anybody\n",
        "1349"
       ]
      },
      {
       "output_type": "stream",
       "stream": "stdout",
       "text": [
        " otro\n",
        "1350"
       ]
      },
      {
       "output_type": "stream",
       "stream": "stdout",
       "text": [
        " aqui.1\n",
        "1351"
       ]
      },
      {
       "output_type": "stream",
       "stream": "stdout",
       "text": [
        " sa.1\n",
        "1352"
       ]
      },
      {
       "output_type": "stream",
       "stream": "stdout",
       "text": [
        " grey\n",
        "1353 asleep\n",
        "1354 gentle\n",
        "1355 sem\n",
        "1356"
       ]
      },
      {
       "output_type": "stream",
       "stream": "stdout",
       "text": [
        " direct\n",
        "1357 load\n",
        "1358 divine\n",
        "1359 early\n",
        "1360 toward\n",
        "1361"
       ]
      },
      {
       "output_type": "stream",
       "stream": "stdout",
       "text": [
        " kun\n",
        "1362"
       ]
      },
      {
       "output_type": "stream",
       "stream": "stdout",
       "text": [
        " weather\n",
        "1363 ash\n",
        "1364 ve\n",
        "1365"
       ]
      },
      {
       "output_type": "stream",
       "stream": "stdout",
       "text": [
        " os\n",
        "1366"
       ]
      },
      {
       "output_type": "stream",
       "stream": "stdout",
       "text": [
        " seed\n",
        "1367 highway\n",
        "1368 harder\n",
        "1369 sus\n",
        "1370"
       ]
      },
      {
       "output_type": "stream",
       "stream": "stdout",
       "text": [
        " boom\n",
        "1371 esa\n",
        "1372"
       ]
      },
      {
       "output_type": "stream",
       "stream": "stdout",
       "text": [
        " attack\n",
        "1373 action\n",
        "1374 thee\n",
        "1375"
       ]
      },
      {
       "output_type": "stream",
       "stream": "stdout",
       "text": [
        " end.1\n",
        "1376"
       ]
      },
      {
       "output_type": "stream",
       "stream": "stdout",
       "text": [
        " quon\n",
        "1377"
       ]
      },
      {
       "output_type": "stream",
       "stream": "stdout",
       "text": [
        " art\n",
        "1378 pie\n",
        "1379 club\n",
        "1380 wird\n",
        "1381"
       ]
      },
      {
       "output_type": "stream",
       "stream": "stdout",
       "text": [
        " contigo\n",
        "1382"
       ]
      },
      {
       "output_type": "stream",
       "stream": "stdout",
       "text": [
        " kan\n",
        "1383"
       ]
      },
      {
       "output_type": "stream",
       "stream": "stdout",
       "text": [
        " rap\n",
        "1384 case\n",
        "1385 hab\n",
        "1386"
       ]
      },
      {
       "output_type": "stream",
       "stream": "stdout",
       "text": [
        " tous\n",
        "1387"
       ]
      },
      {
       "output_type": "stream",
       "stream": "stdout",
       "text": [
        " thinking\n",
        "1388 metal\n",
        "1389 underneath\n",
        "1390 breeze\n",
        "1391 teeth\n",
        "1392 respect\n",
        "1393 outta\n",
        "1394"
       ]
      },
      {
       "output_type": "stream",
       "stream": "stdout",
       "text": [
        " john\n",
        "1395 neck\n",
        "1396 precious\n",
        "1397 nine\n",
        "1398 idea\n",
        "1399 rainbow\n",
        "1400 thi\n",
        "1401"
       ]
      },
      {
       "output_type": "stream",
       "stream": "stdout",
       "text": [
        " lieb\n",
        "1402"
       ]
      },
      {
       "output_type": "stream",
       "stream": "stdout",
       "text": [
        " laid\n",
        "1403 offer\n",
        "1404 gut\n",
        "1405 saber\n",
        "1406 een\n",
        "1407"
       ]
      },
      {
       "output_type": "stream",
       "stream": "stdout",
       "text": [
        " nois\n",
        "1408"
       ]
      },
      {
       "output_type": "stream",
       "stream": "stdout",
       "text": [
        " begun\n",
        "1409 resist\n",
        "1410 garden\n",
        "1411 sigh\n",
        "1412 bag\n",
        "1413 disguise\n",
        "1414 noon\n",
        "1415 quem\n",
        "1416"
       ]
      },
      {
       "output_type": "stream",
       "stream": "stdout",
       "text": [
        " string\n",
        "1417 color.1\n",
        "1418"
       ]
      },
      {
       "output_type": "stream",
       "stream": "stdout",
       "text": [
        " nu\n",
        "1419"
       ]
      },
      {
       "output_type": "stream",
       "stream": "stdout",
       "text": [
        " ooo\n",
        "1420"
       ]
      },
      {
       "output_type": "stream",
       "stream": "stdout",
       "text": [
        " gift\n",
        "1421 ain't\n",
        "1422"
       ]
      },
      {
       "output_type": "stream",
       "stream": "stdout",
       "text": [
        " shape\n",
        "1423 york\n",
        "1424 jetzt\n",
        "1425"
       ]
      },
      {
       "output_type": "stream",
       "stream": "stdout",
       "text": [
        " schon\n",
        "1426"
       ]
      },
      {
       "output_type": "stream",
       "stream": "stdout",
       "text": [
        " teach\n",
        "1427 don't\n",
        "1428"
       ]
      },
      {
       "output_type": "stream",
       "stream": "stdout",
       "text": [
        " test\n",
        "1429 lado\n",
        "1430"
       ]
      },
      {
       "output_type": "stream",
       "stream": "stdout",
       "text": [
        " arrive\n",
        "1431 love.3\n",
        "1432"
       ]
      },
      {
       "output_type": "stream",
       "stream": "stdout",
       "text": [
        " disease\n",
        "1433 sold\n",
        "1434 clock\n",
        "1435 flash\n",
        "1436 youth\n",
        "1437 box\n",
        "1438 rot\n",
        "1439 lugar\n",
        "1440"
       ]
      },
      {
       "output_type": "stream",
       "stream": "stdout",
       "text": [
        " mighty\n",
        "1441 certain\n",
        "1442 protect\n",
        "1443 mond\n",
        "1444"
       ]
      },
      {
       "output_type": "stream",
       "stream": "stdout",
       "text": [
        " ruin\n",
        "1445 romance\n",
        "1446 vamo\n",
        "1447"
       ]
      },
      {
       "output_type": "stream",
       "stream": "stdout",
       "text": [
        " sweat\n",
        "1448 fantasy\n",
        "1449 vien\n",
        "1450"
       ]
      },
      {
       "output_type": "stream",
       "stream": "stdout",
       "text": [
        " kinda\n",
        "1451 nacht\n",
        "1452"
       ]
      },
      {
       "output_type": "stream",
       "stream": "stdout",
       "text": [
        " deserve\n",
        "1453 piel\n",
        "1454"
       ]
      },
      {
       "output_type": "stream",
       "stream": "stdout",
       "text": [
        " jeg\n",
        "1455"
       ]
      },
      {
       "output_type": "stream",
       "stream": "stdout",
       "text": [
        " hora\n",
        "1456"
       ]
      },
      {
       "output_type": "stream",
       "stream": "stdout",
       "text": [
        " universe\n",
        "1457 desperate\n",
        "1458 ach\n",
        "1459"
       ]
      },
      {
       "output_type": "stream",
       "stream": "stdout",
       "text": [
        " hall\n",
        "1460 anger\n",
        "1461 beast\n",
        "1462 stuff\n",
        "1463 jack\n",
        "1464 tabl\n",
        "1465"
       ]
      },
      {
       "output_type": "stream",
       "stream": "stdout",
       "text": [
        " punk\n",
        "1466 moving\n",
        "1467 tudo\n",
        "1468"
       ]
      },
      {
       "output_type": "stream",
       "stream": "stdout",
       "text": [
        " nigger.1\n",
        "1469"
       ]
      },
      {
       "output_type": "stream",
       "stream": "stdout",
       "text": [
        " happy.1\n",
        "1470"
       ]
      },
      {
       "output_type": "stream",
       "stream": "stdout",
       "text": [
        " mucho\n",
        "1471"
       ]
      },
      {
       "output_type": "stream",
       "stream": "stdout",
       "text": [
        " nightmare\n",
        "1472 doctor\n",
        "1473 freak\n",
        "1474 marry.1\n",
        "1475"
       ]
      },
      {
       "output_type": "stream",
       "stream": "stdout",
       "text": [
        " crown\n",
        "1476 serve\n",
        "1477 satan\n",
        "1478 hallelujah\n",
        "1479 amigo\n",
        "1480 trace\n",
        "1481 main\n",
        "1482 nem\n",
        "1483"
       ]
      },
      {
       "output_type": "stream",
       "stream": "stdout",
       "text": [
        " makin\n",
        "1484 prison\n",
        "1485 moonlight\n",
        "1486 voz\n",
        "1487"
       ]
      },
      {
       "output_type": "stream",
       "stream": "stdout",
       "text": [
        " thin\n",
        "1488 deeper\n",
        "1489 appear\n",
        "1490 amaz\n",
        "1491"
       ]
      },
      {
       "output_type": "stream",
       "stream": "stdout",
       "text": [
        " bought\n",
        "1492 weep\n",
        "1493 walking\n",
        "1494 ant\n",
        "1495 meme\n",
        "1496 chi\n",
        "1497"
       ]
      },
      {
       "output_type": "stream",
       "stream": "stdout",
       "text": [
        " voi\n",
        "1498"
       ]
      },
      {
       "output_type": "stream",
       "stream": "stdout",
       "text": [
        " hungry\n",
        "1499 wire\n",
        "1500 pocket\n",
        "1501 never.1\n",
        "1502"
       ]
      },
      {
       "output_type": "stream",
       "stream": "stdout",
       "text": [
        " note\n",
        "1503 south\n",
        "1504 eh\n",
        "1505"
       ]
      },
      {
       "output_type": "stream",
       "stream": "stdout",
       "text": [
        " woke\n",
        "1506 momento\n",
        "1507"
       ]
      },
      {
       "output_type": "stream",
       "stream": "stdout",
       "text": [
        " illusion\n",
        "1508 nail\n",
        "1509 together.1\n",
        "1510"
       ]
      },
      {
       "output_type": "stream",
       "stream": "stdout",
       "text": [
        " paid\n",
        "1511 bis\n",
        "1512"
       ]
      },
      {
       "output_type": "stream",
       "stream": "stdout",
       "text": [
        " liar\n",
        "1513 bottom\n",
        "1514 plain\n",
        "1515 ill\n",
        "1516 notice\n",
        "1517 melody\n",
        "1518 alla\n",
        "1519"
       ]
      },
      {
       "output_type": "stream",
       "stream": "stdout",
       "text": [
        " camino\n",
        "1520"
       ]
      },
      {
       "output_type": "stream",
       "stream": "stdout",
       "text": [
        " destruct\n",
        "1521 daughter\n",
        "1522 eas\n",
        "1523 fat\n",
        "1524 whenever\n",
        "1525"
       ]
      },
      {
       "output_type": "stream",
       "stream": "stdout",
       "text": [
        " adore\n",
        "1526 church\n",
        "1527 bill\n",
        "1528 card\n",
        "1529 cours\n",
        "1530"
       ]
      },
      {
       "output_type": "stream",
       "stream": "stdout",
       "text": [
        " nake\n",
        "1531"
       ]
      },
      {
       "output_type": "stream",
       "stream": "stdout",
       "text": [
        " sacrifice\n",
        "1532 zeit\n",
        "1533"
       ]
      },
      {
       "output_type": "stream",
       "stream": "stdout",
       "text": [
        " system\n",
        "1534 pensar\n",
        "1535"
       ]
      },
      {
       "output_type": "stream",
       "stream": "stdout",
       "text": [
        " order\n",
        "1536 stage\n",
        "1537 celebrate\n",
        "1538 hip\n",
        "1539 total\n",
        "1540 welt\n",
        "1541 sera\n",
        "1542"
       ]
      },
      {
       "output_type": "stream",
       "stream": "stdout",
       "text": [
        " fist\n",
        "1543 dit\n",
        "1544 wors\n",
        "1545"
       ]
      },
      {
       "output_type": "stream",
       "stream": "stdout",
       "text": [
        " suicide\n",
        "1546 dove\n",
        "1547"
       ]
      },
      {
       "output_type": "stream",
       "stream": "stdout",
       "text": [
        " bullet\n",
        "1548 senza\n",
        "1549"
       ]
      },
      {
       "output_type": "stream",
       "stream": "stdout",
       "text": [
        " johnni\n",
        "1550"
       ]
      },
      {
       "output_type": "stream",
       "stream": "stdout",
       "text": [
        " gain\n",
        "1551 quero\n",
        "1552"
       ]
      },
      {
       "output_type": "stream",
       "stream": "stdout",
       "text": [
        " grown\n",
        "1553 wherever\n",
        "1554 slide\n",
        "1555 minha\n",
        "1556"
       ]
      },
      {
       "output_type": "stream",
       "stream": "stdout",
       "text": [
        " fa\n",
        "1557 folk\n",
        "1558 nach\n",
        "1559"
       ]
      },
      {
       "output_type": "stream",
       "stream": "stdout",
       "text": [
        " hurry\n",
        "1560 lang\n",
        "1561"
       ]
      },
      {
       "output_type": "stream",
       "stream": "stdout",
       "text": [
        " seu\n",
        "1562"
       ]
      },
      {
       "output_type": "stream",
       "stream": "stdout",
       "text": [
        " equal\n",
        "1563 vill\n",
        "1564"
       ]
      },
      {
       "output_type": "stream",
       "stream": "stdout",
       "text": [
        " uno\n",
        "1565"
       ]
      },
      {
       "output_type": "stream",
       "stream": "stdout",
       "text": [
        " kingdom\n",
        "1566 trick\n",
        "1567 wrote\n",
        "1568 encor\n",
        "1569"
       ]
      },
      {
       "output_type": "stream",
       "stream": "stdout",
       "text": [
        " tem\n",
        "1570"
       ]
      },
      {
       "output_type": "stream",
       "stream": "stdout",
       "text": [
        " choke\n",
        "1571 ll\n",
        "1572"
       ]
      },
      {
       "output_type": "stream",
       "stream": "stdout",
       "text": [
        " dame\n",
        "1573 boat\n",
        "1574 tough\n",
        "1575 sang\n",
        "1576 ese\n",
        "1577"
       ]
      },
      {
       "output_type": "stream",
       "stream": "stdout",
       "text": [
        " beer\n",
        "1578 eras\n",
        "1579"
       ]
      },
      {
       "output_type": "stream",
       "stream": "stdout",
       "text": [
        " cup\n",
        "1580 brave\n",
        "1581 reveal\n",
        "1582 distant\n",
        "1583 trist\n",
        "1584"
       ]
      },
      {
       "output_type": "stream",
       "stream": "stdout",
       "text": [
        " worst\n",
        "1585 wieder\n",
        "1586"
       ]
      },
      {
       "output_type": "stream",
       "stream": "stdout",
       "text": [
        " grass\n",
        "1587 frozen\n",
        "1588 ahh\n",
        "1589"
       ]
      },
      {
       "output_type": "stream",
       "stream": "stdout",
       "text": [
        " dass\n",
        "1590 faster\n",
        "1591 tard\n",
        "1592"
       ]
      },
      {
       "output_type": "stream",
       "stream": "stdout",
       "text": [
        " sua\n",
        "1593"
       ]
      },
      {
       "output_type": "stream",
       "stream": "stdout",
       "text": [
        " plane\n",
        "1594 saturday\n",
        "1595 woah\n",
        "1596"
       ]
      },
      {
       "output_type": "stream",
       "stream": "stdout",
       "text": [
        " taught\n",
        "1597 generate\n",
        "1598 viel\n",
        "1599"
       ]
      },
      {
       "output_type": "stream",
       "stream": "stdout",
       "text": [
        " crying\n",
        "1600 it.1\n",
        "1601"
       ]
      },
      {
       "output_type": "stream",
       "stream": "stdout",
       "text": [
        " moving.1\n",
        "1602"
       ]
      },
      {
       "output_type": "stream",
       "stream": "stdout",
       "text": [
        " store\n",
        "1603 shatter\n",
        "1604 stream\n",
        "1605 wood\n",
        "1606 ganz\n",
        "1607"
       ]
      },
      {
       "output_type": "stream",
       "stream": "stdout",
       "text": [
        " sentir\n",
        "1608"
       ]
      },
      {
       "output_type": "stream",
       "stream": "stdout",
       "text": [
        " pressure\n",
        "1609 wa\n",
        "1610 sont\n",
        "1611"
       ]
      },
      {
       "output_type": "stream",
       "stream": "stdout",
       "text": [
        " charm\n",
        "1612 bloody\n",
        "1613 yellow\n",
        "1614 mo\n",
        "1615 planet\n",
        "1616 joke\n",
        "1617 pound\n",
        "1618 vivo\n",
        "1619"
       ]
      },
      {
       "output_type": "stream",
       "stream": "stdout",
       "text": [
        " struggle\n",
        "1620 petit\n",
        "1621"
       ]
      },
      {
       "output_type": "stream",
       "stream": "stdout",
       "text": [
        " dumb\n",
        "1622 suit\n",
        "1623 present\n",
        "1624 revolution\n",
        "1625 nuestro\n",
        "1626"
       ]
      },
      {
       "output_type": "stream",
       "stream": "stdout",
       "text": [
        " dirt\n",
        "1627 gon\n",
        "1628"
       ]
      },
      {
       "output_type": "stream",
       "stream": "stdout",
       "text": [
        " hollow\n",
        "1629 sera.1\n",
        "1630"
       ]
      },
      {
       "output_type": "stream",
       "stream": "stdout",
       "text": [
        " vece\n",
        "1631"
       ]
      },
      {
       "output_type": "stream",
       "stream": "stdout",
       "text": [
        " vos\n",
        "1632"
       ]
      },
      {
       "output_type": "stream",
       "stream": "stdout",
       "text": [
        " wick\n",
        "1633 reign\n",
        "1634 miracle\n",
        "1635 rolling\n",
        "1636 stain\n",
        "1637 shelter\n",
        "1638 lifetime\n",
        "1639 claim\n",
        "1640 accept\n",
        "1641 ven\n",
        "1642"
       ]
      },
      {
       "output_type": "stream",
       "stream": "stdout",
       "text": [
        " judge\n",
        "1643 av\n",
        "1644 tale\n",
        "1645 desd\n",
        "1646"
       ]
      },
      {
       "output_type": "stream",
       "stream": "stdout",
       "text": [
        " enter\n",
        "1647 fault\n",
        "1648 sale\n",
        "1649 mim\n",
        "1650"
       ]
      },
      {
       "output_type": "stream",
       "stream": "stdout",
       "text": [
        " betray\n",
        "1651 hast\n",
        "1652"
       ]
      },
      {
       "output_type": "stream",
       "stream": "stdout",
       "text": [
        " violence\n",
        "1653 chill\n",
        "1654 lui\n",
        "1655"
       ]
      },
      {
       "output_type": "stream",
       "stream": "stdout",
       "text": [
        " recuerdo\n",
        "1656"
       ]
      },
      {
       "output_type": "stream",
       "stream": "stdout",
       "text": [
        " terror\n",
        "1657 settle\n",
        "1658 wet\n",
        "1659 pena\n",
        "1660"
       ]
      },
      {
       "output_type": "stream",
       "stream": "stdout",
       "text": [
        " foot\n",
        "1661 toujour\n",
        "1662"
       ]
      },
      {
       "output_type": "stream",
       "stream": "stdout",
       "text": [
        " unknown\n",
        "1663 miedo\n",
        "1664"
       ]
      },
      {
       "output_type": "stream",
       "stream": "stdout",
       "text": [
        " lonesome\n",
        "1665 nah\n",
        "1666"
       ]
      },
      {
       "output_type": "stream",
       "stream": "stdout",
       "text": [
        " excuse\n",
        "1667 rocking\n",
        "1668 santa\n",
        "1669 amo\n",
        "1670"
       ]
      },
      {
       "output_type": "stream",
       "stream": "stdout",
       "text": [
        " fever\n",
        "1671 ou.1\n",
        "1672"
       ]
      },
      {
       "output_type": "stream",
       "stream": "stdout",
       "text": [
        " double\n",
        "1673 dire\n",
        "1674 america\n",
        "1675 var\n",
        "1676"
       ]
      },
      {
       "output_type": "stream",
       "stream": "stdout",
       "text": [
        " asi.1\n",
        "1677"
       ]
      },
      {
       "output_type": "stream",
       "stream": "stdout",
       "text": [
        " hidden\n",
        "1678 b\n",
        "1679 electric\n",
        "1680 mass\n",
        "1681 trop\n",
        "1682"
       ]
      },
      {
       "output_type": "stream",
       "stream": "stdout",
       "text": [
        " j\n",
        "1683"
       ]
      },
      {
       "output_type": "stream",
       "stream": "stdout",
       "text": [
        " ja.1\n",
        "1684"
       ]
      },
      {
       "output_type": "stream",
       "stream": "stdout",
       "text": [
        " attent\n",
        "1685"
       ]
      },
      {
       "output_type": "stream",
       "stream": "stdout",
       "text": [
        " wise\n",
        "1686 volver\n",
        "1687"
       ]
      },
      {
       "output_type": "stream",
       "stream": "stdout",
       "text": [
        " laughter\n",
        "1688 fame\n",
        "1689 groove\n",
        "1690 mother.2\n",
        "1691"
       ]
      },
      {
       "output_type": "stream",
       "stream": "stdout",
       "text": [
        " niet\n",
        "1692"
       ]
      },
      {
       "output_type": "stream",
       "stream": "stdout",
       "text": [
        " mmm\n",
        "1693"
       ]
      },
      {
       "output_type": "stream",
       "stream": "stdout",
       "text": [
        " for.1\n",
        "1694"
       ]
      },
      {
       "output_type": "stream",
       "stream": "stdout",
       "text": [
        " waiting\n",
        "1695 prepare\n",
        "1696 esto\n",
        "1697"
       ]
      },
      {
       "output_type": "stream",
       "stream": "stdout",
       "text": [
        " due\n",
        "1698 noi\n",
        "1699"
       ]
      },
      {
       "output_type": "stream",
       "stream": "stdout",
       "text": [
        " cure\n",
        "1700 began\n",
        "1701 x\n",
        "1702 lesson\n",
        "1703 la.1\n",
        "1704"
       ]
      },
      {
       "output_type": "stream",
       "stream": "stdout",
       "text": [
        " hook\n",
        "1705 fish\n",
        "1706 east\n",
        "1707 slut.1\n",
        "1708"
       ]
      },
      {
       "output_type": "stream",
       "stream": "stdout",
       "text": [
        " cop\n",
        "1709 sou\n",
        "1710 seat\n",
        "1711 whose\n",
        "1712"
       ]
      },
      {
       "output_type": "stream",
       "stream": "stdout",
       "text": [
        " forgot\n",
        "1713 bother\n",
        "1714 chest\n",
        "1715 situation\n",
        "1716 candle\n",
        "1717 cash\n",
        "1718 valley\n",
        "1719 quil\n",
        "1720"
       ]
      },
      {
       "output_type": "stream",
       "stream": "stdout",
       "text": [
        " further\n",
        "1721"
       ]
      },
      {
       "output_type": "stream",
       "stream": "stdout",
       "text": [
        " unit\n",
        "1722 mira\n",
        "1723"
       ]
      },
      {
       "output_type": "stream",
       "stream": "stdout",
       "text": [
        " aim\n",
        "1724 journey\n",
        "1725 cell\n",
        "1726 ao\n",
        "1727"
       ]
      },
      {
       "output_type": "stream",
       "stream": "stdout",
       "text": [
        " gray\n",
        "1728 vita\n",
        "1729"
       ]
      },
      {
       "output_type": "stream",
       "stream": "stdout",
       "text": [
        " everytime\n",
        "1730"
       ]
      },
      {
       "output_type": "stream",
       "stream": "stdout",
       "text": [
        " tag\n",
        "1731 throat\n",
        "1732 heartache\n",
        "1733 conmigo\n",
        "1734"
       ]
      },
      {
       "output_type": "stream",
       "stream": "stdout",
       "text": [
        " torture\n",
        "1735 mot\n",
        "1736 cara\n",
        "1737"
       ]
      },
      {
       "output_type": "stream",
       "stream": "stdout",
       "text": [
        " imag\n",
        "1738"
       ]
      },
      {
       "output_type": "stream",
       "stream": "stdout",
       "text": [
        " min\n",
        "1739"
       ]
      },
      {
       "output_type": "stream",
       "stream": "stdout",
       "text": [
        " nuit\n",
        "1740"
       ]
      },
      {
       "output_type": "stream",
       "stream": "stdout",
       "text": [
        " birth\n",
        "1741 woo\n",
        "1742 refuse\n",
        "1743 sword\n",
        "1744 fortune\n",
        "1745 ces\n",
        "1746"
       ]
      },
      {
       "output_type": "stream",
       "stream": "stdout",
       "text": [
        " ima\n",
        "1747"
       ]
      },
      {
       "output_type": "stream",
       "stream": "stdout",
       "text": [
        " older\n",
        "1748 spoken\n",
        "1749 chosen\n",
        "1750 motion\n",
        "1751 motherfuck\n",
        "1752"
       ]
      },
      {
       "output_type": "stream",
       "stream": "stdout",
       "text": [
        " false\n",
        "1753 enjoy\n",
        "1754 oo\n",
        "1755"
       ]
      },
      {
       "output_type": "stream",
       "stream": "stdout",
       "text": [
        " strong.1\n",
        "1756"
       ]
      },
      {
       "output_type": "stream",
       "stream": "stdout",
       "text": [
        " tutto\n",
        "1757"
       ]
      },
      {
       "output_type": "stream",
       "stream": "stdout",
       "text": [
        " creep\n",
        "1758 saying\n",
        "1759 trade\n",
        "1760 hoo\n",
        "1761"
       ]
      },
      {
       "output_type": "stream",
       "stream": "stdout",
       "text": [
        " monkey\n",
        "1762 food\n",
        "1763 worship\n",
        "1764 nel\n",
        "1765"
       ]
      },
      {
       "output_type": "stream",
       "stream": "stdout",
       "text": [
        " ancient\n",
        "1766 confess\n",
        "1767 coro\n",
        "1768"
       ]
      },
      {
       "output_type": "stream",
       "stream": "stdout",
       "text": [
        " sobr\n",
        "1769"
       ]
      },
      {
       "output_type": "stream",
       "stream": "stdout",
       "text": [
        " deja\n",
        "1770"
       ]
      },
      {
       "output_type": "stream",
       "stream": "stdout",
       "text": [
        " stole\n",
        "1771 forward\n",
        "1772 tua\n",
        "1773"
       ]
      },
      {
       "output_type": "stream",
       "stream": "stdout",
       "text": [
        " love.4\n",
        "1774"
       ]
      },
      {
       "output_type": "stream",
       "stream": "stdout",
       "text": [
        " falling\n",
        "1775 favorite\n",
        "1776 faut\n",
        "1777"
       ]
      },
      {
       "output_type": "stream",
       "stream": "stdout",
       "text": [
        " toe\n",
        "1778 toy\n",
        "1779 nose\n",
        "1780 favor\n",
        "1781 american\n",
        "1782 class\n",
        "1783 cigarette\n",
        "1784 maria\n",
        "1785 intent\n",
        "1786 pill\n",
        "1787 poder\n",
        "1788"
       ]
      },
      {
       "output_type": "stream",
       "stream": "stdout",
       "text": [
        " spill\n",
        "1789 cost\n",
        "1790 shed\n",
        "1791 po\n",
        "1792 probably\n",
        "1793 among\n",
        "1794"
       ]
      },
      {
       "output_type": "stream",
       "stream": "stdout",
       "text": [
        " tanta\n",
        "1795"
       ]
      },
      {
       "output_type": "stream",
       "stream": "stdout",
       "text": [
        " dar\n",
        "1796"
       ]
      },
      {
       "output_type": "stream",
       "stream": "stdout",
       "text": [
        " clown\n",
        "1797 consume\n",
        "1798 saint\n",
        "1799 fai\n",
        "1800"
       ]
      },
      {
       "output_type": "stream",
       "stream": "stdout",
       "text": [
        " ma\n",
        "1801"
       ]
      },
      {
       "output_type": "stream",
       "stream": "stdout",
       "text": [
        " connect\n",
        "1802 chao\n",
        "1803"
       ]
      },
      {
       "output_type": "stream",
       "stream": "stdout",
       "text": [
        " mix\n",
        "1804 dun\n",
        "1805 goodnight\n",
        "1806"
       ]
      },
      {
       "output_type": "stream",
       "stream": "stdout",
       "text": [
        " love.5\n",
        "1807"
       ]
      },
      {
       "output_type": "stream",
       "stream": "stdout",
       "text": [
        " sola\n",
        "1808"
       ]
      },
      {
       "output_type": "stream",
       "stream": "stdout",
       "text": [
        " numb\n",
        "1809 viento\n",
        "1810"
       ]
      },
      {
       "output_type": "stream",
       "stream": "stdout",
       "text": [
        " nest\n",
        "1811 salvat\n",
        "1812"
       ]
      },
      {
       "output_type": "stream",
       "stream": "stdout",
       "text": [
        " island\n",
        "1813 wipe\n",
        "1814 await\n",
        "1815 spot\n",
        "1816 f\n",
        "1817 merry\n",
        "1818 hombr\n",
        "1819"
       ]
      },
      {
       "output_type": "stream",
       "stream": "stdout",
       "text": [
        " chair\n",
        "1820 press\n",
        "1821 divide\n",
        "1822 bust\n",
        "1823 bem\n",
        "1824"
       ]
      },
      {
       "output_type": "stream",
       "stream": "stdout",
       "text": [
        " company\n",
        "1825 lick\n",
        "1826 boot\n",
        "1827 lonely\n",
        "1828 constant\n",
        "1829 dad\n",
        "1830 bei\n",
        "1831"
       ]
      },
      {
       "output_type": "stream",
       "stream": "stdout",
       "text": [
        " cage\n",
        "1832 manana\n",
        "1833 flight\n",
        "1834 ce.1\n",
        "1835"
       ]
      },
      {
       "output_type": "stream",
       "stream": "stdout",
       "text": [
        " army\n",
        "1836 mood\n",
        "1837 killer\n",
        "1838 darkest\n",
        "1839 drain\n",
        "1840 underground\n",
        "1841 police\n",
        "1842 querer\n",
        "1843"
       ]
      },
      {
       "output_type": "stream",
       "stream": "stdout",
       "text": [
        " fresh\n",
        "1844 boogie\n",
        "1845 lean\n",
        "1846 pale\n",
        "1847 niin\n",
        "1848"
       ]
      },
      {
       "output_type": "stream",
       "stream": "stdout",
       "text": [
        " vor\n",
        "1849"
       ]
      },
      {
       "output_type": "stream",
       "stream": "stdout",
       "text": [
        " ad\n",
        "1850"
       ]
      },
      {
       "output_type": "stream",
       "stream": "stdout",
       "text": [
        " explod\n",
        "1851"
       ]
      },
      {
       "output_type": "stream",
       "stream": "stdout",
       "text": [
        " sexy\n",
        "1852 rape\n",
        "1853 dick\n",
        "1854 geht\n",
        "1855"
       ]
      },
      {
       "output_type": "stream",
       "stream": "stdout",
       "text": [
        " recal\n",
        "1856"
       ]
      },
      {
       "output_type": "stream",
       "stream": "stdout",
       "text": [
        " exact\n",
        "1857 freez\n",
        "1858"
       ]
      },
      {
       "output_type": "stream",
       "stream": "stdout",
       "text": [
        " savior\n",
        "1859 pity\n",
        "1860 separ\n",
        "1861"
       ]
      },
      {
       "output_type": "stream",
       "stream": "stdout",
       "text": [
        " except\n",
        "1862 candy\n",
        "1863 frame\n",
        "1864 honest\n",
        "1865 religion\n",
        "1866 ses\n",
        "1867"
       ]
      },
      {
       "output_type": "stream",
       "stream": "stdout",
       "text": [
        " vem\n",
        "1868"
       ]
      },
      {
       "output_type": "stream",
       "stream": "stdout",
       "text": [
        " yeux\n",
        "1869"
       ]
      },
      {
       "output_type": "stream",
       "stream": "stdout",
       "text": [
        " hunger\n",
        "1870 station\n",
        "1871 although\n",
        "1872"
       ]
      },
      {
       "output_type": "stream",
       "stream": "stdout",
       "text": [
        " bus\n",
        "1873 onto\n",
        "1874"
       ]
      },
      {
       "output_type": "stream",
       "stream": "stdout",
       "text": [
        " pum\n",
        "1875"
       ]
      },
      {
       "output_type": "stream",
       "stream": "stdout",
       "text": [
        " aux\n",
        "1876"
       ]
      },
      {
       "output_type": "stream",
       "stream": "stdout",
       "text": [
        " trail\n",
        "1877 mil\n",
        "1878 boca\n",
        "1879"
       ]
      },
      {
       "output_type": "stream",
       "stream": "stdout",
       "text": [
        " leur\n",
        "1880"
       ]
      },
      {
       "output_type": "stream",
       "stream": "stdout",
       "text": [
        " spark\n",
        "1881 ga\n",
        "1882 peu\n",
        "1883"
       ]
      },
      {
       "output_type": "stream",
       "stream": "stdout",
       "text": [
        " decay\n",
        "1884 bass\n",
        "1885 demand\n",
        "1886 command\n",
        "1887 beach\n",
        "1888 destiny.1\n",
        "1889"
       ]
      },
      {
       "output_type": "stream",
       "stream": "stdout",
       "text": [
        " shi\n",
        "1890"
       ]
      },
      {
       "output_type": "stream",
       "stream": "stdout",
       "text": [
        " greed\n",
        "1891 lack\n",
        "1892 ela\n",
        "1893 via\n",
        "1894"
       ]
      },
      {
       "output_type": "stream",
       "stream": "stdout",
       "text": [
        " weg\n",
        "1895"
       ]
      },
      {
       "output_type": "stream",
       "stream": "stdout",
       "text": [
        " vert\n",
        "1896"
       ]
      },
      {
       "output_type": "stream",
       "stream": "stdout",
       "text": [
        " fui\n",
        "1897"
       ]
      },
      {
       "output_type": "stream",
       "stream": "stdout",
       "text": [
        " whore\n",
        "1898 5\n",
        "1899 paso\n",
        "1900"
       ]
      },
      {
       "output_type": "stream",
       "stream": "stdout",
       "text": [
        " important\n",
        "1901 sat\n",
        "1902 palabra\n",
        "1903"
       ]
      },
      {
       "output_type": "stream",
       "stream": "stdout",
       "text": [
        " monster\n",
        "1904 stumble\n",
        "1905 komm\n",
        "1906"
       ]
      },
      {
       "output_type": "stream",
       "stream": "stdout",
       "text": [
        " quiera\n",
        "1907"
       ]
      },
      {
       "output_type": "stream",
       "stream": "stdout",
       "text": [
        " roam\n",
        "1908 threw\n",
        "1909 screen\n",
        "1910 ancora\n",
        "1911"
       ]
      },
      {
       "output_type": "stream",
       "stream": "stdout",
       "text": [
        " thou\n",
        "1912 harm\n",
        "1913 gli\n",
        "1914"
       ]
      },
      {
       "output_type": "stream",
       "stream": "stdout",
       "text": [
        " date\n",
        "1915 cheap\n",
        "1916 north\n",
        "1917 aw\n",
        "1918"
       ]
      },
      {
       "output_type": "stream",
       "stream": "stdout",
       "text": [
        " r\n",
        "1919 root\n",
        "1920 led\n",
        "1921 rough\n",
        "1922 loco\n",
        "1923 energy\n",
        "1924 ment\n",
        "1925"
       ]
      },
      {
       "output_type": "stream",
       "stream": "stdout",
       "text": [
        " despair\n",
        "1926 gaze\n",
        "1927 guilty\n",
        "1928 hatred\n",
        "1929 queda\n",
        "1930"
       ]
      },
      {
       "output_type": "stream",
       "stream": "stdout",
       "text": [
        " joe\n",
        "1931"
       ]
      },
      {
       "output_type": "stream",
       "stream": "stdout",
       "text": [
        " asid\n",
        "1932"
       ]
      },
      {
       "output_type": "stream",
       "stream": "stdout",
       "text": [
        " addict\n",
        "1933 seal\n",
        "1934 super\n",
        "1935 iron\n",
        "1936 wisdom\n",
        "1937 scratch\n",
        "1938 papa\n",
        "1939 smash\n",
        "1940 throne\n",
        "1941 deceive\n",
        "1942 forth\n",
        "1943 coffe\n",
        "1944"
       ]
      },
      {
       "output_type": "stream",
       "stream": "stdout",
       "text": [
        " ir\n",
        "1945 ves\n",
        "1946 wearing\n",
        "1947 positive\n",
        "1948 jah\n",
        "1949"
       ]
      },
      {
       "output_type": "stream",
       "stream": "stdout",
       "text": [
        " ugly\n",
        "1950 shop\n",
        "1951 hood\n",
        "1952 shell\n",
        "1953 horizon\n",
        "1954 w\n",
        "1955 falta\n",
        "1956"
       ]
      },
      {
       "output_type": "stream",
       "stream": "stdout",
       "text": [
        " became\n",
        "1957 piss\n",
        "1958 blade\n",
        "1959 playing\n",
        "1960 grew\n",
        "1961 often\n",
        "1962 ye\n",
        "1963"
       ]
      },
      {
       "output_type": "stream",
       "stream": "stdout",
       "text": [
        " gal\n",
        "1964 victory\n",
        "1965 receive\n",
        "1966 taking\n",
        "1967 light.2\n",
        "1968"
       ]
      },
      {
       "output_type": "stream",
       "stream": "stdout",
       "text": [
        " allow\n",
        "1969 morning\n",
        "1970 hammer\n",
        "1971 lejo\n",
        "1972"
       ]
      },
      {
       "output_type": "stream",
       "stream": "stdout",
       "text": [
        " telephon\n",
        "1973"
       ]
      },
      {
       "output_type": "stream",
       "stream": "stdout",
       "text": [
        " cett\n",
        "1974"
       ]
      },
      {
       "output_type": "stream",
       "stream": "stdout",
       "text": [
        " admit\n",
        "1975 rat\n",
        "1976 nuevo\n",
        "1977"
       ]
      },
      {
       "output_type": "stream",
       "stream": "stdout",
       "text": [
        " flag\n",
        "1978 truly\n",
        "1979 doom\n",
        "1980 diss\n",
        "1981 loss\n",
        "1982 sacred\n",
        "1983 limit\n",
        "1984 pasa\n",
        "1985"
       ]
      },
      {
       "output_type": "stream",
       "stream": "stdout",
       "text": [
        " bigger\n",
        "1986 afternoon\n",
        "1987 fed\n",
        "1988 engine\n",
        "1989 veux\n",
        "1990"
       ]
      },
      {
       "output_type": "stream",
       "stream": "stdout",
       "text": [
        " blah\n",
        "1991 foolish\n",
        "1992 jean\n",
        "1993 shock\n",
        "1994 breed\n",
        "1995 greatest\n",
        "1996 mental\n",
        "1997 soledad\n",
        "1998 mismo\n",
        "1999"
       ]
      },
      {
       "output_type": "stream",
       "stream": "stdout",
       "text": [
        " tal\n",
        "2000"
       ]
      },
      {
       "output_type": "stream",
       "stream": "stdout",
       "text": [
        " angry\n",
        "2001 ayer\n",
        "2002"
       ]
      },
      {
       "output_type": "stream",
       "stream": "stdout",
       "text": [
        " finish\n",
        "2003 row\n",
        "2004 vuelv\n",
        "2005"
       ]
      },
      {
       "output_type": "stream",
       "stream": "stdout",
       "text": [
        " converse\n",
        "2006 plastic\n",
        "2007 grip\n",
        "2008 creation\n",
        "2009 snake\n",
        "2010 regard\n",
        "2011 tick\n",
        "2012 fan\n",
        "2013 lit\n",
        "2014 holiday\n",
        "2015 somo\n",
        "2016"
       ]
      },
      {
       "output_type": "stream",
       "stream": "stdout",
       "text": [
        " int\n",
        "2017"
       ]
      },
      {
       "output_type": "stream",
       "stream": "stdout",
       "text": [
        " sue\n",
        "2018"
       ]
      },
      {
       "output_type": "stream",
       "stream": "stdout",
       "text": [
        " steady\n",
        "2019 tierra\n",
        "2020"
       ]
      },
      {
       "output_type": "stream",
       "stream": "stdout",
       "text": [
        " coat\n",
        "2021 funky\n",
        "2022 cheat\n",
        "2023 sort\n",
        "2024 drip\n",
        "2025 teu\n",
        "2026"
       ]
      },
      {
       "output_type": "stream",
       "stream": "stdout",
       "text": [
        " zum\n",
        "2027"
       ]
      },
      {
       "output_type": "stream",
       "stream": "stdout",
       "text": [
        " abuse\n",
        "2028 possess\n",
        "2029 undone\n",
        "2030 cry.1\n",
        "2031"
       ]
      },
      {
       "output_type": "stream",
       "stream": "stdout",
       "text": [
        " vocal\n",
        "2032 dj\n",
        "2033 hunt\n",
        "2034 month\n",
        "2035 possible\n",
        "2036 design\n",
        "2037 depend\n",
        "2038 sole\n",
        "2039 daylight\n",
        "2040 decis\n",
        "2041"
       ]
      },
      {
       "output_type": "stream",
       "stream": "stdout",
       "text": [
        " maar\n",
        "2042 sous\n",
        "2043 morir\n",
        "2044"
       ]
      },
      {
       "output_type": "stream",
       "stream": "stdout",
       "text": [
        " assim\n",
        "2045"
       ]
      },
      {
       "output_type": "stream",
       "stream": "stdout",
       "text": [
        " treasur\n",
        "2046"
       ]
      },
      {
       "output_type": "stream",
       "stream": "stdout",
       "text": [
        " california\n",
        "2047 mare\n",
        "2048 olvidar\n",
        "2049"
       ]
      },
      {
       "output_type": "stream",
       "stream": "stdout",
       "text": [
        " strip\n",
        "2050 hum\n",
        "2051 calor\n",
        "2052"
       ]
      },
      {
       "output_type": "stream",
       "stream": "stdout",
       "text": [
        " tremble\n",
        "2053 weiss\n",
        "2054 durch\n",
        "2055"
       ]
      },
      {
       "output_type": "stream",
       "stream": "stdout",
       "text": [
        " invite\n",
        "2056 rope\n",
        "2057 flood\n",
        "2058 ticket\n",
        "2059 ohn\n",
        "2060"
       ]
      },
      {
       "output_type": "stream",
       "stream": "stdout",
       "text": [
        " crew\n",
        "2061 spoke\n",
        "2062 sheet\n",
        "2063 fuego\n",
        "2064 cantar\n",
        "2065"
       ]
      },
      {
       "output_type": "stream",
       "stream": "stdout",
       "text": [
        " wreck\n",
        "2066 cowboy\n",
        "2067 allein\n",
        "2068"
       ]
      },
      {
       "output_type": "stream",
       "stream": "stdout",
       "text": [
        " needle\n",
        "2069 decir\n",
        "2070"
       ]
      },
      {
       "output_type": "stream",
       "stream": "stdout",
       "text": [
        " common\n",
        "2071 lung\n",
        "2072 monday\n",
        "2073 friday\n",
        "2074 girlfriend\n",
        "2075 piano\n",
        "2076 mission\n",
        "2077 veo\n",
        "2078"
       ]
      },
      {
       "output_type": "stream",
       "stream": "stdout",
       "text": [
        " destino\n",
        "2079"
       ]
      },
      {
       "output_type": "stream",
       "stream": "stdout",
       "text": [
        " perder\n",
        "2080"
       ]
      },
      {
       "output_type": "stream",
       "stream": "stdout",
       "text": [
        " rescue\n",
        "2081 lazy\n",
        "2082 couple\n",
        "2083 hi\n",
        "2084 coeur\n",
        "2085"
       ]
      },
      {
       "output_type": "stream",
       "stream": "stdout",
       "text": [
        " p\n",
        "2086 eight\n",
        "2087 hai\n",
        "2088"
       ]
      },
      {
       "output_type": "stream",
       "stream": "stdout",
       "text": [
        " andar\n",
        "2089"
       ]
      },
      {
       "output_type": "stream",
       "stream": "stdout",
       "text": [
        " split\n",
        "2090 quisiera\n",
        "2091"
       ]
      },
      {
       "output_type": "stream",
       "stream": "stdout",
       "text": [
        " mortal\n",
        "2092 guard\n",
        "2093 seul\n",
        "2094"
       ]
      },
      {
       "output_type": "stream",
       "stream": "stdout",
       "text": [
        " society\n",
        "2095 hotel\n",
        "2096 easily\n",
        "2097 anch\n",
        "2098"
       ]
      },
      {
       "output_type": "stream",
       "stream": "stdout",
       "text": [
        " fashion\n",
        "2099 heel\n",
        "2100 creature\n",
        "2101 sitting\n",
        "2102 defeat\n",
        "2103 ben\n",
        "2104 excite\n",
        "2105 paris\n",
        "2106 hung\n",
        "2107 ett\n",
        "2108"
       ]
      },
      {
       "output_type": "stream",
       "stream": "stdout",
       "text": [
        " lake\n",
        "2109 tower\n",
        "2110 dive\n",
        "2111 estrella\n",
        "2112"
       ]
      },
      {
       "output_type": "stream",
       "stream": "stdout",
       "text": [
        " silencio\n",
        "2113"
       ]
      },
      {
       "output_type": "stream",
       "stream": "stdout",
       "text": [
        " curtain\n",
        "2114 gas\n",
        "2115 restless\n",
        "2116 canto\n",
        "2117 ond\n",
        "2118"
       ]
      },
      {
       "output_type": "stream",
       "stream": "stdout",
       "text": [
        " dum\n",
        "2119"
       ]
      },
      {
       "output_type": "stream",
       "stream": "stdout",
       "text": [
        " grant\n",
        "2120 unless\n",
        "2121"
       ]
      },
      {
       "output_type": "stream",
       "stream": "stdout",
       "text": [
        " cheek\n",
        "2122 type\n",
        "2123 crumble\n",
        "2124 hail\n",
        "2125 chosen.1\n",
        "2126"
       ]
      },
      {
       "output_type": "stream",
       "stream": "stdout",
       "text": [
        " sunny\n",
        "2127 handle\n",
        "2128 la.2\n",
        "2129"
       ]
      },
      {
       "output_type": "stream",
       "stream": "stdout",
       "text": [
        " lion\n",
        "2130 burning\n",
        "2131 disco\n",
        "2132 bank\n",
        "2133 match\n",
        "2134 deux\n",
        "2135"
       ]
      },
      {
       "output_type": "stream",
       "stream": "stdout",
       "text": [
        " twenty\n",
        "2136 aris\n",
        "2137"
       ]
      },
      {
       "output_type": "stream",
       "stream": "stdout",
       "text": [
        " replace\n",
        "2138 heut\n",
        "2139"
       ]
      },
      {
       "output_type": "stream",
       "stream": "stdout",
       "text": [
        " you're\n",
        "2140"
       ]
      },
      {
       "output_type": "stream",
       "stream": "stdout",
       "text": [
        " score\n",
        "2141 mentira\n",
        "2142"
       ]
      },
      {
       "output_type": "stream",
       "stream": "stdout",
       "text": [
        " bon\n",
        "2143"
       ]
      },
      {
       "output_type": "stream",
       "stream": "stdout",
       "text": [
        " continue\n",
        "2144 stretch\n",
        "2145 inspire\n",
        "2146 ol\n",
        "2147"
       ]
      },
      {
       "output_type": "stream",
       "stream": "stdout",
       "text": [
        " din\n",
        "2148"
       ]
      },
      {
       "output_type": "stream",
       "stream": "stdout",
       "text": [
        " forest\n",
        "2149 calling\n",
        "2150 questa\n",
        "2151"
       ]
      },
      {
       "output_type": "stream",
       "stream": "stdout",
       "text": [
        " coast\n",
        "2152 mort\n",
        "2153"
       ]
      },
      {
       "output_type": "stream",
       "stream": "stdout",
       "text": [
        " questo\n",
        "2154"
       ]
      },
      {
       "output_type": "stream",
       "stream": "stdout",
       "text": [
        " belief\n",
        "2155 tuo\n",
        "2156"
       ]
      },
      {
       "output_type": "stream",
       "stream": "stdout",
       "text": [
        " sunlight\n",
        "2157 plant\n",
        "2158 sever\n",
        "2159 whip\n",
        "2160 ray\n",
        "2161 oder\n",
        "2162"
       ]
      },
      {
       "output_type": "stream",
       "stream": "stdout",
       "text": [
        " descend\n",
        "2163 cosi\n",
        "2164"
       ]
      },
      {
       "output_type": "stream",
       "stream": "stdout",
       "text": [
        " simply\n",
        "2165 singing\n",
        "2166 mirada\n",
        "2167"
       ]
      },
      {
       "output_type": "stream",
       "stream": "stdout",
       "text": [
        " mankind\n",
        "2168 violent\n",
        "2169 lane\n",
        "2170 void\n",
        "2171 hop\n",
        "2172 weil\n",
        "2173"
       ]
      },
      {
       "output_type": "stream",
       "stream": "stdout",
       "text": [
        " mondo\n",
        "2174"
       ]
      },
      {
       "output_type": "stream",
       "stream": "stdout",
       "text": [
        " sunset\n",
        "2175 thru\n",
        "2176"
       ]
      },
      {
       "output_type": "stream",
       "stream": "stdout",
       "text": [
        " silly\n",
        "2177 corps\n",
        "2178 lass\n",
        "2179 behold\n",
        "2180 normal\n",
        "2181 agre\n",
        "2182"
       ]
      },
      {
       "output_type": "stream",
       "stream": "stdout",
       "text": [
        " abandon\n",
        "2183 weapon\n",
        "2184 wed\n",
        "2185 bella\n",
        "2186"
       ]
      },
      {
       "output_type": "stream",
       "stream": "stdout",
       "text": [
        " revenge\n",
        "2187 tiny\n",
        "2188 justice\n",
        "2189 weekend\n",
        "2190 meno\n",
        "2191"
       ]
      },
      {
       "output_type": "stream",
       "stream": "stdout",
       "text": [
        " mic\n",
        "2192"
       ]
      },
      {
       "output_type": "stream",
       "stream": "stdout",
       "text": [
        " nor\n",
        "2193"
       ]
      },
      {
       "output_type": "stream",
       "stream": "stdout",
       "text": [
        " bloom\n",
        "2194 sam\n",
        "2195 affair\n",
        "2196 leader\n",
        "2197 aber\n",
        "2198"
       ]
      },
      {
       "output_type": "stream",
       "stream": "stdout",
       "text": [
        " aah\n",
        "2199 nerv\n",
        "2200"
       ]
      },
      {
       "output_type": "stream",
       "stream": "stdout",
       "text": [
        " 10\n",
        "2201 ohhh\n",
        "2202"
       ]
      },
      {
       "output_type": "stream",
       "stream": "stdout",
       "text": [
        " hush\n",
        "2203 historia\n",
        "2204"
       ]
      },
      {
       "output_type": "stream",
       "stream": "stdout",
       "text": [
        " op\n",
        "2205"
       ]
      },
      {
       "output_type": "stream",
       "stream": "stdout",
       "text": [
        " caress\n",
        "2206 either\n",
        "2207 discover\n",
        "2208 leaving\n",
        "2209 helpless\n",
        "2210 ghetto\n",
        "2211 bread\n",
        "2212 dancing\n",
        "2213 x4\n",
        "2214"
       ]
      },
      {
       "output_type": "stream",
       "stream": "stdout",
       "text": [
        " tant\n",
        "2215"
       ]
      },
      {
       "output_type": "stream",
       "stream": "stdout",
       "text": [
        " hmm\n",
        "2216"
       ]
      },
      {
       "output_type": "stream",
       "stream": "stdout",
       "text": [
        " momma\n",
        "2217 x3\n",
        "2218"
       ]
      },
      {
       "output_type": "stream",
       "stream": "stdout",
       "text": [
        " gibt\n",
        "2219"
       ]
      },
      {
       "output_type": "stream",
       "stream": "stdout",
       "text": [
        " tao\n",
        "2220 vive\n",
        "2221"
       ]
      },
      {
       "output_type": "stream",
       "stream": "stdout",
       "text": [
        " pace\n",
        "2222 gusta\n",
        "2223"
       ]
      },
      {
       "output_type": "stream",
       "stream": "stdout",
       "text": [
        " relax\n",
        "2224 jam\n",
        "2225 paz\n",
        "2226"
       ]
      },
      {
       "output_type": "stream",
       "stream": "stdout",
       "text": [
        " brick\n",
        "2227 digo\n",
        "2228"
       ]
      },
      {
       "output_type": "stream",
       "stream": "stdout",
       "text": [
        " dei\n",
        "2229"
       ]
      },
      {
       "output_type": "stream",
       "stream": "stdout",
       "text": [
        " complain\n",
        "2230 burden\n",
        "2231 sunrise\n",
        "2232 also\n",
        "2233"
       ]
      },
      {
       "output_type": "stream",
       "stream": "stdout",
       "text": [
        " linger\n",
        "2234 jungle\n",
        "2235 hopeless\n",
        "2236 abl\n",
        "2237"
       ]
      },
      {
       "output_type": "stream",
       "stream": "stdout",
       "text": [
        " agua\n",
        "2238 bop\n",
        "2239 fi\n",
        "2240"
       ]
      },
      {
       "output_type": "stream",
       "stream": "stdout",
       "text": [
        " pillow\n",
        "2241 damage\n",
        "2242 mister.1\n",
        "2243"
       ]
      },
      {
       "output_type": "stream",
       "stream": "stdout",
       "text": [
        " mask\n",
        "2244 itself\n",
        "2245"
       ]
      },
      {
       "output_type": "stream",
       "stream": "stdout",
       "text": [
        " drove\n",
        "2246 pump\n",
        "2247 ska\n",
        "2248"
       ]
      },
      {
       "output_type": "stream",
       "stream": "stdout",
       "text": [
        " boss\n",
        "2249 himself\n",
        "2250"
       ]
      },
      {
       "output_type": "stream",
       "stream": "stdout",
       "text": [
        " list\n",
        "2251 whiskey\n",
        "2252 moral\n",
        "2253 affect\n",
        "2254 conquer\n",
        "2255 rosa\n",
        "2256 tumble\n",
        "2257 album\n",
        "2258 mend\n",
        "2259 warrior\n",
        "2260 sinner\n",
        "2261 herz\n",
        "2262"
       ]
      },
      {
       "output_type": "stream",
       "stream": "stdout",
       "text": [
        " mientra\n",
        "2263"
       ]
      },
      {
       "output_type": "stream",
       "stream": "stdout",
       "text": [
        " tip\n",
        "2264 express\n",
        "2265 loser\n",
        "2266 chant\n",
        "2267 ogni\n",
        "2268"
       ]
      },
      {
       "output_type": "stream",
       "stream": "stdout",
       "text": [
        " crave\n",
        "2269 crystal\n",
        "2270 diga\n",
        "2271"
       ]
      },
      {
       "output_type": "stream",
       "stream": "stdout",
       "text": [
        " perche\n",
        "2272"
       ]
      },
      {
       "output_type": "stream",
       "stream": "stdout",
       "text": [
        " thrown\n",
        "2273 quell\n",
        "2274 encontrar\n",
        "2275"
       ]
      },
      {
       "output_type": "stream",
       "stream": "stdout",
       "text": [
        " bay\n",
        "2276 bee\n",
        "2277 fruit\n",
        "2278 hanging\n",
        "2279 billi\n",
        "2280"
       ]
      },
      {
       "output_type": "stream",
       "stream": "stdout",
       "text": [
        " hollywood\n",
        "2281 parade\n",
        "2282 allt\n",
        "2283"
       ]
      },
      {
       "output_type": "stream",
       "stream": "stdout",
       "text": [
        " bailar\n",
        "2284"
       ]
      },
      {
       "output_type": "stream",
       "stream": "stdout",
       "text": [
        " weed\n",
        "2285 ciudad\n",
        "2286"
       ]
      },
      {
       "output_type": "stream",
       "stream": "stdout",
       "text": [
        " switch\n",
        "2287 wat\n",
        "2288"
       ]
      },
      {
       "output_type": "stream",
       "stream": "stdout",
       "text": [
        " soir\n",
        "2289"
       ]
      },
      {
       "output_type": "stream",
       "stream": "stdout",
       "text": [
        " stab\n",
        "2290 asham\n",
        "2291"
       ]
      },
      {
       "output_type": "stream",
       "stream": "stdout",
       "text": [
        " vent\n",
        "2292 collect\n",
        "2293 macht\n",
        "2294"
       ]
      },
      {
       "output_type": "stream",
       "stream": "stdout",
       "text": [
        " truck\n",
        "2295 instant\n",
        "2296 terra\n",
        "2297"
       ]
      },
      {
       "output_type": "stream",
       "stream": "stdout",
       "text": [
        " temptat\n",
        "2298"
       ]
      },
      {
       "output_type": "stream",
       "stream": "stdout",
       "text": [
        " kuin\n",
        "2299"
       ]
      },
      {
       "output_type": "stream",
       "stream": "stdout",
       "text": [
        " skull\n",
        "2300 ora\n",
        "2301 ed\n",
        "2302"
       ]
      },
      {
       "output_type": "stream",
       "stream": "stdout",
       "text": [
        " fare\n",
        "2303 rebel\n",
        "2304 meat\n",
        "2305 autumn\n",
        "2306 bom\n",
        "2307"
       ]
      },
      {
       "output_type": "stream",
       "stream": "stdout",
       "text": [
        " viver\n",
        "2308"
       ]
      },
      {
       "output_type": "stream",
       "stream": "stdout",
       "text": [
        " london\n",
        "2309 jos\n",
        "2310"
       ]
      },
      {
       "output_type": "stream",
       "stream": "stdout",
       "text": [
        " deliv\n",
        "2311"
       ]
      },
      {
       "output_type": "stream",
       "stream": "stdout",
       "text": [
        " perdido\n",
        "2312"
       ]
      },
      {
       "output_type": "stream",
       "stream": "stdout",
       "text": [
        " cuor\n",
        "2313"
       ]
      },
      {
       "output_type": "stream",
       "stream": "stdout",
       "text": [
        " doll\n",
        "2314 downtown\n",
        "2315 pink\n",
        "2316 v\n",
        "2317 owe\n",
        "2318 quun\n",
        "2319"
       ]
      },
      {
       "output_type": "stream",
       "stream": "stdout",
       "text": [
        " sigu\n",
        "2320"
       ]
      },
      {
       "output_type": "stream",
       "stream": "stdout",
       "text": [
        " howl\n",
        "2321 gana\n",
        "2322"
       ]
      },
      {
       "output_type": "stream",
       "stream": "stdout",
       "text": [
        " heartbeat\n",
        "2323 core\n",
        "2324 butterfly\n",
        "2325 aquel\n",
        "2326"
       ]
      },
      {
       "output_type": "stream",
       "stream": "stdout",
       "text": [
        " chick\n",
        "2327 della\n",
        "2328"
       ]
      },
      {
       "output_type": "stream",
       "stream": "stdout",
       "text": [
        " bastard\n",
        "2329 wer\n",
        "2330"
       ]
      },
      {
       "output_type": "stream",
       "stream": "stdout",
       "text": [
        " noit\n",
        "2331"
       ]
      },
      {
       "output_type": "stream",
       "stream": "stdout",
       "text": [
        " impossible\n",
        "2332 blood.1\n",
        "2333"
       ]
      },
      {
       "output_type": "stream",
       "stream": "stdout",
       "text": [
        " easier\n",
        "2334 clue\n",
        "2335 li\n",
        "2336"
       ]
      },
      {
       "output_type": "stream",
       "stream": "stdout",
       "text": [
        " fuera\n",
        "2337"
       ]
      },
      {
       "output_type": "stream",
       "stream": "stdout",
       "text": [
        " shiver\n",
        "2338 pool\n",
        "2339 presence\n",
        "2340 dread\n",
        "2341 surface\n",
        "2342 nient\n",
        "2343"
       ]
      },
      {
       "output_type": "stream",
       "stream": "stdout",
       "text": [
        " eyes.1\n",
        "2344"
       ]
      },
      {
       "output_type": "stream",
       "stream": "stdout",
       "text": [
        " pienso\n",
        "2345"
       ]
      },
      {
       "output_type": "stream",
       "stream": "stdout",
       "text": [
        " conscience\n",
        "2346 zero\n",
        "2347 pelo\n",
        "2348"
       ]
      },
      {
       "output_type": "stream",
       "stream": "stdout",
       "text": [
        " alguien\n",
        "2349"
       ]
      },
      {
       "output_type": "stream",
       "stream": "stdout",
       "text": [
        " blaze\n",
        "2350 squeez\n",
        "2351"
       ]
      },
      {
       "output_type": "stream",
       "stream": "stdout",
       "text": [
        " blast\n",
        "2352 haben\n",
        "2353"
       ]
      },
      {
       "output_type": "stream",
       "stream": "stdout",
       "text": [
        " dope\n",
        "2354 bruis\n",
        "2355"
       ]
      },
      {
       "output_type": "stream",
       "stream": "stdout",
       "text": [
        " pue\n",
        "2356"
       ]
      },
      {
       "output_type": "stream",
       "stream": "stdout",
       "text": [
        " tea\n",
        "2357 honor\n",
        "2358 ze\n",
        "2359"
       ]
      },
      {
       "output_type": "stream",
       "stream": "stdout",
       "text": [
        " 6\n",
        "2360 lamb\n",
        "2361 q\n",
        "2362 recognize\n",
        "2363 flor\n",
        "2364"
       ]
      },
      {
       "output_type": "stream",
       "stream": "stdout",
       "text": [
        " whistle\n",
        "2365 roof\n",
        "2366 giving\n",
        "2367 gang\n",
        "2368 beware\n",
        "2369 tomb\n",
        "2370 lei\n",
        "2371"
       ]
      },
      {
       "output_type": "stream",
       "stream": "stdout",
       "text": [
        " euch\n",
        "2372"
       ]
      },
      {
       "output_type": "stream",
       "stream": "stdout",
       "text": [
        " seguir\n",
        "2373"
       ]
      },
      {
       "output_type": "stream",
       "stream": "stdout",
       "text": [
        " wow\n",
        "2374 clap\n",
        "2375 squar\n",
        "2376"
       ]
      },
      {
       "output_type": "stream",
       "stream": "stdout",
       "text": [
        " forma\n",
        "2377"
       ]
      },
      {
       "output_type": "stream",
       "stream": "stdout",
       "text": [
        " working\n",
        "2378 rider\n",
        "2379 appl\n",
        "2380"
       ]
      },
      {
       "output_type": "stream",
       "stream": "stdout",
       "text": [
        " modern\n",
        "2381 telling\n",
        "2382 magazine\n",
        "2383 cha\n",
        "2384"
       ]
      },
      {
       "output_type": "stream",
       "stream": "stdout",
       "text": [
        " coz\n",
        "2385"
       ]
      },
      {
       "output_type": "stream",
       "stream": "stdout",
       "text": [
        " inner\n",
        "2386 impress\n",
        "2387 drawn\n",
        "2388 smart\n",
        "2389 harmony\n",
        "2390 govern\n",
        "2391 im\n",
        "2392"
       ]
      },
      {
       "output_type": "stream",
       "stream": "stdout",
       "text": [
        " quest\n",
        "2393 gran\n",
        "2394 volar\n",
        "2395 bliss\n",
        "2396 yuh\n",
        "2397"
       ]
      },
      {
       "output_type": "stream",
       "stream": "stdout",
       "text": [
        " polit\n",
        "2398"
       ]
      },
      {
       "output_type": "stream",
       "stream": "stdout",
       "text": [
        " dim\n",
        "2399 tour\n",
        "2400 pant\n",
        "2401 cheer\n",
        "2402 quer\n",
        "2403"
       ]
      },
      {
       "output_type": "stream",
       "stream": "stdout",
       "text": [
        " familiar\n",
        "2404 fought\n",
        "2405 roar\n",
        "2406 dicen\n",
        "2407"
       ]
      },
      {
       "output_type": "stream",
       "stream": "stdout",
       "text": [
        " nar\n",
        "2408"
       ]
      },
      {
       "output_type": "stream",
       "stream": "stdout",
       "text": [
        " pen\n",
        "2409 obsess\n",
        "2410 century\n",
        "2411 i'm.1\n",
        "2412"
       ]
      },
      {
       "output_type": "stream",
       "stream": "stdout",
       "text": [
        " failure\n",
        "2413 jail\n",
        "2414 parec\n",
        "2415"
       ]
      },
      {
       "output_type": "stream",
       "stream": "stdout",
       "text": [
        " confide\n",
        "2416 meg\n",
        "2417 kneel\n",
        "2418 spare\n",
        "2419 pin\n",
        "2420 vaya\n",
        "2421"
       ]
      },
      {
       "output_type": "stream",
       "stream": "stdout",
       "text": [
        " important.1\n",
        "2422"
       ]
      },
      {
       "output_type": "stream",
       "stream": "stdout",
       "text": [
        " mourn.1\n",
        "2423"
       ]
      },
      {
       "output_type": "stream",
       "stream": "stdout",
       "text": [
        " hablar\n",
        "2424"
       ]
      },
      {
       "output_type": "stream",
       "stream": "stdout",
       "text": [
        " giorno\n",
        "2425"
       ]
      },
      {
       "output_type": "stream",
       "stream": "stdout",
       "text": [
        " yearn\n",
        "2426 cuenta\n",
        "2427"
       ]
      },
      {
       "output_type": "stream",
       "stream": "stdout",
       "text": [
        " guilt\n",
        "2428 solution\n",
        "2429 terr\n",
        "2430"
       ]
      },
      {
       "output_type": "stream",
       "stream": "stdout",
       "text": [
        " focus\n",
        "2431 cling\n",
        "2432 concrete\n",
        "2433 horror\n",
        "2434 sore\n",
        "2435 dom\n",
        "2436"
       ]
      },
      {
       "output_type": "stream",
       "stream": "stdout",
       "text": [
        " unfold\n",
        "2437 bounce\n",
        "2438 nun\n",
        "2439"
       ]
      },
      {
       "output_type": "stream",
       "stream": "stdout",
       "text": [
        " goal\n",
        "2440 selfish\n",
        "2441 knowledge\n",
        "2442 cancion\n",
        "2443"
       ]
      },
      {
       "output_type": "stream",
       "stream": "stdout",
       "text": [
        " awaken\n",
        "2444 bath\n",
        "2445 kommt\n",
        "2446"
       ]
      },
      {
       "output_type": "stream",
       "stream": "stdout",
       "text": [
        " delight\n",
        "2447 hesitate\n",
        "2448 fond\n",
        "2449 parol\n",
        "2450"
       ]
      },
      {
       "output_type": "stream",
       "stream": "stdout",
       "text": [
        " courage\n",
        "2451 serious\n",
        "2452 whether\n",
        "2453"
       ]
      },
      {
       "output_type": "stream",
       "stream": "stdout",
       "text": [
        " ter\n",
        "2454"
       ]
      },
      {
       "output_type": "stream",
       "stream": "stdout",
       "text": [
        " sweetest\n",
        "2455 useless\n",
        "2456 invisible\n",
        "2457 film\n",
        "2458 ole\n",
        "2459"
       ]
      },
      {
       "output_type": "stream",
       "stream": "stdout",
       "text": [
        " themselves\n",
        "2460"
       ]
      },
      {
       "output_type": "stream",
       "stream": "stdout",
       "text": [
        " male\n",
        "2461 alcohol\n",
        "2462 sake\n",
        "2463 sway\n",
        "2464 relate\n",
        "2465 nott\n",
        "2466"
       ]
      },
      {
       "output_type": "stream",
       "stream": "stdout",
       "text": [
        " tra\n",
        "2467"
       ]
      },
      {
       "output_type": "stream",
       "stream": "stdout",
       "text": [
        " stair\n",
        "2468 parent\n",
        "2469 advic\n",
        "2470"
       ]
      },
      {
       "output_type": "stream",
       "stream": "stdout",
       "text": [
        " grind\n",
        "2471 negro\n",
        "2472 vento\n",
        "2473"
       ]
      },
      {
       "output_type": "stream",
       "stream": "stdout",
       "text": [
        " riot\n",
        "2474 sombra\n",
        "2475"
       ]
      },
      {
       "output_type": "stream",
       "stream": "stdout",
       "text": [
        " blown\n",
        "2476 bajo\n",
        "2477"
       ]
      },
      {
       "output_type": "stream",
       "stream": "stdout",
       "text": [
        " 7\n",
        "2478 saa\n",
        "2479"
       ]
      },
      {
       "output_type": "stream",
       "stream": "stdout",
       "text": [
        " burst\n",
        "2480 quel\n",
        "2481"
       ]
      },
      {
       "output_type": "stream",
       "stream": "stdout",
       "text": [
        " size\n",
        "2482 sheep\n",
        "2483 fold\n",
        "2484 capture\n",
        "2485 dies\n",
        "2486"
       ]
      },
      {
       "output_type": "stream",
       "stream": "stdout",
       "text": [
        " texa\n",
        "2487"
       ]
      },
      {
       "output_type": "stream",
       "stream": "stdout",
       "text": [
        " lee\n",
        "2488 dwell\n",
        "2489 frighten\n",
        "2490 fragile\n",
        "2491 einen\n",
        "2492"
       ]
      },
      {
       "output_type": "stream",
       "stream": "stdout",
       "text": [
        " ave\n",
        "2493"
       ]
      },
      {
       "output_type": "stream",
       "stream": "stdout",
       "text": [
        " can't\n",
        "2494"
       ]
      },
      {
       "output_type": "stream",
       "stream": "stdout",
       "text": [
        " hacia\n",
        "2495"
       ]
      },
      {
       "output_type": "stream",
       "stream": "stdout",
       "text": [
        " blew\n",
        "2496 chicken\n",
        "2497 thorn\n",
        "2498 teenager\n",
        "2499 everlasting\n",
        "2500 zone\n",
        "2501 tape\n",
        "2502 feather\n",
        "2503 necesito\n",
        "2504"
       ]
      },
      {
       "output_type": "stream",
       "stream": "stdout",
       "text": [
        " compare\n",
        "2505 agora\n",
        "2506 loin\n",
        "2507 pig\n",
        "2508 carve\n",
        "2509 plague\n",
        "2510 tiger\n",
        "2511 flat\n",
        "2512 dee\n",
        "2513"
       ]
      },
      {
       "output_type": "stream",
       "stream": "stdout",
       "text": [
        " punch\n",
        "2514 bueno\n",
        "2515"
       ]
      },
      {
       "output_type": "stream",
       "stream": "stdout",
       "text": [
        " slaughter\n",
        "2516 funk\n",
        "2517 deseo\n",
        "2518"
       ]
      },
      {
       "output_type": "stream",
       "stream": "stdout",
       "text": [
        " ami\n",
        "2519"
       ]
      },
      {
       "output_type": "stream",
       "stream": "stdout",
       "text": [
        " nervous\n",
        "2520 tragedy\n",
        "2521 thick\n",
        "2522 mijn\n",
        "2523"
       ]
      },
      {
       "output_type": "stream",
       "stream": "stdout",
       "text": [
        " fence\n",
        "2524 anytime\n",
        "2525"
       ]
      },
      {
       "output_type": "stream",
       "stream": "stdout",
       "text": [
        " backwards\n",
        "2526 brighter\n",
        "2527 voir\n",
        "2528"
       ]
      },
      {
       "output_type": "stream",
       "stream": "stdout",
       "text": [
        " envy\n",
        "2529 complicated\n",
        "2530 captain\n",
        "2531 purpose\n",
        "2532 ordinary\n",
        "2533 nuestra\n",
        "2534"
       ]
      },
      {
       "output_type": "stream",
       "stream": "stdout",
       "text": [
        " grin\n",
        "2535 mer\n",
        "2536 infect\n",
        "2537 spine\n",
        "2538 ought\n",
        "2539"
       ]
      },
      {
       "output_type": "stream",
       "stream": "stdout",
       "text": [
        " defend\n",
        "2540 photograph\n",
        "2541 tha\n",
        "2542"
       ]
      },
      {
       "output_type": "stream",
       "stream": "stdout",
       "text": [
        " prey\n",
        "2543 patient\n",
        "2544 nombr\n",
        "2545"
       ]
      },
      {
       "output_type": "stream",
       "stream": "stdout",
       "text": [
        " flip\n",
        "2546 mc\n",
        "2547 mist\n",
        "2548 toss\n",
        "2549 castle\n",
        "2550 ici\n",
        "2551"
       ]
      },
      {
       "output_type": "stream",
       "stream": "stdout",
       "text": [
        " horn\n",
        "2552 secure\n",
        "2553 jane\n",
        "2554"
       ]
      },
      {
       "output_type": "stream",
       "stream": "stdout",
       "text": [
        " k\n",
        "2555 sa.2\n",
        "2556"
       ]
      },
      {
       "output_type": "stream",
       "stream": "stdout",
       "text": [
        " sympathy\n",
        "2557 creo\n",
        "2558"
       ]
      },
      {
       "output_type": "stream",
       "stream": "stdout",
       "text": [
        " baila\n",
        "2559"
       ]
      },
      {
       "output_type": "stream",
       "stream": "stdout",
       "text": [
        " trash\n",
        "2560 shirt\n",
        "2561 twilight\n",
        "2562 pair\n",
        "2563 dreamer\n",
        "2564 compromise\n",
        "2565 board\n",
        "2566 veil\n",
        "2567 error\n",
        "2568 standing\n",
        "2569 ke\n",
        "2570"
       ]
      },
      {
       "output_type": "stream",
       "stream": "stdout",
       "text": [
        " realise\n",
        "2571 devoted\n",
        "2572 solid\n",
        "2573 babylon\n",
        "2574 fancy\n",
        "2575 ding\n",
        "2576 kom\n",
        "2577"
       ]
      },
      {
       "output_type": "stream",
       "stream": "stdout",
       "text": [
        " faz\n",
        "2578"
       ]
      },
      {
       "output_type": "stream",
       "stream": "stdout",
       "text": [
        " cerca\n",
        "2579"
       ]
      },
      {
       "output_type": "stream",
       "stream": "stdout",
       "text": [
        " eg\n",
        "2580"
       ]
      },
      {
       "output_type": "stream",
       "stream": "stdout",
       "text": [
        " holding\n",
        "2581 justify\n",
        "2582 alor\n",
        "2583"
       ]
      },
      {
       "output_type": "stream",
       "stream": "stdout",
       "text": [
        " pearl\n",
        "2584 domin\n",
        "2585"
       ]
      },
      {
       "output_type": "stream",
       "stream": "stdout",
       "text": [
        " soleil\n",
        "2586"
       ]
      },
      {
       "output_type": "stream",
       "stream": "stdout",
       "text": [
        " estaba\n",
        "2587"
       ]
      },
      {
       "output_type": "stream",
       "stream": "stdout",
       "text": [
        " origin\n",
        "2588 llegar\n",
        "2589"
       ]
      },
      {
       "output_type": "stream",
       "stream": "stdout",
       "text": [
        " reject\n",
        "2590 awhile\n",
        "2591 sag\n",
        "2592 milk\n",
        "2593 tener\n",
        "2594 sweetheart\n",
        "2595 lil\n",
        "2596"
       ]
      },
      {
       "output_type": "stream",
       "stream": "stdout",
       "text": [
        " content\n",
        "2597 samba\n",
        "2598 extra\n",
        "2599 ka\n",
        "2600 rotten\n",
        "2601 sucker\n",
        "2602 salt\n",
        "2603 bat\n",
        "2604 worn\n",
        "2605 toll\n",
        "2606 pi\n",
        "2607 buscando\n",
        "2608"
       ]
      },
      {
       "output_type": "stream",
       "stream": "stdout",
       "text": [
        " yard\n",
        "2609 leather\n",
        "2610 astray\n",
        "2611 shift\n",
        "2612 third\n",
        "2613 grief\n",
        "2614 azul\n",
        "2615"
       ]
      },
      {
       "output_type": "stream",
       "stream": "stdout",
       "text": [
        " upside\n",
        "2616 buck\n",
        "2617 jingle\n",
        "2618 witch\n",
        "2619 dune\n",
        "2620 borrow\n",
        "2621 zijn\n",
        "2622"
       ]
      },
      {
       "output_type": "stream",
       "stream": "stdout",
       "text": [
        " ont\n",
        "2623"
       ]
      },
      {
       "output_type": "stream",
       "stream": "stdout",
       "text": [
        " kitchen\n",
        "2624 bedroom\n",
        "2625 sient\n",
        "2626"
       ]
      },
      {
       "output_type": "stream",
       "stream": "stdout",
       "text": [
        " sigo\n",
        "2627"
       ]
      },
      {
       "output_type": "stream",
       "stream": "stdout",
       "text": [
        " cream\n",
        "2628 birthday\n",
        "2629 limb\n",
        "2630 court\n",
        "2631 tom\n",
        "2632 neon\n",
        "2633 teacher\n",
        "2634 meer\n",
        "2635"
       ]
      },
      {
       "output_type": "stream",
       "stream": "stdout",
       "text": [
        " overcome\n",
        "2636 depress\n",
        "2637 ingen\n",
        "2638"
       ]
      },
      {
       "output_type": "stream",
       "stream": "stdout",
       "text": [
        " juli\n",
        "2639"
       ]
      },
      {
       "output_type": "stream",
       "stream": "stdout",
       "text": [
        " scatter\n",
        "2640 pussy\n",
        "2641 pile\n",
        "2642 jealous\n",
        "2643 bum\n",
        "2644 rocket\n",
        "2645 jimmi\n",
        "2646"
       ]
      },
      {
       "output_type": "stream",
       "stream": "stdout",
       "text": [
        " habit\n",
        "2647 dor\n",
        "2648"
       ]
      },
      {
       "output_type": "stream",
       "stream": "stdout",
       "text": [
        " sensation\n",
        "2649 corrupt\n",
        "2650 righteous\n",
        "2651 neighbor\n",
        "2652 rob\n",
        "2653 moan\n",
        "2654 quello\n",
        "2655"
       ]
      },
      {
       "output_type": "stream",
       "stream": "stdout",
       "text": [
        " dormir\n",
        "2656"
       ]
      },
      {
       "output_type": "stream",
       "stream": "stdout",
       "text": [
        " virgin\n",
        "2657 labio\n",
        "2658"
       ]
      },
      {
       "output_type": "stream",
       "stream": "stdout",
       "text": [
        " port\n",
        "2659 libertad\n",
        "2660"
       ]
      },
      {
       "output_type": "stream",
       "stream": "stdout",
       "text": [
        " depth\n",
        "2661 revel\n",
        "2662 pasar\n",
        "2663"
       ]
      },
      {
       "output_type": "stream",
       "stream": "stdout",
       "text": [
        " screw\n",
        "2664 stress\n",
        "2665 wolf\n",
        "2666 sto\n",
        "2667"
       ]
      },
      {
       "output_type": "stream",
       "stream": "stdout",
       "text": [
        " augen\n",
        "2668"
       ]
      },
      {
       "output_type": "stream",
       "stream": "stdout",
       "text": [
        " el.1\n",
        "2669"
       ]
      },
      {
       "output_type": "stream",
       "stream": "stdout",
       "text": [
        " rum\n",
        "2670 sir\n",
        "2671 voor\n",
        "2672"
       ]
      },
      {
       "output_type": "stream",
       "stream": "stdout",
       "text": [
        " beau\n",
        "2673 espera\n",
        "2674"
       ]
      },
      {
       "output_type": "stream",
       "stream": "stdout",
       "text": [
        " beam\n",
        "2675 add\n",
        "2676 farewell\n",
        "2677 shower\n",
        "2678 concern\n",
        "2679 pasado\n",
        "2680"
       ]
      },
      {
       "output_type": "stream",
       "stream": "stdout",
       "text": [
        " measure\n",
        "2681 oui\n",
        "2682"
       ]
      },
      {
       "output_type": "stream",
       "stream": "stdout",
       "text": [
        " licht\n",
        "2683"
       ]
      },
      {
       "output_type": "stream",
       "stream": "stdout",
       "text": [
        " voglio\n",
        "2684"
       ]
      },
      {
       "output_type": "stream",
       "stream": "stdout",
       "text": [
        " 4x\n",
        "2685"
       ]
      },
      {
       "output_type": "stream",
       "stream": "stdout",
       "text": [
        " raining\n",
        "2686 remove\n",
        "2687 cease\n",
        "2688 tail\n",
        "2689 ive\n",
        "2690"
       ]
      },
      {
       "output_type": "stream",
       "stream": "stdout",
       "text": [
        " apology\n",
        "2691 fear.1\n",
        "2692"
       ]
      },
      {
       "output_type": "stream",
       "stream": "stdout",
       "text": [
        " border\n",
        "2693 breaking\n",
        "2694 viva\n",
        "2695 charge\n",
        "2696 mij\n",
        "2697"
       ]
      },
      {
       "output_type": "stream",
       "stream": "stdout",
       "text": [
        " frustrate\n",
        "2698 perfume\n",
        "2699 bent\n",
        "2700 bubble\n",
        "2701 unto\n",
        "2702"
       ]
      },
      {
       "output_type": "stream",
       "stream": "stdout",
       "text": [
        " dag\n",
        "2703 terrible\n",
        "2704 ciel\n",
        "2705"
       ]
      },
      {
       "output_type": "stream",
       "stream": "stdout",
       "text": [
        " eve\n",
        "2706 disgrace\n",
        "2707 soil\n",
        "2708 pro\n",
        "2709 puerta\n",
        "2710"
       ]
      },
      {
       "output_type": "stream",
       "stream": "stdout",
       "text": [
        " wrath\n",
        "2711 mun\n",
        "2712"
       ]
      },
      {
       "output_type": "stream",
       "stream": "stdout",
       "text": [
        " dreaming\n",
        "2713 feast\n",
        "2714 nas\n",
        "2715 reaction\n",
        "2716 duel\n",
        "2717 9\n",
        "2718 scheme\n",
        "2719 aware\n",
        "2720 smooth\n",
        "2721 shallow\n",
        "2722 razon\n",
        "2723"
       ]
      },
      {
       "output_type": "stream",
       "stream": "stdout",
       "text": [
        " pode\n",
        "2724"
       ]
      },
      {
       "output_type": "stream",
       "stream": "stdout",
       "text": [
        " trigger\n",
        "2725 patience\n",
        "2726 fatal\n",
        "2727 brazo\n",
        "2728"
       ]
      },
      {
       "output_type": "stream",
       "stream": "stdout",
       "text": [
        " warmth\n",
        "2729 nai\n",
        "2730"
       ]
      },
      {
       "output_type": "stream",
       "stream": "stdout",
       "text": [
        " ceil\n",
        "2731"
       ]
      },
      {
       "output_type": "stream",
       "stream": "stdout",
       "text": [
        " agony\n",
        "2732 sweep\n",
        "2733 starve\n",
        "2734 deje\n",
        "2735"
       ]
      },
      {
       "output_type": "stream",
       "stream": "stdout",
       "text": [
        " prince\n",
        "2736 olho\n",
        "2737"
       ]
      },
      {
       "output_type": "stream",
       "stream": "stdout",
       "text": [
        " collapse\n",
        "2738 fuel\n",
        "2739 david\n",
        "2740 skip\n",
        "2741 entend\n",
        "2742"
       ]
      },
      {
       "output_type": "stream",
       "stream": "stdout",
       "text": [
        " greet\n",
        "2743 haze\n",
        "2744 wore\n",
        "2745 crow\n",
        "2746 pueda\n",
        "2747"
       ]
      },
      {
       "output_type": "stream",
       "stream": "stdout",
       "text": [
        " coup\n",
        "2748 war.1\n",
        "2749"
       ]
      },
      {
       "output_type": "stream",
       "stream": "stdout",
       "text": [
        " a.2\n",
        "2750"
       ]
      },
      {
       "output_type": "stream",
       "stream": "stdout",
       "text": [
        " vale\n",
        "2751 fe\n",
        "2752 private\n",
        "2753 nyt\n",
        "2754"
       ]
      },
      {
       "output_type": "stream",
       "stream": "stdout",
       "text": [
        " jame\n",
        "2755"
       ]
      },
      {
       "output_type": "stream",
       "stream": "stdout",
       "text": [
        " herself\n",
        "2756"
       ]
      },
      {
       "output_type": "stream",
       "stream": "stdout",
       "text": [
        " bullshit\n",
        "2757 teardrop\n",
        "2758 commit\n",
        "2759 blink\n",
        "2760 pensando\n",
        "2761"
       ]
      },
      {
       "output_type": "stream",
       "stream": "stdout",
       "text": [
        " disaster\n",
        "2762 lon\n",
        "2763"
       ]
      },
      {
       "output_type": "stream",
       "stream": "stdout",
       "text": [
        " ang\n",
        "2764 olvido\n",
        "2765"
       ]
      },
      {
       "output_type": "stream",
       "stream": "stdout",
       "text": [
        " siren\n",
        "2766 glorious\n",
        "2767 frown\n",
        "2768 glance\n",
        "2769 absolute\n",
        "2770 vuelvo\n",
        "2771"
       ]
      },
      {
       "output_type": "stream",
       "stream": "stdout",
       "text": [
        " convince\n",
        "2772 palm\n",
        "2773 guarantee\n",
        "2774 mention\n",
        "2775 riding\n",
        "2776 rent\n",
        "2777 mike\n",
        "2778 vaan\n",
        "2779"
       ]
      },
      {
       "output_type": "stream",
       "stream": "stdout",
       "text": [
        " sentiment\n",
        "2780 tutti\n",
        "2781"
       ]
      },
      {
       "output_type": "stream",
       "stream": "stdout",
       "text": [
        " heartbreak\n",
        "2782 pobr\n",
        "2783"
       ]
      },
      {
       "output_type": "stream",
       "stream": "stdout",
       "text": [
        " haut\n",
        "2784"
       ]
      },
      {
       "output_type": "stream",
       "stream": "stdout",
       "text": [
        " ano\n",
        "2785 unser\n",
        "2786"
       ]
      },
      {
       "output_type": "stream",
       "stream": "stdout",
       "text": [
        " corp\n",
        "2787 vow\n",
        "2788 ele\n",
        "2789"
       ]
      },
      {
       "output_type": "stream",
       "stream": "stdout",
       "text": [
        " sadness\n",
        "2790 stray\n",
        "2791 vuoi\n",
        "2792"
       ]
      },
      {
       "output_type": "stream",
       "stream": "stdout",
       "text": [
        " oi\n",
        "2793"
       ]
      },
      {
       "output_type": "stream",
       "stream": "stdout",
       "text": [
        " punish\n",
        "2794 libr\n",
        "2795"
       ]
      },
      {
       "output_type": "stream",
       "stream": "stdout",
       "text": [
        " fondo\n",
        "2796"
       ]
      },
      {
       "output_type": "stream",
       "stream": "stdout",
       "text": [
        " i'll\n",
        "2797"
       ]
      },
      {
       "output_type": "stream",
       "stream": "stdout",
       "text": [
        " morgen\n",
        "2798 television\n",
        "2799 cama\n",
        "2800"
       ]
      },
      {
       "output_type": "stream",
       "stream": "stdout",
       "text": [
        " suffocate\n",
        "2801 mann\n",
        "2802 click\n",
        "2803 torment\n",
        "2804 repent\n",
        "2805 fri\n",
        "2806 contra\n",
        "2807"
       ]
      },
      {
       "output_type": "stream",
       "stream": "stdout",
       "text": [
        " condit\n",
        "2808"
       ]
      },
      {
       "output_type": "stream",
       "stream": "stdout",
       "text": [
        " alt\n",
        "2809"
       ]
      },
      {
       "output_type": "stream",
       "stream": "stdout",
       "text": [
        " teas\n",
        "2810 linda\n",
        "2811"
       ]
      },
      {
       "output_type": "stream",
       "stream": "stdout",
       "text": [
        " prize\n",
        "2812 michael\n",
        "2813 yell\n",
        "2814 jou\n",
        "2815"
       ]
      },
      {
       "output_type": "stream",
       "stream": "stdout",
       "text": [
        " jo\n",
        "2816"
       ]
      },
      {
       "output_type": "stream",
       "stream": "stdout",
       "text": [
        " ego\n",
        "2817 dont.1\n",
        "2818"
       ]
      },
      {
       "output_type": "stream",
       "stream": "stdout",
       "text": [
        " ander\n",
        "2819"
       ]
      },
      {
       "output_type": "stream",
       "stream": "stdout",
       "text": [
        " cook\n",
        "2820 cave\n",
        "2821 darken\n",
        "2822 mut\n",
        "2823"
       ]
      },
      {
       "output_type": "stream",
       "stream": "stdout",
       "text": [
        " attitude\n",
        "2824 collide\n",
        "2825 adesso\n",
        "2826"
       ]
      },
      {
       "output_type": "stream",
       "stream": "stdout",
       "text": [
        " mirar\n",
        "2827"
       ]
      },
      {
       "output_type": "stream",
       "stream": "stdout",
       "text": [
        " mitt\n",
        "2828 sleeve\n",
        "2829 parar\n",
        "2830"
       ]
      },
      {
       "output_type": "stream",
       "stream": "stdout",
       "text": [
        " despue\n",
        "2831"
       ]
      },
      {
       "output_type": "stream",
       "stream": "stdout",
       "text": [
        " sting\n",
        "2832 plenty\n",
        "2833 werd\n",
        "2834"
       ]
      },
      {
       "output_type": "stream",
       "stream": "stdout",
       "text": [
        " coracao\n",
        "2835"
       ]
      },
      {
       "output_type": "stream",
       "stream": "stdout",
       "text": [
        " gay\n",
        "2836 devour\n",
        "2837 peut\n",
        "2838"
       ]
      },
      {
       "output_type": "stream",
       "stream": "stdout",
       "text": [
        " eagl\n",
        "2839"
       ]
      },
      {
       "output_type": "stream",
       "stream": "stdout",
       "text": [
        " fors\n",
        "2840"
       ]
      },
      {
       "output_type": "stream",
       "stream": "stdout",
       "text": [
        " equal.1\n",
        "2841"
       ]
      },
      {
       "output_type": "stream",
       "stream": "stdout",
       "text": [
        " empire\n",
        "2842 prend\n",
        "2843"
       ]
      },
      {
       "output_type": "stream",
       "stream": "stdout",
       "text": [
        " balance\n",
        "2844 ala\n",
        "2845 gar\n",
        "2846 culture\n",
        "2847 soak\n",
        "2848 jeder\n",
        "2849"
       ]
      },
      {
       "output_type": "stream",
       "stream": "stdout",
       "text": [
        " quarter\n",
        "2850 tone\n",
        "2851 herida\n",
        "2852"
       ]
      },
      {
       "output_type": "stream",
       "stream": "stdout",
       "text": [
        " amanec\n",
        "2853"
       ]
      },
      {
       "output_type": "stream",
       "stream": "stdout",
       "text": [
        " summertime\n",
        "2854 unseen\n",
        "2855 thang\n",
        "2856"
       ]
      },
      {
       "output_type": "stream",
       "stream": "stdout",
       "text": [
        " sharp\n",
        "2857 proof\n",
        "2858 smile.1\n",
        "2859"
       ]
      },
      {
       "output_type": "stream",
       "stream": "stdout",
       "text": [
        " earn\n",
        "2860 preacher\n",
        "2861 uber\n",
        "2862"
       ]
      },
      {
       "output_type": "stream",
       "stream": "stdout",
       "text": [
        " base\n",
        "2863 belli\n",
        "2864"
       ]
      },
      {
       "output_type": "stream",
       "stream": "stdout",
       "text": [
        " mach\n",
        "2865 lullaby\n",
        "2866 louder\n",
        "2867 dulc\n",
        "2868"
       ]
      },
      {
       "output_type": "stream",
       "stream": "stdout",
       "text": [
        " panic\n",
        "2869 flore\n",
        "2870"
       ]
      },
      {
       "output_type": "stream",
       "stream": "stdout",
       "text": [
        " social\n",
        "2871 werden\n",
        "2872"
       ]
      },
      {
       "output_type": "stream",
       "stream": "stdout",
       "text": [
        " rang\n",
        "2873 cock\n",
        "2874 shown\n",
        "2875 sung\n",
        "2876 understood\n",
        "2877 progress\n",
        "2878 cambiar\n",
        "2879"
       ]
      },
      {
       "output_type": "stream",
       "stream": "stdout",
       "text": [
        " strand\n",
        "2880 seh\n",
        "2881"
       ]
      },
      {
       "output_type": "stream",
       "stream": "stdout",
       "text": [
        " role\n",
        "2882 despertar\n",
        "2883"
       ]
      },
      {
       "output_type": "stream",
       "stream": "stdout",
       "text": [
        " bride\n",
        "2884 crook\n",
        "2885 fiesta\n",
        "2886 3x\n",
        "2887"
       ]
      },
      {
       "output_type": "stream",
       "stream": "stdout",
       "text": [
        " thug\n",
        "2888 bind\n",
        "2889 quoi\n",
        "2890"
       ]
      },
      {
       "output_type": "stream",
       "stream": "stdout",
       "text": [
        " notr\n",
        "2891"
       ]
      },
      {
       "output_type": "stream",
       "stream": "stdout",
       "text": [
        " shove\n",
        "2892 suert\n",
        "2893"
       ]
      },
      {
       "output_type": "stream",
       "stream": "stdout",
       "text": [
        " gangsta\n",
        "2894 frent\n",
        "2895"
       ]
      },
      {
       "output_type": "stream",
       "stream": "stdout",
       "text": [
        " cherry\n",
        "2896 mill\n",
        "2897 ha.1\n",
        "2898"
       ]
      },
      {
       "output_type": "stream",
       "stream": "stdout",
       "text": [
        " oil\n",
        "2899 coisa\n",
        "2900"
       ]
      },
      {
       "output_type": "stream",
       "stream": "stdout",
       "text": [
        " dude\n",
        "2901 deed\n",
        "2902 oclock\n",
        "2903"
       ]
      },
      {
       "output_type": "stream",
       "stream": "stdout",
       "text": [
        " cabeza\n",
        "2904"
       ]
      },
      {
       "output_type": "stream",
       "stream": "stdout",
       "text": [
        " st\n",
        "2905"
       ]
      },
      {
       "output_type": "stream",
       "stream": "stdout",
       "text": [
        " tres\n",
        "2906"
       ]
      },
      {
       "output_type": "stream",
       "stream": "stdout",
       "text": [
        " ama\n",
        "2907"
       ]
      },
      {
       "output_type": "stream",
       "stream": "stdout",
       "text": [
        " drank\n",
        "2908 strain\n",
        "2909 espero\n",
        "2910"
       ]
      },
      {
       "output_type": "stream",
       "stream": "stdout",
       "text": [
        " muert\n",
        "2911"
       ]
      },
      {
       "output_type": "stream",
       "stream": "stdout",
       "text": [
        " dragon\n",
        "2912 homm\n",
        "2913"
       ]
      },
      {
       "output_type": "stream",
       "stream": "stdout",
       "text": [
        " wrist\n",
        "2914 team\n",
        "2915 jen\n",
        "2916"
       ]
      },
      {
       "output_type": "stream",
       "stream": "stdout",
       "text": [
        " thirst\n",
        "2917 einfach\n",
        "2918"
       ]
      },
      {
       "output_type": "stream",
       "stream": "stdout",
       "text": [
        " basta\n",
        "2919"
       ]
      },
      {
       "output_type": "stream",
       "stream": "stdout",
       "text": [
        " playa\n",
        "2920"
       ]
      },
      {
       "output_type": "stream",
       "stream": "stdout",
       "text": [
        " pronto\n",
        "2921 avoid\n",
        "2922 inch\n",
        "2923 ecstasy\n",
        "2924 muero\n",
        "2925"
       ]
      },
      {
       "output_type": "stream",
       "stream": "stdout",
       "text": [
        " inform\n",
        "2926 mud\n",
        "2927 deus\n",
        "2928"
       ]
      },
      {
       "output_type": "stream",
       "stream": "stdout",
       "text": [
        " gehen\n",
        "2929"
       ]
      },
      {
       "output_type": "stream",
       "stream": "stdout",
       "text": [
        " madr\n",
        "2930"
       ]
      },
      {
       "output_type": "stream",
       "stream": "stdout",
       "text": [
        " purple\n",
        "2931 nog\n",
        "2932 razor\n",
        "2933 rust\n",
        "2934 femm\n",
        "2935"
       ]
      },
      {
       "output_type": "stream",
       "stream": "stdout",
       "text": [
        " famous\n",
        "2936 pui\n",
        "2937"
       ]
      },
      {
       "output_type": "stream",
       "stream": "stdout",
       "text": [
        " definite\n",
        "2938 atra\n",
        "2939"
       ]
      },
      {
       "output_type": "stream",
       "stream": "stdout",
       "text": [
        " don't.1\n",
        "2940"
       ]
      },
      {
       "output_type": "stream",
       "stream": "stdout",
       "text": [
        " bold\n",
        "2941 bible\n",
        "2942 pit\n",
        "2943 kaikki\n",
        "2944"
       ]
      },
      {
       "output_type": "stream",
       "stream": "stdout",
       "text": [
        " burnt\n",
        "2945 choir\n",
        "2946 trial\n",
        "2947 essa\n",
        "2948"
       ]
      },
      {
       "output_type": "stream",
       "stream": "stdout",
       "text": [
        " entertain\n",
        "2949 penny\n",
        "2950 comment\n",
        "2951 rio\n",
        "2952 har.1\n",
        "2953"
       ]
      },
      {
       "output_type": "stream",
       "stream": "stdout",
       "text": [
        " bras\n",
        "2954 tenho\n",
        "2955"
       ]
      },
      {
       "output_type": "stream",
       "stream": "stdout",
       "text": [
        " demis\n",
        "2956"
       ]
      },
      {
       "output_type": "stream",
       "stream": "stdout",
       "text": [
        " serpent\n",
        "2957 lleva\n",
        "2958"
       ]
      },
      {
       "output_type": "stream",
       "stream": "stdout",
       "text": [
        " alguna\n",
        "2959"
       ]
      },
      {
       "output_type": "stream",
       "stream": "stdout",
       "text": [
        " emerge\n",
        "2960 rue\n",
        "2961 stolen\n",
        "2962 ooooh\n",
        "2963"
       ]
      },
      {
       "output_type": "stream",
       "stream": "stdout",
       "text": [
        " alarm\n",
        "2964 autr\n",
        "2965"
       ]
      },
      {
       "output_type": "stream",
       "stream": "stdout",
       "text": [
        " hug\n",
        "2966 arrow\n",
        "2967 buena\n",
        "2968"
       ]
      },
      {
       "output_type": "stream",
       "stream": "stdout",
       "text": [
        " temple\n",
        "2969 tambien\n",
        "2970"
       ]
      },
      {
       "output_type": "stream",
       "stream": "stdout",
       "text": [
        " rejoice\n",
        "2971 bene\n",
        "2972"
       ]
      },
      {
       "output_type": "stream",
       "stream": "stdout",
       "text": [
        " code\n",
        "2973 vuelva\n",
        "2974"
       ]
      },
      {
       "output_type": "stream",
       "stream": "stdout",
       "text": [
        " love.6\n",
        "2975"
       ]
      },
      {
       "output_type": "stream",
       "stream": "stdout",
       "text": [
        " it.2\n",
        "2976"
       ]
      },
      {
       "output_type": "stream",
       "stream": "stdout",
       "text": [
        " tame\n",
        "2977 dancer\n",
        "2978 odd\n",
        "2979 gloria\n",
        "2980"
       ]
      },
      {
       "output_type": "stream",
       "stream": "stdout",
       "text": [
        " map\n",
        "2981 adio\n",
        "2982"
       ]
      },
      {
       "output_type": "stream",
       "stream": "stdout",
       "text": [
        " preside\n",
        "2983 aha\n",
        "2984"
       ]
      },
      {
       "output_type": "stream",
       "stream": "stdout",
       "text": [
        " afford\n",
        "2985 southern\n",
        "2986 mala\n",
        "2987"
       ]
      },
      {
       "output_type": "stream",
       "stream": "stdout",
       "text": [
        " driving\n",
        "2988 rag\n",
        "2989 organ\n",
        "2990 experience\n",
        "2991 spite\n",
        "2992 boil\n",
        "2993 movement\n",
        "2994 highest\n",
        "2995 avant\n",
        "2996"
       ]
      },
      {
       "output_type": "stream",
       "stream": "stdout",
       "text": [
        " immort\n",
        "2997"
       ]
      },
      {
       "output_type": "stream",
       "stream": "stdout",
       "text": [
        " pens\n",
        "2998 plate\n",
        "2999 cake\n",
        "3000 esperando\n",
        "3001"
       ]
      },
      {
       "output_type": "stream",
       "stream": "stdout",
       "text": [
        " esperar\n",
        "3002"
       ]
      },
      {
       "output_type": "stream",
       "stream": "stdout",
       "text": [
        " az\n",
        "3003 qu\n",
        "3004"
       ]
      },
      {
       "output_type": "stream",
       "stream": "stdout",
       "text": [
        " bobbi\n",
        "3005"
       ]
      },
      {
       "output_type": "stream",
       "stream": "stdout",
       "text": [
        " slam\n",
        "3006 jet\n",
        "3007 vom\n",
        "3008"
       ]
      },
      {
       "output_type": "stream",
       "stream": "stdout",
       "text": [
        " chanson\n",
        "3009"
       ]
      },
      {
       "output_type": "stream",
       "stream": "stdout",
       "text": [
        " halt\n",
        "3010 soar\n",
        "3011 cancion.1\n",
        "3012"
       ]
      },
      {
       "output_type": "stream",
       "stream": "stdout",
       "text": [
        " bob\n",
        "3013 swell\n",
        "3014 bo\n",
        "3015"
       ]
      },
      {
       "output_type": "stream",
       "stream": "stdout",
       "text": [
        " warum\n",
        "3016"
       ]
      },
      {
       "output_type": "stream",
       "stream": "stdout",
       "text": [
        " pot\n",
        "3017 funer\n",
        "3018"
       ]
      },
      {
       "output_type": "stream",
       "stream": "stdout",
       "text": [
        " christian\n",
        "3019 gen\n",
        "3020 yeh\n",
        "3021"
       ]
      },
      {
       "output_type": "stream",
       "stream": "stdout",
       "text": [
        " nino\n",
        "3022"
       ]
      },
      {
       "output_type": "stream",
       "stream": "stdout",
       "text": [
        " risk\n",
        "3023 ritmo\n",
        "3024"
       ]
      },
      {
       "output_type": "stream",
       "stream": "stdout",
       "text": [
        " felicidad\n",
        "3025"
       ]
      },
      {
       "output_type": "stream",
       "stream": "stdout",
       "text": [
        " science\n",
        "3026 plead\n",
        "3027 llevo\n",
        "3028"
       ]
      },
      {
       "output_type": "stream",
       "stream": "stdout",
       "text": [
        " vu\n",
        "3029"
       ]
      },
      {
       "output_type": "stream",
       "stream": "stdout",
       "text": [
        " drinking\n",
        "3030 maker\n",
        "3031 amen\n",
        "3032 giant\n",
        "3033 level\n",
        "3034 raw\n",
        "3035 nella\n",
        "3036"
       ]
      },
      {
       "output_type": "stream",
       "stream": "stdout",
       "text": [
        " ess\n",
        "3037 flew\n",
        "3038 8\n",
        "3039 ate\n",
        "3040 language\n",
        "3041 deepest\n",
        "3042 pido\n",
        "3043"
       ]
      },
      {
       "output_type": "stream",
       "stream": "stdout",
       "text": [
        " zuruck\n",
        "3044"
       ]
      },
      {
       "output_type": "stream",
       "stream": "stdout",
       "text": [
        " encuentro\n",
        "3045"
       ]
      },
      {
       "output_type": "stream",
       "stream": "stdout",
       "text": [
        " motor\n",
        "3046 visit\n",
        "3047 z\n",
        "3048 sweeter\n",
        "3049 pose\n",
        "3050 aldrig\n",
        "3051"
       ]
      },
      {
       "output_type": "stream",
       "stream": "stdout",
       "text": [
        " cradle\n",
        "3052 obey\n",
        "3053 goddamn\n",
        "3054 threat\n",
        "3055 partir\n",
        "3056"
       ]
      },
      {
       "output_type": "stream",
       "stream": "stdout",
       "text": [
        " hoje\n",
        "3057"
       ]
      },
      {
       "output_type": "stream",
       "stream": "stdout",
       "text": [
        " driver\n",
        "3058 attract\n",
        "3059 buddy\n",
        "3060 public\n",
        "3061 avenue\n",
        "3062 taa\n",
        "3063"
       ]
      },
      {
       "output_type": "stream",
       "stream": "stdout",
       "text": [
        " co\n",
        "3064 busco\n",
        "3065"
       ]
      },
      {
       "output_type": "stream",
       "stream": "stdout",
       "text": [
        " tempt\n",
        "3066 chemical\n",
        "3067 jone\n",
        "3068"
       ]
      },
      {
       "output_type": "stream",
       "stream": "stdout",
       "text": [
        " shaking\n",
        "3069 ny\n",
        "3070 mie\n",
        "3071"
       ]
      },
      {
       "output_type": "stream",
       "stream": "stdout",
       "text": [
        " siamo\n",
        "3072"
       ]
      },
      {
       "output_type": "stream",
       "stream": "stdout",
       "text": [
        " nena\n",
        "3073"
       ]
      },
      {
       "output_type": "stream",
       "stream": "stdout",
       "text": [
        " vorrei\n",
        "3074"
       ]
      },
      {
       "output_type": "stream",
       "stream": "stdout",
       "text": [
        " bein\n",
        "3075"
       ]
      },
      {
       "output_type": "stream",
       "stream": "stdout",
       "text": [
        " daili\n",
        "3076"
       ]
      },
      {
       "output_type": "stream",
       "stream": "stdout",
       "text": [
        " sta\n",
        "3077"
       ]
      },
      {
       "output_type": "stream",
       "stream": "stdout",
       "text": [
        " stack\n",
        "3078 nasty\n",
        "3079 satisfaction\n",
        "3080 center\n",
        "3081 tame.1\n",
        "3082"
       ]
      },
      {
       "output_type": "stream",
       "stream": "stdout",
       "text": [
        " pierce\n",
        "3083 obvious\n",
        "3084 worthy\n",
        "3085 pourquoi\n",
        "3086"
       ]
      },
      {
       "output_type": "stream",
       "stream": "stdout",
       "text": [
        " consider\n",
        "3087 gar.1\n",
        "3088"
       ]
      },
      {
       "output_type": "stream",
       "stream": "stdout",
       "text": [
        " anda\n",
        "3089"
       ]
      },
      {
       "output_type": "stream",
       "stream": "stdout",
       "text": [
        " sparkle\n",
        "3090 willst\n",
        "3091"
       ]
      },
      {
       "output_type": "stream",
       "stream": "stdout",
       "text": [
        " fulfillment\n",
        "3092 i'v\n",
        "3093"
       ]
      },
      {
       "output_type": "stream",
       "stream": "stdout",
       "text": [
        " prophet\n",
        "3094 vanish\n",
        "3095 pan\n",
        "3096 slap\n",
        "3097 quien.1\n",
        "3098"
       ]
      },
      {
       "output_type": "stream",
       "stream": "stdout",
       "text": [
        " hypnotic\n",
        "3099 spoon\n",
        "3100 posso\n",
        "3101"
       ]
      },
      {
       "output_type": "stream",
       "stream": "stdout",
       "text": [
        " thread\n",
        "3102 china\n",
        "3103 chew\n",
        "3104 quanto\n",
        "3105"
       ]
      },
      {
       "output_type": "stream",
       "stream": "stdout",
       "text": [
        " canta\n",
        "3106"
       ]
      },
      {
       "output_type": "stream",
       "stream": "stdout",
       "text": [
        " whatcha\n",
        "3107"
       ]
      },
      {
       "output_type": "stream",
       "stream": "stdout",
       "text": [
        " bump\n",
        "3108 es.1\n",
        "3109"
       ]
      },
      {
       "output_type": "stream",
       "stream": "stdout",
       "text": [
        " humble\n",
        "3110 claw\n",
        "3111 preach\n",
        "3112 cadillac\n",
        "3113"
       ]
      },
      {
       "output_type": "stream",
       "stream": "stdout",
       "text": [
        " mate\n",
        "3114 chaqu\n",
        "3115"
       ]
      },
      {
       "output_type": "stream",
       "stream": "stdout",
       "text": [
        " si.1\n",
        "3116"
       ]
      },
      {
       "output_type": "stream",
       "stream": "stdout",
       "text": [
        " bond\n",
        "3117 grain\n",
        "3118 ninguem\n",
        "3119"
       ]
      },
      {
       "output_type": "stream",
       "stream": "stdout",
       "text": [
        " dieser\n",
        "3120"
       ]
      },
      {
       "output_type": "stream",
       "stream": "stdout",
       "text": [
        " sao\n",
        "3121"
       ]
      },
      {
       "output_type": "stream",
       "stream": "stdout",
       "text": [
        " mucha\n",
        "3122"
       ]
      },
      {
       "output_type": "stream",
       "stream": "stdout",
       "text": [
        " voce\n",
        "3123"
       ]
      },
      {
       "output_type": "stream",
       "stream": "stdout",
       "text": [
        " como.1\n",
        "3124"
       ]
      },
      {
       "output_type": "stream",
       "stream": "stdout",
       "text": [
        " sanity\n",
        "3125 blank\n",
        "3126 gia\n",
        "3127 degree\n",
        "3128 wither\n",
        "3129 snap\n",
        "3130 fog\n",
        "3131 doy\n",
        "3132"
       ]
      },
      {
       "output_type": "stream",
       "stream": "stdout",
       "text": [
        " despise\n",
        "3133 endure\n",
        "3134 luce\n",
        "3135 busca\n",
        "3136"
       ]
      },
      {
       "output_type": "stream",
       "stream": "stdout",
       "text": [
        " salir\n",
        "3137"
       ]
      },
      {
       "output_type": "stream",
       "stream": "stdout",
       "text": [
        " sip\n",
        "3138 dedicate\n",
        "3139 pine\n",
        "3140 alley\n",
        "3141 rearrange\n",
        "3142 savior.1\n",
        "3143"
       ]
      },
      {
       "output_type": "stream",
       "stream": "stdout",
       "text": [
        " donn\n",
        "3144"
       ]
      },
      {
       "output_type": "stream",
       "stream": "stdout",
       "text": [
        " traffic\n",
        "3145 sincere\n",
        "3146 vad\n",
        "3147"
       ]
      },
      {
       "output_type": "stream",
       "stream": "stdout",
       "text": [
        " liberty\n",
        "3148 volta\n",
        "3149 gypsy\n",
        "3150 pare\n",
        "3151 ko\n",
        "3152 struck\n",
        "3153 deinen\n",
        "3154"
       ]
      },
      {
       "output_type": "stream",
       "stream": "stdout",
       "text": [
        " chip\n",
        "3155 ut\n",
        "3156 puls\n",
        "3157 scent\n",
        "3158 meinen\n",
        "3159"
       ]
      },
      {
       "output_type": "stream",
       "stream": "stdout",
       "text": [
        " lame\n",
        "3160 stir\n",
        "3161 chop\n",
        "3162 fuert\n",
        "3163"
       ]
      },
      {
       "output_type": "stream",
       "stream": "stdout",
       "text": [
        " sehen\n",
        "3164"
       ]
      },
      {
       "output_type": "stream",
       "stream": "stdout",
       "text": [
        " condemn\n",
        "3165 llena\n",
        "3166"
       ]
      },
      {
       "output_type": "stream",
       "stream": "stdout",
       "text": [
        " cleans\n",
        "3167 neither\n",
        "3168 buzz\n",
        "3169 tai\n",
        "3170 indian\n",
        "3171 muss\n",
        "3172"
       ]
      },
      {
       "output_type": "stream",
       "stream": "stdout",
       "text": [
        " enfant\n",
        "3173"
       ]
      },
      {
       "output_type": "stream",
       "stream": "stdout",
       "text": [
        " negra\n",
        "3174"
       ]
      },
      {
       "output_type": "stream",
       "stream": "stdout",
       "text": [
        " rub\n",
        "3175 prima\n",
        "3176 blowing\n",
        "3177 cancer\n",
        "3178 solitude\n",
        "3179 driven\n",
        "3180 kommer\n",
        "3181"
       ]
      },
      {
       "output_type": "stream",
       "stream": "stdout",
       "text": [
        " klein\n",
        "3182 sooner\n",
        "3183 success\n",
        "3184 media\n",
        "3185 viejo\n",
        "3186"
       ]
      },
      {
       "output_type": "stream",
       "stream": "stdout",
       "text": [
        " blacken\n",
        "3187 foreign\n",
        "3188 vuelta\n",
        "3189"
       ]
      },
      {
       "output_type": "stream",
       "stream": "stdout",
       "text": [
        " greater\n",
        "3190 source\n",
        "3191 boyfriend\n",
        "3192 medicine\n",
        "3193 rare\n",
        "3194 hago\n",
        "3195"
       ]
      },
      {
       "output_type": "stream",
       "stream": "stdout",
       "text": [
        " lace\n",
        "3196 december\n",
        "3197 colder\n",
        "3198 camera\n",
        "3199 quelqu\n",
        "3200"
       ]
      },
      {
       "output_type": "stream",
       "stream": "stdout",
       "text": [
        " bail\n",
        "3201 sagt\n",
        "3202"
       ]
      },
      {
       "output_type": "stream",
       "stream": "stdout",
       "text": [
        " vivr\n",
        "3203"
       ]
      },
      {
       "output_type": "stream",
       "stream": "stdout",
       "text": [
        " tool\n",
        "3204 oper\n",
        "3205"
       ]
      },
      {
       "output_type": "stream",
       "stream": "stdout",
       "text": [
        " criming\n",
        "3206"
       ]
      },
      {
       "output_type": "stream",
       "stream": "stdout",
       "text": [
        " having\n",
        "3207"
       ]
      },
      {
       "output_type": "stream",
       "stream": "stdout",
       "text": [
        " interest\n",
        "3208 paul\n",
        "3209 etre\n",
        "3210"
       ]
      },
      {
       "output_type": "stream",
       "stream": "stdout",
       "text": [
        " llega\n",
        "3211"
       ]
      },
      {
       "output_type": "stream",
       "stream": "stdout",
       "text": [
        " vet\n",
        "3212 runaway\n",
        "3213 slept\n",
        "3214 footstep\n",
        "3215 sixteen\n",
        "3216 fuerza\n",
        "3217"
       ]
      },
      {
       "output_type": "stream",
       "stream": "stdout",
       "text": [
        " priest\n",
        "3218 nana\n",
        "3219"
       ]
      },
      {
       "output_type": "stream",
       "stream": "stdout",
       "text": [
        " egg\n",
        "3220 intro\n",
        "3221 aussi\n",
        "3222"
       ]
      },
      {
       "output_type": "stream",
       "stream": "stdout",
       "text": [
        " realidad\n",
        "3223"
       ]
      },
      {
       "output_type": "stream",
       "stream": "stdout",
       "text": [
        " turning\n",
        "3224 alien\n",
        "3225 vengeance\n",
        "3226 kannst\n",
        "3227"
       ]
      },
      {
       "output_type": "stream",
       "stream": "stdout",
       "text": [
        " dejar\n",
        "3228"
       ]
      },
      {
       "output_type": "stream",
       "stream": "stdout",
       "text": [
        " stake\n",
        "3229 dias\n",
        "3230 sonn\n",
        "3231"
       ]
      },
      {
       "output_type": "stream",
       "stream": "stdout",
       "text": [
        " noir\n",
        "3232"
       ]
      },
      {
       "output_type": "stream",
       "stream": "stdout",
       "text": [
        " sooth\n",
        "3233 cuanto\n",
        "3234"
       ]
      },
      {
       "output_type": "stream",
       "stream": "stdout",
       "text": [
        " rein\n",
        "3235 bara\n",
        "3236"
       ]
      },
      {
       "output_type": "stream",
       "stream": "stdout",
       "text": [
        " watching\n",
        "3237 sentido\n",
        "3238"
       ]
      },
      {
       "output_type": "stream",
       "stream": "stdout",
       "text": [
        " peel\n",
        "3239 stormy\n",
        "3240 player\n",
        "3241 dinner\n",
        "3242 hardest\n",
        "3243 respons\n",
        "3244"
       ]
      },
      {
       "output_type": "stream",
       "stream": "stdout",
       "text": [
        " juego\n",
        "3245"
       ]
      },
      {
       "output_type": "stream",
       "stream": "stdout",
       "text": [
        " worm\n",
        "3246 tak\n",
        "3247"
       ]
      },
      {
       "output_type": "stream",
       "stream": "stdout",
       "text": [
        " aye\n",
        "3248"
       ]
      },
      {
       "output_type": "stream",
       "stream": "stdout",
       "text": [
        " ar.1\n",
        "3249"
       ]
      },
      {
       "output_type": "stream",
       "stream": "stdout",
       "text": [
        " perhaps\n",
        "3250 dizer\n",
        "3251"
       ]
      },
      {
       "output_type": "stream",
       "stream": "stdout",
       "text": [
        " orlean\n",
        "3252"
       ]
      },
      {
       "output_type": "stream",
       "stream": "stdout",
       "text": [
        " blond\n",
        "3253 critical\n",
        "3254 stomach\n",
        "3255 niemand\n",
        "3256"
       ]
      },
      {
       "output_type": "stream",
       "stream": "stdout",
       "text": [
        " toast\n",
        "3257 oye\n",
        "3258"
       ]
      },
      {
       "output_type": "stream",
       "stream": "stdout",
       "text": [
        " bug\n",
        "3259 crucify\n",
        "3260 sailor\n",
        "3261 steam\n",
        "3262 clever\n",
        "3263 clause\n",
        "3264 uncle\n",
        "3265 gravity\n",
        "3266 chica\n",
        "3267"
       ]
      },
      {
       "output_type": "stream",
       "stream": "stdout",
       "text": [
        " reap\n",
        "3268 sento\n",
        "3269"
       ]
      },
      {
       "output_type": "stream",
       "stream": "stdout",
       "text": [
        " farm\n",
        "3270 opinion\n",
        "3271 estamo\n",
        "3272"
       ]
      },
      {
       "output_type": "stream",
       "stream": "stdout",
       "text": [
        " whom\n",
        "3273"
       ]
      },
      {
       "output_type": "stream",
       "stream": "stdout",
       "text": [
        " blir\n",
        "3274"
       ]
      },
      {
       "output_type": "stream",
       "stream": "stdout",
       "text": [
        " grasp\n",
        "3275 mamma\n",
        "3276 tore\n",
        "3277 dale\n",
        "3278 hurricane\n",
        "3279 mesmo\n",
        "3280"
       ]
      },
      {
       "output_type": "stream",
       "stream": "stdout",
       "text": [
        " thief\n",
        "3281 za\n",
        "3282"
       ]
      },
      {
       "output_type": "stream",
       "stream": "stdout",
       "text": [
        " tuoi\n",
        "3283"
       ]
      },
      {
       "output_type": "stream",
       "stream": "stdout",
       "text": [
        " vibe\n",
        "3284 shiny\n",
        "3285 death.1\n",
        "3286"
       ]
      },
      {
       "output_type": "stream",
       "stream": "stdout",
       "text": [
        " sidewalk\n",
        "3287 passa\n",
        "3288"
       ]
      },
      {
       "output_type": "stream",
       "stream": "stdout",
       "text": [
        " conscious\n",
        "3289 glove\n",
        "3290 perform\n",
        "3291 rain.1\n",
        "3292"
       ]
      },
      {
       "output_type": "stream",
       "stream": "stdout",
       "text": [
        " winner\n",
        "3293 consequence\n",
        "3294 cantando\n",
        "3295"
       ]
      },
      {
       "output_type": "stream",
       "stream": "stdout",
       "text": [
        " bleibt\n",
        "3296"
       ]
      },
      {
       "output_type": "stream",
       "stream": "stdout",
       "text": [
        " buscar\n",
        "3297"
       ]
      },
      {
       "output_type": "stream",
       "stream": "stdout",
       "text": [
        " sentimiento\n",
        "3298"
       ]
      },
      {
       "output_type": "stream",
       "stream": "stdout",
       "text": [
        " disappoint\n",
        "3299 ann\n",
        "3300"
       ]
      },
      {
       "output_type": "stream",
       "stream": "stdout",
       "text": [
        " lamor\n",
        "3301"
       ]
      },
      {
       "output_type": "stream",
       "stream": "stdout",
       "text": [
        " oss\n",
        "3302 amant\n",
        "3303"
       ]
      },
      {
       "output_type": "stream",
       "stream": "stdout",
       "text": [
        " ki\n",
        "3304 zo\n",
        "3305"
       ]
      },
      {
       "output_type": "stream",
       "stream": "stdout",
       "text": [
        " jede\n",
        "3306"
       ]
      },
      {
       "output_type": "stream",
       "stream": "stdout",
       "text": [
        " satellite\n",
        "3307 tattoo\n",
        "3308 muito\n",
        "3309"
       ]
      },
      {
       "output_type": "stream",
       "stream": "stdout",
       "text": [
        " weit\n",
        "3310"
       ]
      },
      {
       "output_type": "stream",
       "stream": "stdout",
       "text": [
        " tas\n",
        "3311 deg\n",
        "3312"
       ]
      },
      {
       "output_type": "stream",
       "stream": "stdout",
       "text": [
        " usual\n",
        "3313 hecho\n",
        "3314"
       ]
      },
      {
       "output_type": "stream",
       "stream": "stdout",
       "text": [
        " cocaine\n",
        "3315 tot\n",
        "3316 tuesday\n",
        "3317 tension\n",
        "3318 rout\n",
        "3319 educ\n",
        "3320"
       ]
      },
      {
       "output_type": "stream",
       "stream": "stdout",
       "text": [
        " bitt\n",
        "3321 zombie\n",
        "3322 ohoh\n",
        "3323"
       ]
      },
      {
       "output_type": "stream",
       "stream": "stdout",
       "text": [
        " mieux\n",
        "3324"
       ]
      },
      {
       "output_type": "stream",
       "stream": "stdout",
       "text": [
        " fury\n",
        "3325 alter\n",
        "3326 lend\n",
        "3327 valu\n",
        "3328"
       ]
      },
      {
       "output_type": "stream",
       "stream": "stdout",
       "text": [
        " ainda\n",
        "3329"
       ]
      },
      {
       "output_type": "stream",
       "stream": "stdout",
       "text": [
        " coal\n",
        "3330 ti.1\n",
        "3331"
       ]
      },
      {
       "output_type": "stream",
       "stream": "stdout",
       "text": [
        " mommy\n",
        "3332 velvet\n",
        "3333 blanket\n",
        "3334 drama\n",
        "3335 bowl\n",
        "3336 orange\n",
        "3337 amart\n",
        "3338"
       ]
      },
      {
       "output_type": "stream",
       "stream": "stdout",
       "text": [
        " uhh\n",
        "3339"
       ]
      },
      {
       "output_type": "stream",
       "stream": "stdout",
       "text": [
        " reborn\n",
        "3340 angst\n",
        "3341 lotta\n",
        "3342"
       ]
      },
      {
       "output_type": "stream",
       "stream": "stdout",
       "text": [
        " lying\n",
        "3343 especially\n",
        "3344 conceale\n",
        "3345"
       ]
      },
      {
       "output_type": "stream",
       "stream": "stdout",
       "text": [
        " rid\n",
        "3346 ideal\n",
        "3347 dal\n",
        "3348"
       ]
      },
      {
       "output_type": "stream",
       "stream": "stdout",
       "text": [
        " sos\n",
        "3349 willi\n",
        "3350"
       ]
      },
      {
       "output_type": "stream",
       "stream": "stdout",
       "text": [
        " sentence\n",
        "3351 tete\n",
        "3352"
       ]
      },
      {
       "output_type": "stream",
       "stream": "stdout",
       "text": [
        " dell\n",
        "3353"
       ]
      },
      {
       "output_type": "stream",
       "stream": "stdout",
       "text": [
        " adio.1\n",
        "3354"
       ]
      },
      {
       "output_type": "stream",
       "stream": "stdout",
       "text": [
        " tar\n",
        "3355 button\n",
        "3356 nao.1\n",
        "3357"
       ]
      },
      {
       "output_type": "stream",
       "stream": "stdout",
       "text": [
        " strap\n",
        "3358 meinem\n",
        "3359"
       ]
      },
      {
       "output_type": "stream",
       "stream": "stdout",
       "text": [
        " display\n",
        "3360 aan\n",
        "3361"
       ]
      },
      {
       "output_type": "stream",
       "stream": "stdout",
       "text": [
        " fra\n",
        "3362"
       ]
      },
      {
       "output_type": "stream",
       "stream": "stdout",
       "text": [
        " ihn\n",
        "3363"
       ]
      },
      {
       "output_type": "stream",
       "stream": "stdout",
       "text": [
        " tap\n",
        "3364 sagen\n",
        "3365"
       ]
      },
      {
       "output_type": "stream",
       "stream": "stdout",
       "text": [
        " miei\n",
        "3366"
       ]
      },
      {
       "output_type": "stream",
       "stream": "stdout",
       "text": [
        " hon\n",
        "3367"
       ]
      },
      {
       "output_type": "stream",
       "stream": "stdout",
       "text": [
        " signal\n",
        "3368 sul\n",
        "3369"
       ]
      },
      {
       "output_type": "stream",
       "stream": "stdout",
       "text": [
        " shook\n",
        "3370 dot\n",
        "3371 jewel\n",
        "3372 himmel\n",
        "3373"
       ]
      },
      {
       "output_type": "stream",
       "stream": "stdout",
       "text": [
        " vine\n",
        "3374 redeem\n",
        "3375 musica\n",
        "3376"
       ]
      },
      {
       "output_type": "stream",
       "stream": "stdout",
       "text": [
        " cow\n",
        "3377 einer\n",
        "3378"
       ]
      },
      {
       "output_type": "stream",
       "stream": "stdout",
       "text": [
        " terminate\n",
        "3379 meus\n",
        "3380"
       ]
      },
      {
       "output_type": "stream",
       "stream": "stdout",
       "text": [
        " pattern\n",
        "3381 ur\n",
        "3382 throughout\n",
        "3383 younger\n",
        "3384 coin\n",
        "3385 verso\n",
        "3386 deaf\n",
        "3387 ahhh\n",
        "3388"
       ]
      },
      {
       "output_type": "stream",
       "stream": "stdout",
       "text": [
        " expos\n",
        "3389 compass\n",
        "3390 person.1\n",
        "3391"
       ]
      },
      {
       "output_type": "stream",
       "stream": "stdout",
       "text": [
        " donna\n",
        "3392 num\n",
        "3393"
       ]
      },
      {
       "output_type": "stream",
       "stream": "stdout",
       "text": [
        " describe\n",
        "3394 lower\n",
        "3395 brush\n",
        "3396 happiness\n",
        "3397 mm\n",
        "3398 outro\n",
        "3399"
       ]
      },
      {
       "output_type": "stream",
       "stream": "stdout",
       "text": [
        " fazer\n",
        "3400"
       ]
      },
      {
       "output_type": "stream",
       "stream": "stdout",
       "text": [
        " tangle\n",
        "3401 instinct\n",
        "3402 effect\n",
        "3403 approach\n",
        "3404 breast\n",
        "3405 volt\n",
        "3406 naar\n",
        "3407"
       ]
      },
      {
       "output_type": "stream",
       "stream": "stdout",
       "text": [
        " dart\n",
        "3408 wil\n",
        "3409"
       ]
      },
      {
       "output_type": "stream",
       "stream": "stdout",
       "text": [
        " frank\n",
        "3410 ow\n",
        "3411"
       ]
      },
      {
       "output_type": "stream",
       "stream": "stdout",
       "text": [
        " reply\n",
        "3412 provide\n",
        "3413 fim\n",
        "3414"
       ]
      },
      {
       "output_type": "stream",
       "stream": "stdout",
       "text": [
        " declare\n",
        "3415 nuclear\n",
        "3416 swore\n",
        "3417 ez\n",
        "3418"
       ]
      },
      {
       "output_type": "stream",
       "stream": "stdout",
       "text": [
        " llama\n",
        "3419 vino\n",
        "3420 estan\n",
        "3421"
       ]
      },
      {
       "output_type": "stream",
       "stream": "stdout",
       "text": [
        " solve\n",
        "3422 piensa\n",
        "3423"
       ]
      },
      {
       "output_type": "stream",
       "stream": "stdout",
       "text": [
        " steht\n",
        "3424"
       ]
      },
      {
       "output_type": "stream",
       "stream": "stdout",
       "text": [
        " distort\n",
        "3425 lair\n",
        "3426 rubber\n",
        "3427 factory\n",
        "3428 post\n",
        "3429 artist\n",
        "3430 anni\n",
        "3431"
       ]
      },
      {
       "output_type": "stream",
       "stream": "stdout",
       "text": [
        " peter\n",
        "3432 biggest\n",
        "3433 brutal\n",
        "3434 extreme\n",
        "3435 english\n",
        "3436 jij\n",
        "3437"
       ]
      },
      {
       "output_type": "stream",
       "stream": "stdout",
       "text": [
        " jerk\n",
        "3438 aun\n",
        "3439"
       ]
      },
      {
       "output_type": "stream",
       "stream": "stdout",
       "text": [
        " calma\n",
        "3440"
       ]
      },
      {
       "output_type": "stream",
       "stream": "stdout",
       "text": [
        " laiss\n",
        "3441"
       ]
      },
      {
       "output_type": "stream",
       "stream": "stdout",
       "text": [
        " debt\n",
        "3442 perch\n",
        "3443 shield\n",
        "3444 mia.1\n",
        "3445"
       ]
      },
      {
       "output_type": "stream",
       "stream": "stdout",
       "text": [
        " esperanza\n",
        "3446"
       ]
      },
      {
       "output_type": "stream",
       "stream": "stdout",
       "text": [
        " haar\n",
        "3447"
       ]
      },
      {
       "output_type": "stream",
       "stream": "stdout",
       "text": [
        " doi\n",
        "3448 redemption\n",
        "3449 model\n",
        "3450 sido\n",
        "3451"
       ]
      },
      {
       "output_type": "stream",
       "stream": "stdout",
       "text": [
        " weigh\n",
        "3452 resurrect\n",
        "3453 alto\n",
        "3454 curl\n",
        "3455 cent\n",
        "3456 june\n",
        "3457 slice\n",
        "3458 mita\n",
        "3459"
       ]
      },
      {
       "output_type": "stream",
       "stream": "stdout",
       "text": [
        " sha\n",
        "3460"
       ]
      },
      {
       "output_type": "stream",
       "stream": "stdout",
       "text": [
        " olen\n",
        "3461"
       ]
      },
      {
       "output_type": "stream",
       "stream": "stdout",
       "text": [
        " insecure\n",
        "3462 coward\n",
        "3463 ra\n",
        "3464 usa\n",
        "3465 finn\n",
        "3466 georgia\n",
        "3467 estou\n",
        "3468"
       ]
      },
      {
       "output_type": "stream",
       "stream": "stdout",
       "text": [
        " cute\n",
        "3469 cruis\n",
        "3470"
       ]
      },
      {
       "output_type": "stream",
       "stream": "stdout",
       "text": [
        " mexico\n",
        "3471 invade\n",
        "3472 jealousy\n",
        "3473 futuro\n",
        "3474"
       ]
      },
      {
       "output_type": "stream",
       "stream": "stdout",
       "text": [
        " fuist\n",
        "3475"
       ]
      },
      {
       "output_type": "stream",
       "stream": "stdout",
       "text": [
        " dejo\n",
        "3476"
       ]
      },
      {
       "output_type": "stream",
       "stream": "stdout",
       "text": [
        " halo\n",
        "3477 tras\n",
        "3478"
       ]
      },
      {
       "output_type": "stream",
       "stream": "stdout",
       "text": [
        " beaten\n",
        "3479 luego\n",
        "3480"
       ]
      },
      {
       "output_type": "stream",
       "stream": "stdout",
       "text": [
        " shelf\n",
        "3481 motive\n",
        "3482 twelve\n",
        "3483 it.3\n",
        "3484"
       ]
      },
      {
       "output_type": "stream",
       "stream": "stdout",
       "text": [
        " rumor\n",
        "3485 tennesse\n",
        "3486"
       ]
      },
      {
       "output_type": "stream",
       "stream": "stdout",
       "text": [
        " swept\n",
        "3487 anna\n",
        "3488 jaim\n",
        "3489"
       ]
      },
      {
       "output_type": "stream",
       "stream": "stdout",
       "text": [
        " nosso\n",
        "3490"
       ]
      },
      {
       "output_type": "stream",
       "stream": "stdout",
       "text": [
        " nuh\n",
        "3491"
       ]
      },
      {
       "output_type": "stream",
       "stream": "stdout",
       "text": [
        " jama\n",
        "3492"
       ]
      },
      {
       "output_type": "stream",
       "stream": "stdout",
       "text": [
        " contain\n",
        "3493 nein\n",
        "3494"
       ]
      },
      {
       "output_type": "stream",
       "stream": "stdout",
       "text": [
        " wort\n",
        "3495 ate.1\n",
        "3496"
       ]
      },
      {
       "output_type": "stream",
       "stream": "stdout",
       "text": [
        " sleigh\n",
        "3497 schon.1\n",
        "3498"
       ]
      },
      {
       "output_type": "stream",
       "stream": "stdout",
       "text": [
        " champagne\n",
        "3499 aun.1\n",
        "3500"
       ]
      },
      {
       "output_type": "stream",
       "stream": "stdout",
       "text": [
        " defense\n",
        "3501 deceit\n",
        "3502 weird\n",
        "3503 relief\n",
        "3504 ta.1\n",
        "3505"
       ]
      },
      {
       "output_type": "stream",
       "stream": "stdout",
       "text": [
        " product\n",
        "3506 dip\n",
        "3507 zwei\n",
        "3508"
       ]
      },
      {
       "output_type": "stream",
       "stream": "stdout",
       "text": [
        " 12\n",
        "3509 gesicht\n",
        "3510"
       ]
      },
      {
       "output_type": "stream",
       "stream": "stdout",
       "text": [
        " singer\n",
        "3511 vera\n",
        "3512"
       ]
      },
      {
       "output_type": "stream",
       "stream": "stdout",
       "text": [
        " vielleicht\n",
        "3513"
       ]
      },
      {
       "output_type": "stream",
       "stream": "stdout",
       "text": [
        " spi\n",
        "3514"
       ]
      },
      {
       "output_type": "stream",
       "stream": "stdout",
       "text": [
        " target\n",
        "3515 souvenir\n",
        "3516 stereo\n",
        "3517 bij\n",
        "3518"
       ]
      },
      {
       "output_type": "stream",
       "stream": "stdout",
       "text": [
        " rude\n",
        "3519 manera\n",
        "3520"
       ]
      },
      {
       "output_type": "stream",
       "stream": "stdout",
       "text": [
        " ab\n",
        "3521 reli\n",
        "3522"
       ]
      },
      {
       "output_type": "stream",
       "stream": "stdout",
       "text": [
        " woh\n",
        "3523"
       ]
      },
      {
       "output_type": "stream",
       "stream": "stdout",
       "text": [
        " harvest\n",
        "3524 corpo\n",
        "3525"
       ]
      },
      {
       "output_type": "stream",
       "stream": "stdout",
       "text": [
        " liquid\n",
        "3526 fucker\n",
        "3527 exit\n",
        "3528 sonho\n",
        "3529"
       ]
      },
      {
       "output_type": "stream",
       "stream": "stdout",
       "text": [
        " 20\n",
        "3530 woe\n",
        "3531 web\n",
        "3532 casi\n",
        "3533"
       ]
      },
      {
       "output_type": "stream",
       "stream": "stdout",
       "text": [
        " facil\n",
        "3534"
       ]
      },
      {
       "output_type": "stream",
       "stream": "stdout",
       "text": [
        " princess\n",
        "3535 einmal\n",
        "3536"
       ]
      },
      {
       "output_type": "stream",
       "stream": "stdout",
       "text": [
        " muscle\n",
        "3537 booty\n",
        "3538 blur\n",
        "3539 ii\n",
        "3540 ahi\n",
        "3541"
       ]
      },
      {
       "output_type": "stream",
       "stream": "stdout",
       "text": [
        " duck\n",
        "3542 respirar\n",
        "3543"
       ]
      },
      {
       "output_type": "stream",
       "stream": "stdout",
       "text": [
        " mina\n",
        "3544 evid\n",
        "3545"
       ]
      },
      {
       "output_type": "stream",
       "stream": "stdout",
       "text": [
        " idiot\n",
        "3546 breakdown\n",
        "3547 liber\n",
        "3548"
       ]
      },
      {
       "output_type": "stream",
       "stream": "stdout",
       "text": [
        " sow\n",
        "3549 georg\n",
        "3550"
       ]
      },
      {
       "output_type": "stream",
       "stream": "stdout",
       "text": [
        " dans\n",
        "3551"
       ]
      },
      {
       "output_type": "stream",
       "stream": "stdout",
       "text": [
        " einem\n",
        "3552"
       ]
      },
      {
       "output_type": "stream",
       "stream": "stdout",
       "text": [
        " flying\n",
        "3553 symphony\n",
        "3554 ficar\n",
        "3555"
       ]
      },
      {
       "output_type": "stream",
       "stream": "stdout",
       "text": [
        " automate\n",
        "3556 robot\n",
        "3557 igen\n",
        "3558"
       ]
      },
      {
       "output_type": "stream",
       "stream": "stdout",
       "text": [
        " realm\n",
        "3559 practice\n",
        "3560 distract\n",
        "3561 extrano\n",
        "3562"
       ]
      },
      {
       "output_type": "stream",
       "stream": "stdout",
       "text": [
        " judgment\n",
        "3563 sane\n",
        "3564 april\n",
        "3565 caer\n",
        "3566"
       ]
      },
      {
       "output_type": "stream",
       "stream": "stdout",
       "text": [
        " gear\n",
        "3567 vicious\n",
        "3568 womb\n",
        "3569 visto\n",
        "3570"
       ]
      },
      {
       "output_type": "stream",
       "stream": "stdout",
       "text": [
        " h\n",
        "3571 major\n",
        "3572 willow\n",
        "3573 neighborhood\n",
        "3574 static\n",
        "3575 wealth\n",
        "3576 reel\n",
        "3577 yer\n",
        "3578"
       ]
      },
      {
       "output_type": "stream",
       "stream": "stdout",
       "text": [
        " isol\n",
        "3579"
       ]
      },
      {
       "output_type": "stream",
       "stream": "stdout",
       "text": [
        " joint\n",
        "3580 donde\n",
        "3581"
       ]
      },
      {
       "output_type": "stream",
       "stream": "stdout",
       "text": [
        " venus\n",
        "3582 dijo\n",
        "3583"
       ]
      },
      {
       "output_type": "stream",
       "stream": "stdout",
       "text": [
        " every.1\n",
        "3584"
       ]
      },
      {
       "output_type": "stream",
       "stream": "stdout",
       "text": [
        " wolf.1\n",
        "3585"
       ]
      },
      {
       "output_type": "stream",
       "stream": "stdout",
       "text": [
        " ventana\n",
        "3586"
       ]
      },
      {
       "output_type": "stream",
       "stream": "stdout",
       "text": [
        " lala\n",
        "3587"
       ]
      },
      {
       "output_type": "stream",
       "stream": "stdout",
       "text": [
        " carino\n",
        "3588"
       ]
      },
      {
       "output_type": "stream",
       "stream": "stdout",
       "text": [
        " dinero\n",
        "3589 africa\n",
        "3590 coraz\n",
        "3591"
       ]
      },
      {
       "output_type": "stream",
       "stream": "stdout",
       "text": [
        " homi\n",
        "3592"
       ]
      },
      {
       "output_type": "stream",
       "stream": "stdout",
       "text": [
        " sock\n",
        "3593 arena\n",
        "3594 support\n",
        "3595 credit\n",
        "3596 regga\n",
        "3597"
       ]
      },
      {
       "output_type": "stream",
       "stream": "stdout",
       "text": [
        " repres\n",
        "3598"
       ]
      },
      {
       "output_type": "stream",
       "stream": "stdout",
       "text": [
        " miro\n",
        "3599 matin\n",
        "3600"
       ]
      },
      {
       "output_type": "stream",
       "stream": "stdout",
       "text": [
        " sleepy\n",
        "3601 worthless\n",
        "3602 video\n",
        "3603 grief.1\n",
        "3604"
       ]
      },
      {
       "output_type": "stream",
       "stream": "stdout",
       "text": [
        " meiner\n",
        "3605"
       ]
      },
      {
       "output_type": "stream",
       "stream": "stdout",
       "text": [
        " branch\n",
        "3606 achieve\n",
        "3607 denk\n",
        "3608"
       ]
      },
      {
       "output_type": "stream",
       "stream": "stdout",
       "text": [
        " viela\n",
        "3609"
       ]
      },
      {
       "output_type": "stream",
       "stream": "stdout",
       "text": [
        " demain\n",
        "3610"
       ]
      },
      {
       "output_type": "stream",
       "stream": "stdout",
       "text": [
        " maze\n",
        "3611 knocking\n",
        "3612 correct\n",
        "3613 dial\n",
        "3614 file\n",
        "3615 misma\n",
        "3616"
       ]
      },
      {
       "output_type": "stream",
       "stream": "stdout",
       "text": [
        " soi\n",
        "3617"
       ]
      },
      {
       "output_type": "stream",
       "stream": "stdout",
       "text": [
        " malo\n",
        "3618"
       ]
      },
      {
       "output_type": "stream",
       "stream": "stdout",
       "text": [
        " filthy\n",
        "3619 jim\n",
        "3620"
       ]
      },
      {
       "output_type": "stream",
       "stream": "stdout",
       "text": [
        " juice\n",
        "3621 convict\n",
        "3622 cycle\n",
        "3623 ceux\n",
        "3624"
       ]
      },
      {
       "output_type": "stream",
       "stream": "stdout",
       "text": [
        " perdu\n",
        "3625"
       ]
      },
      {
       "output_type": "stream",
       "stream": "stdout",
       "text": [
        " ello\n",
        "3626"
       ]
      },
      {
       "output_type": "stream",
       "stream": "stdout",
       "text": [
        " disturb\n",
        "3627 pein\n",
        "3628"
       ]
      },
      {
       "output_type": "stream",
       "stream": "stdout",
       "text": [
        " chocolate\n",
        "3629 rapper\n",
        "3630 olvid\n",
        "3631"
       ]
      },
      {
       "output_type": "stream",
       "stream": "stdout",
       "text": [
        " forgiven\n",
        "3632 sinn\n",
        "3633"
       ]
      },
      {
       "output_type": "stream",
       "stream": "stdout",
       "text": [
        " tend\n",
        "3634 corpor\n",
        "3635"
       ]
      },
      {
       "output_type": "stream",
       "stream": "stdout",
       "text": [
        " tunnel\n",
        "3636 loca\n",
        "3637"
       ]
      },
      {
       "output_type": "stream",
       "stream": "stdout",
       "text": [
        " dai\n",
        "3638"
       ]
      },
      {
       "output_type": "stream",
       "stream": "stdout",
       "text": [
        " legend\n",
        "3639 dimension\n",
        "3640 tief\n",
        "3641"
       ]
      },
      {
       "output_type": "stream",
       "stream": "stdout",
       "text": [
        " idol\n",
        "3642 dying\n",
        "3643 forsaken\n",
        "3644 alla.1\n",
        "3645"
       ]
      },
      {
       "output_type": "stream",
       "stream": "stdout",
       "text": [
        " fella\n",
        "3646 physical\n",
        "3647 matar\n",
        "3648"
       ]
      },
      {
       "output_type": "stream",
       "stream": "stdout",
       "text": [
        " tragic\n",
        "3649 gris\n",
        "3650 soll\n",
        "3651"
       ]
      },
      {
       "output_type": "stream",
       "stream": "stdout",
       "text": [
        " forti\n",
        "3652"
       ]
      },
      {
       "output_type": "stream",
       "stream": "stdout",
       "text": [
        " communicate\n",
        "3653 dough\n",
        "3654 england\n",
        "3655 denial\n",
        "3656 dar.1\n",
        "3657"
       ]
      },
      {
       "output_type": "stream",
       "stream": "stdout",
       "text": [
        " liv\n",
        "3658 local\n",
        "3659 algun\n",
        "3660"
       ]
      },
      {
       "output_type": "stream",
       "stream": "stdout",
       "text": [
        " urg\n",
        "3661"
       ]
      },
      {
       "output_type": "stream",
       "stream": "stdout",
       "text": [
        " ceu\n",
        "3662"
       ]
      },
      {
       "output_type": "stream",
       "stream": "stdout",
       "text": [
        " hijo\n",
        "3663"
       ]
      },
      {
       "output_type": "stream",
       "stream": "stdout",
       "text": [
        " taxi\n",
        "3664 ambit\n",
        "3665 voyage\n",
        "3666 locura\n",
        "3667"
       ]
      },
      {
       "output_type": "stream",
       "stream": "stdout",
       "text": [
        " mere\n",
        "3668 dull\n",
        "3669 unleash\n",
        "3670 tread\n",
        "3671 smoking\n",
        "3672 william\n",
        "3673"
       ]
      },
      {
       "output_type": "stream",
       "stream": "stdout",
       "text": [
        " gleam\n",
        "3674 civil\n",
        "3675 defy\n",
        "3676 haga\n",
        "3677"
       ]
      },
      {
       "output_type": "stream",
       "stream": "stdout",
       "text": [
        " amongst\n",
        "3678"
       ]
      },
      {
       "output_type": "stream",
       "stream": "stdout",
       "text": [
        " ob\n",
        "3679"
       ]
      },
      {
       "output_type": "stream",
       "stream": "stdout",
       "text": [
        " heed\n",
        "3680 bull\n",
        "3681 host\n",
        "3682 dieu\n",
        "3683"
       ]
      },
      {
       "output_type": "stream",
       "stream": "stdout",
       "text": [
        " village\n",
        "3684 unkind\n",
        "3685 altar\n",
        "3686 arriba\n",
        "3687"
       ]
      },
      {
       "output_type": "stream",
       "stream": "stdout",
       "text": [
        " sal\n",
        "3688"
       ]
      },
      {
       "output_type": "stream",
       "stream": "stdout",
       "text": [
        " lisa\n",
        "3689"
       ]
      },
      {
       "output_type": "stream",
       "stream": "stdout",
       "text": [
        " bunch\n",
        "3690 croi\n",
        "3691"
       ]
      },
      {
       "output_type": "stream",
       "stream": "stdout",
       "text": [
        " weiter\n",
        "3692"
       ]
      },
      {
       "output_type": "stream",
       "stream": "stdout",
       "text": [
        " pardon\n",
        "3693 aller\n",
        "3694"
       ]
      },
      {
       "output_type": "stream",
       "stream": "stdout",
       "text": [
        " despite\n",
        "3695 ignit\n",
        "3696"
       ]
      },
      {
       "output_type": "stream",
       "stream": "stdout",
       "text": [
        " cotton\n",
        "3697 nei\n",
        "3698"
       ]
      },
      {
       "output_type": "stream",
       "stream": "stdout",
       "text": [
        " dr\n",
        "3699"
       ]
      },
      {
       "output_type": "stream",
       "stream": "stdout",
       "text": [
        " verd\n",
        "3700"
       ]
      },
      {
       "output_type": "stream",
       "stream": "stdout",
       "text": [
        " phase\n",
        "3701 porta\n",
        "3702 gracia\n",
        "3703"
       ]
      },
      {
       "output_type": "stream",
       "stream": "stdout",
       "text": [
        " tue\n",
        "3704"
       ]
      },
      {
       "output_type": "stream",
       "stream": "stdout",
       "text": [
        " depoi\n",
        "3705"
       ]
      },
      {
       "output_type": "stream",
       "stream": "stdout",
       "text": [
        " link\n",
        "3706 intern\n",
        "3707 seventeen\n",
        "3708 decirt\n",
        "3709"
       ]
      },
      {
       "output_type": "stream",
       "stream": "stdout",
       "text": [
        " shes\n",
        "3710"
       ]
      },
      {
       "output_type": "stream",
       "stream": "stdout",
       "text": [
        " coffin\n",
        "3711 hound\n",
        "3712 deception\n",
        "3713 health\n",
        "3714 frei\n",
        "3715"
       ]
      },
      {
       "output_type": "stream",
       "stream": "stdout",
       "text": [
        " alibi\n",
        "3716 vengo\n",
        "3717"
       ]
      },
      {
       "output_type": "stream",
       "stream": "stdout",
       "text": [
        " bled\n",
        "3718 ruby\n",
        "3719 leaf\n",
        "3720 attempt\n",
        "3721 tienen\n",
        "3722"
       ]
      },
      {
       "output_type": "stream",
       "stream": "stdout",
       "text": [
        " crying.1\n",
        "3723"
       ]
      },
      {
       "output_type": "stream",
       "stream": "stdout",
       "text": [
        " suelo\n",
        "3724"
       ]
      },
      {
       "output_type": "stream",
       "stream": "stdout",
       "text": [
        " thumb\n",
        "3725 razon.1\n",
        "3726"
       ]
      },
      {
       "output_type": "stream",
       "stream": "stdout",
       "text": [
        " rode\n",
        "3727 sober\n",
        "3728 buen\n",
        "3729"
       ]
      },
      {
       "output_type": "stream",
       "stream": "stdout",
       "text": [
        " pela\n",
        "3730"
       ]
      },
      {
       "output_type": "stream",
       "stream": "stdout",
       "text": [
        " cum\n",
        "3731 joka\n",
        "3732"
       ]
      },
      {
       "output_type": "stream",
       "stream": "stdout",
       "text": [
        " ia\n",
        "3733 crimson\n",
        "3734 height\n",
        "3735 frost\n",
        "3736 acid\n",
        "3737 glaub\n",
        "3738"
       ]
      },
      {
       "output_type": "stream",
       "stream": "stdout",
       "text": [
        " net\n",
        "3739 pimp\n",
        "3740 empezar\n",
        "3741"
       ]
      },
      {
       "output_type": "stream",
       "stream": "stdout",
       "text": [
        " font\n",
        "3742 selbst\n",
        "3743"
       ]
      },
      {
       "output_type": "stream",
       "stream": "stdout",
       "text": [
        " shepherd\n",
        "3744 hunter\n",
        "3745 jive\n",
        "3746 prevail\n",
        "3747 jaw\n",
        "3748 circus\n",
        "3749 sia\n",
        "3750"
       ]
      },
      {
       "output_type": "stream",
       "stream": "stdout",
       "text": [
        " background\n",
        "3751 fairy\n",
        "3752 suffer.1\n",
        "3753"
       ]
      },
      {
       "output_type": "stream",
       "stream": "stdout",
       "text": [
        " quieren\n",
        "3754"
       ]
      },
      {
       "output_type": "stream",
       "stream": "stdout",
       "text": [
        " symbol\n",
        "3755 sabor\n",
        "3756"
       ]
      },
      {
       "output_type": "stream",
       "stream": "stdout",
       "text": [
        " geh\n",
        "3757"
       ]
      },
      {
       "output_type": "stream",
       "stream": "stdout",
       "text": [
        " sulla\n",
        "3758"
       ]
      },
      {
       "output_type": "stream",
       "stream": "stdout",
       "text": [
        " jeden\n",
        "3759"
       ]
      },
      {
       "output_type": "stream",
       "stream": "stdout",
       "text": [
        " peak\n",
        "3760 plot\n",
        "3761 guarda\n",
        "3762"
       ]
      },
      {
       "output_type": "stream",
       "stream": "stdout",
       "text": [
        " blanco\n",
        "3763"
       ]
      },
      {
       "output_type": "stream",
       "stream": "stdout",
       "text": [
        " manage\n",
        "3764 safety\n",
        "3765 sleepless\n",
        "3766 chez\n",
        "3767"
       ]
      },
      {
       "output_type": "stream",
       "stream": "stdout",
       "text": [
        " liquor\n",
        "3768 narrow\n",
        "3769 explosion\n",
        "3770 object\n",
        "3771 there.1\n",
        "3772"
       ]
      },
      {
       "output_type": "stream",
       "stream": "stdout",
       "text": [
        " meal\n",
        "3773 unholy\n",
        "3774 nos.1\n",
        "3775"
       ]
      },
      {
       "output_type": "stream",
       "stream": "stdout",
       "text": [
        " deiner\n",
        "3776"
       ]
      },
      {
       "output_type": "stream",
       "stream": "stdout",
       "text": [
        " untrue\n",
        "3777 wah\n",
        "3778"
       ]
      },
      {
       "output_type": "stream",
       "stream": "stdout",
       "text": [
        " fountain\n",
        "3779 o.1\n",
        "3780"
       ]
      },
      {
       "output_type": "stream",
       "stream": "stdout",
       "text": [
        " penso\n",
        "3781"
       ]
      },
      {
       "output_type": "stream",
       "stream": "stdout",
       "text": [
        " spider\n",
        "3782 mata\n",
        "3783"
       ]
      },
      {
       "output_type": "stream",
       "stream": "stdout",
       "text": [
        " inde\n",
        "3784"
       ]
      },
      {
       "output_type": "stream",
       "stream": "stdout",
       "text": [
        " poet\n",
        "3785 flicker\n",
        "3786 vote\n",
        "3787 tank\n",
        "3788 salli\n",
        "3789"
       ]
      },
      {
       "output_type": "stream",
       "stream": "stdout",
       "text": [
        " scale\n",
        "3790 halfway\n",
        "3791 jsui\n",
        "3792"
       ]
      },
      {
       "output_type": "stream",
       "stream": "stdout",
       "text": [
        " traum\n",
        "3793"
       ]
      },
      {
       "output_type": "stream",
       "stream": "stdout",
       "text": [
        " keeping\n",
        "3794 foe\n",
        "3795 honesty\n",
        "3796 creer\n",
        "3797"
       ]
      },
      {
       "output_type": "stream",
       "stream": "stdout",
       "text": [
        " missing\n",
        "3798 torch\n",
        "3799 infinity\n",
        "3800 nina\n",
        "3801 war.2\n",
        "3802"
       ]
      },
      {
       "output_type": "stream",
       "stream": "stdout",
       "text": [
        " haus\n",
        "3803"
       ]
      },
      {
       "output_type": "stream",
       "stream": "stdout",
       "text": [
        " holler\n",
        "3804 gott\n",
        "3805"
       ]
      },
      {
       "output_type": "stream",
       "stream": "stdout",
       "text": [
        " attend\n",
        "3806 skill\n",
        "3807 ref\n",
        "3808 atom\n",
        "3809 bas\n",
        "3810 scorn\n",
        "3811 cap\n",
        "3812 hem\n",
        "3813 keiner\n",
        "3814"
       ]
      },
      {
       "output_type": "stream",
       "stream": "stdout",
       "text": [
        " olhar\n",
        "3815"
       ]
      },
      {
       "output_type": "stream",
       "stream": "stdout",
       "text": [
        " vibrate\n",
        "3816 faint\n",
        "3817 nen\n",
        "3818"
       ]
      },
      {
       "output_type": "stream",
       "stream": "stdout",
       "text": [
        " office\n",
        "3819 pave\n",
        "3820 peux\n",
        "3821"
       ]
      },
      {
       "output_type": "stream",
       "stream": "stdout",
       "text": [
        " stroll\n",
        "3822 piu.1\n",
        "3823"
       ]
      },
      {
       "output_type": "stream",
       "stream": "stdout",
       "text": [
        " bello\n",
        "3824"
       ]
      },
      {
       "output_type": "stream",
       "stream": "stdout",
       "text": [
        " ahi.1\n",
        "3825"
       ]
      },
      {
       "output_type": "stream",
       "stream": "stdout",
       "text": [
        " voodoo\n",
        "3826 cetait\n",
        "3827"
       ]
      },
      {
       "output_type": "stream",
       "stream": "stdout",
       "text": [
        " caricia\n",
        "3828"
       ]
      },
      {
       "output_type": "stream",
       "stream": "stdout",
       "text": [
        " knot\n",
        "3829 thirty\n",
        "3830 thigh\n",
        "3831 tuyo\n",
        "3832"
       ]
      },
      {
       "output_type": "stream",
       "stream": "stdout",
       "text": [
        " tenga\n",
        "3833"
       ]
      },
      {
       "output_type": "stream",
       "stream": "stdout",
       "text": [
        " process\n",
        "3834 duro\n",
        "3835"
       ]
      },
      {
       "output_type": "stream",
       "stream": "stdout",
       "text": [
        " estribillo\n",
        "3836"
       ]
      },
      {
       "output_type": "stream",
       "stream": "stdout",
       "text": [
        " gern\n",
        "3837"
       ]
      },
      {
       "output_type": "stream",
       "stream": "stdout",
       "text": [
        " valentine\n",
        "3838 fright\n",
        "3839 spiritual\n",
        "3840 stock\n",
        "3841 fiction\n",
        "3842 senti\n",
        "3843 memphi\n",
        "3844"
       ]
      },
      {
       "output_type": "stream",
       "stream": "stdout",
       "text": [
        " padr\n",
        "3845"
       ]
      },
      {
       "output_type": "stream",
       "stream": "stdout",
       "text": [
        " que.2\n",
        "3846"
       ]
      },
      {
       "output_type": "stream",
       "stream": "stdout",
       "text": [
        " olla\n",
        "3847 overwhelm\n",
        "3848 mami\n",
        "3849"
       ]
      },
      {
       "output_type": "stream",
       "stream": "stdout",
       "text": [
        " glimps\n",
        "3850"
       ]
      },
      {
       "output_type": "stream",
       "stream": "stdout",
       "text": [
        " friendship\n",
        "3851 vampire\n",
        "3852 paralyze\n",
        "3853 lifeless\n",
        "3854 coke\n",
        "3855 hardcore\n",
        "3856 pistol\n",
        "3857 bush\n",
        "3858 cherish\n",
        "3859 spiral\n",
        "3860 infinity.1\n",
        "3861"
       ]
      },
      {
       "output_type": "stream",
       "stream": "stdout",
       "text": [
        " weave\n",
        "3862 sack\n",
        "3863 bam\n",
        "3864 hacen\n",
        "3865"
       ]
      },
      {
       "output_type": "stream",
       "stream": "stdout",
       "text": [
        " dalla\n",
        "3866"
       ]
      },
      {
       "output_type": "stream",
       "stream": "stdout",
       "text": [
        " inna\n",
        "3867"
       ]
      },
      {
       "output_type": "stream",
       "stream": "stdout",
       "text": [
        " chin\n",
        "3868 parasite\n",
        "3869 contact\n",
        "3870 dado\n",
        "3871 losing\n",
        "3872 etait\n",
        "3873"
       ]
      },
      {
       "output_type": "stream",
       "stream": "stdout",
       "text": [
        " fleur\n",
        "3874"
       ]
      },
      {
       "output_type": "stream",
       "stream": "stdout",
       "text": [
        " raus\n",
        "3875"
       ]
      },
      {
       "output_type": "stream",
       "stream": "stdout",
       "text": [
        " weh\n",
        "3876"
       ]
      },
      {
       "output_type": "stream",
       "stream": "stdout",
       "text": [
        " wage\n",
        "3877 tambien.1\n",
        "3878"
       ]
      },
      {
       "output_type": "stream",
       "stream": "stdout",
       "text": [
        " dissolve\n",
        "3879 won't.1\n",
        "3880"
       ]
      },
      {
       "output_type": "stream",
       "stream": "stdout",
       "text": [
        " cu\n",
        "3881 puoi\n",
        "3882"
       ]
      },
      {
       "output_type": "stream",
       "stream": "stdout",
       "text": [
        " superstar\n",
        "3883 searching\n",
        "3884 ali\n",
        "3885 nueva\n",
        "3886"
       ]
      },
      {
       "output_type": "stream",
       "stream": "stdout",
       "text": [
        " hart\n",
        "3887 diss.1\n",
        "3888"
       ]
      },
      {
       "output_type": "stream",
       "stream": "stdout",
       "text": [
        " tenert\n",
        "3889"
       ]
      },
      {
       "output_type": "stream",
       "stream": "stdout",
       "text": [
        " whoo\n",
        "3890"
       ]
      },
      {
       "output_type": "stream",
       "stream": "stdout",
       "text": [
        " almighty\n",
        "3891 unwind\n",
        "3892 plea\n",
        "3893 sexual\n",
        "3894 dew\n",
        "3895 negat\n",
        "3896"
       ]
      },
      {
       "output_type": "stream",
       "stream": "stdout",
       "text": [
        " bu\n",
        "3897"
       ]
      },
      {
       "output_type": "stream",
       "stream": "stdout",
       "text": [
        " spoil\n",
        "3898 junky\n",
        "3899 puppet\n",
        "3900 gin\n",
        "3901 blossom\n",
        "3902 fuss\n",
        "3903 plein\n",
        "3904"
       ]
      },
      {
       "output_type": "stream",
       "stream": "stdout",
       "text": [
        " vast\n",
        "3905 stell\n",
        "3906"
       ]
      },
      {
       "output_type": "stream",
       "stream": "stdout",
       "text": [
        " histoir\n",
        "3907"
       ]
      },
      {
       "output_type": "stream",
       "stream": "stdout",
       "text": [
        " stroke\n",
        "3908 a.3\n",
        "3909"
       ]
      },
      {
       "output_type": "stream",
       "stream": "stdout",
       "text": [
        " seam\n",
        "3910 rey\n",
        "3911"
       ]
      },
      {
       "output_type": "stream",
       "stream": "stdout",
       "text": [
        " medo\n",
        "3912"
       ]
      },
      {
       "output_type": "stream",
       "stream": "stdout",
       "text": [
        " prefer\n",
        "3913 northern\n",
        "3914 author\n",
        "3915 disgust\n",
        "3916 dure\n",
        "3917"
       ]
      },
      {
       "output_type": "stream",
       "stream": "stdout",
       "text": [
        " devant\n",
        "3918"
       ]
      },
      {
       "output_type": "stream",
       "stream": "stdout",
       "text": [
        " wretch\n",
        "3919 sara\n",
        "3920"
       ]
      },
      {
       "output_type": "stream",
       "stream": "stdout",
       "text": [
        " atmosphere\n",
        "3921 daydream\n",
        "3922 pipe\n",
        "3923 remorse\n",
        "3924 martyr\n",
        "3925 yonder\n",
        "3926 moin\n",
        "3927"
       ]
      },
      {
       "output_type": "stream",
       "stream": "stdout",
       "text": [
        " hizo\n",
        "3928"
       ]
      },
      {
       "output_type": "stream",
       "stream": "stdout",
       "text": [
        " sneak\n",
        "3929 debe\n",
        "3930"
       ]
      },
      {
       "output_type": "stream",
       "stream": "stdout",
       "text": [
        " abyss\n",
        "3931 version\n",
        "3932 papel\n",
        "3933"
       ]
      },
      {
       "output_type": "stream",
       "stream": "stdout",
       "text": [
        " comprend\n",
        "3934"
       ]
      },
      {
       "output_type": "stream",
       "stream": "stdout",
       "text": [
        " uhhuh\n",
        "3935"
       ]
      },
      {
       "output_type": "stream",
       "stream": "stdout",
       "text": [
        " isso\n",
        "3936"
       ]
      },
      {
       "output_type": "stream",
       "stream": "stdout",
       "text": [
        " oooo\n",
        "3937"
       ]
      },
      {
       "output_type": "stream",
       "stream": "stdout",
       "text": [
        " pon\n",
        "3938"
       ]
      },
      {
       "output_type": "stream",
       "stream": "stdout",
       "text": [
        " gutter\n",
        "3939 rate\n",
        "3940 vaikka\n",
        "3941"
       ]
      },
      {
       "output_type": "stream",
       "stream": "stdout",
       "text": [
        " pavement\n",
        "3942 od\n",
        "3943 dusti\n",
        "3944"
       ]
      },
      {
       "output_type": "stream",
       "stream": "stdout",
       "text": [
        " roller\n",
        "3945 label\n",
        "3946 deck\n",
        "3947 vulture\n",
        "3948 tun\n",
        "3949 careless\n",
        "3950 glide\n",
        "3951 wirklich\n",
        "3952"
       ]
      },
      {
       "output_type": "stream",
       "stream": "stdout",
       "text": [
        " pawn\n",
        "3953 vorbei\n",
        "3954"
       ]
      },
      {
       "output_type": "stream",
       "stream": "stdout",
       "text": [
        " fifteen\n",
        "3955 bord\n",
        "3956"
       ]
      },
      {
       "output_type": "stream",
       "stream": "stdout",
       "text": [
        " nut\n",
        "3957 mentr\n",
        "3958"
       ]
      },
      {
       "output_type": "stream",
       "stream": "stdout",
       "text": [
        " quis\n",
        "3959"
       ]
      },
      {
       "output_type": "stream",
       "stream": "stdout",
       "text": [
        " spanish\n",
        "3960 impos\n",
        "3961"
       ]
      },
      {
       "output_type": "stream",
       "stream": "stdout",
       "text": [
        " fifty\n",
        "3962 stink\n",
        "3963 leap\n",
        "3964 jahr\n",
        "3965"
       ]
      },
      {
       "output_type": "stream",
       "stream": "stdout",
       "text": [
        " penetrate\n",
        "3966 dam\n",
        "3967 ritual\n",
        "3968 fellow\n",
        "3969 clip\n",
        "3970 supply\n",
        "3971 flee\n",
        "3972 elev\n",
        "3973"
       ]
      },
      {
       "output_type": "stream",
       "stream": "stdout",
       "text": [
        " mail\n",
        "3974 ribbon\n",
        "3975 corr\n",
        "3976"
       ]
      },
      {
       "output_type": "stream",
       "stream": "stdout",
       "text": [
        " hospital\n",
        "3977 aina\n",
        "3978"
       ]
      },
      {
       "output_type": "stream",
       "stream": "stdout",
       "text": [
        " ladder\n",
        "3979 wail\n",
        "3980 bathroom\n",
        "3981 da.1\n",
        "3982"
       ]
      },
      {
       "output_type": "stream",
       "stream": "stdout",
       "text": [
        " sait\n",
        "3983"
       ]
      },
      {
       "output_type": "stream",
       "stream": "stdout",
       "text": [
        " jenni\n",
        "3984"
       ]
      },
      {
       "output_type": "stream",
       "stream": "stdout",
       "text": [
        " heur\n",
        "3985"
       ]
      },
      {
       "output_type": "stream",
       "stream": "stdout",
       "text": [
        " revolve\n",
        "3986 barrio\n",
        "3987 knife.1\n",
        "3988"
       ]
      },
      {
       "output_type": "stream",
       "stream": "stdout",
       "text": [
        " vice\n",
        "3989 firm\n",
        "3990 chicago\n",
        "3991 ikk\n",
        "3992"
       ]
      },
      {
       "output_type": "stream",
       "stream": "stdout",
       "text": [
        " breakfast\n",
        "3993 etta\n",
        "3994"
       ]
      },
      {
       "output_type": "stream",
       "stream": "stdout",
       "text": [
        " despu\n",
        "3995"
       ]
      },
      {
       "output_type": "stream",
       "stream": "stdout",
       "text": [
        " darker\n",
        "3996 upset\n",
        "3997 oblivion\n",
        "3998 hustle\n",
        "3999 favorite.1\n",
        "4000"
       ]
      },
      {
       "output_type": "stream",
       "stream": "stdout",
       "text": [
        " reward\n",
        "4001 servant\n",
        "4002 rewind\n",
        "4003"
       ]
      },
      {
       "output_type": "stream",
       "stream": "stdout",
       "text": [
        " primavera\n",
        "4004"
       ]
      },
      {
       "output_type": "stream",
       "stream": "stdout",
       "text": [
        " culpa\n",
        "4005"
       ]
      },
      {
       "output_type": "stream",
       "stream": "stdout",
       "text": [
        " enslave\n",
        "4006 solament\n",
        "4007"
       ]
      },
      {
       "output_type": "stream",
       "stream": "stdout",
       "text": [
        " ditt\n",
        "4008"
       ]
      },
      {
       "output_type": "stream",
       "stream": "stdout",
       "text": [
        " charli\n",
        "4009"
       ]
      },
      {
       "output_type": "stream",
       "stream": "stdout",
       "text": [
        " pueblo\n",
        "4010 fuse\n",
        "4011 aquella\n",
        "4012"
       ]
      },
      {
       "output_type": "stream",
       "stream": "stdout",
       "text": [
        " toca\n",
        "4013"
       ]
      },
      {
       "output_type": "stream",
       "stream": "stdout",
       "text": [
        " tin\n",
        "4014 opposite\n",
        "4015 prophecy\n",
        "4016 zur\n",
        "4017"
       ]
      },
      {
       "output_type": "stream",
       "stream": "stdout",
       "text": [
        " oughta\n",
        "4018"
       ]
      },
      {
       "output_type": "stream",
       "stream": "stdout",
       "text": [
        " smile.2\n",
        "4019"
       ]
      },
      {
       "output_type": "stream",
       "stream": "stdout",
       "text": [
        " carpet\n",
        "4020 service\n",
        "4021 dort\n",
        "4022"
       ]
      },
      {
       "output_type": "stream",
       "stream": "stdout",
       "text": [
        " oscuridad\n",
        "4023"
       ]
      },
      {
       "output_type": "stream",
       "stream": "stdout",
       "text": [
        " compute\n",
        "4024 mont\n",
        "4025"
       ]
      },
      {
       "output_type": "stream",
       "stream": "stdout",
       "text": [
        " olvidart\n",
        "4026"
       ]
      },
      {
       "output_type": "stream",
       "stream": "stdout",
       "text": [
        " butt\n",
        "4027 invent\n",
        "4028 acaba\n",
        "4029"
       ]
      },
      {
       "output_type": "stream",
       "stream": "stdout",
       "text": [
        " strive\n",
        "4030 muev\n",
        "4031"
       ]
      },
      {
       "output_type": "stream",
       "stream": "stdout",
       "text": [
        " chord\n",
        "4032 sleeping\n",
        "4033 foul\n",
        "4034 scrape\n",
        "4035 erst\n",
        "4036 captive\n",
        "4037 ey\n",
        "4038"
       ]
      },
      {
       "output_type": "stream",
       "stream": "stdout",
       "text": [
        " bid\n",
        "4039 ohhhh\n",
        "4040"
       ]
      },
      {
       "output_type": "stream",
       "stream": "stdout",
       "text": [
        " jar\n",
        "4041 drew\n",
        "4042 definite.1\n",
        "4043"
       ]
      },
      {
       "output_type": "stream",
       "stream": "stdout",
       "text": [
        " wondering\n",
        "4044 slight\n",
        "4045 pole\n",
        "4046 fascinating\n",
        "4047 shorty\n",
        "4048"
       ]
      },
      {
       "output_type": "stream",
       "stream": "stdout",
       "text": [
        " bark\n",
        "4049 killing\n",
        "4050 produce\n",
        "4051 alguem\n",
        "4052"
       ]
      },
      {
       "output_type": "stream",
       "stream": "stdout",
       "text": [
        " mystic\n",
        "4053 peep\n",
        "4054 grate\n",
        "4055 tranc\n",
        "4056"
       ]
      },
      {
       "output_type": "stream",
       "stream": "stdout",
       "text": [
        " nube\n",
        "4057"
       ]
      },
      {
       "output_type": "stream",
       "stream": "stdout",
       "text": [
        " resto\n",
        "4058"
       ]
      },
      {
       "output_type": "stream",
       "stream": "stdout",
       "text": [
        " nome\n",
        "4059 oppress\n",
        "4060 batter\n",
        "4061 bike\n",
        "4062 liegt\n",
        "4063"
       ]
      },
      {
       "output_type": "stream",
       "stream": "stdout",
       "text": [
        " harry\n",
        "4064 medic\n",
        "4065 gluck\n",
        "4066 accident\n",
        "4067 waltz\n",
        "4068 asshole\n",
        "4069 sonar\n",
        "4070 stall\n",
        "4071 problema\n",
        "4072"
       ]
      },
      {
       "output_type": "stream",
       "stream": "stdout",
       "text": [
        " deixa\n",
        "4073"
       ]
      },
      {
       "output_type": "stream",
       "stream": "stdout",
       "text": [
        " finest\n",
        "4074 facil.1\n",
        "4075"
       ]
      },
      {
       "output_type": "stream",
       "stream": "stdout",
       "text": [
        " rome\n",
        "4076 quedo\n",
        "4077"
       ]
      },
      {
       "output_type": "stream",
       "stream": "stdout",
       "text": [
        " savag\n",
        "4078"
       ]
      },
      {
       "output_type": "stream",
       "stream": "stdout",
       "text": [
        " bonita\n",
        "4079"
       ]
      },
      {
       "output_type": "stream",
       "stream": "stdout",
       "text": [
        " politician\n",
        "4080 seiz\n",
        "4081"
       ]
      },
      {
       "output_type": "stream",
       "stream": "stdout",
       "text": [
        " general\n",
        "4082 hor\n",
        "4083"
       ]
      },
      {
       "output_type": "stream",
       "stream": "stdout",
       "text": [
        " parl\n",
        "4084"
       ]
      },
      {
       "output_type": "stream",
       "stream": "stdout",
       "text": [
        " independent\n",
        "4085 tres.1\n",
        "4086"
       ]
      },
      {
       "output_type": "stream",
       "stream": "stdout",
       "text": [
        " wirst\n",
        "4087"
       ]
      },
      {
       "output_type": "stream",
       "stream": "stdout",
       "text": [
        " ain\n",
        "4088 perche.1\n",
        "4089"
       ]
      },
      {
       "output_type": "stream",
       "stream": "stdout",
       "text": [
        " seit\n",
        "4090"
       ]
      },
      {
       "output_type": "stream",
       "stream": "stdout",
       "text": [
        " dine\n",
        "4091 pollut\n",
        "4092"
       ]
      },
      {
       "output_type": "stream",
       "stream": "stdout",
       "text": [
        " french\n",
        "4093 phrase\n",
        "4094 niemal\n",
        "4095"
       ]
      },
      {
       "output_type": "stream",
       "stream": "stdout",
       "text": [
        " circumstance\n",
        "4096 rattle\n",
        "4097 musiqu\n",
        "4098"
       ]
      },
      {
       "output_type": "stream",
       "stream": "stdout",
       "text": [
        " romantic\n",
        "4099 ultim\n",
        "4100"
       ]
      },
      {
       "output_type": "stream",
       "stream": "stdout",
       "text": [
        " deinem\n",
        "4101"
       ]
      },
      {
       "output_type": "stream",
       "stream": "stdout",
       "text": [
        " union\n",
        "4102 habe\n",
        "4103"
       ]
      },
      {
       "output_type": "stream",
       "stream": "stdout",
       "text": [
        " stench\n",
        "4104 sest\n",
        "4105"
       ]
      },
      {
       "output_type": "stream",
       "stream": "stdout",
       "text": [
        " couch\n",
        "4106 sourir\n",
        "4107"
       ]
      },
      {
       "output_type": "stream",
       "stream": "stdout",
       "text": [
        " accus\n",
        "4108"
       ]
      },
      {
       "output_type": "stream",
       "stream": "stdout",
       "text": [
        " determine\n",
        "4109 risa\n",
        "4110"
       ]
      },
      {
       "output_type": "stream",
       "stream": "stdout",
       "text": [
        " prime\n",
        "4111 nom\n",
        "4112"
       ]
      },
      {
       "output_type": "stream",
       "stream": "stdout",
       "text": [
        " enamorado\n",
        "4113"
       ]
      },
      {
       "output_type": "stream",
       "stream": "stdout",
       "text": [
        " hater\n",
        "4114 egal\n",
        "4115"
       ]
      },
      {
       "output_type": "stream",
       "stream": "stdout",
       "text": [
        " bonheur\n",
        "4116 meadow\n",
        "4117 klar\n",
        "4118"
       ]
      },
      {
       "output_type": "stream",
       "stream": "stdout",
       "text": [
        " saudad\n",
        "4119"
       ]
      },
      {
       "output_type": "stream",
       "stream": "stdout",
       "text": [
        " beep\n",
        "4120 shotgun\n",
        "4121 gira\n",
        "4122"
       ]
      },
      {
       "output_type": "stream",
       "stream": "stdout",
       "text": [
        " contar\n",
        "4123"
       ]
      },
      {
       "output_type": "stream",
       "stream": "stdout",
       "text": [
        " lamp\n",
        "4124 elvi\n",
        "4125"
       ]
      },
      {
       "output_type": "stream",
       "stream": "stdout",
       "text": [
        " trumpet\n",
        "4126 porch\n",
        "4127 graveyard\n",
        "4128 gentlemen\n",
        "4129 seren\n",
        "4130"
       ]
      },
      {
       "output_type": "stream",
       "stream": "stdout",
       "text": [
        " grito\n",
        "4131"
       ]
      },
      {
       "output_type": "stream",
       "stream": "stdout",
       "text": [
        " vil\n",
        "4132"
       ]
      },
      {
       "output_type": "stream",
       "stream": "stdout",
       "text": [
        " glitter\n",
        "4133 larg\n",
        "4134"
       ]
      },
      {
       "output_type": "stream",
       "stream": "stdout",
       "text": [
        " kopf\n",
        "4135"
       ]
      },
      {
       "output_type": "stream",
       "stream": "stdout",
       "text": [
        " secreto\n",
        "4136"
       ]
      },
      {
       "output_type": "stream",
       "stream": "stdout",
       "text": [
        " group\n",
        "4137 profit\n",
        "4138 decline\n",
        "4139 lou\n",
        "4140"
       ]
      },
      {
       "output_type": "stream",
       "stream": "stdout",
       "text": [
        " sour\n",
        "4141 involve\n",
        "4142 quiza\n",
        "4143"
       ]
      },
      {
       "output_type": "stream",
       "stream": "stdout",
       "text": [
        " boo\n",
        "4144 project\n",
        "4145 material\n",
        "4146 ilusion\n",
        "4147"
       ]
      },
      {
       "output_type": "stream",
       "stream": "stdout",
       "text": [
        " noel\n",
        "4148 placer\n",
        "4149 execut\n",
        "4150"
       ]
      },
      {
       "output_type": "stream",
       "stream": "stdout",
       "text": [
        " reverse\n",
        "4151 lucid\n",
        "4152 gamble\n",
        "4153 summon\n",
        "4154 tambem\n",
        "4155"
       ]
      },
      {
       "output_type": "stream",
       "stream": "stdout",
       "text": [
        " mua\n",
        "4156"
       ]
      },
      {
       "output_type": "stream",
       "stream": "stdout",
       "text": [
        " senor\n",
        "4157 fest\n",
        "4158"
       ]
      },
      {
       "output_type": "stream",
       "stream": "stdout",
       "text": [
        " melhor\n",
        "4159"
       ]
      },
      {
       "output_type": "stream",
       "stream": "stdout",
       "text": [
        " madrugada\n",
        "4160"
       ]
      },
      {
       "output_type": "stream",
       "stream": "stdout",
       "text": [
        " fo\n",
        "4161 microphone\n",
        "4162 claro\n",
        "4163 virus\n",
        "4164 explore\n",
        "4165 speech\n",
        "4166 venom\n",
        "4167 fino\n",
        "4168"
       ]
      },
      {
       "output_type": "stream",
       "stream": "stdout",
       "text": [
        " sehr\n",
        "4169"
       ]
      },
      {
       "output_type": "stream",
       "stream": "stdout",
       "text": [
        " han.1\n",
        "4170"
       ]
      },
      {
       "output_type": "stream",
       "stream": "stdout",
       "text": [
        " vacate\n",
        "4171 partner\n",
        "4172 cualquier\n",
        "4173"
       ]
      },
      {
       "output_type": "stream",
       "stream": "stdout",
       "text": [
        " your.1\n",
        "4174"
       ]
      },
      {
       "output_type": "stream",
       "stream": "stdout",
       "text": [
        " sotto\n",
        "4175"
       ]
      },
      {
       "output_type": "stream",
       "stream": "stdout",
       "text": [
        " doorway\n",
        "4176 silhouette\n",
        "4177 notion\n",
        "4178 entrar\n",
        "4179"
       ]
      },
      {
       "output_type": "stream",
       "stream": "stdout",
       "text": [
        " market\n",
        "4180 slay\n",
        "4181 rail\n",
        "4182 mold\n",
        "4183 reve\n",
        "4184"
       ]
      },
      {
       "output_type": "stream",
       "stream": "stdout",
       "text": [
        " yah\n",
        "4185"
       ]
      },
      {
       "output_type": "stream",
       "stream": "stdout",
       "text": [
        " raven\n",
        "4186 insiem\n",
        "4187"
       ]
      },
      {
       "output_type": "stream",
       "stream": "stdout",
       "text": [
        " knight\n",
        "4188 cuento\n",
        "4189"
       ]
      },
      {
       "output_type": "stream",
       "stream": "stdout",
       "text": [
        " heb\n",
        "4190"
       ]
      },
      {
       "output_type": "stream",
       "stream": "stdout",
       "text": [
        " cose\n",
        "4191"
       ]
      },
      {
       "output_type": "stream",
       "stream": "stdout",
       "text": [
        " bli\n",
        "4192"
       ]
      },
      {
       "output_type": "stream",
       "stream": "stdout",
       "text": [
        " eterno\n",
        "4193"
       ]
      },
      {
       "output_type": "stream",
       "stream": "stdout",
       "text": [
        " dignity\n",
        "4194 escapar\n",
        "4195"
       ]
      },
      {
       "output_type": "stream",
       "stream": "stdout",
       "text": [
        " depui\n",
        "4196"
       ]
      },
      {
       "output_type": "stream",
       "stream": "stdout",
       "text": [
        " adventure\n",
        "4197 depart\n",
        "4198 letra\n",
        "4199"
       ]
      },
      {
       "output_type": "stream",
       "stream": "stdout",
       "text": [
        " mulher\n",
        "4200"
       ]
      },
      {
       "output_type": "stream",
       "stream": "stdout",
       "text": [
        " lawn\n",
        "4201 far.1\n",
        "4202"
       ]
      },
      {
       "output_type": "stream",
       "stream": "stdout",
       "text": [
        " essence\n",
        "4203 fr\n",
        "4204 paus\n",
        "4205"
       ]
      },
      {
       "output_type": "stream",
       "stream": "stdout",
       "text": [
        " caminar\n",
        "4206"
       ]
      },
      {
       "output_type": "stream",
       "stream": "stdout",
       "text": [
        " outra\n",
        "4207"
       ]
      },
      {
       "output_type": "stream",
       "stream": "stdout",
       "text": [
        " tut\n",
        "4208 sil\n",
        "4209"
       ]
      },
      {
       "output_type": "stream",
       "stream": "stdout",
       "text": [
        " preciso\n",
        "4210"
       ]
      },
      {
       "output_type": "stream",
       "stream": "stdout",
       "text": [
        " obscure\n",
        "4211 sie.1\n",
        "4212"
       ]
      },
      {
       "output_type": "stream",
       "stream": "stdout",
       "text": [
        " smack\n",
        "4213 slut.2\n",
        "4214"
       ]
      },
      {
       "output_type": "stream",
       "stream": "stdout",
       "text": [
        " childhood\n",
        "4215 ga.1\n",
        "4216"
       ]
      },
      {
       "output_type": "stream",
       "stream": "stdout",
       "text": [
        " memoria\n",
        "4217"
       ]
      },
      {
       "output_type": "stream",
       "stream": "stdout",
       "text": [
        " lipstick\n",
        "4218 shining\n",
        "4219 photo\n",
        "4220 enchant\n",
        "4221 tocar\n",
        "4222"
       ]
      },
      {
       "output_type": "stream",
       "stream": "stdout",
       "text": [
        " hei\n",
        "4223"
       ]
      },
      {
       "output_type": "stream",
       "stream": "stdout",
       "text": [
        " ira\n",
        "4224 farther\n",
        "4225 sport\n",
        "4226 gasoline\n",
        "4227 enaa\n",
        "4228"
       ]
      },
      {
       "output_type": "stream",
       "stream": "stdout",
       "text": [
        " latest\n",
        "4229 rosi\n",
        "4230"
       ]
      },
      {
       "output_type": "stream",
       "stream": "stdout",
       "text": [
        " guardo\n",
        "4231"
       ]
      },
      {
       "output_type": "stream",
       "stream": "stdout",
       "text": [
        " fiend\n",
        "4232 concentrate\n",
        "4233 mina.1\n",
        "4234"
       ]
      },
      {
       "output_type": "stream",
       "stream": "stdout",
       "text": [
        " palace\n",
        "4235 aboard\n",
        "4236 strife\n",
        "4237 tear.1\n",
        "4238"
       ]
      },
      {
       "output_type": "stream",
       "stream": "stdout",
       "text": [
        " cry.2\n",
        "4239"
       ]
      },
      {
       "output_type": "stream",
       "stream": "stdout",
       "text": [
        " anchor\n",
        "4240 dreamt\n",
        "4241 corn\n",
        "4242 clay\n",
        "4243 deja.1\n",
        "4244"
       ]
      },
      {
       "output_type": "stream",
       "stream": "stdout",
       "text": [
        " cafe\n",
        "4245 dah\n",
        "4246 dizzy\n",
        "4247 spray\n",
        "4248 messiah\n",
        "4249 voix\n",
        "4250"
       ]
      },
      {
       "output_type": "stream",
       "stream": "stdout",
       "text": [
        " brake\n",
        "4251 cry.3\n",
        "4252"
       ]
      },
      {
       "output_type": "stream",
       "stream": "stdout",
       "text": [
        " cafe.1\n",
        "4253"
       ]
      },
      {
       "output_type": "stream",
       "stream": "stdout",
       "text": [
        " sum\n",
        "4254 pet\n",
        "4255 jade\n",
        "4256 combine\n",
        "4257 puo\n",
        "4258"
       ]
      },
      {
       "output_type": "stream",
       "stream": "stdout",
       "text": [
        " tod\n",
        "4259 hur\n",
        "4260"
       ]
      },
      {
       "output_type": "stream",
       "stream": "stdout",
       "text": [
        " hogi\n",
        "4261"
       ]
      },
      {
       "output_type": "stream",
       "stream": "stdout",
       "text": [
        " apathy\n",
        "4262 desol\n",
        "4263"
       ]
      },
      {
       "output_type": "stream",
       "stream": "stdout",
       "text": [
        " cripple\n",
        "4264 axe\n",
        "4265 rabbit\n",
        "4266 sanctuary\n",
        "4267 valor\n",
        "4268 transform\n",
        "4269 uniform\n",
        "4270 confront\n",
        "4271 swift\n",
        "4272 barrel\n",
        "4273 filth\n",
        "4274 vrai\n",
        "4275"
       ]
      },
      {
       "output_type": "stream",
       "stream": "stdout",
       "text": [
        " entonc\n",
        "4276"
       ]
      },
      {
       "output_type": "stream",
       "stream": "stdout",
       "text": [
        " lune\n",
        "4277"
       ]
      },
      {
       "output_type": "stream",
       "stream": "stdout",
       "text": [
        " masquerade\n",
        "4278 mississippi\n",
        "4279 chime\n",
        "4280 50\n",
        "4281 railroad\n",
        "4282 qua\n",
        "4283"
       ]
      },
      {
       "output_type": "stream",
       "stream": "stdout",
       "text": [
        " llego\n",
        "4284"
       ]
      },
      {
       "output_type": "stream",
       "stream": "stdout",
       "text": [
        " actual\n",
        "4285 should.1\n",
        "4286"
       ]
      },
      {
       "output_type": "stream",
       "stream": "stdout",
       "text": [
        " gloom\n",
        "4287 escond\n",
        "4288"
       ]
      },
      {
       "output_type": "stream",
       "stream": "stdout",
       "text": [
        " perd\n",
        "4289"
       ]
      },
      {
       "output_type": "stream",
       "stream": "stdout",
       "text": [
        " 15\n",
        "4290 jama.1\n",
        "4291"
       ]
      },
      {
       "output_type": "stream",
       "stream": "stdout",
       "text": [
        " conoc\n",
        "4292"
       ]
      },
      {
       "output_type": "stream",
       "stream": "stdout",
       "text": [
        " aaah\n",
        "4293"
       ]
      },
      {
       "output_type": "stream",
       "stream": "stdout",
       "text": [
        " abr\n",
        "4294"
       ]
      },
      {
       "output_type": "stream",
       "stream": "stdout",
       "text": [
        " don't.2\n",
        "4295"
       ]
      },
      {
       "output_type": "stream",
       "stream": "stdout",
       "text": [
        " blut\n",
        "4296"
       ]
      },
      {
       "output_type": "stream",
       "stream": "stdout",
       "text": [
        " inn\n",
        "4297 phantom\n",
        "4298 appeal\n",
        "4299 plug\n",
        "4300 vanity\n",
        "4301 pony\n",
        "4302 maintenance\n",
        "4303 cristal\n",
        "4304 fearless\n",
        "4305 stitch\n",
        "4306 fragment\n",
        "4307 clutch\n",
        "4308 pecho\n",
        "4309"
       ]
      },
      {
       "output_type": "stream",
       "stream": "stdout",
       "text": [
        " 30\n",
        "4310 squad\n",
        "4311 cambio\n",
        "4312"
       ]
      },
      {
       "output_type": "stream",
       "stream": "stdout",
       "text": [
        " makeup\n",
        "4313 stalk\n",
        "4314 surf\n",
        "4315 outer\n",
        "4316 basement\n",
        "4317 obscene\n",
        "4318 gehn\n",
        "4319"
       ]
      },
      {
       "output_type": "stream",
       "stream": "stdout",
       "text": [
        " passe\n",
        "4320 fiddle\n",
        "4321 steve\n",
        "4322"
       ]
      },
      {
       "output_type": "stream",
       "stream": "stdout",
       "text": [
        " boulevard\n",
        "4323 chart\n",
        "4324 arrange\n",
        "4325 increase\n",
        "4326 september\n",
        "4327 i'm.2\n",
        "4328"
       ]
      },
      {
       "output_type": "stream",
       "stream": "stdout",
       "text": [
        " rua\n",
        "4329"
       ]
      },
      {
       "output_type": "stream",
       "stream": "stdout",
       "text": [
        " endlich\n",
        "4330"
       ]
      },
      {
       "output_type": "stream",
       "stream": "stdout",
       "text": [
        " weer\n",
        "4331 guitarra\n",
        "4332"
       ]
      },
      {
       "output_type": "stream",
       "stream": "stdout",
       "text": [
        " leve\n",
        "4333"
       ]
      },
      {
       "output_type": "stream",
       "stream": "stdout",
       "text": [
        " evolution\n",
        "4334 wooden\n",
        "4335 querert\n",
        "4336"
       ]
      },
      {
       "output_type": "stream",
       "stream": "stdout",
       "text": [
        " vraiment\n",
        "4337"
       ]
      },
      {
       "output_type": "stream",
       "stream": "stdout",
       "text": [
        " kicking\n",
        "4338 unter\n",
        "4339"
       ]
      },
      {
       "output_type": "stream",
       "stream": "stdout",
       "text": [
        " logic\n",
        "4340 40\n",
        "4341 toma\n",
        "4342"
       ]
      },
      {
       "output_type": "stream",
       "stream": "stdout",
       "text": [
        " feat\n",
        "4343 gotten\n",
        "4344 tryna\n",
        "4345"
       ]
      },
      {
       "output_type": "stream",
       "stream": "stdout",
       "text": [
        " mire\n",
        "4346 esser\n",
        "4347"
       ]
      },
      {
       "output_type": "stream",
       "stream": "stdout",
       "text": [
        " hid\n",
        "4348 wasteland\n",
        "4349 fighter\n",
        "4350 da.2\n",
        "4351"
       ]
      },
      {
       "output_type": "stream",
       "stream": "stdout",
       "text": [
        " husband\n",
        "4352 jumping\n",
        "4353 suo\n",
        "4354"
       ]
      },
      {
       "output_type": "stream",
       "stream": "stdout",
       "text": [
        " machen\n",
        "4355"
       ]
      },
      {
       "output_type": "stream",
       "stream": "stdout",
       "text": [
        " pathetic\n",
        "4356 passion.1\n",
        "4357"
       ]
      },
      {
       "output_type": "stream",
       "stream": "stdout",
       "text": [
        " maim\n",
        "4358 program\n",
        "4359 demasiado\n",
        "4360"
       ]
      },
      {
       "output_type": "stream",
       "stream": "stdout",
       "text": [
        " majesty\n",
        "4361 retreat\n",
        "4362 appreciate\n",
        "4363 daze\n",
        "4364 challenge\n",
        "4365 queria\n",
        "4366"
       ]
      },
      {
       "output_type": "stream",
       "stream": "stdout",
       "text": [
        " letzt\n",
        "4367"
       ]
      },
      {
       "output_type": "stream",
       "stream": "stdout",
       "text": [
        " nosotro\n",
        "4368"
       ]
      },
      {
       "output_type": "stream",
       "stream": "stdout",
       "text": [
        " sogno\n",
        "4369"
       ]
      },
      {
       "output_type": "stream",
       "stream": "stdout",
       "text": [
        " ku\n",
        "4370"
       ]
      },
      {
       "output_type": "stream",
       "stream": "stdout",
       "text": [
        " subject\n",
        "4371 standard\n",
        "4372 troppo\n",
        "4373"
       ]
      },
      {
       "output_type": "stream",
       "stream": "stdout",
       "text": [
        " jazz\n",
        "4374 opportunity\n",
        "4375 sehn\n",
        "4376"
       ]
      },
      {
       "output_type": "stream",
       "stream": "stdout",
       "text": [
        " miser\n",
        "4377 col\n",
        "4378"
       ]
      },
      {
       "output_type": "stream",
       "stream": "stdout",
       "text": [
        " legion\n",
        "4379 submit\n",
        "4380 qualquer\n",
        "4381"
       ]
      },
      {
       "output_type": "stream",
       "stream": "stdout",
       "text": [
        " cough\n",
        "4382 medio\n",
        "4383"
       ]
      },
      {
       "output_type": "stream",
       "stream": "stdout",
       "text": [
        " teen\n",
        "4384 wilder\n",
        "4385 sed\n",
        "4386"
       ]
      },
      {
       "output_type": "stream",
       "stream": "stdout",
       "text": [
        " peau\n",
        "4387"
       ]
      },
      {
       "output_type": "stream",
       "stream": "stdout",
       "text": [
        " pone\n",
        "4388 study\n",
        "4389 dije\n",
        "4390"
       ]
      },
      {
       "output_type": "stream",
       "stream": "stdout",
       "text": [
        " jacket\n",
        "4391 overflow\n",
        "4392 vient\n",
        "4393"
       ]
      },
      {
       "output_type": "stream",
       "stream": "stdout",
       "text": [
        " supreme\n",
        "4394 butcher\n",
        "4395 balloon\n",
        "4396 pushing\n",
        "4397 mnie\n",
        "4398"
       ]
      },
      {
       "output_type": "stream",
       "stream": "stdout",
       "text": [
        " tradition\n",
        "4399 pane\n",
        "4400 cur\n",
        "4401 stomp\n",
        "4402 alegr\n",
        "4403"
       ]
      },
      {
       "output_type": "stream",
       "stream": "stdout",
       "text": [
        " judgment.1\n",
        "4404"
       ]
      },
      {
       "output_type": "stream",
       "stream": "stdout",
       "text": [
        " industry\n",
        "4405 jugar\n",
        "4406"
       ]
      },
      {
       "output_type": "stream",
       "stream": "stdout",
       "text": [
        " introduce\n",
        "4407 lai\n",
        "4408"
       ]
      },
      {
       "output_type": "stream",
       "stream": "stdout",
       "text": [
        " esquina\n",
        "4409"
       ]
      },
      {
       "output_type": "stream",
       "stream": "stdout",
       "text": [
        " venir\n",
        "4410"
       ]
      },
      {
       "output_type": "stream",
       "stream": "stdout",
       "text": [
        " iba\n",
        "4411"
       ]
      },
      {
       "output_type": "stream",
       "stream": "stdout",
       "text": [
        " taint\n",
        "4412 pude\n",
        "4413"
       ]
      },
      {
       "output_type": "stream",
       "stream": "stdout",
       "text": [
        " county\n",
        "4414 fleet\n",
        "4415 sina\n",
        "4416"
       ]
      },
      {
       "output_type": "stream",
       "stream": "stdout",
       "text": [
        " reves\n",
        "4417 allah\n",
        "4418 groovy\n",
        "4419 sogni\n",
        "4420"
       ]
      },
      {
       "output_type": "stream",
       "stream": "stdout",
       "text": [
        " chrome\n",
        "4421 blah.1\n",
        "4422"
       ]
      },
      {
       "output_type": "stream",
       "stream": "stdout",
       "text": [
        " genocide\n",
        "4423 kalt\n",
        "4424"
       ]
      },
      {
       "output_type": "stream",
       "stream": "stdout",
       "text": [
        " unde\n",
        "4425"
       ]
      },
      {
       "output_type": "stream",
       "stream": "stdout",
       "text": [
        " unreal\n",
        "4426 slumber\n",
        "4427 thief.1\n",
        "4428"
       ]
      },
      {
       "output_type": "stream",
       "stream": "stdout",
       "text": [
        " frank.1\n",
        "4429"
       ]
      },
      {
       "output_type": "stream",
       "stream": "stdout",
       "text": [
        " id\n",
        "4430 lurk\n",
        "4431 unhappy\n",
        "4432 ihm\n",
        "4433"
       ]
      },
      {
       "output_type": "stream",
       "stream": "stdout",
       "text": [
        " morena\n",
        "4434"
       ]
      },
      {
       "output_type": "stream",
       "stream": "stdout",
       "text": [
        " chico\n",
        "4435 dusk\n",
        "4436 cuatro\n",
        "4437"
       ]
      },
      {
       "output_type": "stream",
       "stream": "stdout",
       "text": [
        " lap\n",
        "4438 sve\n",
        "4439"
       ]
      },
      {
       "output_type": "stream",
       "stream": "stdout",
       "text": [
        " dynamite\n",
        "4440 blick\n",
        "4441"
       ]
      },
      {
       "output_type": "stream",
       "stream": "stdout",
       "text": [
        " twin\n",
        "4442 death.2\n",
        "4443"
       ]
      },
      {
       "output_type": "stream",
       "stream": "stdout",
       "text": [
        " dub\n",
        "4444 yi\n",
        "4445 thirsty\n",
        "4446 skirt\n",
        "4447 hoping\n",
        "4448 predict\n",
        "4449 heroin\n",
        "4450 escucha\n",
        "4451"
       ]
      },
      {
       "output_type": "stream",
       "stream": "stdout",
       "text": [
        " ormai\n",
        "4452"
       ]
      },
      {
       "output_type": "stream",
       "stream": "stdout",
       "text": [
        " wonderland\n",
        "4453 scary\n",
        "4454 steer\n",
        "4455 genau\n",
        "4456"
       ]
      },
      {
       "output_type": "stream",
       "stream": "stdout",
       "text": [
        " besoin\n",
        "4457"
       ]
      },
      {
       "output_type": "stream",
       "stream": "stdout",
       "text": [
        " ana\n",
        "4458 llanto\n",
        "4459"
       ]
      },
      {
       "output_type": "stream",
       "stream": "stdout",
       "text": [
        " screaming\n",
        "4460 routing\n",
        "4461 contr\n",
        "4462"
       ]
      },
      {
       "output_type": "stream",
       "stream": "stdout",
       "text": [
        " tooth\n",
        "4463 paura\n",
        "4464"
       ]
      },
      {
       "output_type": "stream",
       "stream": "stdout",
       "text": [
        " sopra\n",
        "4465"
       ]
      },
      {
       "output_type": "stream",
       "stream": "stdout",
       "text": [
        " perdida\n",
        "4466"
       ]
      },
      {
       "output_type": "stream",
       "stream": "stdout",
       "text": [
        " vuela\n",
        "4467"
       ]
      },
      {
       "output_type": "stream",
       "stream": "stdout",
       "text": [
        " fuori\n",
        "4468"
       ]
      },
      {
       "output_type": "stream",
       "stream": "stdout",
       "text": [
        " eden\n",
        "4469 pierdo\n",
        "4470"
       ]
      },
      {
       "output_type": "stream",
       "stream": "stdout",
       "text": [
        " remedy\n",
        "4471 cloudy\n",
        "4472 adam\n",
        "4473 raison\n",
        "4474"
       ]
      },
      {
       "output_type": "stream",
       "stream": "stdout",
       "text": [
        " perro\n",
        "4475"
       ]
      },
      {
       "output_type": "stream",
       "stream": "stdout",
       "text": [
        " amuse\n",
        "4476 closet\n",
        "4477 tuve\n",
        "4478"
       ]
      },
      {
       "output_type": "stream",
       "stream": "stdout",
       "text": [
        " ner\n",
        "4479"
       ]
      },
      {
       "output_type": "stream",
       "stream": "stdout",
       "text": [
        " ano.1\n",
        "4480"
       ]
      },
      {
       "output_type": "stream",
       "stream": "stdout",
       "text": [
        " western\n",
        "4481 ness\n",
        "4482 piedra\n",
        "4483"
       ]
      },
      {
       "output_type": "stream",
       "stream": "stdout",
       "text": [
        " amiga\n",
        "4484"
       ]
      },
      {
       "output_type": "stream",
       "stream": "stdout",
       "text": [
        " beef\n",
        "4485 apres\n",
        "4486"
       ]
      },
      {
       "output_type": "stream",
       "stream": "stdout",
       "text": [
        " feature\n",
        "4487 robin\n",
        "4488 decade\n",
        "4489 qued\n",
        "4490"
       ]
      },
      {
       "output_type": "stream",
       "stream": "stdout",
       "text": [
        " bald\n",
        "4491 wollt\n",
        "4492"
       ]
      },
      {
       "output_type": "stream",
       "stream": "stdout",
       "text": [
        " neue\n",
        "4493"
       ]
      },
      {
       "output_type": "stream",
       "stream": "stdout",
       "text": [
        " whine\n",
        "4494 cheese\n",
        "4495 feu\n",
        "4496"
       ]
      },
      {
       "output_type": "stream",
       "stream": "stdout",
       "text": [
        " aprend\n",
        "4497"
       ]
      },
      {
       "output_type": "stream",
       "stream": "stdout",
       "text": [
        " dish\n",
        "4498 leva\n",
        "4499 brauch\n",
        "4500"
       ]
      },
      {
       "output_type": "stream",
       "stream": "stdout",
       "text": [
        " misunderstood\n",
        "4501 misty\n",
        "4502 different\n",
        "4503 habla\n",
        "4504"
       ]
      },
      {
       "output_type": "stream",
       "stream": "stdout",
       "text": [
        " nar.1\n",
        "4505"
       ]
      },
      {
       "output_type": "stream",
       "stream": "stdout",
       "text": [
        " psycho\n",
        "4506 spotlight\n",
        "4507 revive\n",
        "4508 suitcase\n",
        "4509 freund\n",
        "4510"
       ]
      },
      {
       "output_type": "stream",
       "stream": "stdout",
       "text": [
        " damnat\n",
        "4511"
       ]
      },
      {
       "output_type": "stream",
       "stream": "stdout",
       "text": [
        " duda\n",
        "4512"
       ]
      },
      {
       "output_type": "stream",
       "stream": "stdout",
       "text": [
        " etwa\n",
        "4513"
       ]
      },
      {
       "output_type": "stream",
       "stream": "stdout",
       "text": [
        " geld\n",
        "4514 stadt\n",
        "4515"
       ]
      },
      {
       "output_type": "stream",
       "stream": "stdout",
       "text": [
        " cunt\n",
        "4516 mellow\n",
        "4517 poetry\n",
        "4518 lumier\n",
        "4519"
       ]
      },
      {
       "output_type": "stream",
       "stream": "stdout",
       "text": [
        " bean\n",
        "4520 print\n",
        "4521 confine\n",
        "4522 kommen\n",
        "4523"
       ]
      },
      {
       "output_type": "stream",
       "stream": "stdout",
       "text": [
        " domani\n",
        "4524"
       ]
      },
      {
       "output_type": "stream",
       "stream": "stdout",
       "text": [
        " correr\n",
        "4525"
       ]
      },
      {
       "output_type": "stream",
       "stream": "stdout",
       "text": [
        " perman\n",
        "4526"
       ]
      },
      {
       "output_type": "stream",
       "stream": "stdout",
       "text": [
        " strada\n",
        "4527"
       ]
      },
      {
       "output_type": "stream",
       "stream": "stdout",
       "text": [
        " inhal\n",
        "4528"
       ]
      },
      {
       "output_type": "stream",
       "stream": "stdout",
       "text": [
        " idl\n",
        "4529"
       ]
      },
      {
       "output_type": "stream",
       "stream": "stdout",
       "text": [
        " juro\n",
        "4530"
       ]
      },
      {
       "output_type": "stream",
       "stream": "stdout",
       "text": [
        " allen\n",
        "4531"
       ]
      },
      {
       "output_type": "stream",
       "stream": "stdout",
       "text": [
        " upp\n",
        "4532"
       ]
      },
      {
       "output_type": "stream",
       "stream": "stdout",
       "text": [
        " statu\n",
        "4533"
       ]
      },
      {
       "output_type": "stream",
       "stream": "stdout",
       "text": [
        " bluebird\n",
        "4534 unity\n",
        "4535 sita\n",
        "4536 reckless\n",
        "4537 robe\n",
        "4538 leer\n",
        "4539 lhe\n",
        "4540"
       ]
      },
      {
       "output_type": "stream",
       "stream": "stdout",
       "text": [
        " vite\n",
        "4541"
       ]
      },
      {
       "output_type": "stream",
       "stream": "stdout",
       "text": [
        " modo\n",
        "4542"
       ]
      },
      {
       "output_type": "stream",
       "stream": "stdout",
       "text": [
        " menschen\n",
        "4543"
       ]
      },
      {
       "output_type": "stream",
       "stream": "stdout",
       "text": [
        " voltar\n",
        "4544"
       ]
      },
      {
       "output_type": "stream",
       "stream": "stdout",
       "text": [
        " incredulous\n",
        "4545 aujourdhui\n",
        "4546"
       ]
      },
      {
       "output_type": "stream",
       "stream": "stdout",
       "text": [
        " anticipate\n",
        "4547 etc\n",
        "4548"
       ]
      },
      {
       "output_type": "stream",
       "stream": "stdout",
       "text": [
        " pensamiento\n",
        "4549"
       ]
      },
      {
       "output_type": "stream",
       "stream": "stdout",
       "text": [
        " estc\n",
        "4550"
       ]
      },
      {
       "output_type": "stream",
       "stream": "stdout",
       "text": [
        " keinen\n",
        "4551"
       ]
      },
      {
       "output_type": "stream",
       "stream": "stdout",
       "text": [
        " kimi\n",
        "4552"
       ]
      },
      {
       "output_type": "stream",
       "stream": "stdout",
       "text": [
        " raindrop\n",
        "4553 puzzle\n",
        "4554 chemin\n",
        "4555"
       ]
      },
      {
       "output_type": "stream",
       "stream": "stdout",
       "text": [
        " lindo\n",
        "4556"
       ]
      },
      {
       "output_type": "stream",
       "stream": "stdout",
       "text": [
        " wax\n",
        "4557 foss\n",
        "4558 junk\n",
        "4559 veut\n",
        "4560"
       ]
      },
      {
       "output_type": "stream",
       "stream": "stdout",
       "text": [
        " kaiken\n",
        "4561"
       ]
      },
      {
       "output_type": "stream",
       "stream": "stdout",
       "text": [
        " contemplate\n",
        "4562 skeleton\n",
        "4563 caso\n",
        "4564"
       ]
      },
      {
       "output_type": "stream",
       "stream": "stdout",
       "text": [
        " wollen\n",
        "4565"
       ]
      },
      {
       "output_type": "stream",
       "stream": "stdout",
       "text": [
        " ruido\n",
        "4566"
       ]
      },
      {
       "output_type": "stream",
       "stream": "stdout",
       "text": [
        " grade\n",
        "4567 leau\n",
        "4568"
       ]
      },
      {
       "output_type": "stream",
       "stream": "stdout",
       "text": [
        " caus\n",
        "4569"
       ]
      },
      {
       "output_type": "stream",
       "stream": "stdout",
       "text": [
        " effort\n",
        "4570 detre\n",
        "4571"
       ]
      },
      {
       "output_type": "stream",
       "stream": "stdout",
       "text": [
        " hippy\n",
        "4572 fil\n",
        "4573"
       ]
      },
      {
       "output_type": "stream",
       "stream": "stdout",
       "text": [
        " curve\n",
        "4574 dabei\n",
        "4575"
       ]
      },
      {
       "output_type": "stream",
       "stream": "stdout",
       "text": [
        " nossa\n",
        "4576"
       ]
      },
      {
       "output_type": "stream",
       "stream": "stdout",
       "text": [
        " eventual\n",
        "4577 recordar\n",
        "4578"
       ]
      },
      {
       "output_type": "stream",
       "stream": "stdout",
       "text": [
        " disconnect\n",
        "4579 carol\n",
        "4580 strung\n",
        "4581 infierno\n",
        "4582"
       ]
      },
      {
       "output_type": "stream",
       "stream": "stdout",
       "text": [
        " dass.1\n",
        "4583"
       ]
      },
      {
       "output_type": "stream",
       "stream": "stdout",
       "text": [
        " cousin\n",
        "4584 radiate\n",
        "4585 pal\n",
        "4586 stiff\n",
        "4587 trend\n",
        "4588 lento\n",
        "4589 aqu\n",
        "4590"
       ]
      },
      {
       "output_type": "stream",
       "stream": "stdout",
       "text": [
        " terrify\n",
        "4591 fore\n",
        "4592 vide\n",
        "4593"
       ]
      },
      {
       "output_type": "stream",
       "stream": "stdout",
       "text": [
        " beloved\n",
        "4594 channel\n",
        "4595 joli\n",
        "4596"
       ]
      },
      {
       "output_type": "stream",
       "stream": "stdout",
       "text": [
        " parc\n",
        "4597"
       ]
      },
      {
       "output_type": "stream",
       "stream": "stdout",
       "text": [
        " vuol\n",
        "4598"
       ]
      },
      {
       "output_type": "stream",
       "stream": "stdout",
       "text": [
        " entao\n",
        "4599"
       ]
      },
      {
       "output_type": "stream",
       "stream": "stdout",
       "text": [
        " stern\n",
        "4600 cope\n",
        "4601 garbage\n",
        "4602 admire\n",
        "4603 blister\n",
        "4604 sull\n",
        "4605"
       ]
      },
      {
       "output_type": "stream",
       "stream": "stdout",
       "text": [
        " mao\n",
        "4606 odio\n",
        "4607"
       ]
      },
      {
       "output_type": "stream",
       "stream": "stdout",
       "text": [
        " pitch\n",
        "4608 carn\n",
        "4609"
       ]
      },
      {
       "output_type": "stream",
       "stream": "stdout",
       "text": [
        " slipping\n",
        "4610 dong\n",
        "4611 seus\n",
        "4612"
       ]
      },
      {
       "output_type": "stream",
       "stream": "stdout",
       "text": [
        " we'r\n",
        "4613"
       ]
      },
      {
       "output_type": "stream",
       "stream": "stdout",
       "text": [
        " debo\n",
        "4614"
       ]
      },
      {
       "output_type": "stream",
       "stream": "stdout",
       "text": [
        " honki\n",
        "4615"
       ]
      },
      {
       "output_type": "stream",
       "stream": "stdout",
       "text": [
        " shark\n",
        "4616 cari\n",
        "4617"
       ]
      },
      {
       "output_type": "stream",
       "stream": "stdout",
       "text": [
        " afar\n",
        "4618 jest\n",
        "4619 superman\n",
        "4620 pu\n",
        "4621 ust\n",
        "4622"
       ]
      },
      {
       "output_type": "stream",
       "stream": "stdout",
       "text": [
        " sublime\n",
        "4623 hiphop\n",
        "4624"
       ]
      },
      {
       "output_type": "stream",
       "stream": "stdout",
       "text": [
        " ident\n",
        "4625"
       ]
      },
      {
       "output_type": "stream",
       "stream": "stdout",
       "text": [
        " ge\n",
        "4626 billion\n",
        "4627 rocknrol\n",
        "4628"
       ]
      },
      {
       "output_type": "stream",
       "stream": "stdout",
       "text": [
        " punto\n",
        "4629"
       ]
      },
      {
       "output_type": "stream",
       "stream": "stdout",
       "text": [
        " oon\n",
        "4630"
       ]
      },
      {
       "output_type": "stream",
       "stream": "stdout",
       "text": [
        " romeo\n",
        "4631 geen\n",
        "4632"
       ]
      },
      {
       "output_type": "stream",
       "stream": "stdout",
       "text": [
        " banana\n",
        "4633 escuchar\n",
        "4634"
       ]
      },
      {
       "output_type": "stream",
       "stream": "stdout",
       "text": [
        " richard\n",
        "4635"
       ]
      },
      {
       "output_type": "stream",
       "stream": "stdout",
       "text": [
        " livet\n",
        "4636"
       ]
      },
      {
       "output_type": "stream",
       "stream": "stdout",
       "text": [
        " jung\n",
        "4637 fiel\n",
        "4638"
       ]
      },
      {
       "output_type": "stream",
       "stream": "stdout",
       "text": [
        " noos\n",
        "4639"
       ]
      },
      {
       "output_type": "stream",
       "stream": "stdout",
       "text": [
        " begging\n",
        "4640 trunk\n",
        "4641 ink\n",
        "4642 mash\n",
        "4643 succeed\n",
        "4644 toni\n",
        "4645"
       ]
      },
      {
       "output_type": "stream",
       "stream": "stdout",
       "text": [
        " bi\n",
        "4646 spinning\n",
        "4647 powder\n",
        "4648 despierto\n",
        "4649"
       ]
      },
      {
       "output_type": "stream",
       "stream": "stdout",
       "text": [
        " fou\n",
        "4650"
       ]
      },
      {
       "output_type": "stream",
       "stream": "stdout",
       "text": [
        " motherfucking\n",
        "4651"
       ]
      },
      {
       "output_type": "stream",
       "stream": "stdout",
       "text": [
        " hun\n",
        "4652"
       ]
      },
      {
       "output_type": "stream",
       "stream": "stdout",
       "text": [
        " butter\n",
        "4653 fatto\n",
        "4654"
       ]
      },
      {
       "output_type": "stream",
       "stream": "stdout",
       "text": [
        " manchmal\n",
        "4655"
       ]
      },
      {
       "output_type": "stream",
       "stream": "stdout",
       "text": [
        " llevar\n",
        "4656"
       ]
      },
      {
       "output_type": "stream",
       "stream": "stdout",
       "text": [
        " fur.1\n",
        "4657"
       ]
      },
      {
       "output_type": "stream",
       "stream": "stdout",
       "text": [
        " disagree\n",
        "4658 voll\n",
        "4659"
       ]
      },
      {
       "output_type": "stream",
       "stream": "stdout",
       "text": [
        " assure\n",
        "4660 fran\n",
        "4661"
       ]
      },
      {
       "output_type": "stream",
       "stream": "stdout",
       "text": [
        " savoir\n",
        "4662"
       ]
      },
      {
       "output_type": "stream",
       "stream": "stdout",
       "text": [
        " horizontal\n",
        "4663 carnaval\n",
        "4664"
       ]
      },
      {
       "output_type": "stream",
       "stream": "stdout",
       "text": [
        " you'r\n",
        "4665"
       ]
      },
      {
       "output_type": "stream",
       "stream": "stdout",
       "text": [
        " drunken\n",
        "4666 tuck\n",
        "4667 keeper\n",
        "4668 broad\n",
        "4669 maid\n",
        "4670 flock\n",
        "4671 dejame\n",
        "4672"
       ]
      },
      {
       "output_type": "stream",
       "stream": "stdout",
       "text": [
        " gib\n",
        "4673 tellement\n",
        "4674"
       ]
      },
      {
       "output_type": "stream",
       "stream": "stdout",
       "text": [
        " vieux\n",
        "4675"
       ]
      },
      {
       "output_type": "stream",
       "stream": "stdout",
       "text": [
        " tango\n",
        "4676 bailando\n",
        "4677"
       ]
      },
      {
       "output_type": "stream",
       "stream": "stdout",
       "text": [
        " larm\n",
        "4678"
       ]
      },
      {
       "output_type": "stream",
       "stream": "stdout",
       "text": [
        " berlin\n",
        "4679 handsome\n",
        "4680 gefuhl\n",
        "4681"
       ]
      },
      {
       "output_type": "stream",
       "stream": "stdout",
       "text": [
        " blunt\n",
        "4682 qual\n",
        "4683"
       ]
      },
      {
       "output_type": "stream",
       "stream": "stdout",
       "text": [
        " inject\n",
        "4684 timeless\n",
        "4685 schwer\n",
        "4686"
       ]
      },
      {
       "output_type": "stream",
       "stream": "stdout",
       "text": [
        " gi\n",
        "4687 cor\n",
        "4688"
       ]
      },
      {
       "output_type": "stream",
       "stream": "stdout",
       "text": [
        " bonni\n",
        "4689"
       ]
      },
      {
       "output_type": "stream",
       "stream": "stdout",
       "text": [
        " clone\n",
        "4690 alli\n",
        "4691"
       ]
      },
      {
       "output_type": "stream",
       "stream": "stdout",
       "text": [
        " mall\n",
        "4692 wink\n",
        "4693 blanca\n",
        "4694"
       ]
      },
      {
       "output_type": "stream",
       "stream": "stdout",
       "text": [
        " sinto\n",
        "4695"
       ]
      },
      {
       "output_type": "stream",
       "stream": "stdout",
       "text": [
        " mirando\n",
        "4696"
       ]
      },
      {
       "output_type": "stream",
       "stream": "stdout",
       "text": [
        " meaningless\n",
        "4697 nessuno\n",
        "4698"
       ]
      },
      {
       "output_type": "stream",
       "stream": "stdout",
       "text": [
        " laat\n",
        "4699"
       ]
      },
      {
       "output_type": "stream",
       "stream": "stdout",
       "text": [
        " crap\n",
        "4700 legal\n",
        "4701 hypocrite\n",
        "4702 hermano\n",
        "4703"
       ]
      },
      {
       "output_type": "stream",
       "stream": "stdout",
       "text": [
        " passion.2\n",
        "4704"
       ]
      },
      {
       "output_type": "stream",
       "stream": "stdout",
       "text": [
        " aid\n",
        "4705 brooklyn\n",
        "4706 donc\n",
        "4707"
       ]
      },
      {
       "output_type": "stream",
       "stream": "stdout",
       "text": [
        " jak\n",
        "4708 delus\n",
        "4709"
       ]
      },
      {
       "output_type": "stream",
       "stream": "stdout",
       "text": [
        " term\n",
        "4710 primera\n",
        "4711"
       ]
      },
      {
       "output_type": "stream",
       "stream": "stdout",
       "text": [
        " pourtant\n",
        "4712"
       ]
      },
      {
       "output_type": "stream",
       "stream": "stdout",
       "text": [
        " laying\n",
        "4713 conceive\n",
        "4714 seel\n",
        "4715 devastate\n",
        "4716 slick\n",
        "4717 vega\n",
        "4718 pluie\n",
        "4719"
       ]
      },
      {
       "output_type": "stream",
       "stream": "stdout",
       "text": [
        " tax\n",
        "4720 frio\n",
        "4721"
       ]
      },
      {
       "output_type": "stream",
       "stream": "stdout",
       "text": [
        " ty\n",
        "4722"
       ]
      },
      {
       "output_type": "stream",
       "stream": "stdout",
       "text": [
        " virtue\n",
        "4723 lontano\n",
        "4724"
       ]
      },
      {
       "output_type": "stream",
       "stream": "stdout",
       "text": [
        " unable\n",
        "4725 distress\n",
        "4726 bla\n",
        "4727"
       ]
      },
      {
       "output_type": "stream",
       "stream": "stdout",
       "text": [
        " ember\n",
        "4728 wee\n",
        "4729 mmmm\n",
        "4730"
       ]
      },
      {
       "output_type": "stream",
       "stream": "stdout",
       "text": [
        " pedir\n",
        "4731"
       ]
      },
      {
       "output_type": "stream",
       "stream": "stdout",
       "text": [
        " beckon\n",
        "4732 galaxy\n",
        "4733 diz\n",
        "4734"
       ]
      },
      {
       "output_type": "stream",
       "stream": "stdout",
       "text": [
        " ley\n",
        "4735 passo\n",
        "4736"
       ]
      },
      {
       "output_type": "stream",
       "stream": "stdout",
       "text": [
        " mous\n",
        "4737"
       ]
      },
      {
       "output_type": "stream",
       "stream": "stdout",
       "text": [
        " issu\n",
        "4738"
       ]
      },
      {
       "output_type": "stream",
       "stream": "stdout",
       "text": [
        " absurd\n",
        "4739 imma\n",
        "4740"
       ]
      },
      {
       "output_type": "stream",
       "stream": "stdout",
       "text": [
        " zoo\n",
        "4741 rocky\n",
        "4742 pide\n",
        "4743"
       ]
      },
      {
       "output_type": "stream",
       "stream": "stdout",
       "text": [
        " jackson\n",
        "4744 neat\n",
        "4745 itch\n",
        "4746 insect\n",
        "4747 starlight\n",
        "4748 shred\n",
        "4749 000\n",
        "4750"
       ]
      },
      {
       "output_type": "stream",
       "stream": "stdout",
       "text": [
        " segundo\n",
        "4751"
       ]
      },
      {
       "output_type": "stream",
       "stream": "stdout",
       "text": [
        " nooit\n",
        "4752"
       ]
      },
      {
       "output_type": "stream",
       "stream": "stdout",
       "text": [
        " avait\n",
        "4753"
       ]
      },
      {
       "output_type": "stream",
       "stream": "stdout",
       "text": [
        " bonito\n",
        "4754 foundation\n",
        "4755 13\n",
        "4756 mag\n",
        "4757 scarlet\n",
        "4758 lunch\n",
        "4759 sad.1\n",
        "4760"
       ]
      },
      {
       "output_type": "stream",
       "stream": "stdout",
       "text": [
        " leak\n",
        "4761 pres\n",
        "4762"
       ]
      },
      {
       "output_type": "stream",
       "stream": "stdout",
       "text": [
        " bah\n",
        "4763"
       ]
      },
      {
       "output_type": "stream",
       "stream": "stdout",
       "text": [
        " giorni\n",
        "4764"
       ]
      },
      {
       "output_type": "stream",
       "stream": "stdout",
       "text": [
        " siehst\n",
        "4765"
       ]
      },
      {
       "output_type": "stream",
       "stream": "stdout",
       "text": [
        " console\n",
        "4766 flirt\n",
        "4767 absence\n",
        "4768 lalala\n",
        "4769"
       ]
      },
      {
       "output_type": "stream",
       "stream": "stdout",
       "text": [
        " comprehend\n",
        "4770 hin\n",
        "4771"
       ]
      },
      {
       "output_type": "stream",
       "stream": "stdout",
       "text": [
        " scum\n",
        "4772 stride\n",
        "4773 fingertip\n",
        "4774 lua\n",
        "4775"
       ]
      },
      {
       "output_type": "stream",
       "stream": "stdout",
       "text": [
        " translate\n",
        "4776 reputation\n",
        "4777 starry\n",
        "4778 conclusion\n",
        "4779 pouco\n",
        "4780"
       ]
      },
      {
       "output_type": "stream",
       "stream": "stdout",
       "text": [
        " belt\n",
        "4781 alltid\n",
        "4782"
       ]
      },
      {
       "output_type": "stream",
       "stream": "stdout",
       "text": [
        " sig\n",
        "4783"
       ]
      },
      {
       "output_type": "stream",
       "stream": "stdout",
       "text": [
        " tribe\n",
        "4784 illuminate\n",
        "4785 knowing\n",
        "4786 weet\n",
        "4787"
       ]
      },
      {
       "output_type": "stream",
       "stream": "stdout",
       "text": [
        " forg\n",
        "4788"
       ]
      },
      {
       "output_type": "stream",
       "stream": "stdout",
       "text": [
        " minor\n",
        "4789 behave\n",
        "4790 oli\n",
        "4791"
       ]
      },
      {
       "output_type": "stream",
       "stream": "stdout",
       "text": [
        " croir\n",
        "4792"
       ]
      },
      {
       "output_type": "stream",
       "stream": "stdout",
       "text": [
        " troi\n",
        "4793"
       ]
      },
      {
       "output_type": "stream",
       "stream": "stdout",
       "text": [
        " passer\n",
        "4794 dautr\n",
        "4795"
       ]
      },
      {
       "output_type": "stream",
       "stream": "stdout",
       "text": [
        " vela\n",
        "4796 anyhow\n",
        "4797 mock\n",
        "4798 habra\n",
        "4799"
       ]
      },
      {
       "output_type": "stream",
       "stream": "stdout",
       "text": [
        " bir\n",
        "4800"
       ]
      },
      {
       "output_type": "stream",
       "stream": "stdout",
       "text": [
        " espejo\n",
        "4801"
       ]
      },
      {
       "output_type": "stream",
       "stream": "stdout",
       "text": [
        " intense\n",
        "4802 saddle\n",
        "4803 glue\n",
        "4804 rendezvous\n",
        "4805 cd\n",
        "4806 kai\n",
        "4807"
       ]
      },
      {
       "output_type": "stream",
       "stream": "stdout",
       "text": [
        " mio.1\n",
        "4808"
       ]
      },
      {
       "output_type": "stream",
       "stream": "stdout",
       "text": [
        " to.1\n",
        "4809"
       ]
      },
      {
       "output_type": "stream",
       "stream": "stdout",
       "text": [
        " rave\n",
        "4810 dimmi\n",
        "4811"
       ]
      },
      {
       "output_type": "stream",
       "stream": "stdout",
       "text": [
        " retir\n",
        "4812"
       ]
      },
      {
       "output_type": "stream",
       "stream": "stdout",
       "text": [
        " vara\n",
        "4813 molly\n",
        "4814 forbidden\n",
        "4815 combat\n",
        "4816 tripping\n",
        "4817 ingent\n",
        "4818"
       ]
      },
      {
       "output_type": "stream",
       "stream": "stdout",
       "text": [
        " deeply\n",
        "4819 putting\n",
        "4820 silk\n",
        "4821 paranoia\n",
        "4822 weisst\n",
        "4823"
       ]
      },
      {
       "output_type": "stream",
       "stream": "stdout",
       "text": [
        " whirl\n",
        "4824 duty\n",
        "4825 quedan\n",
        "4826"
       ]
      },
      {
       "output_type": "stream",
       "stream": "stdout",
       "text": [
        " adentro\n",
        "4827"
       ]
      },
      {
       "output_type": "stream",
       "stream": "stdout",
       "text": [
        " ditch\n",
        "4828 shave\n",
        "4829 este\n",
        "4830"
       ]
      },
      {
       "output_type": "stream",
       "stream": "stdout",
       "text": [
        " sicken\n",
        "4831 premier\n",
        "4832 bleib\n",
        "4833"
       ]
      },
      {
       "output_type": "stream",
       "stream": "stdout",
       "text": [
        " relieve\n",
        "4834 restor\n",
        "4835"
       ]
      },
      {
       "output_type": "stream",
       "stream": "stdout",
       "text": [
        " unaware\n",
        "4836 quella\n",
        "4837"
       ]
      },
      {
       "output_type": "stream",
       "stream": "stdout",
       "text": [
        " dash\n",
        "4838 gore\n",
        "4839 acabar\n",
        "4840"
       ]
      },
      {
       "output_type": "stream",
       "stream": "stdout",
       "text": [
        " kissing\n",
        "4841 indifferent\n",
        "4842 temperature\n",
        "4843 messing\n",
        "4844 rio.1\n",
        "4845"
       ]
      },
      {
       "output_type": "stream",
       "stream": "stdout",
       "text": [
        " rumble\n",
        "4846 argue\n",
        "4847 freeway\n",
        "4848 mutta\n",
        "4849"
       ]
      },
      {
       "output_type": "stream",
       "stream": "stdout",
       "text": [
        " vuelto\n",
        "4850"
       ]
      },
      {
       "output_type": "stream",
       "stream": "stdout",
       "text": [
        " manipulate.1\n",
        "4851"
       ]
      },
      {
       "output_type": "stream",
       "stream": "stdout",
       "text": [
        " annihilate\n",
        "4852 mek\n",
        "4853 unspoken\n",
        "4854 passage\n",
        "4855 minuto\n",
        "4856"
       ]
      },
      {
       "output_type": "stream",
       "stream": "stdout",
       "text": [
        " fora\n",
        "4857 cosmic\n",
        "4858 despierta\n",
        "4859"
       ]
      },
      {
       "output_type": "stream",
       "stream": "stdout",
       "text": [
        " betti\n",
        "4860"
       ]
      },
      {
       "output_type": "stream",
       "stream": "stdout",
       "text": [
        " request\n",
        "4861 pudiera\n",
        "4862"
       ]
      },
      {
       "output_type": "stream",
       "stream": "stdout",
       "text": [
        " bucket\n",
        "4863 proper\n",
        "4864 ace\n",
        "4865 gritar\n",
        "4866"
       ]
      },
      {
       "output_type": "stream",
       "stream": "stdout",
       "text": [
        " puro\n",
        "4867"
       ]
      },
      {
       "output_type": "stream",
       "stream": "stdout",
       "text": [
        " gown\n",
        "4868 chapter\n",
        "4869 digit\n",
        "4870 actor\n",
        "4871 cambia\n",
        "4872 prendr\n",
        "4873"
       ]
      },
      {
       "output_type": "stream",
       "stream": "stdout",
       "text": [
        " creator\n",
        "4874 skate\n",
        "4875 asking\n",
        "4876 difficult\n",
        "4877 flown\n",
        "4878 nurse\n",
        "4879 sim\n",
        "4880"
       ]
      },
      {
       "output_type": "stream",
       "stream": "stdout",
       "text": [
        " waist\n",
        "4881 gleich\n",
        "4882"
       ]
      },
      {
       "output_type": "stream",
       "stream": "stdout",
       "text": [
        " saben\n",
        "4883"
       ]
      },
      {
       "output_type": "stream",
       "stream": "stdout",
       "text": [
        " collar\n",
        "4884 joue\n",
        "4885"
       ]
      },
      {
       "output_type": "stream",
       "stream": "stdout",
       "text": [
        " demai\n",
        "4886"
       ]
      },
      {
       "output_type": "stream",
       "stream": "stdout",
       "text": [
        " current\n",
        "4887 naiv\n",
        "4888"
       ]
      },
      {
       "output_type": "stream",
       "stream": "stdout",
       "text": [
        " flaw\n",
        "4889 16\n",
        "4890 doigt\n",
        "4891"
       ]
      },
      {
       "output_type": "stream",
       "stream": "stdout",
       "text": [
        " olvida\n",
        "4892"
       ]
      },
      {
       "output_type": "stream",
       "stream": "stdout",
       "text": [
        " comb\n",
        "4893 headlight\n",
        "4894 diablo\n",
        "4895"
       ]
      },
      {
       "output_type": "stream",
       "stream": "stdout",
       "text": [
        " suav\n",
        "4896"
       ]
      },
      {
       "output_type": "stream",
       "stream": "stdout",
       "text": [
        " ascend\n",
        "4897 cree\n",
        "4898 vete\n",
        "4899"
       ]
      },
      {
       "output_type": "stream",
       "stream": "stdout",
       "text": [
        " pledge\n",
        "4900 mistaken\n",
        "4901 method\n",
        "4902 vague\n",
        "4903 dura\n",
        "4904 voit\n",
        "4905"
       ]
      },
      {
       "output_type": "stream",
       "stream": "stdout",
       "text": [
        " maiden\n",
        "4906 sangue\n",
        "4907"
       ]
      },
      {
       "output_type": "stream",
       "stream": "stdout",
       "text": [
        " ando\n",
        "4908"
       ]
      },
      {
       "output_type": "stream",
       "stream": "stdout",
       "text": [
        " element\n",
        "4909 cae\n",
        "4910"
       ]
      },
      {
       "output_type": "stream",
       "stream": "stdout",
       "text": [
        " entir\n",
        "4911"
       ]
      },
      {
       "output_type": "stream",
       "stream": "stdout",
       "text": [
        " alleluia\n",
        "4912"
       ]
      },
      {
       "output_type": "stream",
       "stream": "stdout",
       "text": [
        " oft\n",
        "4913 intox\n",
        "4914"
       ]
      },
      {
       "output_type": "stream",
       "stream": "stdout",
       "text": [
        " besser\n",
        "4915"
       ]
      },
      {
       "output_type": "stream",
       "stream": "stdout",
       "text": [
        " pueden\n",
        "4916"
       ]
      },
      {
       "output_type": "stream",
       "stream": "stdout",
       "text": [
        " rug\n",
        "4917 aura\n",
        "4918"
       ]
      },
      {
       "output_type": "stream",
       "stream": "stdout",
       "text": [
        " guest\n",
        "4919 chamber\n",
        "4920 sere\n",
        "4921 jukebox\n",
        "4922 skinny\n",
        "4923 wissen\n",
        "4924"
       ]
      },
      {
       "output_type": "stream",
       "stream": "stdout",
       "text": [
        " holla\n",
        "4925 church.1\n",
        "4926"
       ]
      },
      {
       "output_type": "stream",
       "stream": "stdout",
       "text": [
        " hurting\n",
        "4927 eager\n",
        "4928 hij\n",
        "4929"
       ]
      },
      {
       "output_type": "stream",
       "stream": "stdout",
       "text": [
        " tenemo\n",
        "4930"
       ]
      },
      {
       "output_type": "stream",
       "stream": "stdout",
       "text": [
        " dedo\n",
        "4931"
       ]
      },
      {
       "output_type": "stream",
       "stream": "stdout",
       "text": [
        " droit\n",
        "4932"
       ]
      },
      {
       "output_type": "stream",
       "stream": "stdout",
       "text": [
        " glisten\n",
        "4933 assassin\n",
        "4934 landscap\n",
        "4935"
       ]
      },
      {
       "output_type": "stream",
       "stream": "stdout",
       "text": [
        " alleen\n",
        "4936"
       ]
      },
      {
       "output_type": "stream",
       "stream": "stdout",
       "text": [
        " mutil\n",
        "4937"
       ]
      },
      {
       "output_type": "stream",
       "stream": "stdout",
       "text": [
        " seein\n",
        "4938"
       ]
      },
      {
       "output_type": "stream",
       "stream": "stdout",
       "text": [
        " senseless\n",
        "4939 golp\n",
        "4940"
       ]
      },
      {
       "output_type": "stream",
       "stream": "stdout",
       "text": [
        " lili\n",
        "4941"
       ]
      },
      {
       "output_type": "stream",
       "stream": "stdout",
       "text": [
        " cant.1\n",
        "4942"
       ]
      },
      {
       "output_type": "stream",
       "stream": "stdout",
       "text": [
        " jaurai\n",
        "4943"
       ]
      },
      {
       "output_type": "stream",
       "stream": "stdout",
       "text": [
        " auto\n",
        "4944 kvar\n",
        "4945"
       ]
      },
      {
       "output_type": "stream",
       "stream": "stdout",
       "text": [
        " structure\n",
        "4946 assume\n",
        "4947 veneno\n",
        "4948"
       ]
      },
      {
       "output_type": "stream",
       "stream": "stdout",
       "text": [
        " spawn\n",
        "4949 proclaim\n",
        "4950 threaten\n",
        "4951 distancia\n",
        "4952"
       ]
      },
      {
       "output_type": "stream",
       "stream": "stdout",
       "text": [
        " magia\n",
        "4953"
       ]
      },
      {
       "output_type": "stream",
       "stream": "stdout",
       "text": [
        " swirl\n",
        "4954 curious\n",
        "4955 complex\n",
        "4956 uptown\n",
        "4957 100\n",
        "4958 advance\n",
        "4959 alegria\n",
        "4960"
       ]
      },
      {
       "output_type": "stream",
       "stream": "stdout",
       "text": [
        " empieza\n",
        "4961"
       ]
      },
      {
       "output_type": "stream",
       "stream": "stdout",
       "text": [
        " hah\n",
        "4962"
       ]
      },
      {
       "output_type": "stream",
       "stream": "stdout",
       "text": [
        " dug\n",
        "4963 aquello\n",
        "4964"
       ]
      },
      {
       "output_type": "stream",
       "stream": "stdout",
       "text": [
        " lucif\n",
        "4965"
       ]
      },
      {
       "output_type": "stream",
       "stream": "stdout",
       "text": [
        " cruz\n",
        "4966"
       ]
      },
      {
       "output_type": "stream",
       "stream": "stdout",
       "text": [
        " jamaica\n",
        "4967 flavor\n",
        "4968 kuinka\n",
        "4969"
       ]
      },
      {
       "output_type": "stream",
       "stream": "stdout",
       "text": [
        " uit\n",
        "4970"
       ]
      },
      {
       "output_type": "stream",
       "stream": "stdout",
       "text": [
        " 24\n",
        "4971 anguish\n",
        "4972 foto\n",
        "4973"
       ]
      },
      {
       "output_type": "stream",
       "stream": "stdout",
       "text": [
        " chat\n",
        "4974 jetai\n",
        "4975"
       ]
      },
      {
       "output_type": "stream",
       "stream": "stdout",
       "text": [
        " caminho\n",
        "4976"
       ]
      },
      {
       "output_type": "stream",
       "stream": "stdout",
       "text": [
        " observe\n",
        "4977 altro\n",
        "4978"
       ]
      },
      {
       "output_type": "stream",
       "stream": "stdout",
       "text": [
        " javai\n",
        "4979"
       ]
      },
      {
       "output_type": "stream",
       "stream": "stdout",
       "text": [
        " yang\n",
        "4980 oer\n",
        "4981"
       ]
      },
      {
       "output_type": "stream",
       "stream": "stdout",
       "text": [
        " nickel\n",
        "4982 booz\n",
        "4983"
       ]
      },
      {
       "output_type": "stream",
       "stream": "stdout",
       "text": [
        " sew\n",
        "4984 musica.1\n",
        "4985"
       ]
      },
      {
       "output_type": "stream",
       "stream": "stdout",
       "text": [
        " stay.1\n",
        "4986"
       ]
      },
      {
       "output_type": "stream",
       "stream": "stdout",
       "text": [
        " naughty\n",
        "4987 entiendo\n",
        "4988"
       ]
      },
      {
       "output_type": "stream",
       "stream": "stdout",
       "text": [
        " star.1\n",
        "4989"
       ]
      },
      {
       "output_type": "stream",
       "stream": "stdout",
       "text": [
        " champion\n",
        "4990 forsake\n",
        "4991 seventh\n",
        "4992 capital\n",
        "4993 writer\n",
        "4994 motivo\n",
        "4995"
       ]
      },
      {
       "output_type": "stream",
       "stream": "stdout",
       "text": [
        " bake\n",
        "4996 insist\n",
        "4997 wel\n",
        "4998"
       ]
      },
      {
       "output_type": "stream",
       "stream": "stdout",
       "text": [
        " santo\n",
        "4999"
       ]
      },
      {
       "output_type": "stream",
       "stream": "stdout",
       "text": [
        " pe\n",
        "5000 gee\n",
        "5001 college\n",
        "5002 kad\n"
       ]
      },
      {
       "html": [
        "<div style=\"max-height:1000px;max-width:1500px;overflow:auto;\">\n",
        "<table border=\"1\" class=\"dataframe\">\n",
        "  <thead>\n",
        "    <tr style=\"text-align: right;\">\n",
        "      <th></th>\n",
        "      <th>track_id</th>\n",
        "      <th>mxm_track_id</th>\n",
        "      <th>love</th>\n",
        "      <th>know</th>\n",
        "      <th>like</th>\n",
        "      <th>time</th>\n",
        "      <th>go</th>\n",
        "      <th>oh</th>\n",
        "      <th>one</th>\n",
        "      <th>get</th>\n",
        "      <th>...</th>\n",
        "      <th>champion</th>\n",
        "      <th>forsake</th>\n",
        "      <th>seventh</th>\n",
        "      <th>capital</th>\n",
        "      <th>writer</th>\n",
        "      <th>bake</th>\n",
        "      <th>insist</th>\n",
        "      <th>pe</th>\n",
        "      <th>gee</th>\n",
        "      <th>college</th>\n",
        "    </tr>\n",
        "  </thead>\n",
        "  <tbody>\n",
        "    <tr>\n",
        "      <th>0</th>\n",
        "      <td>TRAABRX12903CC4816</td>\n",
        "      <td>1548880</td>\n",
        "      <td>0</td>\n",
        "      <td>0</td>\n",
        "      <td>0</td>\n",
        "      <td>0</td>\n",
        "      <td>0</td>\n",
        "      <td>8</td>\n",
        "      <td>0</td>\n",
        "      <td>0</td>\n",
        "      <td>...</td>\n",
        "      <td>0</td>\n",
        "      <td>0</td>\n",
        "      <td>0</td>\n",
        "      <td>0</td>\n",
        "      <td>0</td>\n",
        "      <td>0</td>\n",
        "      <td>0</td>\n",
        "      <td>0</td>\n",
        "      <td>0</td>\n",
        "      <td>0</td>\n",
        "    </tr>\n",
        "    <tr>\n",
        "      <th>1</th>\n",
        "      <td>TRAADFO128F92E1E91</td>\n",
        "      <td>5325944</td>\n",
        "      <td>0</td>\n",
        "      <td>3</td>\n",
        "      <td>4</td>\n",
        "      <td>0</td>\n",
        "      <td>3</td>\n",
        "      <td>0</td>\n",
        "      <td>1</td>\n",
        "      <td>5</td>\n",
        "      <td>...</td>\n",
        "      <td>0</td>\n",
        "      <td>0</td>\n",
        "      <td>0</td>\n",
        "      <td>0</td>\n",
        "      <td>0</td>\n",
        "      <td>0</td>\n",
        "      <td>0</td>\n",
        "      <td>0</td>\n",
        "      <td>0</td>\n",
        "      <td>0</td>\n",
        "    </tr>\n",
        "    <tr>\n",
        "      <th>2</th>\n",
        "      <td>TRAADQW128F427CE68</td>\n",
        "      <td>3811449</td>\n",
        "      <td>0</td>\n",
        "      <td>0</td>\n",
        "      <td>0</td>\n",
        "      <td>0</td>\n",
        "      <td>0</td>\n",
        "      <td>0</td>\n",
        "      <td>0</td>\n",
        "      <td>0</td>\n",
        "      <td>...</td>\n",
        "      <td>0</td>\n",
        "      <td>0</td>\n",
        "      <td>0</td>\n",
        "      <td>0</td>\n",
        "      <td>0</td>\n",
        "      <td>0</td>\n",
        "      <td>0</td>\n",
        "      <td>0</td>\n",
        "      <td>0</td>\n",
        "      <td>0</td>\n",
        "    </tr>\n",
        "    <tr>\n",
        "      <th>3</th>\n",
        "      <td>TRAADRX12903D0EFE8</td>\n",
        "      <td>5583484</td>\n",
        "      <td>0</td>\n",
        "      <td>0</td>\n",
        "      <td>0</td>\n",
        "      <td>0</td>\n",
        "      <td>0</td>\n",
        "      <td>0</td>\n",
        "      <td>0</td>\n",
        "      <td>0</td>\n",
        "      <td>...</td>\n",
        "      <td>0</td>\n",
        "      <td>0</td>\n",
        "      <td>0</td>\n",
        "      <td>0</td>\n",
        "      <td>0</td>\n",
        "      <td>0</td>\n",
        "      <td>0</td>\n",
        "      <td>0</td>\n",
        "      <td>0</td>\n",
        "      <td>0</td>\n",
        "    </tr>\n",
        "    <tr>\n",
        "      <th>4</th>\n",
        "      <td>TRAAEJQ128F92C484E</td>\n",
        "      <td>9124657</td>\n",
        "      <td>14</td>\n",
        "      <td>2</td>\n",
        "      <td>0</td>\n",
        "      <td>10</td>\n",
        "      <td>0</td>\n",
        "      <td>0</td>\n",
        "      <td>0</td>\n",
        "      <td>0</td>\n",
        "      <td>...</td>\n",
        "      <td>0</td>\n",
        "      <td>0</td>\n",
        "      <td>0</td>\n",
        "      <td>0</td>\n",
        "      <td>0</td>\n",
        "      <td>0</td>\n",
        "      <td>0</td>\n",
        "      <td>0</td>\n",
        "      <td>0</td>\n",
        "      <td>0</td>\n",
        "    </tr>\n",
        "  </tbody>\n",
        "</table>\n",
        "<p>5 rows \u00d7 3172 columns</p>\n",
        "</div>"
       ],
       "metadata": {},
       "output_type": "pyout",
       "prompt_number": 5,
       "text": [
        "             track_id  mxm_track_id  love  know  like  time  go  oh  one  get  \\\n",
        "0  TRAABRX12903CC4816       1548880     0     0     0     0   0   8    0    0   \n",
        "1  TRAADFO128F92E1E91       5325944     0     3     4     0   3   0    1    5   \n",
        "2  TRAADQW128F427CE68       3811449     0     0     0     0   0   0    0    0   \n",
        "3  TRAADRX12903D0EFE8       5583484     0     0     0     0   0   0    0    0   \n",
        "4  TRAAEJQ128F92C484E       9124657    14     2     0    10   0   0    0    0   \n",
        "\n",
        "    ...     champion  forsake  seventh  capital  writer  bake  insist  pe  \\\n",
        "0   ...            0        0        0        0       0     0       0   0   \n",
        "1   ...            0        0        0        0       0     0       0   0   \n",
        "2   ...            0        0        0        0       0     0       0   0   \n",
        "3   ...            0        0        0        0       0     0       0   0   \n",
        "4   ...            0        0        0        0       0     0       0   0   \n",
        "\n",
        "   gee  college  \n",
        "0    0        0  \n",
        "1    0        0  \n",
        "2    0        0  \n",
        "3    0        0  \n",
        "4    0        0  \n",
        "\n",
        "[5 rows x 3172 columns]"
       ]
      }
     ],
     "prompt_number": 5
    },
    {
     "cell_type": "code",
     "collapsed": false,
     "input": [
      "dfshort.to_csv('final_test_short.csv',sep=',',index=False)"
     ],
     "language": "python",
     "metadata": {},
     "outputs": [],
     "prompt_number": 6
    },
    {
     "cell_type": "code",
     "collapsed": false,
     "input": [
      "#loads the shortened and cleaned up table so that it doesn't need to be created again\n",
      "dfshort = pd.DataFrame.from_csv(\n",
      "    'final_test_short.csv',\n",
      "    index_col=False\n",
      ")\n",
      "\n",
      "dfshort.head()"
     ],
     "language": "python",
     "metadata": {},
     "outputs": [
      {
       "html": [
        "<div style=\"max-height:1000px;max-width:1500px;overflow:auto;\">\n",
        "<table border=\"1\" class=\"dataframe\">\n",
        "  <thead>\n",
        "    <tr style=\"text-align: right;\">\n",
        "      <th></th>\n",
        "      <th>track_id</th>\n",
        "      <th>mxm_track_id</th>\n",
        "      <th>love</th>\n",
        "      <th>know</th>\n",
        "      <th>like</th>\n",
        "      <th>time</th>\n",
        "      <th>go</th>\n",
        "      <th>oh</th>\n",
        "      <th>one</th>\n",
        "      <th>get</th>\n",
        "      <th>...</th>\n",
        "      <th>champion</th>\n",
        "      <th>forsake</th>\n",
        "      <th>seventh</th>\n",
        "      <th>capital</th>\n",
        "      <th>writer</th>\n",
        "      <th>bake</th>\n",
        "      <th>insist</th>\n",
        "      <th>pe</th>\n",
        "      <th>gee</th>\n",
        "      <th>college</th>\n",
        "    </tr>\n",
        "  </thead>\n",
        "  <tbody>\n",
        "    <tr>\n",
        "      <th>0</th>\n",
        "      <td>TRAABRX12903CC4816</td>\n",
        "      <td>1548880</td>\n",
        "      <td>0</td>\n",
        "      <td>0</td>\n",
        "      <td>0</td>\n",
        "      <td>0</td>\n",
        "      <td>0</td>\n",
        "      <td>8</td>\n",
        "      <td>0</td>\n",
        "      <td>0</td>\n",
        "      <td>...</td>\n",
        "      <td>0</td>\n",
        "      <td>0</td>\n",
        "      <td>0</td>\n",
        "      <td>0</td>\n",
        "      <td>0</td>\n",
        "      <td>0</td>\n",
        "      <td>0</td>\n",
        "      <td>0</td>\n",
        "      <td>0</td>\n",
        "      <td>0</td>\n",
        "    </tr>\n",
        "    <tr>\n",
        "      <th>1</th>\n",
        "      <td>TRAADFO128F92E1E91</td>\n",
        "      <td>5325944</td>\n",
        "      <td>0</td>\n",
        "      <td>3</td>\n",
        "      <td>4</td>\n",
        "      <td>0</td>\n",
        "      <td>3</td>\n",
        "      <td>0</td>\n",
        "      <td>1</td>\n",
        "      <td>5</td>\n",
        "      <td>...</td>\n",
        "      <td>0</td>\n",
        "      <td>0</td>\n",
        "      <td>0</td>\n",
        "      <td>0</td>\n",
        "      <td>0</td>\n",
        "      <td>0</td>\n",
        "      <td>0</td>\n",
        "      <td>0</td>\n",
        "      <td>0</td>\n",
        "      <td>0</td>\n",
        "    </tr>\n",
        "    <tr>\n",
        "      <th>2</th>\n",
        "      <td>TRAADQW128F427CE68</td>\n",
        "      <td>3811449</td>\n",
        "      <td>0</td>\n",
        "      <td>0</td>\n",
        "      <td>0</td>\n",
        "      <td>0</td>\n",
        "      <td>0</td>\n",
        "      <td>0</td>\n",
        "      <td>0</td>\n",
        "      <td>0</td>\n",
        "      <td>...</td>\n",
        "      <td>0</td>\n",
        "      <td>0</td>\n",
        "      <td>0</td>\n",
        "      <td>0</td>\n",
        "      <td>0</td>\n",
        "      <td>0</td>\n",
        "      <td>0</td>\n",
        "      <td>0</td>\n",
        "      <td>0</td>\n",
        "      <td>0</td>\n",
        "    </tr>\n",
        "    <tr>\n",
        "      <th>3</th>\n",
        "      <td>TRAADRX12903D0EFE8</td>\n",
        "      <td>5583484</td>\n",
        "      <td>0</td>\n",
        "      <td>0</td>\n",
        "      <td>0</td>\n",
        "      <td>0</td>\n",
        "      <td>0</td>\n",
        "      <td>0</td>\n",
        "      <td>0</td>\n",
        "      <td>0</td>\n",
        "      <td>...</td>\n",
        "      <td>0</td>\n",
        "      <td>0</td>\n",
        "      <td>0</td>\n",
        "      <td>0</td>\n",
        "      <td>0</td>\n",
        "      <td>0</td>\n",
        "      <td>0</td>\n",
        "      <td>0</td>\n",
        "      <td>0</td>\n",
        "      <td>0</td>\n",
        "    </tr>\n",
        "    <tr>\n",
        "      <th>4</th>\n",
        "      <td>TRAAEJQ128F92C484E</td>\n",
        "      <td>9124657</td>\n",
        "      <td>14</td>\n",
        "      <td>2</td>\n",
        "      <td>0</td>\n",
        "      <td>10</td>\n",
        "      <td>0</td>\n",
        "      <td>0</td>\n",
        "      <td>0</td>\n",
        "      <td>0</td>\n",
        "      <td>...</td>\n",
        "      <td>0</td>\n",
        "      <td>0</td>\n",
        "      <td>0</td>\n",
        "      <td>0</td>\n",
        "      <td>0</td>\n",
        "      <td>0</td>\n",
        "      <td>0</td>\n",
        "      <td>0</td>\n",
        "      <td>0</td>\n",
        "      <td>0</td>\n",
        "    </tr>\n",
        "  </tbody>\n",
        "</table>\n",
        "<p>5 rows \u00d7 3172 columns</p>\n",
        "</div>"
       ],
       "metadata": {},
       "output_type": "pyout",
       "prompt_number": 10,
       "text": [
        "             track_id  mxm_track_id  love  know  like  time  go  oh  one  get  \\\n",
        "0  TRAABRX12903CC4816       1548880     0     0     0     0   0   8    0    0   \n",
        "1  TRAADFO128F92E1E91       5325944     0     3     4     0   3   0    1    5   \n",
        "2  TRAADQW128F427CE68       3811449     0     0     0     0   0   0    0    0   \n",
        "3  TRAADRX12903D0EFE8       5583484     0     0     0     0   0   0    0    0   \n",
        "4  TRAAEJQ128F92C484E       9124657    14     2     0    10   0   0    0    0   \n",
        "\n",
        "    ...     champion  forsake  seventh  capital  writer  bake  insist  pe  \\\n",
        "0   ...            0        0        0        0       0     0       0   0   \n",
        "1   ...            0        0        0        0       0     0       0   0   \n",
        "2   ...            0        0        0        0       0     0       0   0   \n",
        "3   ...            0        0        0        0       0     0       0   0   \n",
        "4   ...            0        0        0        0       0     0       0   0   \n",
        "\n",
        "   gee  college  \n",
        "0    0        0  \n",
        "1    0        0  \n",
        "2    0        0  \n",
        "3    0        0  \n",
        "4    0        0  \n",
        "\n",
        "[5 rows x 3172 columns]"
       ]
      }
     ],
     "prompt_number": 10
    },
    {
     "cell_type": "code",
     "collapsed": false,
     "input": [
      "import pandas as pd\n",
      "#awk 'BEGIN{FS=\",\"}{for(i=3;i<=NF;i++) t+=$i; if (t!=0) print; t=0}' final_test_short.csv > final_test_short.csv.row\n",
      "#takes out all the rows with no key words\n",
      "dfshortrow = pd.DataFrame.from_csv(\n",
      "    'final_test_short.csv.row',\n",
      "    index_col=False\n",
      ")\n",
      "\n",
      "dfshortrow.head()"
     ],
     "language": "python",
     "metadata": {},
     "outputs": [
      {
       "html": [
        "<div style=\"max-height:1000px;max-width:1500px;overflow:auto;\">\n",
        "<table border=\"1\" class=\"dataframe\">\n",
        "  <thead>\n",
        "    <tr style=\"text-align: right;\">\n",
        "      <th></th>\n",
        "      <th>track_id</th>\n",
        "      <th>mxm_track_id</th>\n",
        "      <th>love</th>\n",
        "      <th>know</th>\n",
        "      <th>like</th>\n",
        "      <th>time</th>\n",
        "      <th>go</th>\n",
        "      <th>oh</th>\n",
        "      <th>one</th>\n",
        "      <th>get</th>\n",
        "      <th>...</th>\n",
        "      <th>champion</th>\n",
        "      <th>forsake</th>\n",
        "      <th>seventh</th>\n",
        "      <th>capital</th>\n",
        "      <th>writer</th>\n",
        "      <th>bake</th>\n",
        "      <th>insist</th>\n",
        "      <th>pe</th>\n",
        "      <th>gee</th>\n",
        "      <th>college</th>\n",
        "    </tr>\n",
        "  </thead>\n",
        "  <tbody>\n",
        "    <tr>\n",
        "      <th>0</th>\n",
        "      <td>TRAABRX12903CC4816</td>\n",
        "      <td>1548880</td>\n",
        "      <td>0</td>\n",
        "      <td>0</td>\n",
        "      <td>0</td>\n",
        "      <td>0</td>\n",
        "      <td>0</td>\n",
        "      <td>8</td>\n",
        "      <td>0</td>\n",
        "      <td>0</td>\n",
        "      <td>...</td>\n",
        "      <td>0</td>\n",
        "      <td>0</td>\n",
        "      <td>0</td>\n",
        "      <td>0</td>\n",
        "      <td>0</td>\n",
        "      <td>0</td>\n",
        "      <td>0</td>\n",
        "      <td>0</td>\n",
        "      <td>0</td>\n",
        "      <td>0</td>\n",
        "    </tr>\n",
        "    <tr>\n",
        "      <th>1</th>\n",
        "      <td>TRAADFO128F92E1E91</td>\n",
        "      <td>5325944</td>\n",
        "      <td>0</td>\n",
        "      <td>3</td>\n",
        "      <td>4</td>\n",
        "      <td>0</td>\n",
        "      <td>3</td>\n",
        "      <td>0</td>\n",
        "      <td>1</td>\n",
        "      <td>5</td>\n",
        "      <td>...</td>\n",
        "      <td>0</td>\n",
        "      <td>0</td>\n",
        "      <td>0</td>\n",
        "      <td>0</td>\n",
        "      <td>0</td>\n",
        "      <td>0</td>\n",
        "      <td>0</td>\n",
        "      <td>0</td>\n",
        "      <td>0</td>\n",
        "      <td>0</td>\n",
        "    </tr>\n",
        "    <tr>\n",
        "      <th>2</th>\n",
        "      <td>TRAADQW128F427CE68</td>\n",
        "      <td>3811449</td>\n",
        "      <td>0</td>\n",
        "      <td>0</td>\n",
        "      <td>0</td>\n",
        "      <td>0</td>\n",
        "      <td>0</td>\n",
        "      <td>0</td>\n",
        "      <td>0</td>\n",
        "      <td>0</td>\n",
        "      <td>...</td>\n",
        "      <td>0</td>\n",
        "      <td>0</td>\n",
        "      <td>0</td>\n",
        "      <td>0</td>\n",
        "      <td>0</td>\n",
        "      <td>0</td>\n",
        "      <td>0</td>\n",
        "      <td>0</td>\n",
        "      <td>0</td>\n",
        "      <td>0</td>\n",
        "    </tr>\n",
        "    <tr>\n",
        "      <th>3</th>\n",
        "      <td>TRAADRX12903D0EFE8</td>\n",
        "      <td>5583484</td>\n",
        "      <td>0</td>\n",
        "      <td>0</td>\n",
        "      <td>0</td>\n",
        "      <td>0</td>\n",
        "      <td>0</td>\n",
        "      <td>0</td>\n",
        "      <td>0</td>\n",
        "      <td>0</td>\n",
        "      <td>...</td>\n",
        "      <td>0</td>\n",
        "      <td>0</td>\n",
        "      <td>0</td>\n",
        "      <td>0</td>\n",
        "      <td>0</td>\n",
        "      <td>0</td>\n",
        "      <td>0</td>\n",
        "      <td>0</td>\n",
        "      <td>0</td>\n",
        "      <td>0</td>\n",
        "    </tr>\n",
        "    <tr>\n",
        "      <th>4</th>\n",
        "      <td>TRAAEJQ128F92C484E</td>\n",
        "      <td>9124657</td>\n",
        "      <td>14</td>\n",
        "      <td>2</td>\n",
        "      <td>0</td>\n",
        "      <td>10</td>\n",
        "      <td>0</td>\n",
        "      <td>0</td>\n",
        "      <td>0</td>\n",
        "      <td>0</td>\n",
        "      <td>...</td>\n",
        "      <td>0</td>\n",
        "      <td>0</td>\n",
        "      <td>0</td>\n",
        "      <td>0</td>\n",
        "      <td>0</td>\n",
        "      <td>0</td>\n",
        "      <td>0</td>\n",
        "      <td>0</td>\n",
        "      <td>0</td>\n",
        "      <td>0</td>\n",
        "    </tr>\n",
        "  </tbody>\n",
        "</table>\n",
        "<p>5 rows \u00d7 3172 columns</p>\n",
        "</div>"
       ],
       "metadata": {},
       "output_type": "pyout",
       "prompt_number": 1,
       "text": [
        "             track_id  mxm_track_id  love  know  like  time  go  oh  one  get  \\\n",
        "0  TRAABRX12903CC4816       1548880     0     0     0     0   0   8    0    0   \n",
        "1  TRAADFO128F92E1E91       5325944     0     3     4     0   3   0    1    5   \n",
        "2  TRAADQW128F427CE68       3811449     0     0     0     0   0   0    0    0   \n",
        "3  TRAADRX12903D0EFE8       5583484     0     0     0     0   0   0    0    0   \n",
        "4  TRAAEJQ128F92C484E       9124657    14     2     0    10   0   0    0    0   \n",
        "\n",
        "    ...     champion  forsake  seventh  capital  writer  bake  insist  pe  \\\n",
        "0   ...            0        0        0        0       0     0       0   0   \n",
        "1   ...            0        0        0        0       0     0       0   0   \n",
        "2   ...            0        0        0        0       0     0       0   0   \n",
        "3   ...            0        0        0        0       0     0       0   0   \n",
        "4   ...            0        0        0        0       0     0       0   0   \n",
        "\n",
        "   gee  college  \n",
        "0    0        0  \n",
        "1    0        0  \n",
        "2    0        0  \n",
        "3    0        0  \n",
        "4    0        0  \n",
        "\n",
        "[5 rows x 3172 columns]"
       ]
      }
     ],
     "prompt_number": 1
    },
    {
     "cell_type": "code",
     "collapsed": false,
     "input": [
      "del dfshortrow[\"mxm_track_id\"]"
     ],
     "language": "python",
     "metadata": {},
     "outputs": []
    },
    {
     "cell_type": "code",
     "collapsed": false,
     "input": [
      "dfshortrow[\"0sum0\"]=dfshortrow.sum(axis=1)"
     ],
     "language": "python",
     "metadata": {},
     "outputs": [],
     "prompt_number": 4
    },
    {
     "cell_type": "code",
     "collapsed": false,
     "input": [
      "dfshortrow[\"0sum0\"].to_csv('sum_of_rows',sep=',',index=False)\n",
      "print dfshortrow[\"0sum0\"]"
     ],
     "language": "python",
     "metadata": {},
     "outputs": [
      {
       "output_type": "stream",
       "stream": "stdout",
       "text": [
        "0        116\n",
        "1        200\n",
        "2         10\n",
        "3          3\n",
        "4        140\n",
        "5         64\n",
        "6         57\n",
        "7         12\n",
        "8         84\n",
        "9         63\n",
        "10        99\n",
        "11       100\n",
        "12        73\n",
        "13       108\n",
        "14       173\n",
        "15        53\n",
        "16        39\n",
        "17        54\n",
        "18        50\n",
        "19        57\n",
        "20       259\n",
        "21        18\n",
        "22        24\n",
        "23       344\n",
        "24        86\n",
        "25        64\n",
        "26        11\n",
        "27       109\n",
        "28        29\n",
        "29        14\n",
        "        ... \n",
        "26947     25\n",
        "26948     76\n",
        "26949     73\n",
        "26950    138\n",
        "26951     29\n",
        "26952    111\n",
        "26953     60\n",
        "26954     85\n",
        "26955    216\n",
        "26956     67\n",
        "26957    230\n",
        "26958    207\n",
        "26959    174\n",
        "26960    109\n",
        "26961     83\n",
        "26962     17\n",
        "26963     99\n",
        "26964     54\n",
        "26965    193\n",
        "26966     98\n",
        "26967     62\n",
        "26968     22\n",
        "26969     82\n",
        "26970    134\n",
        "26971     39\n",
        "26972     90\n",
        "26973     33\n",
        "26974     10\n",
        "26975     14\n",
        "26976     66\n",
        "Name: 0sum0, dtype: float64\n"
       ]
      }
     ],
     "prompt_number": 14
    },
    {
     "cell_type": "code",
     "collapsed": false,
     "input": [
      "dfmil = pd.DataFrame.from_csv(\n",
      "    'mill_features.csv',\n",
      "    index_col=False\n",
      ")\n",
      "\n",
      "temp1 = pd.merge(dfshortrow_ID, dfmil, how='inner', on=['track_id'])\n",
      "temp1.shape\n",
      "\n",
      "dfsong_names = pd.DataFrame.from_csv(\n",
      "    'unique_tracks.csv',\n",
      "    index_col=False\n",
      ")\n",
      "\n",
      "temp2 = pd.merge(dfsong_names, temp1, how='inner', on=['track_id'])\n",
      "temp2.shape\n",
      "#temp2.head()\n",
      "df_almost_final= temp2[['track_id','artist_name','song_title','key','mode','tempo']]\n",
      "df_almost_final.head()"
     ],
     "language": "python",
     "metadata": {},
     "outputs": [
      {
       "html": [
        "<div style=\"max-height:1000px;max-width:1500px;overflow:auto;\">\n",
        "<table border=\"1\" class=\"dataframe\">\n",
        "  <thead>\n",
        "    <tr style=\"text-align: right;\">\n",
        "      <th></th>\n",
        "      <th>track_id</th>\n",
        "      <th>artist_name</th>\n",
        "      <th>song_title</th>\n",
        "      <th>key</th>\n",
        "      <th>mode</th>\n",
        "      <th>tempo</th>\n",
        "    </tr>\n",
        "  </thead>\n",
        "  <tbody>\n",
        "    <tr>\n",
        "      <th>0</th>\n",
        "      <td>TRMMMKI128F931D80D</td>\n",
        "      <td>Lena Philipsson</td>\n",
        "      <td>006</td>\n",
        "      <td>11</td>\n",
        "      <td>1</td>\n",
        "      <td>122.332</td>\n",
        "    </tr>\n",
        "    <tr>\n",
        "      <th>1</th>\n",
        "      <td>TRMMMQY128F92F0EA3</td>\n",
        "      <td>Dying Fetus</td>\n",
        "      <td>Ethos of Coercion</td>\n",
        "      <td>8</td>\n",
        "      <td>1</td>\n",
        "      <td>189.346</td>\n",
        "    </tr>\n",
        "    <tr>\n",
        "      <th>2</th>\n",
        "      <td>TRMMMFJ128F92E15AC</td>\n",
        "      <td>Neffa</td>\n",
        "      <td>Passione</td>\n",
        "      <td>5</td>\n",
        "      <td>0</td>\n",
        "      <td>112.945</td>\n",
        "    </tr>\n",
        "    <tr>\n",
        "      <th>3</th>\n",
        "      <td>TRMMWJY128F1469B8A</td>\n",
        "      <td>Luis Eduardo Aute</td>\n",
        "      <td>What Matters Is Just You</td>\n",
        "      <td>6</td>\n",
        "      <td>0</td>\n",
        "      <td>195.338</td>\n",
        "    </tr>\n",
        "    <tr>\n",
        "      <th>4</th>\n",
        "      <td>TRMMGGU128F14A93DD</td>\n",
        "      <td>Zen Cafe</td>\n",
        "      <td>En oo koskaan tavannut</td>\n",
        "      <td>2</td>\n",
        "      <td>1</td>\n",
        "      <td>140.087</td>\n",
        "    </tr>\n",
        "  </tbody>\n",
        "</table>\n",
        "</div>"
       ],
       "metadata": {},
       "output_type": "pyout",
       "prompt_number": 26,
       "text": [
        "             track_id        artist_name                song_title  key  mode  \\\n",
        "0  TRMMMKI128F931D80D    Lena Philipsson                       006   11     1   \n",
        "1  TRMMMQY128F92F0EA3        Dying Fetus         Ethos of Coercion    8     1   \n",
        "2  TRMMMFJ128F92E15AC              Neffa                  Passione    5     0   \n",
        "3  TRMMWJY128F1469B8A  Luis Eduardo Aute  What Matters Is Just You    6     0   \n",
        "4  TRMMGGU128F14A93DD           Zen Cafe    En oo koskaan tavannut    2     1   \n",
        "\n",
        "     tempo  \n",
        "0  122.332  \n",
        "1  189.346  \n",
        "2  112.945  \n",
        "3  195.338  \n",
        "4  140.087  "
       ]
      }
     ],
     "prompt_number": 26
    },
    {
     "cell_type": "code",
     "collapsed": false,
     "input": [
      "df_almost_final.to_csv('almost_final.csv',sep=',',index=False)"
     ],
     "language": "python",
     "metadata": {},
     "outputs": [],
     "prompt_number": 27
    }
   ],
   "metadata": {}
  }
 ]
}