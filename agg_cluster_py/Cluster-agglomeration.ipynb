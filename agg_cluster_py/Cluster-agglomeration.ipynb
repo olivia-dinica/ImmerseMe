{
 "metadata": {
  "name": ""
 },
 "nbformat": 3,
 "nbformat_minor": 0,
 "worksheets": [
  {
   "cells": [
    {
     "cell_type": "code",
     "collapsed": false,
     "input": [
      "import numpy as np\n",
      "\n",
      "npaaf = np.loadtxt(\"aaf_nums_short.csv\", delimiter=\" \")\n",
      "\n",
      "print npaaf\n",
      "npaaf[:,0]=np.divide(npaaf[:,0],10)\n",
      "npaaf[:,2]=np.divide(npaaf[:,2],100)\n",
      "npaaf[:,3]=npaaf[:,3]+1\n",
      "print npaaf"
     ],
     "language": "python",
     "metadata": {},
     "outputs": [
      {
       "output_type": "stream",
       "stream": "stdout",
       "text": [
        "[[  1.10000000e+01   1.00000000e+00   1.22332000e+02   2.23437500e-01]\n",
        " [  8.00000000e+00   1.00000000e+00   1.89346000e+02   6.98135198e-02]\n",
        " [  5.00000000e+00   0.00000000e+00   1.12945000e+02   0.00000000e+00]\n",
        " ..., \n",
        " [  1.10000000e+01   0.00000000e+00   1.78849000e+02   1.03125000e-01]\n",
        " [  9.00000000e+00   0.00000000e+00   9.18050000e+01  -2.50000000e-01]\n",
        " [  1.10000000e+01   0.00000000e+00   9.20320000e+01   3.33333333e-01]]\n",
        "[[ 1.1         1.          1.22332     1.2234375 ]\n",
        " [ 0.8         1.          1.89346     1.06981352]\n",
        " [ 0.5         0.          1.12945     1.        ]\n",
        " ..., \n",
        " [ 1.1         0.          1.78849     1.103125  ]\n",
        " [ 0.9         0.          0.91805     0.75      ]\n",
        " [ 1.1         0.          0.92032     1.33333333]]\n"
       ]
      }
     ],
     "prompt_number": 1
    },
    {
     "cell_type": "code",
     "collapsed": false,
     "input": [
      "import scipy.spatial.distance as distance\n",
      "import scipy.cluster.hierarchy as sch\n",
      "import clustergram as clplot\n",
      "\n",
      "#variance minimization                                                                                                                                                 \n",
      "method = 'ward'\n",
      "\n",
      "# compute distance matrix\n",
      "# Converts a vector-form distance vector to a square-form distance matrix, and vice-versa.\n",
      "pdist = distance.squareform(distance.pdist(npaaf)) \n",
      "\n",
      "# cluster according to wards minimal variance algorithm \n",
      "# Performs agglomerative clustering on the condensed distance matrix pdist.\n",
      "clusters = sch.linkage(pdist,method = method) \n",
      "\n",
      "# get cluster assigments                                                                                                                                                \n",
      "# Forms flat clusters from the hierarchical clustering defined by the linkage matrix cluster\n",
      "T = sch.fcluster(clusters,\n",
      "                 t = 0.05*clusters.max(),\n",
      "                 criterion='distance') "
     ],
     "language": "python",
     "metadata": {},
     "outputs": [],
     "prompt_number": 2
    },
    {
     "cell_type": "code",
     "collapsed": false,
     "input": [
      "# show that the order from fcluster complements the order derived by den['leaves']\n",
      "# Plots the hierarchical clustering as a dendrogram\n",
      "den = sch.dendrogram(clusters,no_plot=True) \n",
      "#print den\n",
      "\n",
      "#organize the distance matrix by dendrogram                                                                                                                            \n",
      "tdist = pdist[:,den['leaves']]\n",
      "tdist = tdist[den['leaves'],:]\n",
      "\n",
      "#get clustergram\n",
      "clplot.plot_clustergram(tdist,clusters,\n",
      "                        savename='cluster.pdf') "
     ],
     "language": "python",
     "metadata": {},
     "outputs": [],
     "prompt_number": 57
    },
    {
     "cell_type": "code",
     "collapsed": false,
     "input": [
      "print T.max(), len(T), T[10], T.shape, npaaf.shape"
     ],
     "language": "python",
     "metadata": {},
     "outputs": [
      {
       "output_type": "stream",
       "stream": "stdout",
       "text": [
        "4 1000 1 (1000,) (1000, 4)\n"
       ]
      }
     ],
     "prompt_number": 3
    },
    {
     "cell_type": "code",
     "collapsed": false,
     "input": [
      "f=open(\"4cluster\", \"w\")\n",
      "\n",
      "for i in range(len(T)):\n",
      "    f.write(\"%s\\n\" % T[i])\n",
      "    \n",
      "f.close()"
     ],
     "language": "python",
     "metadata": {},
     "outputs": [],
     "prompt_number": 4
    },
    {
     "cell_type": "code",
     "collapsed": false,
     "input": [
      "#trying out distributions based on agglomerative unsupervised clustering\n",
      "#no pattern\n",
      "import numpy as np\n",
      "import matplotlib.pyplot as plt\n",
      "npaaf1 = np.loadtxt(\"aaf_nums_short_1\")\n",
      "hist, bin_edges = np.histogram(npaaf1[:,3])\n",
      "plt.bar(bin_edges[:-1], hist, width = 1)\n",
      "plt.xlim(min(bin_edges), max(bin_edges))\n",
      "plt.show()   "
     ],
     "language": "python",
     "metadata": {},
     "outputs": [],
     "prompt_number": 33
    },
    {
     "cell_type": "code",
     "collapsed": false,
     "input": [
      "#trying out distributions based on dividing up the songs in happy vs sad lyrics\n",
      "#no pattern\n",
      "npaaf1 = np.loadtxt(\"aaf_nums_short_sad\")\n",
      "hist, bin_edges = np.histogram(npaaf1[:,0])\n",
      "plt.bar(bin_edges[:-1], hist, width = 1)\n",
      "plt.xlim(min(bin_edges), max(bin_edges))\n",
      "plt.show()   "
     ],
     "language": "python",
     "metadata": {},
     "outputs": [],
     "prompt_number": 47
    },
    {
     "cell_type": "code",
     "collapsed": false,
     "input": [],
     "language": "python",
     "metadata": {},
     "outputs": []
    }
   ],
   "metadata": {}
  }
 ]
}